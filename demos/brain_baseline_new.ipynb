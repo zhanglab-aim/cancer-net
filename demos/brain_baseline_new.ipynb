{
 "cells": [
  {
   "cell_type": "code",
   "execution_count": null,
   "metadata": {},
   "outputs": [],
   "source": [
    "import sys\n",
    "sys.path.insert(0, \"..\")\n",
    "import TCGAData, numpy as np, matplotlib.pyplot as plt, pandas as pd\n",
    "from sklearn.model_selection import train_test_split\n",
    "from sklearn.linear_model import LogisticRegression\n",
    "from sklearn.svm import SVC\n",
    "from sklearn.ensemble import RandomForestClassifier\n",
    "from sklearn.neural_network import MLPClassifier\n",
    "from sklearn.decomposition import PCA\n",
    "import seaborn as sns\n",
    "import tqdm\n",
    "import copy\n",
    "\n",
    "root = \"/mnt/home/sgolkar/projects/cancer-net/data/brain\"\n",
    "files = \"/mnt/home/sgolkar/projects/cancer-net/data/brain/samples.txt\"\n",
    "label_mapping = [\"LGG\", \"GBM\"]\n",
    "dataset = TCGAData.TCGADataset(\n",
    "    root=root,\n",
    "    files=files,\n",
    "    label_mapping=label_mapping,\n",
    "    gene_graph=\"brain.geneSymbol.gz\",\n",
    ")"
   ]
  },
  {
   "cell_type": "code",
   "execution_count": null,
   "metadata": {},
   "outputs": [],
   "source": [
    "gene_dict = {\n",
    "    el: i\n",
    "    for i, el in enumerate(\n",
    "        set([item for sublist in dataset.data.node_id for item in sublist])\n",
    "    )\n",
    "}\n",
    "num_genes = len(gene_dict)\n",
    "\n",
    "Xencoding = np.zeros((dataset.num_samples, num_genes, 128))\n",
    "Xmutated = np.zeros((dataset.num_samples, num_genes))\n",
    "Xmutnorm = np.zeros((dataset.num_samples, num_genes))\n",
    "Xnummut = np.zeros((dataset.num_samples, 1))\n",
    "Xnummutv2 = np.zeros((dataset.num_samples, 1))\n",
    "\n",
    "for sample_num in range(dataset.num_samples):\n",
    "    sample_data = dataset.get(sample_num)\n",
    "    Xnummut[sample_num, 0] = len(sample_data.node_id)\n",
    "    for encoding, sample_gene in zip(sample_data.x, sample_data.node_id):\n",
    "        Xencoding[sample_num, gene_dict[sample_gene]] = encoding\n",
    "        Xmutated[sample_num, gene_dict[sample_gene]] = 1\n",
    "        Xmutnorm[sample_num, gene_dict[sample_gene]] = np.linalg.norm(encoding)\n",
    "    Xnummutv2[sample_num, 0] = (Xmutnorm[sample_num] != 0).sum()\n",
    "\n",
    "Xmutatedv2 = (Xmutnorm != 0).astype(float)\n",
    "Xencoding_flat = Xencoding.reshape(len(Xencoding), -1)"
   ]
  },
  {
   "cell_type": "code",
   "execution_count": null,
   "metadata": {},
   "outputs": [],
   "source": [
    "method_dict = {\n",
    "    \"LR on num_mut\": {\"data\": Xnummut, \"fitter\": LogisticRegression,},\n",
    "    \"LR on num_mutv2\": {\"data\": Xnummutv2, \"fitter\": LogisticRegression,},\n",
    "    \"LR on mut_onehot\": {\"data\": Xmutated, \"fitter\": LogisticRegression,},\n",
    "    \"LR on mut_onehotv2\": {\"data\": Xmutatedv2, \"fitter\": LogisticRegression,},\n",
    "    \"LR on mut_size\": {\"data\": Xmutnorm, \"fitter\": LogisticRegression,},\n",
    "    \"LR on full_encoding\": {\"data\": Xencoding_flat, \"fitter\": LogisticRegression,},\n",
    "}\n",
    "results = {\"method\": [], \"split\": [], \"accuracy\": []}\n",
    "\n",
    "for valid_seed in tqdm.tqdm(range(20), desc=\"iterations\"):\n",
    "\n",
    "    dataset.set_valid_seed(valid_seed)\n",
    "\n",
    "    y_test = dataset.data.y[dataset.test_idx]\n",
    "    y_train = dataset.data.y[dataset.train_idx]\n",
    "    y_valid = dataset.data.y[dataset.valid_idx]\n",
    "\n",
    "    for method_key, method_val in method_dict.items():\n",
    "\n",
    "        X = method_val[\"data\"]\n",
    "        fitter = method_val[\"fitter\"]()\n",
    "        fitter.fit(X[dataset.train_idx], dataset.data.y[dataset.train_idx])\n",
    "\n",
    "        for split, idx in zip(\n",
    "            [\"train\", \"valid\", \"test\"],\n",
    "            [dataset.train_idx, dataset.valid_idx, dataset.test_idx],\n",
    "        ):\n",
    "            results[\"method\"].append(method_key)\n",
    "\n",
    "            results[\"split\"].append(split)\n",
    "\n",
    "            X_split = X[idx]\n",
    "            Y_split = dataset.data.y[idx]\n",
    "            results[\"accuracy\"].append(fitter.score(X_split, Y_split))"
   ]
  },
  {
   "cell_type": "code",
   "execution_count": null,
   "metadata": {},
   "outputs": [],
   "source": [
    "results_copy=copy.deepcopy(results)"
   ]
  },
  {
   "cell_type": "code",
   "execution_count": null,
   "metadata": {},
   "outputs": [],
   "source": [
    "train_acc_2048=[0.9488888888888889, 0.9533333333333334, 0.9355555555555556, 0.9333333333333333, 0.92, 0.9511111111111111, 0.9533333333333334, 0.9444444444444444, 0.9111111111111111, 0.9288888888888889, 0.9377777777777778, 0.9488888888888889, 0.9022222222222223, 0.9511111111111111, 0.9444444444444444, 0.9422222222222222, 0.8977777777777778, 0.9244444444444444, 0.9311111111111111, 0.9333333333333333]\n",
    "valid_acc_2048=[0.7272727272727273, 0.7818181818181819, 0.8272727272727273, 0.8272727272727273, 0.7818181818181819, 0.7363636363636363, 0.8090909090909091, 0.7, 0.8090909090909091, 0.8545454545454545, 0.7727272727272727, 0.7727272727272727, 0.7818181818181819, 0.6909090909090909, 0.7636363636363637, 0.7363636363636363, 0.8, 0.7636363636363637, 0.7363636363636363, 0.7727272727272727]\n",
    "train_acc_128=[0.9288888888888889, 0.9133333333333333, 0.92, 0.8866666666666667, 0.92, 0.9133333333333333, 0.8755555555555555, 0.9355555555555556, 0.9111111111111111, 0.9222222222222223, 0.9022222222222223, 0.9088888888888889, 0.9222222222222223, 0.9022222222222223, 0.9088888888888889, 0.9088888888888889, 0.9066666666666666, 0.9, 0.9044444444444445, 0.9333333333333333]\n",
    "valid_acc_128=[0.7636363636363637, 0.7272727272727273, 0.8090909090909091, 0.7818181818181819, 0.7909090909090909, 0.7727272727272727, 0.8272727272727273, 0.7545454545454545, 0.7818181818181819, 0.7727272727272727, 0.8272727272727273, 0.7181818181818181, 0.7454545454545455, 0.6454545454545455, 0.8181818181818182, 0.7, 0.7090909090909091, 0.7818181818181819, 0.7545454545454545, 0.7]"
   ]
  },
  {
   "cell_type": "code",
   "execution_count": null,
   "metadata": {},
   "outputs": [],
   "source": [
    "for aa in range(len(train_acc_2048)):\n",
    "    results_copy[\"method\"].append(\"GCN2 2048 hidden\")\n",
    "    results_copy[\"split\"].append(\"train\")\n",
    "    results_copy[\"accuracy\"].append(train_acc_2048[aa])\n",
    "    results_copy[\"method\"].append(\"GCN2 2048 hidden\")\n",
    "    results_copy[\"split\"].append(\"valid\")\n",
    "    results_copy[\"accuracy\"].append(valid_acc_2048[aa])\n",
    "    ## 128\n",
    "    results_copy[\"method\"].append(\"GCN2 128 hidden\")\n",
    "    results_copy[\"split\"].append(\"train\")\n",
    "    results_copy[\"accuracy\"].append(train_acc_128[aa])\n",
    "    results_copy[\"method\"].append(\"GCN2 128 hidden\")\n",
    "    results_copy[\"split\"].append(\"valid\")\n",
    "    results_copy[\"accuracy\"].append(valid_acc_128[aa])"
   ]
  },
  {
   "cell_type": "code",
   "execution_count": null,
   "metadata": {},
   "outputs": [],
   "source": [
    "sns.set_theme(style=\"whitegrid\")\n",
    "fig = plt.figure(figsize=(6, 6))\n",
    "sns.violinplot(\n",
    "    data=pd.DataFrame(results_copy),\n",
    "    y=\"method\",\n",
    "    hue=\"split\",\n",
    "    x=\"accuracy\",\n",
    "    hue_order=[\"train\", \"valid\"],\n",
    "    split=True,\n",
    "    inner=\"quartile\",\n",
    "    palette=\"Set2\",\n",
    ");\n",
    "plt.tight_layout()\n",
    "fig.savefig(\"gcn2_vs_baseline.pdf\")"
   ]
  },
  {
   "cell_type": "code",
   "execution_count": null,
   "metadata": {},
   "outputs": [],
   "source": [
    "sns.set_theme(style=\"whitegrid\")\n",
    "fig = plt.figure(figsize=(6, 6))\n",
    "sns.violinplot(\n",
    "    data=pd.DataFrame(results),\n",
    "    y=\"method\",\n",
    "    hue=\"split\",\n",
    "    x=\"accuracy\",\n",
    "    hue_order=[\"valid\", \"test\"],\n",
    "    split=True,\n",
    "    inner=\"quartile\",\n",
    "    palette=\"Set2\",\n",
    ");"
   ]
  },
  {
   "cell_type": "code",
   "execution_count": null,
   "metadata": {},
   "outputs": [],
   "source": []
  }
 ],
 "metadata": {
  "kernelspec": {
   "display_name": "cancerenv",
   "language": "python",
   "name": "cancerenv"
  },
  "language_info": {
   "codemirror_mode": {
    "name": "ipython",
    "version": 3
   },
   "file_extension": ".py",
   "mimetype": "text/x-python",
   "name": "python",
   "nbconvert_exporter": "python",
   "pygments_lexer": "ipython3",
   "version": "3.9.7"
  }
 },
 "nbformat": 4,
 "nbformat_minor": 4
}
