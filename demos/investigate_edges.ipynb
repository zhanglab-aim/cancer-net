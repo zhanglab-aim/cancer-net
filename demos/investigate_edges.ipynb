{
 "cells": [
  {
   "cell_type": "markdown",
   "id": "fed5cf92-1812-4455-909a-e4aaf74d8cd5",
   "metadata": {},
   "source": [
    "## Edges\n",
    "\n",
    "Inspect our graph and subgraphs to get a better idea of how connected our nodes are."
   ]
  },
  {
   "cell_type": "code",
   "execution_count": 1,
   "id": "e8181fae",
   "metadata": {},
   "outputs": [],
   "source": [
    "import time\n",
    "import os\n",
    "\n",
    "import numpy as np\n",
    "\n",
    "import torch, torch_geometric.transforms as T, torch.nn.functional as F\n",
    "from torch.utils.data.sampler import SubsetRandomSampler\n",
    "\n",
    "from torch_geometric.loader import DataLoader\n",
    "from torch_geometric.nn import MetaLayer\n",
    "from torch_geometric.utils import subgraph\n",
    "\n",
    "import pytorch_lightning as pl\n",
    "\n",
    "import matplotlib.pyplot as plt\n",
    "\n",
    "from sklearn.metrics import (\n",
    "    roc_auc_score,\n",
    "    roc_curve,\n",
    "    auc,\n",
    "    average_precision_score,\n",
    "    f1_score,\n",
    "    accuracy_score,\n",
    "    precision_score,\n",
    "    recall_score,\n",
    ")\n",
    "\n",
    "from cancernet.arch import InteractionNet, VisibleGraphInteractionNet\n",
    "from cancernet.util import ProgressBar, InMemoryLogger, get_roc\n",
    "from cancernet import PnetDataSet, ReactomeNetwork\n",
    "from cancernet.dataset import get_layer_maps"
   ]
  },
  {
   "cell_type": "code",
   "execution_count": 2,
   "id": "b060b249-5a2e-4c8d-91f9-633a5a241794",
   "metadata": {},
   "outputs": [],
   "source": [
    "reactome_kws = dict(\n",
    "    reactome_base_dir=os.path.join(\"data\", \"reactome\"),\n",
    "    relations_file_name=\"ReactomePathwaysRelation.txt\",\n",
    "    pathway_names_file_name=\"ReactomePathways.txt\",\n",
    "    pathway_genes_file_name=\"ReactomePathways.gmt\",\n",
    ")\n",
    "reactome = ReactomeNetwork(reactome_kws)\n",
    "\n",
    "prostate_root = os.path.join(\"data\", \"prostate\")\n",
    "dataset = PnetDataSet(\n",
    "    root=prostate_root,\n",
    "    name=\"prostate_graph_humanbase\",\n",
    "    edge_tol=0.5,\n",
    "    pre_transform=T.Compose(\n",
    "        [T.GCNNorm(add_self_loops=False), T.ToSparseTensor(remove_edge_index=False)]\n",
    "    ),\n",
    ")\n",
    "\n",
    "# loads the train/valid/test split from pnet\n",
    "splits_root = os.path.join(prostate_root, \"splits\")\n",
    "dataset.split_index_by_file(\n",
    "    train_fp=os.path.join(splits_root, \"training_set_0.csv\"),\n",
    "    valid_fp=os.path.join(splits_root, \"validation_set.csv\"),\n",
    "    test_fp=os.path.join(splits_root, \"test_set.csv\"),\n",
    ")"
   ]
  },
  {
   "cell_type": "code",
   "execution_count": 3,
   "id": "335091cd",
   "metadata": {},
   "outputs": [
    {
     "name": "stdout",
     "output_type": "stream",
     "text": [
      "layer # 0\n",
      "pathways 146\n",
      "genes 10621\n",
      "filtered_map (9054, 0)\n",
      "filtered_map (9054, 0)\n",
      "filtered_map (9054, 0)\n",
      "layer # 1\n",
      "pathways 26\n",
      "genes 147\n",
      "filtered_map (146, 0)\n",
      "filtered_map (146, 0)\n",
      "filtered_map (146, 0)\n",
      "layer # 2\n",
      "pathways 1\n",
      "genes 26\n",
      "filtered_map (26, 0)\n",
      "filtered_map (26, 0)\n",
      "filtered_map (26, 0)\n"
     ]
    }
   ],
   "source": [
    "maps = get_layer_maps(\n",
    "    genes=[g for g in dataset.node_index],\n",
    "    reactome=reactome,\n",
    "    n_levels=2,\n",
    "    direction=\"root_to_leaf\",\n",
    "    add_unk_genes=False,\n",
    "    verbose=True,\n",
    ")"
   ]
  },
  {
   "cell_type": "markdown",
   "id": "9ec4ac92",
   "metadata": {},
   "source": [
    "## Train"
   ]
  },
  {
   "cell_type": "markdown",
   "id": "fbf8a02c",
   "metadata": {},
   "source": [
    "Set up hyperparameters and random seed."
   ]
  },
  {
   "cell_type": "code",
   "execution_count": 4,
   "id": "fac5ff47",
   "metadata": {},
   "outputs": [
    {
     "name": "stderr",
     "output_type": "stream",
     "text": [
      "Global seed set to 42\n"
     ]
    }
   ],
   "source": [
    "# try to ensure reproducibility\n",
    "pl.seed_everything(42, workers=True)\n",
    "\n",
    "n_epochs = 100\n",
    "batch_size = 10\n",
    "lr = 0.001"
   ]
  },
  {
   "cell_type": "markdown",
   "id": "0b70a5d6",
   "metadata": {},
   "source": [
    "Prepare data."
   ]
  },
  {
   "cell_type": "code",
   "execution_count": 5,
   "id": "80713481",
   "metadata": {},
   "outputs": [],
   "source": [
    "train_loader = DataLoader(\n",
    "    dataset,\n",
    "    batch_size=batch_size,\n",
    "    sampler=SubsetRandomSampler(dataset.train_idx),\n",
    ")\n",
    "valid_loader = DataLoader(\n",
    "    dataset,\n",
    "    batch_size=batch_size,\n",
    "    sampler=SubsetRandomSampler(dataset.valid_idx),\n",
    ")"
   ]
  },
  {
   "cell_type": "markdown",
   "id": "bf6dd0bf",
   "metadata": {},
   "source": [
    "Create and train model."
   ]
  },
  {
   "cell_type": "code",
   "execution_count": 6,
   "id": "434059db",
   "metadata": {},
   "outputs": [
    {
     "name": "stderr",
     "output_type": "stream",
     "text": [
      "GPU available: True, used: True\n",
      "TPU available: False, using: 0 TPU cores\n",
      "IPU available: False, using: 0 IPUs\n",
      "HPU available: False, using: 0 HPUs\n",
      "LOCAL_RANK: 0 - CUDA_VISIBLE_DEVICES: [0]\n",
      "\n",
      "  | Name   | Type       | Params\n",
      "--------------------------------------\n",
      "0 | subsys | ModuleList | 880 K \n",
      "1 | nn     | Sequential | 3.9 K \n",
      "--------------------------------------\n",
      "884 K     Trainable params\n",
      "0         Non-trainable params\n",
      "884 K     Total params\n",
      "3.539     Total estimated model params size (MB)\n",
      "/mnt/home/ttesileanu/miniconda3/envs/cancerenv/lib/python3.9/site-packages/pytorch_lightning/trainer/connectors/data_connector.py:240: PossibleUserWarning: The dataloader, val_dataloader 0, does not have many workers which may be a bottleneck. Consider increasing the value of the `num_workers` argument` (try 16 which is the number of cpus on this machine) in the `DataLoader` init to improve performance.\n",
      "  rank_zero_warn(\n",
      "/mnt/home/ttesileanu/miniconda3/envs/cancerenv/lib/python3.9/site-packages/pytorch_lightning/trainer/connectors/data_connector.py:240: PossibleUserWarning: The dataloader, train_dataloader, does not have many workers which may be a bottleneck. Consider increasing the value of the `num_workers` argument` (try 16 which is the number of cpus on this machine) in the `DataLoader` init to improve performance.\n",
      "  rank_zero_warn(\n"
     ]
    },
    {
     "data": {
      "application/vnd.jupyter.widget-view+json": {
       "model_id": "0a03d98da01048e396b6cdb1112d17f7",
       "version_major": 2,
       "version_minor": 0
      },
      "text/plain": [
       "Training:   0%|          | 0/100 [00:00<?, ?it/s]"
      ]
     },
     "metadata": {},
     "output_type": "display_data"
    },
    {
     "name": "stdout",
     "output_type": "stream",
     "text": [
      "Training took 7084.7 seconds.\n"
     ]
    }
   ],
   "source": [
    "# input node feature size\n",
    "inputs = 3\n",
    "# output dimensions of each subgraph\n",
    "outputs = 1\n",
    "# size of hidden layers in graphs (both MLP size and latent representation of nodes and edge)\n",
    "hidden = 16\n",
    "# number of graphs to stack\n",
    "layers = 2\n",
    "\n",
    "t0 = time.time()\n",
    "model = VisibleGraphInteractionNet(\n",
    "    pathway_maps=maps,\n",
    "    node_index=dataset.node_index,\n",
    "    # edge_model=edge_model, node_model=node_model, global_model=global_model,\n",
    "    model_config={\n",
    "        \"inputs\": inputs,\n",
    "        \"outputs\": outputs,\n",
    "        \"hidden\": hidden,\n",
    "        \"layers\": layers,\n",
    "    },\n",
    "    sparse=False,\n",
    ")\n",
    "logger = InMemoryLogger()\n",
    "\n",
    "# XXX this cannot be fully deterministic on GPU because\n",
    "# XXX scatter_add_cuda_kernel does not have a deterministic implementation!\n",
    "trainer = pl.Trainer(\n",
    "    accelerator=\"auto\",\n",
    "    max_epochs=n_epochs,\n",
    "    callbacks=[ProgressBar()],\n",
    "    logger=logger,\n",
    "    # deterministic=True,\n",
    ")\n",
    "trainer.fit(model, train_loader, valid_loader)\n",
    "print(f\"Training took {time.time() - t0:.1f} seconds.\")"
   ]
  },
  {
   "cell_type": "code",
   "execution_count": 7,
   "id": "5e132f01-aabc-4906-9b6d-6265efa1c346",
   "metadata": {},
   "outputs": [],
   "source": [
    "# get numbers of nodes and edges present in each subgraph\n",
    "num_total_nodes = int(dataset.data.num_nodes / len(dataset.indices()))\n",
    "num_edges = int(len(dataset.data.edge_attr) / len(dataset.indices()))\n",
    "edge_indices = dataset.data.edge_index[:, 0:num_edges]"
   ]
  },
  {
   "cell_type": "code",
   "execution_count": 8,
   "id": "65ab684e-5197-45a9-b65e-a49724352b52",
   "metadata": {},
   "outputs": [
    {
     "name": "stdout",
     "output_type": "stream",
     "text": [
      "number of nodes with zero edges: 6946\n",
      "number of nodes with one edgee: 745\n",
      "most edges for a single node: 179.0\n"
     ]
    }
   ],
   "source": [
    "edge_count_full = np.zeros(num_total_nodes)\n",
    "for aa in range(len(edge_indices[0])):\n",
    "    ## Count how many times each node index appears as an edge connection\n",
    "    edge_count_full[int(edge_indices[0][aa])] += 1\n",
    "print(\"number of nodes with zero edges:\", np.count_nonzero(edge_count_full == 0))\n",
    "print(\"number of nodes with one edgee:\", np.count_nonzero(edge_count_full == 1))\n",
    "print(\"most edges for a single node:\", np.max(edge_count_full))"
   ]
  },
  {
   "cell_type": "code",
   "execution_count": 9,
   "id": "3b471b4f-2c30-4f9c-8a56-6b361bd13ed4",
   "metadata": {},
   "outputs": [
    {
     "data": {
      "image/png": "[encoded data removed]",
      "text/plain": [
       "<Figure size 720x504 with 1 Axes>"
      ]
     },
     "metadata": {
      "needs_background": "light"
     },
     "output_type": "display_data"
    }
   ],
   "source": [
    "plt.figure(figsize=(10, 7))\n",
    "plt.hist(np.array(edge_count_full), bins=100)\n",
    "plt.xlabel(\"Number of edge connections for a single node\")\n",
    "plt.ylabel(\"Frequency\")\n",
    "plt.yscale(\"log\")"
   ]
  },
  {
   "cell_type": "code",
   "execution_count": 10,
   "id": "31bfa5bf-02c0-4083-8a95-c3e370c87552",
   "metadata": {},
   "outputs": [],
   "source": [
    "# get numbers of nodes and edges present in each subgraph\n",
    "num_nodes = maps[0].sum(axis=0).sort_values(ascending=False).to_numpy()\n",
    "\n",
    "# indices of subgraphs, from largest to smallest\n",
    "indices = np.flip(np.argsort(maps[0].sum(axis=0).to_numpy()))\n",
    "\n",
    "# number of total edges in master graph\n",
    "all_edges = int(len(dataset.data.edge_attr) / len(dataset.indices()))\n",
    "\n",
    "edge_count = []\n",
    "for index in indices:\n",
    "    edge_index, edge_attr = subgraph(\n",
    "        model.pathway_to_nodes[list(model.pathway_to_nodes.keys())[index]],\n",
    "        edge_attr=dataset.data.edge_attr[0:num_edges],\n",
    "        edge_index=dataset.data.edge_index[:, 0:num_edges],\n",
    "        relabel_nodes=True,\n",
    "    )\n",
    "    edge_count.append(len(edge_attr))"
   ]
  },
  {
   "cell_type": "code",
   "execution_count": 11,
   "id": "33ef2e1d-6f76-426d-8c28-7254d7afeede",
   "metadata": {},
   "outputs": [
    {
     "data": {
      "text/plain": [
       "<matplotlib.legend.Legend at 0x7f3740f3c1f0>"
      ]
     },
     "execution_count": 11,
     "metadata": {},
     "output_type": "execute_result"
    },
    {
     "data": {
      "image/png": "[encoded data removed]",
      "text/plain": [
       "<Figure size 720x504 with 1 Axes>"
      ]
     },
     "metadata": {
      "needs_background": "light"
     },
     "output_type": "display_data"
    }
   ],
   "source": [
    "plt.figure(figsize=(10, 7))\n",
    "plt.plot(num_nodes, \"o\", label=\"# nodes in subgraph\")\n",
    "plt.plot(edge_count, \"+\", color=\"red\", label=\"# edges in subgraph\")\n",
    "plt.ylabel(\"Number of nodes & edges\")\n",
    "plt.xlabel(\"Subgraph #\")\n",
    "plt.axhline(0, color=\"gray\")\n",
    "plt.legend()\n",
    "# plt.yscale(\"log\")"
   ]
  },
  {
   "cell_type": "code",
   "execution_count": null,
   "id": "66be509e-f86a-4070-8815-e0613c4f0ec6",
   "metadata": {},
   "outputs": [],
   "source": []
  }
 ],
 "metadata": {
  "kernelspec": {
   "display_name": "Python 3.9.13 ('cancerenv')",
   "language": "python",
   "name": "python3"
  },
  "language_info": {
   "codemirror_mode": {
    "name": "ipython",
    "version": 3
   },
   "file_extension": ".py",
   "mimetype": "text/x-python",
   "name": "python",
   "nbconvert_exporter": "python",
   "pygments_lexer": "ipython3",
   "version": "3.9.13"
  },
  "vscode": {
   "interpreter": {
    "hash": "8cf7caf096f5b9436d42d20d5edf527ae84d7f0f47f0de2642e1cfbb9c173595"
   }
  }
 },
 "nbformat": 4,
 "nbformat_minor": 5
}
