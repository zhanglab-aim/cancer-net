{
 "cells": [
  {
   "cell_type": "code",
   "execution_count": 1,
   "id": "4a26552e",
   "metadata": {},
   "outputs": [
    {
     "name": "stderr",
     "output_type": "stream",
     "text": [
      "2022-10-12 21:55:26.782215: I tensorflow/core/platform/cpu_feature_guard.cc:193] This TensorFlow binary is optimized with oneAPI Deep Neural Network Library (oneDNN) to use the following CPU instructions in performance-critical operations:  AVX2 AVX512F AVX512_VNNI FMA\n",
      "To enable them in other operations, rebuild TensorFlow with the appropriate compiler flags.\n",
      "2022-10-12 21:55:26.991836: I tensorflow/core/util/util.cc:169] oneDNN custom operations are on. You may see slightly different numerical results due to floating-point round-off errors from different computation orders. To turn them off, set the environment variable `TF_ENABLE_ONEDNN_OPTS=0`.\n",
      "2022-10-12 21:55:27.028009: E tensorflow/stream_executor/cuda/cuda_blas.cc:2981] Unable to register cuBLAS factory: Attempting to register factory for plugin cuBLAS when one has already been registered\n",
      "2022-10-12 21:55:27.797079: W tensorflow/stream_executor/platform/default/dso_loader.cc:64] Could not load dynamic library 'libnvinfer.so.7'; dlerror: libnvinfer.so.7: cannot open shared object file: No such file or directory; LD_LIBRARY_PATH: /cm/shared/apps/slurm/current/lib64:/mnt/sw/nix/store/f0ycdncw8dw4wlicnzm74lgv9c51rlg4-openblas-0.3.20/lib\n",
      "2022-10-12 21:55:27.797186: W tensorflow/stream_executor/platform/default/dso_loader.cc:64] Could not load dynamic library 'libnvinfer_plugin.so.7'; dlerror: libnvinfer_plugin.so.7: cannot open shared object file: No such file or directory; LD_LIBRARY_PATH: /cm/shared/apps/slurm/current/lib64:/mnt/sw/nix/store/f0ycdncw8dw4wlicnzm74lgv9c51rlg4-openblas-0.3.20/lib\n",
      "2022-10-12 21:55:27.797193: W tensorflow/compiler/tf2tensorrt/utils/py_utils.cc:38] TF-TRT Warning: Cannot dlopen some TensorRT libraries. If you would like to use Nvidia GPU with TensorRT, please make sure the missing libraries mentioned above are installed properly.\n"
     ]
    }
   ],
   "source": [
    "import time\n",
    "import os\n",
    "import pickle\n",
    "import numpy as np\n",
    "import torch, torch_geometric.transforms as T, torch.nn.functional as F\n",
    "from torch.utils.data.sampler import SubsetRandomSampler\n",
    "\n",
    "from torch_geometric.loader import DataLoader\n",
    "from torch_geometric.nn import MetaLayer\n",
    "\n",
    "import tensorflow as tf\n",
    "\n",
    "import pytorch_lightning as pl\n",
    "from pytorch_lightning.callbacks.early_stopping import EarlyStopping\n",
    "from pytorch_lightning.callbacks import ModelCheckpoint\n",
    "\n",
    "import matplotlib.pyplot as plt\n",
    "\n",
    "from sklearn.metrics import (\n",
    "    roc_auc_score,\n",
    "    roc_curve,\n",
    "    auc,\n",
    "    average_precision_score,\n",
    "    f1_score,\n",
    "    accuracy_score,\n",
    "    precision_score,\n",
    "    recall_score,\n",
    ")\n",
    "\n",
    "import cancernet\n",
    "from cancernet.arch import PNet\n",
    "from cancernet.util import ProgressBar, InMemoryLogger, get_roc\n",
    "from cancernet import PnetDataSet, ReactomeNetwork\n",
    "from cancernet.dataset import get_layer_maps\n",
    "\n",
    "enable_pytorch_train = True"
   ]
  },
  {
   "cell_type": "markdown",
   "id": "5ec063c8",
   "metadata": {},
   "source": [
    "# Load Reactome Data"
   ]
  },
  {
   "cell_type": "code",
   "execution_count": 2,
   "id": "b060b249-5a2e-4c8d-91f9-633a5a241794",
   "metadata": {},
   "outputs": [],
   "source": [
    "reactome_kws = dict(\n",
    "    reactome_base_dir=os.path.join(\"data\", \"reactome\"),\n",
    "    relations_file_name=\"ReactomePathwaysRelation.txt\",\n",
    "    pathway_names_file_name=\"ReactomePathways.txt\",\n",
    "    pathway_genes_file_name=\"ReactomePathways.gmt\",\n",
    ")\n",
    "reactome = ReactomeNetwork(reactome_kws)\n",
    "\n",
    "prostate_root = os.path.join(\"data\", \"prostate\")\n",
    "dataset = PnetDataSet(\n",
    "    root=prostate_root,\n",
    "    name=\"prostate_graph_humanbase\",\n",
    "    edge_tol=0.5,\n",
    "    pre_transform=T.Compose(\n",
    "        [T.GCNNorm(add_self_loops=False), T.ToSparseTensor(remove_edge_index=False)]\n",
    "    ),\n",
    ")\n",
    "\n",
    "# loads the train/valid/test split from pnet\n",
    "splits_root = os.path.join(prostate_root, \"splits\")\n",
    "dataset.split_index_by_file(\n",
    "    train_fp=os.path.join(splits_root, \"training_set_0.csv\"),\n",
    "    valid_fp=os.path.join(splits_root, \"validation_set.csv\"),\n",
    "    test_fp=os.path.join(splits_root, \"test_set.csv\"),\n",
    ")"
   ]
  },
  {
   "cell_type": "code",
   "execution_count": 3,
   "id": "335091cd",
   "metadata": {},
   "outputs": [
    {
     "name": "stdout",
     "output_type": "stream",
     "text": [
      "layer # 0\n",
      "pathways 146\n",
      "genes 10621\n",
      "filtered_map (9054, 0)\n",
      "filtered_map (9054, 0)\n",
      "filtered_map (9054, 0)\n",
      "layer # 1\n",
      "pathways 26\n",
      "genes 147\n",
      "filtered_map (146, 0)\n",
      "filtered_map (146, 0)\n",
      "filtered_map (146, 0)\n",
      "layer # 2\n",
      "pathways 1\n",
      "genes 26\n",
      "filtered_map (26, 0)\n",
      "filtered_map (26, 0)\n",
      "filtered_map (26, 0)\n"
     ]
    }
   ],
   "source": [
    "maps = get_layer_maps(\n",
    "    genes=[g for g in dataset.node_index],\n",
    "    reactome=reactome,\n",
    "    n_levels=2,\n",
    "    direction=\"root_to_leaf\",\n",
    "    add_unk_genes=False,\n",
    "    verbose=True,\n",
    ")"
   ]
  },
  {
   "cell_type": "code",
   "execution_count": 4,
   "id": "aaf75412",
   "metadata": {},
   "outputs": [
    {
     "data": {
      "text/plain": [
       "R-HSA-597592     797.0\n",
       "R-HSA-73857      731.0\n",
       "R-HSA-372790     524.0\n",
       "R-HSA-168249     516.0\n",
       "R-HSA-1280218    383.0\n",
       "R-HSA-199991     382.0\n",
       "R-HSA-556833     366.0\n",
       "R-HSA-1280215    339.0\n",
       "R-HSA-422475     285.0\n",
       "R-HSA-9006934    268.0\n",
       "R-HSA-5663202    245.0\n",
       "R-HSA-194315     218.0\n",
       "R-HSA-5663205    206.0\n",
       "R-HSA-2262752    186.0\n",
       "R-HSA-9006925    180.0\n",
       "R-HSA-5683057    168.0\n",
       "R-HSA-71291      165.0\n",
       "R-HSA-195721     165.0\n",
       "R-HSA-72203      163.0\n",
       "R-HSA-71387      161.0\n",
       "dtype: float64"
      ]
     },
     "execution_count": 4,
     "metadata": {},
     "output_type": "execute_result"
    }
   ],
   "source": [
    "maps[0].sum(axis=0).sort_values(ascending=False).head(20)"
   ]
  },
  {
   "cell_type": "code",
   "execution_count": 5,
   "id": "faeca184",
   "metadata": {},
   "outputs": [
    {
     "data": {
      "text/html": [
       "<div>\n",
       "<style scoped>\n",
       "    .dataframe tbody tr th:only-of-type {\n",
       "        vertical-align: middle;\n",
       "    }\n",
       "\n",
       "    .dataframe tbody tr th {\n",
       "        vertical-align: top;\n",
       "    }\n",
       "\n",
       "    .dataframe thead th {\n",
       "        text-align: right;\n",
       "    }\n",
       "</style>\n",
       "<table border=\"1\" class=\"dataframe\">\n",
       "  <thead>\n",
       "    <tr style=\"text-align: right;\">\n",
       "      <th></th>\n",
       "      <th>R-HSA-109581</th>\n",
       "      <th>R-HSA-112307</th>\n",
       "      <th>R-HSA-112315</th>\n",
       "      <th>R-HSA-1181150</th>\n",
       "      <th>R-HSA-1187000</th>\n",
       "      <th>R-HSA-1268020</th>\n",
       "      <th>R-HSA-1280215</th>\n",
       "      <th>R-HSA-1280218</th>\n",
       "      <th>R-HSA-1296071</th>\n",
       "      <th>R-HSA-1362409</th>\n",
       "      <th>...</th>\n",
       "      <th>R-HSA-9006927</th>\n",
       "      <th>R-HSA-9006931</th>\n",
       "      <th>R-HSA-9006934</th>\n",
       "      <th>R-HSA-9006936</th>\n",
       "      <th>R-HSA-9033241</th>\n",
       "      <th>R-HSA-917937</th>\n",
       "      <th>R-HSA-927802</th>\n",
       "      <th>R-HSA-977225</th>\n",
       "      <th>R-HSA-983231</th>\n",
       "      <th>R-HSA-983712</th>\n",
       "    </tr>\n",
       "  </thead>\n",
       "  <tbody>\n",
       "    <tr>\n",
       "      <th>A1CF</th>\n",
       "      <td>0.0</td>\n",
       "      <td>0.0</td>\n",
       "      <td>0.0</td>\n",
       "      <td>0.0</td>\n",
       "      <td>0.0</td>\n",
       "      <td>0.0</td>\n",
       "      <td>0.0</td>\n",
       "      <td>0.0</td>\n",
       "      <td>0.0</td>\n",
       "      <td>0.0</td>\n",
       "      <td>...</td>\n",
       "      <td>0.0</td>\n",
       "      <td>0.0</td>\n",
       "      <td>0.0</td>\n",
       "      <td>0.0</td>\n",
       "      <td>0.0</td>\n",
       "      <td>0.0</td>\n",
       "      <td>0.0</td>\n",
       "      <td>0.0</td>\n",
       "      <td>0.0</td>\n",
       "      <td>0.0</td>\n",
       "    </tr>\n",
       "    <tr>\n",
       "      <th>AAAS</th>\n",
       "      <td>0.0</td>\n",
       "      <td>0.0</td>\n",
       "      <td>0.0</td>\n",
       "      <td>0.0</td>\n",
       "      <td>0.0</td>\n",
       "      <td>0.0</td>\n",
       "      <td>1.0</td>\n",
       "      <td>0.0</td>\n",
       "      <td>0.0</td>\n",
       "      <td>0.0</td>\n",
       "      <td>...</td>\n",
       "      <td>0.0</td>\n",
       "      <td>0.0</td>\n",
       "      <td>0.0</td>\n",
       "      <td>0.0</td>\n",
       "      <td>0.0</td>\n",
       "      <td>0.0</td>\n",
       "      <td>0.0</td>\n",
       "      <td>0.0</td>\n",
       "      <td>0.0</td>\n",
       "      <td>0.0</td>\n",
       "    </tr>\n",
       "    <tr>\n",
       "      <th>AACS</th>\n",
       "      <td>0.0</td>\n",
       "      <td>0.0</td>\n",
       "      <td>0.0</td>\n",
       "      <td>0.0</td>\n",
       "      <td>0.0</td>\n",
       "      <td>0.0</td>\n",
       "      <td>0.0</td>\n",
       "      <td>0.0</td>\n",
       "      <td>0.0</td>\n",
       "      <td>0.0</td>\n",
       "      <td>...</td>\n",
       "      <td>0.0</td>\n",
       "      <td>0.0</td>\n",
       "      <td>0.0</td>\n",
       "      <td>0.0</td>\n",
       "      <td>0.0</td>\n",
       "      <td>0.0</td>\n",
       "      <td>0.0</td>\n",
       "      <td>0.0</td>\n",
       "      <td>0.0</td>\n",
       "      <td>0.0</td>\n",
       "    </tr>\n",
       "    <tr>\n",
       "      <th>AADAC</th>\n",
       "      <td>0.0</td>\n",
       "      <td>0.0</td>\n",
       "      <td>0.0</td>\n",
       "      <td>0.0</td>\n",
       "      <td>0.0</td>\n",
       "      <td>0.0</td>\n",
       "      <td>0.0</td>\n",
       "      <td>0.0</td>\n",
       "      <td>0.0</td>\n",
       "      <td>0.0</td>\n",
       "      <td>...</td>\n",
       "      <td>0.0</td>\n",
       "      <td>0.0</td>\n",
       "      <td>0.0</td>\n",
       "      <td>0.0</td>\n",
       "      <td>0.0</td>\n",
       "      <td>0.0</td>\n",
       "      <td>0.0</td>\n",
       "      <td>0.0</td>\n",
       "      <td>0.0</td>\n",
       "      <td>0.0</td>\n",
       "    </tr>\n",
       "    <tr>\n",
       "      <th>AADACL2</th>\n",
       "      <td>0.0</td>\n",
       "      <td>0.0</td>\n",
       "      <td>0.0</td>\n",
       "      <td>0.0</td>\n",
       "      <td>0.0</td>\n",
       "      <td>0.0</td>\n",
       "      <td>0.0</td>\n",
       "      <td>0.0</td>\n",
       "      <td>0.0</td>\n",
       "      <td>0.0</td>\n",
       "      <td>...</td>\n",
       "      <td>0.0</td>\n",
       "      <td>0.0</td>\n",
       "      <td>0.0</td>\n",
       "      <td>0.0</td>\n",
       "      <td>0.0</td>\n",
       "      <td>0.0</td>\n",
       "      <td>0.0</td>\n",
       "      <td>0.0</td>\n",
       "      <td>0.0</td>\n",
       "      <td>0.0</td>\n",
       "    </tr>\n",
       "  </tbody>\n",
       "</table>\n",
       "<p>5 rows × 146 columns</p>\n",
       "</div>"
      ],
      "text/plain": [
       "         R-HSA-109581  R-HSA-112307  R-HSA-112315  R-HSA-1181150  \\\n",
       "A1CF              0.0           0.0           0.0            0.0   \n",
       "AAAS              0.0           0.0           0.0            0.0   \n",
       "AACS              0.0           0.0           0.0            0.0   \n",
       "AADAC             0.0           0.0           0.0            0.0   \n",
       "AADACL2           0.0           0.0           0.0            0.0   \n",
       "\n",
       "         R-HSA-1187000  R-HSA-1268020  R-HSA-1280215  R-HSA-1280218  \\\n",
       "A1CF               0.0            0.0            0.0            0.0   \n",
       "AAAS               0.0            0.0            1.0            0.0   \n",
       "AACS               0.0            0.0            0.0            0.0   \n",
       "AADAC              0.0            0.0            0.0            0.0   \n",
       "AADACL2            0.0            0.0            0.0            0.0   \n",
       "\n",
       "         R-HSA-1296071  R-HSA-1362409  ...  R-HSA-9006927  R-HSA-9006931  \\\n",
       "A1CF               0.0            0.0  ...            0.0            0.0   \n",
       "AAAS               0.0            0.0  ...            0.0            0.0   \n",
       "AACS               0.0            0.0  ...            0.0            0.0   \n",
       "AADAC              0.0            0.0  ...            0.0            0.0   \n",
       "AADACL2            0.0            0.0  ...            0.0            0.0   \n",
       "\n",
       "         R-HSA-9006934  R-HSA-9006936  R-HSA-9033241  R-HSA-917937  \\\n",
       "A1CF               0.0            0.0            0.0           0.0   \n",
       "AAAS               0.0            0.0            0.0           0.0   \n",
       "AACS               0.0            0.0            0.0           0.0   \n",
       "AADAC              0.0            0.0            0.0           0.0   \n",
       "AADACL2            0.0            0.0            0.0           0.0   \n",
       "\n",
       "         R-HSA-927802  R-HSA-977225  R-HSA-983231  R-HSA-983712  \n",
       "A1CF              0.0           0.0           0.0           0.0  \n",
       "AAAS              0.0           0.0           0.0           0.0  \n",
       "AACS              0.0           0.0           0.0           0.0  \n",
       "AADAC             0.0           0.0           0.0           0.0  \n",
       "AADACL2           0.0           0.0           0.0           0.0  \n",
       "\n",
       "[5 rows x 146 columns]"
      ]
     },
     "execution_count": 5,
     "metadata": {},
     "output_type": "execute_result"
    }
   ],
   "source": [
    "# use only top subsys\n",
    "#n_top = 12\n",
    "#maps[0] = maps[0][maps[0].sum(axis=0).sort_values(ascending=False).head(n_top).index]\n",
    "maps[0].head()"
   ]
  },
  {
   "cell_type": "code",
   "execution_count": 6,
   "id": "443c5a22",
   "metadata": {},
   "outputs": [
    {
     "data": {
      "text/plain": [
       "(9054, 146)"
      ]
     },
     "execution_count": 6,
     "metadata": {},
     "output_type": "execute_result"
    }
   ],
   "source": [
    "maps[0].shape"
   ]
  },
  {
   "cell_type": "code",
   "execution_count": 7,
   "id": "8993d9cf",
   "metadata": {},
   "outputs": [
    {
     "data": {
      "text/plain": [
       "R-HSA-597592     797.0\n",
       "R-HSA-73857      731.0\n",
       "R-HSA-372790     524.0\n",
       "R-HSA-168249     516.0\n",
       "R-HSA-1280218    383.0\n",
       "                 ...  \n",
       "R-HSA-75944        2.0\n",
       "R-HSA-5676934      2.0\n",
       "R-HSA-8981607      1.0\n",
       "R-HSA-1566977      1.0\n",
       "R-HSA-71737        1.0\n",
       "Length: 146, dtype: float64"
      ]
     },
     "execution_count": 7,
     "metadata": {},
     "output_type": "execute_result"
    }
   ],
   "source": [
    "maps[0].sum(axis=0).sort_values(ascending=False)"
   ]
  },
  {
   "cell_type": "markdown",
   "id": "9ec4ac92",
   "metadata": {},
   "source": [
    "# Train"
   ]
  },
  {
   "cell_type": "markdown",
   "id": "fbf8a02c",
   "metadata": {},
   "source": [
    "Set up hyperparameters and random seed."
   ]
  },
  {
   "cell_type": "code",
   "execution_count": 8,
   "id": "fac5ff47",
   "metadata": {},
   "outputs": [
    {
     "name": "stderr",
     "output_type": "stream",
     "text": [
      "Global seed set to 42\n"
     ]
    }
   ],
   "source": [
    "# try to ensure reproducibility\n",
    "pl.seed_everything(42, workers=True)\n",
    "\n",
    "n_epochs = 500\n",
    "batch_size = 10\n",
    "lr = 0.001"
   ]
  },
  {
   "cell_type": "markdown",
   "id": "0b70a5d6",
   "metadata": {},
   "source": [
    "Prepare data."
   ]
  },
  {
   "cell_type": "code",
   "execution_count": 9,
   "id": "80713481",
   "metadata": {},
   "outputs": [],
   "source": [
    "train_loader = DataLoader(\n",
    "    dataset,\n",
    "    batch_size=batch_size,\n",
    "    sampler=SubsetRandomSampler(dataset.train_idx),\n",
    ")\n",
    "valid_loader = DataLoader(\n",
    "    dataset,\n",
    "    batch_size=batch_size,\n",
    "    sampler=SubsetRandomSampler(dataset.valid_idx),\n",
    ")\n"
   ]
  },
  {
   "cell_type": "markdown",
   "id": "bf6dd0bf",
   "metadata": {},
   "source": [
    "Create and train model."
   ]
  },
  {
   "cell_type": "code",
   "execution_count": 10,
   "id": "fe668c90",
   "metadata": {
    "scrolled": false
   },
   "outputs": [
    {
     "name": "stderr",
     "output_type": "stream",
     "text": [
      "GPU available: True, used: True\n",
      "TPU available: False, using: 0 TPU cores\n",
      "IPU available: False, using: 0 IPUs\n",
      "HPU available: False, using: 0 HPUs\n",
      "/mnt/home/zzhang/anaconda3/envs/cancernet/lib/python3.9/site-packages/pytorch_lightning/callbacks/model_checkpoint.py:611: UserWarning: Checkpoint directory /mnt/ceph/users/zzhang/cancer-net/demos/model_ckpts exists and is not empty.\n",
      "  rank_zero_warn(f\"Checkpoint directory {dirpath} exists and is not empty.\")\n",
      "LOCAL_RANK: 0 - CUDA_VISIBLE_DEVICES: [0]\n",
      "\n",
      "  | Name      | Type       | Params\n",
      "-----------------------------------------\n",
      "0 | criterion | BCELoss    | 0     \n",
      "1 | network   | ModuleList | 47.7 K\n",
      "-----------------------------------------\n",
      "47.7 K    Trainable params\n",
      "0         Non-trainable params\n",
      "47.7 K    Total params\n",
      "0.191     Total estimated model params size (MB)\n",
      "/mnt/home/zzhang/anaconda3/envs/cancernet/lib/python3.9/site-packages/pytorch_lightning/trainer/connectors/data_connector.py:240: PossibleUserWarning: The dataloader, val_dataloader 0, does not have many workers which may be a bottleneck. Consider increasing the value of the `num_workers` argument` (try 36 which is the number of cpus on this machine) in the `DataLoader` init to improve performance.\n",
      "  rank_zero_warn(\n",
      "/mnt/home/zzhang/anaconda3/envs/cancernet/lib/python3.9/site-packages/pytorch_lightning/trainer/connectors/data_connector.py:240: PossibleUserWarning: The dataloader, train_dataloader, does not have many workers which may be a bottleneck. Consider increasing the value of the `num_workers` argument` (try 36 which is the number of cpus on this machine) in the `DataLoader` init to improve performance.\n",
      "  rank_zero_warn(\n"
     ]
    },
    {
     "data": {
      "application/vnd.jupyter.widget-view+json": {
       "model_id": "32ea600119514576a5b602ceab316460",
       "version_major": 2,
       "version_minor": 0
      },
      "text/plain": [
       "Training:   0%|          | 0/500 [00:00<?, ?it/s]"
      ]
     },
     "metadata": {},
     "output_type": "display_data"
    },
    {
     "name": "stdout",
     "output_type": "stream",
     "text": [
      "Training took 269.5 seconds.\n"
     ]
    }
   ],
   "source": [
    "\n",
    "t0 = time.time()\n",
    "model = PNet(\n",
    "    layers=maps,\n",
    "    num_genes=maps[0].shape[0], # 9054\n",
    "    num_features=3,\n",
    ")\n",
    "logger = InMemoryLogger()\n",
    "early_stop_callback = EarlyStopping(\n",
    "    monitor=\"val_loss\", min_delta=0.00, patience=100, verbose=False, mode=\"min\"\n",
    ")\n",
    "checkpoint_callback = ModelCheckpoint(\n",
    "    dirpath=\"model_ckpts\",\n",
    "    monitor=\"val_loss\",\n",
    "    save_top_k=1,\n",
    "    filename=\"bestmodel_pnet\",\n",
    "    mode=\"min\",\n",
    ")\n",
    "bestmodel_file = os.path.join(\"model_ckpts\", \"bestmodel_pnet.ckpt\")\n",
    "if os.path.isfile(bestmodel_file):\n",
    "    os.remove(bestmodel_file)\n",
    "\n",
    "# XXX this cannot be fully deterministic on GPU because\n",
    "# XXX scatter_add_cuda_kernel does not have a deterministic implementation!\n",
    "trainer = pl.Trainer(\n",
    "    accelerator=\"auto\",\n",
    "    max_epochs=n_epochs,\n",
    "    callbacks=[ProgressBar(), early_stop_callback, checkpoint_callback],\n",
    "    logger=logger,\n",
    "    # deterministic=True,\n",
    ")\n",
    "if enable_pytorch_train:\n",
    "    trainer.fit(model, train_loader, valid_loader)\n",
    "    print(f\"Training took {time.time() - t0:.1f} seconds.\")"
   ]
  },
  {
   "cell_type": "markdown",
   "id": "319ddabb",
   "metadata": {},
   "source": [
    "Visualize training trajectory."
   ]
  },
  {
   "cell_type": "code",
   "execution_count": 11,
   "id": "b0dbbc3a",
   "metadata": {},
   "outputs": [
    {
     "data": {
      "image/png": "[encoded data removed]",
      "text/plain": [
       "<Figure size 600x800 with 2 Axes>"
      ]
     },
     "metadata": {},
     "output_type": "display_data"
    }
   ],
   "source": [
    "if enable_pytorch_train:\n",
    "    fig, (ax1, ax2) = plt.subplots(2, 1, figsize=(6, 8), constrained_layout=True)\n",
    "    logger.metrics_df.plot(\"epoch\", [\"train_accuracy\", \"val_accuracy\"], ax=ax1)\n",
    "    ax1.grid()\n",
    "\n",
    "    logger.metrics_df.plot(\"epoch\", [\"train_loss\", \"val_loss\"], ax=ax2)\n",
    "    ax2.grid()"
   ]
  },
  {
   "cell_type": "markdown",
   "id": "3cdc3630",
   "metadata": {},
   "source": [
    "Calculate and show ROC and AUC."
   ]
  },
  {
   "cell_type": "code",
   "execution_count": 12,
   "id": "07d7ef48",
   "metadata": {
    "scrolled": false
   },
   "outputs": [
    {
     "data": {
      "text/plain": [
       "<matplotlib.legend.Legend at 0x1553de1f8130>"
      ]
     },
     "execution_count": 12,
     "metadata": {},
     "output_type": "execute_result"
    },
    {
     "data": {
      "image/png": "[encoded data removed]",
      "text/plain": [
       "<Figure size 640x480 with 1 Axes>"
      ]
     },
     "metadata": {},
     "output_type": "display_data"
    }
   ],
   "source": [
    "bestmodel_file = os.path.join(\"model_ckpts\", \"bestmodel_pnet.ckpt\")\n",
    "model = PNet.load_from_checkpoint(bestmodel_file)\n",
    "fpr_train, tpr_train, train_auc, _, _ = get_roc(model, train_loader)\n",
    "fpr_valid, tpr_valid, valid_auc, _, _ = get_roc(model, valid_loader)\n",
    "\n",
    "fig, ax = plt.subplots()\n",
    "ax.plot(fpr_train, tpr_train, lw=2, label=\"train (area = %0.3f)\" % train_auc)\n",
    "ax.plot(fpr_valid, tpr_valid, lw=2, label=\"validation (area = %0.3f)\" % valid_auc)\n",
    "ax.plot([0, 1], [0, 1], color=\"black\", lw=1, linestyle=\"--\")\n",
    "ax.set_xlim([0.0, 1.0])\n",
    "ax.set_ylim([0.0, 1.05])\n",
    "ax.set_xlabel(\"False Positive Rate\")\n",
    "ax.set_ylabel(\"True Positive Rate\")\n",
    "ax.set_title(\"Receiver operating characteristic\")\n",
    "ax.legend(loc=\"lower right\", frameon=False)"
   ]
  },
  {
   "cell_type": "markdown",
   "id": "1b75064b",
   "metadata": {},
   "source": [
    "Check performance on test set."
   ]
  },
  {
   "cell_type": "code",
   "execution_count": 13,
   "id": "d1bb47ee",
   "metadata": {},
   "outputs": [
    {
     "name": "stdout",
     "output_type": "stream",
     "text": [
      "accuracy 0.3333333333333333\n",
      "auc 0.8036332179930796\n",
      "aupr 0.6763816967172688\n",
      "f1 0.5\n",
      "precision 0.3333333333333333\n",
      "recall 1.0\n"
     ]
    }
   ],
   "source": [
    "test_loader = DataLoader(\n",
    "    dataset,\n",
    "    batch_size=batch_size,\n",
    "    sampler=SubsetRandomSampler(dataset.test_idx),\n",
    "    drop_last=False,\n",
    ")\n",
    "fpr_test, tpr_test, test_auc, ys, outs = get_roc(model, test_loader)\n",
    "\n",
    "print(\"accuracy\", accuracy_score(ys, outs[:, 1] > 0.5))\n",
    "print(\"auc\", test_auc)\n",
    "print(\"aupr\", average_precision_score(ys, outs[:, 1]))\n",
    "print(\"f1\", f1_score(ys, outs[:, 1] > 0.5))\n",
    "print(\"precision\", precision_score(ys, outs[:, 1] > 0.5))\n",
    "print(\"recall\", recall_score(ys, outs[:, 1] > 0.5))"
   ]
  },
  {
   "cell_type": "markdown",
   "id": "581a0272",
   "metadata": {},
   "source": [
    "# Load TF model"
   ]
  },
  {
   "cell_type": "code",
   "execution_count": 14,
   "id": "b2767c19",
   "metadata": {
    "scrolled": true
   },
   "outputs": [
    {
     "name": "stderr",
     "output_type": "stream",
     "text": [
      "WARNING:root:some genes dont exist in the original data set\n",
      "/mnt/ceph/users/zzhang/cancer-net/cancernet/pnet/data/prostate_paper/data_reader.py:69: FutureWarning: Passing a set as an indexer is deprecated and will raise in a future version. Use a list instead.\n",
      "  x = x.loc[:, intersect]\n",
      "WARNING:root:some genes dont exist in the original data set\n",
      "/mnt/ceph/users/zzhang/cancer-net/cancernet/pnet/data/prostate_paper/data_reader.py:69: FutureWarning: Passing a set as an indexer is deprecated and will raise in a future version. Use a list instead.\n",
      "  x = x.loc[:, intersect]\n",
      "WARNING:root:some genes dont exist in the original data set\n",
      "/mnt/ceph/users/zzhang/cancer-net/cancernet/pnet/data/prostate_paper/data_reader.py:69: FutureWarning: Passing a set as an indexer is deprecated and will raise in a future version. Use a list instead.\n",
      "  x = x.loc[:, intersect]\n",
      "WARNING:root:some genes dont exist in the original data set\n"
     ]
    },
    {
     "name": "stdout",
     "output_type": "stream",
     "text": [
      "(807, 27162)\n",
      "{'id': 'ALL', 'type': 'prostate_paper', 'params': {'data_type': ['mut_important', 'cnv_amp', 'cnv_del'], 'drop_AR': False, 'cnv_levels': 3, 'mut_binary': True, 'balanced_data': False, 'combine_type': 'union', 'use_coding_genes_only': True, 'selected_genes': 'tcga_prostate_expressed_genes_and_cancer_genes.csvmatched_pyg.csv', 'training_split': 0}}\n",
      "n_hidden_layers 2\n"
     ]
    },
    {
     "name": "stderr",
     "output_type": "stream",
     "text": [
      "/mnt/ceph/users/zzhang/cancer-net/cancernet/pnet/data/prostate_paper/data_reader.py:69: FutureWarning: Passing a set as an indexer is deprecated and will raise in a future version. Use a list instead.\n",
      "  x = x.loc[:, intersect]\n",
      "WARNING:root:some genes dont exist in the original data set\n",
      "/mnt/ceph/users/zzhang/cancer-net/cancernet/pnet/data/prostate_paper/data_reader.py:69: FutureWarning: Passing a set as an indexer is deprecated and will raise in a future version. Use a list instead.\n",
      "  x = x.loc[:, intersect]\n",
      "WARNING:root:some genes dont exist in the original data set\n",
      "/mnt/ceph/users/zzhang/cancer-net/cancernet/pnet/data/prostate_paper/data_reader.py:69: FutureWarning: Passing a set as an indexer is deprecated and will raise in a future version. Use a list instead.\n",
      "  x = x.loc[:, intersect]\n"
     ]
    },
    {
     "name": "stdout",
     "output_type": "stream",
     "text": [
      "(1011, 27162)\n",
      "(1011, 1)\n",
      "(1011,)\n",
      "(27162,)\n",
      "input dimension 27162 self.units 9054\n",
      "n_inputs_per_node 3\n",
      "self.kernel_initializer <keras.regularizers.L2 object at 0x1553df65ca00> <keras.initializers.initializers_v2.LecunUniform object at 0x1553df65c760> <keras.regularizers.L2 object at 0x1553df65ca00>\n",
      "input dimensions (None, 27162)\n"
     ]
    },
    {
     "name": "stderr",
     "output_type": "stream",
     "text": [
      "2022-10-12 22:00:15.151021: W tensorflow/stream_executor/platform/default/dso_loader.cc:64] Could not load dynamic library 'libcudnn.so.8'; dlerror: libcudnn.so.8: cannot open shared object file: No such file or directory; LD_LIBRARY_PATH: /cm/shared/apps/slurm/current/lib64:/mnt/sw/nix/store/f0ycdncw8dw4wlicnzm74lgv9c51rlg4-openblas-0.3.20/lib\n",
      "2022-10-12 22:00:15.151065: W tensorflow/core/common_runtime/gpu/gpu_device.cc:1934] Cannot dlopen some GPU libraries. Please make sure the missing libraries mentioned above are installed properly if you would like to use GPU. Follow the guide at https://www.tensorflow.org/install/gpu for how to download and setup the required libraries for your platform.\n",
      "Skipping registering GPU devices...\n",
      "2022-10-12 22:00:15.151360: I tensorflow/core/platform/cpu_feature_guard.cc:193] This TensorFlow binary is optimized with oneAPI Deep Neural Network Library (oneDNN) to use the following CPU instructions in performance-critical operations:  AVX2 AVX512F AVX512_VNNI FMA\n",
      "To enable them in other operations, rebuild TensorFlow with the appropriate compiler flags.\n"
     ]
    },
    {
     "name": "stdout",
     "output_type": "stream",
     "text": [
      "pathways 146\n",
      "genes 10621\n",
      "pathways 26\n",
      "genes 147\n",
      "pathways 1\n",
      "genes 26\n",
      "original dropout [0.5, 0.1, 0.1, 0.1]\n",
      "dropout [1, 2] [0.5, 0.1, 0.1, 0.1] [0.001, 0.001, 0.001]\n",
      "layer 0, dropout  0.1 w_reg 0.001\n",
      "layer 1, dropout  0.1 w_reg 0.001\n",
      "Compiling...\n",
      "loss_weights [2, 7, 20, 54, 148, 400]\n",
      "[<keras.engine.input_layer.InputLayer object at 0x1553df869130>, <cancernet.pnet.model.layers_custom.Diagonal object at 0x1553df65ceb0>, <keras.layers.regularization.dropout.Dropout object at 0x1553df5e0640>, <cancernet.pnet.model.layers_custom.SparseTF object at 0x1553df2fab50>, <keras.layers.regularization.dropout.Dropout object at 0x1553df2ef6a0>, <cancernet.pnet.model.layers_custom.SparseTF object at 0x1553df2e50d0>, <keras.layers.core.dense.Dense object at 0x1553df5e00a0>, <keras.layers.core.dense.Dense object at 0x1553df5e0220>, <keras.layers.core.dense.Dense object at 0x1553df2e5820>, <keras.layers.core.activation.Activation object at 0x1553df5e0b20>, <keras.layers.core.activation.Activation object at 0x1553df5e0400>, <keras.layers.core.activation.Activation object at 0x1553df2e5af0>]\n",
      "Model: \"model\"\n",
      "__________________________________________________________________________________________________\n",
      " Layer (type)                   Output Shape         Param #     Connected to                     \n",
      "==================================================================================================\n",
      " inputs (InputLayer)            [(None, 27162)]      0           []                               \n",
      "                                                                                                  \n",
      " h0 (Diagonal)                  (None, 9054)         36216       ['inputs[0][0]']                 \n",
      "                                                                                                  \n",
      " dropout_0 (Dropout)            (None, 9054)         0           ['h0[0][0]']                     \n",
      "                                                                                                  \n",
      " h1 (SparseTF)                  (None, 146)          11270       ['dropout_0[0][0]']              \n",
      "                                                                                                  \n",
      " dropout_1 (Dropout)            (None, 146)          0           ['h1[0][0]']                     \n",
      "                                                                                                  \n",
      " h2 (SparseTF)                  (None, 26)           173         ['dropout_1[0][0]']              \n",
      "                                                                                                  \n",
      " o_linear1 (Dense)              (None, 1)            9055        ['h0[0][0]']                     \n",
      "                                                                                                  \n",
      " o_linear2 (Dense)              (None, 1)            147         ['h1[0][0]']                     \n",
      "                                                                                                  \n",
      " o_linear3 (Dense)              (None, 1)            27          ['h2[0][0]']                     \n",
      "                                                                                                  \n",
      " o1 (Activation)                (None, 1)            0           ['o_linear1[0][0]']              \n",
      "                                                                                                  \n",
      " o2 (Activation)                (None, 1)            0           ['o_linear2[0][0]']              \n",
      "                                                                                                  \n",
      " o3 (Activation)                (None, 1)            0           ['o_linear3[0][0]']              \n",
      "                                                                                                  \n",
      "==================================================================================================\n",
      "Total params: 56,888\n",
      "Trainable params: 56,888\n",
      "Non-trainable params: 0\n",
      "__________________________________________________________________________________________________\n"
     ]
    }
   ],
   "source": [
    "import importlib\n",
    "from cancernet.pnet.model.model_factory import get_model\n",
    "from cancernet.pnet.model.nn import Model\n",
    "from cancernet.pnet.model.builders.builders_utils import get_map_from_layer, get_layer_maps\n",
    "from cancernet.pnet.data.data_access import Data\n",
    "\n",
    "params_file = '.onsplit_average_reg_10_tanh_large_testing'\n",
    "params_file_full = \"cancernet.pnet.train.params.P1000.pnet\" + params_file\n",
    "params = importlib.import_module(params_file_full)\n",
    "\n",
    "# manually adjusted P-net model params\n",
    "n_hidden_layers = 2\n",
    "params.models[0]['params']['model_params']['n_hidden_layers'] = n_hidden_layers\n",
    "params.models[0]['params']['model_params']['w_reg'] = [0.001] * (n_hidden_layers+1)\n",
    "params.models[0]['params']['model_params']['w_reg_outcomes'] = [0.001] * (n_hidden_layers+1)\n",
    "params.models[0]['params']['model_params']['dropout'] = [0.5]+[0.1] * (n_hidden_layers+1)\n",
    "params.models[0]['params']['model_params']['loss_weights'] = [2] * (n_hidden_layers-6) + [2, 7, 20, 54, 148, 400]\n",
    "# new input genes\n",
    "params.models[0]['params']['model_params']['data_params']['params']['selected_genes'] = \\\n",
    "    'tcga_prostate_expressed_genes_and_cancer_genes.csvmatched_pyg.csv'\n",
    "# change molecular data type order to match PyG dataset\n",
    "params.models[0]['params']['model_params']['data_params']['params']['data_type'] = \\\n",
    " ['mut_important', 'cnv_amp', 'cnv_del']\n",
    "\n",
    "data = Data(**params.data[0])\n",
    "\n",
    "x_train, x_validate_, x_test_, y_train, y_validate_, y_test_, info_train, info_validate_, info_test_, cols = data.get_train_validate_test()\n",
    "print(x_train.shape)\n",
    "\n",
    "# poor fix for random gene order now\n",
    "#x_train = np.load('x_train.npy')\n",
    "#y_train = np.load('y_train.npy')\n",
    "#x_test_ = np.load('x_test_.npy')\n",
    "#y_test_ = np.load('y_test_.npy')\n",
    "\n",
    "\n",
    "model_build_fn = Model(**params.models[0]['params'])\n",
    "ret = model_build_fn.build_fn(**model_build_fn.model_params)\n",
    "tf_model, feature_names, reactome_map = ret\n",
    "tf_model.load_weights(\"pnet_tf_mod.h5\")\n"
   ]
  },
  {
   "cell_type": "code",
   "execution_count": 15,
   "id": "796ad66c",
   "metadata": {},
   "outputs": [
    {
     "name": "stdout",
     "output_type": "stream",
     "text": [
      "input dimensions (None, 27162)\n",
      "4/4 [==============================] - 0s 4ms/step\n",
      "[(102, 1), (102, 1), (102, 1)]\n",
      "accuracy 0.8921568627450981\n",
      "auc 0.9563148788927335\n",
      "aupr 0.922809400415429\n",
      "f1 0.8358208955223881\n",
      "precision 0.8484848484848485\n",
      "recall 0.8235294117647058\n"
     ]
    }
   ],
   "source": [
    "from sklearn.metrics import roc_auc_score, roc_curve, auc, average_precision_score, f1_score, accuracy_score, \\\n",
    "    precision_score, recall_score\n",
    "\n",
    "y_hat = tf_model.predict(x_test_)\n",
    "print([y.shape for y in y_hat])\n",
    "\n",
    "ys = y_test_.flatten()\n",
    "outs = y_hat[-1]\n",
    "\n",
    "fpr_valid, tpr_valid, _ = roc_curve(ys, outs)\n",
    "test_auc = auc(fpr_valid, tpr_valid)\n",
    "\n",
    "print('accuracy', accuracy_score(ys, outs>0.5))\n",
    "print('auc', test_auc)\n",
    "print('aupr', average_precision_score(ys, outs))\n",
    "print('f1', f1_score(ys, outs>0.5))\n",
    "print('precision', precision_score(ys, outs>0.5))\n",
    "print('recall', recall_score(ys, outs>0.5))"
   ]
  },
  {
   "cell_type": "code",
   "execution_count": 16,
   "id": "26850b29",
   "metadata": {},
   "outputs": [
    {
     "data": {
      "text/plain": [
       "{'inputs': [],\n",
       " 'h0': [(27162,), (9054,)],\n",
       " 'dropout_0': [],\n",
       " 'h1': [(11124,), (146,)],\n",
       " 'dropout_1': [],\n",
       " 'h2': [(147,), (26,)],\n",
       " 'o_linear1': [(9054, 1), (1,)],\n",
       " 'o_linear2': [(146, 1), (1,)],\n",
       " 'o_linear3': [(26, 1), (1,)],\n",
       " 'o1': [],\n",
       " 'o2': [],\n",
       " 'o3': []}"
      ]
     },
     "execution_count": 16,
     "metadata": {},
     "output_type": "execute_result"
    }
   ],
   "source": [
    "import pickle\n",
    "with open(\"pnet_tf_weights.pkl\", \"rb\") as f:\n",
    "    tf_state_dict = pickle.load(f)\n",
    "{k:[v_.shape for v_ in v] for k,v in tf_state_dict.items()}"
   ]
  },
  {
   "cell_type": "markdown",
   "id": "ba3a9248",
   "metadata": {},
   "source": [
    "# Compare TF and PyTorch P-Net Models"
   ]
  },
  {
   "cell_type": "code",
   "execution_count": 17,
   "id": "6f2be05d",
   "metadata": {},
   "outputs": [],
   "source": [
    "state_dict = model.state_dict()"
   ]
  },
  {
   "cell_type": "code",
   "execution_count": 18,
   "id": "dea7315a",
   "metadata": {},
   "outputs": [
    {
     "data": {
      "text/plain": [
       "{'network.0.weights': torch.Size([9054, 3]),\n",
       " 'network.0.bias': torch.Size([9054]),\n",
       " 'network.3.weights': torch.Size([11124]),\n",
       " 'network.3.bias': torch.Size([146]),\n",
       " 'network.3.nonzero_indices': torch.Size([11124, 2]),\n",
       " 'network.6.weights': torch.Size([147]),\n",
       " 'network.6.bias': torch.Size([26]),\n",
       " 'network.6.nonzero_indices': torch.Size([147, 2]),\n",
       " 'network.9.weight': torch.Size([1, 26]),\n",
       " 'network.9.bias': torch.Size([1])}"
      ]
     },
     "execution_count": 18,
     "metadata": {},
     "output_type": "execute_result"
    }
   ],
   "source": [
    "{k:v.shape for k,v in state_dict.items()}"
   ]
  },
  {
   "cell_type": "code",
   "execution_count": 19,
   "id": "4a9989e7",
   "metadata": {},
   "outputs": [
    {
     "data": {
      "text/plain": [
       "tensor([-0.0220])"
      ]
     },
     "execution_count": 19,
     "metadata": {},
     "output_type": "execute_result"
    }
   ],
   "source": [
    "state_dict['network.0.weights'].copy_(torch.Tensor(np.reshape(tf_state_dict['h0'][0], (9054, 3))))\n",
    "state_dict['network.0.bias'].copy_(torch.Tensor(np.reshape(tf_state_dict['h0'][1], (9054,))))\n",
    "state_dict['network.3.weights'].copy_(torch.Tensor(tf_state_dict['h1'][0]))\n",
    "state_dict['network.3.bias'].copy_(torch.Tensor(tf_state_dict['h1'][1]))\n",
    "state_dict['network.6.weights'].copy_(torch.Tensor(tf_state_dict['h2'][0]))\n",
    "state_dict['network.6.bias'].copy_(torch.Tensor(tf_state_dict['h2'][1]))\n",
    "state_dict['network.9.weight'].copy_(torch.Tensor(tf_state_dict['o_linear3'][0].squeeze()))\n",
    "state_dict['network.9.bias'].copy_(torch.Tensor(tf_state_dict['o_linear3'][1]))"
   ]
  },
  {
   "cell_type": "code",
   "execution_count": 20,
   "id": "7d21631c",
   "metadata": {},
   "outputs": [
    {
     "data": {
      "text/plain": [
       "PNet(\n",
       "  (criterion): BCELoss()\n",
       "  (network): ModuleList(\n",
       "    (0): FeatureLayer()\n",
       "    (1): Tanh()\n",
       "    (2): Dropout(p=0.5, inplace=False)\n",
       "    (3): SparseLayer()\n",
       "    (4): Tanh()\n",
       "    (5): Dropout(p=0.1, inplace=False)\n",
       "    (6): SparseLayer()\n",
       "    (7): Tanh()\n",
       "    (8): Dropout(p=0.1, inplace=False)\n",
       "    (9): Linear(in_features=26, out_features=1, bias=True)\n",
       "    (10): Sigmoid()\n",
       "  )\n",
       ")"
      ]
     },
     "execution_count": 20,
     "metadata": {},
     "output_type": "execute_result"
    }
   ],
   "source": [
    "model.load_state_dict(state_dict=state_dict, strict=True)\n",
    "model.eval()"
   ]
  },
  {
   "cell_type": "code",
   "execution_count": 21,
   "id": "c7b8e6d6",
   "metadata": {},
   "outputs": [
    {
     "data": {
      "text/plain": [
       "tensor([[0.9683]], grad_fn=<SigmoidBackward0>)"
      ]
     },
     "execution_count": 21,
     "metadata": {},
     "output_type": "execute_result"
    }
   ],
   "source": [
    "single_loader = DataLoader(\n",
    "    dataset,\n",
    "    batch_size=1,\n",
    "    sampler=SubsetRandomSampler(dataset.train_idx),\n",
    ")\n",
    "data = next(iter(single_loader))\n",
    "model.forward(data)"
   ]
  },
  {
   "cell_type": "code",
   "execution_count": 22,
   "id": "a5b0dcb9",
   "metadata": {},
   "outputs": [],
   "source": [
    "layer_dict = {x.name:x for x in tf_model.layers}\n",
    "layer_mod = tf.keras.models.Model(\n",
    "    inputs=tf_model.inputs,\n",
    "    outputs=[layer_dict['h0'].output, layer_dict['h1'].output, layer_dict['h2'].output, layer_dict['o_linear3'].output]\n",
    ")"
   ]
  },
  {
   "cell_type": "code",
   "execution_count": 23,
   "id": "fbed6a1a",
   "metadata": {},
   "outputs": [
    {
     "data": {
      "text/plain": [
       "['MO_1128']"
      ]
     },
     "execution_count": 23,
     "metadata": {},
     "output_type": "execute_result"
    }
   ],
   "source": [
    "data.subject_id"
   ]
  },
  {
   "cell_type": "code",
   "execution_count": 24,
   "id": "212777a3",
   "metadata": {},
   "outputs": [
    {
     "data": {
      "text/plain": [
       "array([134])"
      ]
     },
     "execution_count": 24,
     "metadata": {},
     "output_type": "execute_result"
    }
   ],
   "source": [
    "idx = np.where(info_train==data.subject_id[0])[0]\n",
    "idx"
   ]
  },
  {
   "cell_type": "markdown",
   "id": "74584264",
   "metadata": {},
   "source": [
    "## check sparse layer non-zero indices"
   ]
  },
  {
   "cell_type": "code",
   "execution_count": 26,
   "id": "1c6f558e",
   "metadata": {},
   "outputs": [
    {
     "data": {
      "text/plain": [
       "(array([[  1,  98],\n",
       "        [  1, 106],\n",
       "        [  1, 109],\n",
       "        [  1, 110],\n",
       "        [  2,  83]]),\n",
       " tensor([[  1,  98],\n",
       "         [  1, 106],\n",
       "         [  1, 109],\n",
       "         [  1, 110],\n",
       "         [  2,  83]]))"
      ]
     },
     "execution_count": 26,
     "metadata": {},
     "output_type": "execute_result"
    }
   ],
   "source": [
    "tf_model.layers[3].nonzero_ind[5:10], model.network[3].nonzero_indices[5:10]"
   ]
  },
  {
   "cell_type": "code",
   "execution_count": 27,
   "id": "bf81c85c",
   "metadata": {},
   "outputs": [
    {
     "data": {
      "text/plain": [
       "(array([[24,  3],\n",
       "        [25, 11],\n",
       "        [26, 24],\n",
       "        [27,  3],\n",
       "        [28,  7]]),\n",
       " tensor([[24,  3],\n",
       "         [25, 11],\n",
       "         [26, 24],\n",
       "         [27,  3],\n",
       "         [28,  7]]))"
      ]
     },
     "execution_count": 27,
     "metadata": {},
     "output_type": "execute_result"
    }
   ],
   "source": [
    "tf_model.layers[5].nonzero_ind[25:30], model.network[6].nonzero_indices[25:30]"
   ]
  },
  {
   "cell_type": "code",
   "execution_count": 28,
   "id": "f2b77ae8",
   "metadata": {
    "scrolled": false
   },
   "outputs": [
    {
     "name": "stdout",
     "output_type": "stream",
     "text": [
      "tensor(689.) 689.0\n"
     ]
    },
    {
     "data": {
      "text/plain": [
       "(array([ 11,  14,  44,  56, 212, 239, 311, 313, 364, 413, 528, 546, 563,\n",
       "        581, 631]),\n",
       " array([ 11,  14,  44,  56, 212, 239, 311, 313, 364, 413, 528, 546, 563,\n",
       "        581, 631]))"
      ]
     },
     "execution_count": 28,
     "metadata": {},
     "output_type": "execute_result"
    }
   ],
   "source": [
    "# BUG 1: mis-aligned inputs on 2nd level of (mut, cnv_amp, cnv_del \n",
    "print(data.x.sum(), x_train[idx,].sum())\n",
    "convert_x = torch.reshape(torch.Tensor(x_train[[idx],]), (1, 9054, 3))\n",
    "np.where(x_train[idx,])[1][0:15], np.where(torch.reshape(data.x, (1,-1)))[1][0:15]"
   ]
  },
  {
   "cell_type": "code",
   "execution_count": 29,
   "id": "3af0833e",
   "metadata": {},
   "outputs": [
    {
     "name": "stdout",
     "output_type": "stream",
     "text": [
      "input dimensions (None, 27162)\n",
      "1/1 [==============================] - 0s 110ms/step\n",
      "1/1 [==============================] - 0s 20ms/step\n"
     ]
    },
    {
     "data": {
      "text/plain": [
       "([array([[ 0.001, -0.   ,  0.   , ...,  0.   ,  0.   , -0.   ]],\n",
       "        dtype=float32),\n",
       "  array([[-0.426, -0.022, -0.161, -0.023,  0.016, -0.   ,  0.079, -0.083,\n",
       "           0.017, -0.027,  0.029,  0.033,  0.021, -0.017, -0.075,  0.054,\n",
       "           0.396, -0.017,  0.033, -0.039, -0.018, -0.004, -0.039,  0.148,\n",
       "          -0.01 , -0.004,  0.132,  0.002,  0.081, -0.407, -0.075, -0.022,\n",
       "           0.045,  0.565,  0.024,  0.136, -0.007,  0.191, -0.022, -0.01 ,\n",
       "           0.14 , -0.078,  0.022, -0.047, -0.097, -0.08 , -0.05 , -0.265,\n",
       "          -0.044,  0.011, -0.046, -0.066,  0.019,  0.009,  0.036,  0.423,\n",
       "          -0.032,  0.036,  0.152, -0.093, -0.008, -0.056, -0.031,  0.028,\n",
       "          -0.226, -0.039,  0.306, -0.023, -0.017,  0.148,  0.003, -0.015,\n",
       "          -0.038, -0.001,  0.02 , -0.028,  0.017, -0.034, -0.   ,  0.01 ,\n",
       "          -0.096,  0.03 , -0.021, -0.035,  0.049,  0.028, -0.026, -0.029,\n",
       "          -0.018, -0.473, -0.026,  0.003,  0.037, -0.025, -0.288,  0.009,\n",
       "           0.286,  0.035,  0.738,  0.001,  0.015, -0.054, -0.091,  0.102,\n",
       "          -0.191,  0.14 , -0.25 , -0.02 , -0.034, -0.067, -0.013,  0.003,\n",
       "          -0.142, -0.459, -0.02 , -0.029, -0.013,  0.338, -0.027,  0.053,\n",
       "           0.018, -0.029,  0.02 , -0.022,  0.055, -0.013, -0.035,  0.037,\n",
       "           0.021,  0.023, -0.019, -0.022,  0.027,  0.025,  0.045, -0.23 ,\n",
       "           0.072,  0.141, -0.327, -0.359, -0.003,  0.029, -0.034, -0.03 ,\n",
       "           0.232, -0.132]], dtype=float32),\n",
       "  array([[-0.117,  0.127,  0.182, -0.097, -0.027, -0.399, -0.033, -0.022,\n",
       "           0.068, -0.391,  0.417,  0.028,  0.023, -0.813,  0.014,  0.02 ,\n",
       "          -0.003, -0.025, -0.153, -0.138, -0.059,  0.084, -0.49 , -0.058,\n",
       "           0.209,  0.025]], dtype=float32),\n",
       "  array([[3.418]], dtype=float32)],\n",
       " [array([[0.8420332]], dtype=float32),\n",
       "  array([[0.9580776]], dtype=float32),\n",
       "  array([[0.96827406]], dtype=float32)])"
      ]
     },
     "execution_count": 29,
     "metadata": {},
     "output_type": "execute_result"
    }
   ],
   "source": [
    "# TF model\n",
    "tf_out = [np.round(x, 3) for x in layer_mod.predict(x_train[idx,])]\n",
    "tf_out ,\\\n",
    "tf_model.predict(x_train[idx,])"
   ]
  },
  {
   "cell_type": "code",
   "execution_count": 30,
   "id": "41da9f13",
   "metadata": {},
   "outputs": [
    {
     "data": {
      "text/plain": [
       "ModuleList(\n",
       "  (0): FeatureLayer()\n",
       "  (1): Tanh()\n",
       "  (2): Dropout(p=0.5, inplace=False)\n",
       "  (3): SparseLayer()\n",
       "  (4): Tanh()\n",
       "  (5): Dropout(p=0.1, inplace=False)\n",
       "  (6): SparseLayer()\n",
       "  (7): Tanh()\n",
       "  (8): Dropout(p=0.1, inplace=False)\n",
       "  (9): Linear(in_features=26, out_features=1, bias=True)\n",
       "  (10): Sigmoid()\n",
       ")"
      ]
     },
     "execution_count": 30,
     "metadata": {},
     "output_type": "execute_result"
    }
   ],
   "source": [
    "model.network"
   ]
  },
  {
   "cell_type": "code",
   "execution_count": 31,
   "id": "7806751a",
   "metadata": {},
   "outputs": [
    {
     "data": {
      "text/plain": [
       "([array([[ 0.001, -0.   ,  0.   , ...,  0.   ,  0.   , -0.   ]],\n",
       "        dtype=float32),\n",
       "  array([[-0.426, -0.022, -0.161, -0.023,  0.016, -0.   ,  0.079, -0.083,\n",
       "           0.017, -0.027,  0.029,  0.033,  0.021, -0.017, -0.075,  0.054,\n",
       "           0.396, -0.017,  0.033, -0.039, -0.018, -0.004, -0.039,  0.148,\n",
       "          -0.01 , -0.004,  0.132,  0.002,  0.081, -0.407, -0.075, -0.022,\n",
       "           0.045,  0.565,  0.024,  0.136, -0.007,  0.191, -0.022, -0.01 ,\n",
       "           0.14 , -0.078,  0.022, -0.047, -0.097, -0.08 , -0.05 , -0.265,\n",
       "          -0.044,  0.011, -0.046, -0.066,  0.019,  0.009,  0.036,  0.423,\n",
       "          -0.032,  0.036,  0.152, -0.093, -0.008, -0.056, -0.031,  0.028,\n",
       "          -0.226, -0.039,  0.306, -0.023, -0.017,  0.148,  0.003, -0.015,\n",
       "          -0.038, -0.001,  0.02 , -0.028,  0.017, -0.034, -0.   ,  0.01 ,\n",
       "          -0.096,  0.03 , -0.021, -0.035,  0.049,  0.028, -0.026, -0.029,\n",
       "          -0.018, -0.473, -0.026,  0.003,  0.037, -0.025, -0.288,  0.009,\n",
       "           0.286,  0.035,  0.738,  0.001,  0.015, -0.054, -0.091,  0.102,\n",
       "          -0.191,  0.14 , -0.25 , -0.02 , -0.034, -0.067, -0.013,  0.003,\n",
       "          -0.142, -0.459, -0.02 , -0.029, -0.013,  0.338, -0.027,  0.053,\n",
       "           0.018, -0.029,  0.02 , -0.022,  0.055, -0.013, -0.035,  0.037,\n",
       "           0.021,  0.023, -0.019, -0.022,  0.027,  0.025,  0.045, -0.23 ,\n",
       "           0.072,  0.141, -0.327, -0.359, -0.003,  0.029, -0.034, -0.03 ,\n",
       "           0.232, -0.132]], dtype=float32),\n",
       "  array([[-0.117,  0.127,  0.182, -0.097, -0.027, -0.399, -0.033, -0.022,\n",
       "           0.068, -0.391,  0.417,  0.028,  0.023, -0.813,  0.014,  0.02 ,\n",
       "          -0.003, -0.025, -0.153, -0.138, -0.059,  0.084, -0.49 , -0.058,\n",
       "           0.209,  0.025]], dtype=float32)],\n",
       " tensor([[0.9683]], grad_fn=<SigmoidBackward0>))"
      ]
     },
     "execution_count": 31,
     "metadata": {},
     "output_type": "execute_result"
    }
   ],
   "source": [
    "# PyTorch model\n",
    "# use pyg data\n",
    "#x = torch.reshape(data.x, (1, 9054, 3))\n",
    "# use tensorflow data\n",
    "x = torch.reshape(torch.Tensor(x_train[[idx],]), (1, 9054, 3))\n",
    "x = model.network[0].forward(x)\n",
    "h0 = model.network[1](x)\n",
    "x = model.network[3](h0)\n",
    "h1 = model.network[4](x)\n",
    "x = model.network[6](h1)\n",
    "h2 = model.network[7](x)\n",
    "\n",
    "y_pred = model.forward(data)\n",
    "pt_out = [h0.detach().numpy().round(3), h1.detach().numpy().round(3), h2.detach().numpy().round(3)]\n",
    "pt_out, y_pred"
   ]
  },
  {
   "cell_type": "code",
   "execution_count": 32,
   "id": "50c10d99",
   "metadata": {},
   "outputs": [
    {
     "name": "stdout",
     "output_type": "stream",
     "text": [
      "1.0\n"
     ]
    },
    {
     "data": {
      "text/plain": [
       "(array([], dtype=float32), array([], dtype=float32))"
      ]
     },
     "execution_count": 32,
     "metadata": {},
     "output_type": "execute_result"
    }
   ],
   "source": [
    "i = 2\n",
    "print(np.mean(tf_out[i]==pt_out[i]))\n",
    "_ = np.where(np.abs(tf_out[i]-pt_out[i]) > 1e-2)\n",
    "tf_out[0][_], pt_out[0][_]"
   ]
  },
  {
   "cell_type": "code",
   "execution_count": 33,
   "id": "731622af",
   "metadata": {},
   "outputs": [
    {
     "name": "stdout",
     "output_type": "stream",
     "text": [
      "(9054,)\n"
     ]
    }
   ],
   "source": [
    "inp_x = torch.reshape(torch.Tensor(x_train[[idx],]), (1, 9054, 3))\n",
    "x = torch.sum(inp_x * model.network[0].weights, dim=-1)\n",
    "output = x + model.network[0].bias\n",
    "output1 = output.detach().numpy()[0]\n",
    "print(output1.shape)\n",
    "#sorted(output1)"
   ]
  },
  {
   "cell_type": "code",
   "execution_count": 34,
   "id": "00cf6250",
   "metadata": {
    "scrolled": true
   },
   "outputs": [
    {
     "name": "stdout",
     "output_type": "stream",
     "text": [
      "(9054,)\n"
     ]
    }
   ],
   "source": [
    "import tensorflow.keras.backend as K\n",
    "layer = layer_dict['h0']\n",
    "mult = x_train[[idx],]*K.reshape(layer.kernel, (1,-1))\n",
    "mult = K.reshape(mult, (-1, layer.n_inputs_per_node))\n",
    "mult = K.sum(mult, axis=1)\n",
    "output = K.reshape(mult, (-1, layer.units))\n",
    "output = K.bias_add(output, layer.bias)\n",
    "output2 = output.numpy()[0]\n",
    "print(output2.shape)\n",
    "#sorted(output2)"
   ]
  },
  {
   "cell_type": "code",
   "execution_count": 35,
   "id": "6d1f4778",
   "metadata": {},
   "outputs": [
    {
     "data": {
      "text/plain": [
       "1.0"
      ]
     },
     "execution_count": 35,
     "metadata": {},
     "output_type": "execute_result"
    }
   ],
   "source": [
    "np.mean(output1 == output2)"
   ]
  },
  {
   "cell_type": "code",
   "execution_count": 37,
   "id": "cb057c6d",
   "metadata": {},
   "outputs": [
    {
     "name": "stdout",
     "output_type": "stream",
     "text": [
      "accuracy 0.3333333333333333\n",
      "auc 0.9563148788927335\n",
      "aupr 0.922809400415429\n",
      "f1 0.5\n",
      "precision 0.3333333333333333\n",
      "recall 1.0\n"
     ]
    }
   ],
   "source": [
    "test_loader = DataLoader(\n",
    "    dataset,\n",
    "    batch_size=batch_size,\n",
    "    sampler=SubsetRandomSampler(dataset.test_idx),\n",
    "    drop_last=False,\n",
    ")\n",
    "fpr_test, tpr_test, test_auc, ys, outs = get_roc(model, test_loader)\n",
    "\n",
    "print(\"accuracy\", accuracy_score(ys, outs[:, 1] > 0.5))\n",
    "print(\"auc\", test_auc)\n",
    "print(\"aupr\", average_precision_score(ys, outs[:, 1]))\n",
    "print(\"f1\", f1_score(ys, outs[:, 1] > 0.5))\n",
    "print(\"precision\", precision_score(ys, outs[:, 1] > 0.5))\n",
    "print(\"recall\", recall_score(ys, outs[:, 1] > 0.5))"
   ]
  },
  {
   "cell_type": "code",
   "execution_count": 36,
   "id": "e7c933b4",
   "metadata": {},
   "outputs": [
    {
     "name": "stdout",
     "output_type": "stream",
     "text": [
      "Last updated: Wed Oct 12 2022\n",
      "\n",
      "Python implementation: CPython\n",
      "Python version       : 3.9.13\n",
      "IPython version      : 8.4.0\n",
      "\n",
      "cancernet        : 0.0.5\n",
      "matplotlib       : 3.5.3\n",
      "torch_geometric  : 2.0.4\n",
      "pytorch_lightning: 1.6.5\n",
      "numpy            : 1.23.3\n",
      "tensorflow       : 2.10.0\n",
      "torch            : 1.11.0\n",
      "\n",
      "Watermark: 2.3.1\n",
      "\n"
     ]
    }
   ],
   "source": [
    "%load_ext watermark\n",
    "%watermark -n -u -v -iv -w"
   ]
  },
  {
   "cell_type": "code",
   "execution_count": null,
   "id": "fe43a6b7",
   "metadata": {},
   "outputs": [],
   "source": []
  }
 ],
 "metadata": {
  "kernelspec": {
   "display_name": "Python 3 (ipykernel)",
   "language": "python",
   "name": "python3"
  },
  "language_info": {
   "codemirror_mode": {
    "name": "ipython",
    "version": 3
   },
   "file_extension": ".py",
   "mimetype": "text/x-python",
   "name": "python",
   "nbconvert_exporter": "python",
   "pygments_lexer": "ipython3",
   "version": "3.9.13"
  },
  "vscode": {
   "interpreter": {
    "hash": "8cf7caf096f5b9436d42d20d5edf527ae84d7f0f47f0de2642e1cfbb9c173595"
   }
  }
 },
 "nbformat": 4,
 "nbformat_minor": 5
}
