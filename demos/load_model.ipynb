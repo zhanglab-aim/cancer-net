{
 "cells": [
  {
   "cell_type": "markdown",
   "id": "08e7d428-0a42-4da4-8b87-c1900b979bfa",
   "metadata": {},
   "source": [
    "## Load a model!"
   ]
  },
  {
   "cell_type": "code",
   "execution_count": null,
   "id": "7c19476e-bd19-4d45-94ca-23b723c00462",
   "metadata": {},
   "outputs": [],
   "source": [
    "import time\n",
    "import os\n",
    "import numpy as np\n",
    "\n",
    "import torch, torch_geometric.transforms as T, torch.nn.functional as F\n",
    "from torch.utils.data.sampler import SubsetRandomSampler\n",
    "\n",
    "from torch_geometric.loader import DataLoader\n",
    "\n",
    "import pytorch_lightning as pl\n",
    "from pytorch_lightning.loggers import WandbLogger\n",
    "from pytorch_lightning.callbacks.early_stopping import EarlyStopping\n",
    "from pytorch_lightning.callbacks import ModelCheckpoint\n",
    "\n",
    "import matplotlib.pyplot as plt\n",
    "\n",
    "from sklearn.metrics import (\n",
    "    roc_auc_score,\n",
    "    roc_curve,\n",
    "    auc,\n",
    "    average_precision_score,\n",
    "    f1_score,\n",
    "    accuracy_score,\n",
    "    precision_score,\n",
    "    recall_score,\n",
    ")\n",
    "\n",
    "import wandb\n",
    "import pickle\n",
    "\n",
    "from cancernet.arch import GCNNet, GATNet, InteractionNet\n",
    "from cancernet.util import ProgressBar, InMemoryLogger, get_roc\n",
    "from cancernet import PnetDataSet"
   ]
  },
  {
   "cell_type": "code",
   "execution_count": null,
   "id": "9f161e7c-805c-4ab9-be75-5f7e1ff71bfe",
   "metadata": {},
   "outputs": [],
   "source": [
    "base_data_string=\"/mnt/home/cpedersen/ceph/Data/data\"\n",
    "\n",
    "dataset = PnetDataSet(\n",
    "    root=os.path.join(base_data_string, \"prostate\"),\n",
    "    name=\"prostate_graph_humanbase\",\n",
    "    # files={'graph_file': \"global.geneSymbol.gz\"},\n",
    "    edge_tol=0.5,\n",
    "    pre_transform=T.Compose(\n",
    "        [T.GCNNorm(add_self_loops=False), T.ToSparseTensor(remove_edge_index=False)]),)\n",
    "\n",
    "splits_root = os.path.join(base_data_string, \"prostate\", \"splits\")\n",
    "dataset.split_index_by_file(\n",
    "    train_fp=os.path.join(splits_root, \"training_set_0.csv\"),\n",
    "    valid_fp=os.path.join(splits_root, \"validation_set.csv\"),\n",
    "    test_fp=os.path.join(splits_root, \"test_set.csv\"))\n",
    "\n",
    "pl.seed_everything(42, workers=True)\n",
    "\n",
    "n_epochs = 10\n",
    "batch_size = 10\n",
    "\n",
    "\n",
    "test_loader = DataLoader(\n",
    "    dataset,\n",
    "    batch_size=batch_size,\n",
    "    sampler=SubsetRandomSampler(dataset.test_idx),\n",
    "    generator=torch.Generator().manual_seed(43),\n",
    ")\n"
   ]
  },
  {
   "cell_type": "code",
   "execution_count": null,
   "id": "b8a851cd-8105-4e08-a95a-6b98d01ebe2e",
   "metadata": {},
   "outputs": [],
   "source": [
    "## Our best GCN\n",
    "## https://wandb.ai/cancer-net/hyperparam_sweeps_May/runs/bv8vmf70/\n",
    "model_gcn = GCNNet(dims=[3, 256, 256, 256], lr=0.0061575)\n",
    "model_gcn.load_state_dict(torch.load(\"/mnt/home/cpedersen/ceph/cancer-net-models/hyperparam_sweeps/GCN_no_early/wandb/run-20230518_010814-bv8vmf70/files/model_weights.pt\"))\n",
    "\n",
    "## Our best GAT\n",
    "## https://wandb.ai/cancer-net/hyperparam_sweeps_May/runs/qf3s2ze6\n",
    "model_gat = GATNet(dims=[3, 32,32, 32], lr=0.0001017)\n",
    "model_gat.load_state_dict(torch.load(\"/mnt/home/cpedersen/ceph/cancer-net-models/hyperparam_sweeps/GAT_no_early/wandb/run-20230518_001508-qf3s2ze6/files/model_weights.pt\"))\n",
    "\n",
    "## Our best MetaLayer\n",
    "## https://wandb.ai/cancer-net/hyperparam_sweeps_May/runs/kg827ae8\n",
    "model_metalayer = InteractionNet(layers=5,\n",
    "                        hidden=64,\n",
    "                        lr=0.000068689)\n",
    "model_metalayer.load_state_dict(torch.load(\"/mnt/home/cpedersen/ceph/cancer-net-models/hyperparam_sweeps/MetaLayer_no_early/wandb/run-20230518_001513-kg827ae8/files/model_weights.pt\"))"
   ]
  },
  {
   "cell_type": "code",
   "execution_count": null,
   "id": "ee756e8f-a691-491a-a6ac-e3e45a0bf39c",
   "metadata": {},
   "outputs": [],
   "source": [
    "test_data=next(iter(test_loader))"
   ]
  },
  {
   "cell_type": "code",
   "execution_count": null,
   "id": "e8b469de-1c5e-43b8-a097-04decb16601c",
   "metadata": {},
   "outputs": [],
   "source": [
    "model_gcn(test_data)"
   ]
  },
  {
   "cell_type": "code",
   "execution_count": null,
   "id": "8102e293-99a6-43d2-b684-4ebde66590d2",
   "metadata": {},
   "outputs": [],
   "source": [
    "model_gat(test_data)"
   ]
  },
  {
   "cell_type": "code",
   "execution_count": null,
   "id": "bb480aa9-0815-477f-9c16-e0ed0f69a74d",
   "metadata": {},
   "outputs": [],
   "source": [
    "model_metalayer(test_data)"
   ]
  },
  {
   "cell_type": "code",
   "execution_count": null,
   "id": "ebcf877d-cfe6-440c-b602-9a80ad9b5ae3",
   "metadata": {},
   "outputs": [],
   "source": [
    "fpr_test, tpr_test, test_auc, ys, outs = get_roc(model_metalayer, test_loader)"
   ]
  },
  {
   "cell_type": "code",
   "execution_count": null,
   "id": "ad3321ba-be8f-44b8-823a-cbdc1ee9de99",
   "metadata": {},
   "outputs": [],
   "source": [
    "fig, ax = plt.subplots()\n",
    "ax.plot(fpr_test, tpr_test, lw=2, label=\"test (area = %0.3f)\" % test_auc)\n",
    "ax.plot([0, 1], [0, 1], color=\"black\", lw=1, linestyle=\"--\")\n",
    "ax.set_xlim([0.0, 1.0])\n",
    "ax.set_ylim([0.0, 1.05])\n",
    "ax.set_xlabel(\"False Positive Rate\")\n",
    "ax.set_ylabel(\"True Positive Rate\")\n",
    "ax.set_title(\"Receiver operating characteristic\")\n",
    "ax.legend(loc=\"lower right\", frameon=False)"
   ]
  },
  {
   "cell_type": "code",
   "execution_count": null,
   "id": "dbe5b445-b5e4-4424-9d09-e7656d80fc06",
   "metadata": {},
   "outputs": [],
   "source": []
  },
  {
   "cell_type": "code",
   "execution_count": null,
   "id": "80e63709-a97c-4d39-846c-eaa5f48e83cb",
   "metadata": {},
   "outputs": [],
   "source": []
  }
 ],
 "metadata": {
  "kernelspec": {
   "display_name": "cancerenv",
   "language": "python",
   "name": "cancerenv"
  },
  "language_info": {
   "codemirror_mode": {
    "name": "ipython",
    "version": 3
   },
   "file_extension": ".py",
   "mimetype": "text/x-python",
   "name": "python",
   "nbconvert_exporter": "python",
   "pygments_lexer": "ipython3",
   "version": "3.9.16"
  }
 },
 "nbformat": 4,
 "nbformat_minor": 5
}
