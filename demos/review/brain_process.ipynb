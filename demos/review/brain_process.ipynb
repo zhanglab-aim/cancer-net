{
 "cells": [
  {
   "cell_type": "markdown",
   "metadata": {},
   "source": [
    "## Brain data preprocessing\n",
    "\n",
    "This notebook contains functions used to parse gdc files and convert to matrices of mutation and copy number variation for each gene, for each patient. We then combine these matrices into a single tensor shaped [patient, gene, features] where we have 3 features: one-hot encodings of mutation, cnv amp, cnv del."
   ]
  },
  {
   "cell_type": "code",
   "execution_count": null,
   "metadata": {},
   "outputs": [],
   "source": [
    "import os\n",
    "import numpy as np\n",
    "from collections import defaultdict\n",
    "from tqdm import tqdm\n",
    "\n",
    "def read_cnv_mine(manifest_fp, outdir, strip_version_num=True):\n",
    "    manifest = pd.read_table(manifest_fp)\n",
    "    annot = None\n",
    "    tot = {}\n",
    "    GBM=0\n",
    "    LGG=0\n",
    "    for _, row in tqdm(manifest.iterrows(), total=manifest.shape[0]):\n",
    "        ## Read the actual file in the manifest\n",
    "        fp = os.path.join(outdir, row['id'], row['filename'])\n",
    "        dat = pd.read_table(fp)\n",
    "        if annot is None:\n",
    "            print(\"this\")\n",
    "            annot = dat[['gene_id', 'gene_name', 'chromosome', 'start', 'end']]\n",
    "            annot.index = annot['gene_name']\n",
    "            annot.drop(columns=['gene_name'], inplace=True)\n",
    "            if strip_version_num is True:\n",
    "                annot.index = [x.split('.')[0] for x in annot.index]\n",
    "        if \"GBM\" in row.filename:\n",
    "            GBM+=1\n",
    "        elif \"LGG\" in row.filename:\n",
    "            LGG+=1\n",
    "        tot[row['submitter_id']] = dat['copy_number'].to_list()\n",
    "    res = pd.DataFrame.from_dict(tot, orient='index', columns=annot.index)\n",
    "    print(GBM)\n",
    "    print(LGG)\n",
    "    return res, annot\n"
   ]
  },
  {
   "cell_type": "code",
   "execution_count": null,
   "metadata": {},
   "outputs": [],
   "source": [
    "import os\n",
    "import numpy as np\n",
    "from collections import defaultdict\n",
    "from tqdm import tqdm"
   ]
  },
  {
   "cell_type": "code",
   "execution_count": null,
   "metadata": {},
   "outputs": [],
   "source": [
    "import pandas as pd\n",
    "manif_cnv=pd.read_table(\"/scratch/cp3759/cancer-net/brain/gdc_manifest.2024-02-19.GeneLevelCopyNumber.txtwithSubmitterID.txt\")\n",
    "manif_snv=pd.read_table(\"/scratch/cp3759/cancer-net/brain/gdc_manifest.2024-02-19.MaskedSomaticMutation.txtwithSubmitterID.txt\")\n",
    "manif_cnv[\"pid\"]=[\"-\".join(x.split(\"-\")[0:3]) for x in manif_cnv.submitter_id]\n",
    "manif_snv[\"pid\"]=[\"-\".join(x.split(\"-\")[0:3]) for x in manif_snv.submitter_id]\n",
    "print(len(set(manif_cnv.pid).intersection(manif_snv.pid)))\n",
    "#print(len(set(manif_cnv.pid).intersection(manif_snvf.pid)))"
   ]
  },
  {
   "cell_type": "code",
   "execution_count": null,
   "metadata": {},
   "outputs": [],
   "source": [
    "## Get CNV - this is working now\n",
    "\n",
    "annot = None\n",
    "tot = {}\n",
    "GBM=0\n",
    "LGG=0\n",
    "response={}\n",
    "for _, row in tqdm(manif_cnv.iterrows(), total=manif_cnv.shape[0]):\n",
    "\n",
    "    ## Read the actual file in the manifest\n",
    "    fp = os.path.join(\"/scratch/cp3759/cancer-net/brain/cnv\", row['id'], row['filename'])\n",
    "    dat = pd.read_table(fp)\n",
    "    if annot is None:\n",
    "        annot = dat[['gene_id', 'gene_name', 'chromosome', 'start', 'end']]\n",
    "        annot.index = annot['gene_name']\n",
    "        annot.drop(columns=['gene_name'], inplace=True)\n",
    "    tag=row[\"submitter_id\"].split(\"-\")\n",
    "    if tag[0]==\"TCGA\":\n",
    "        if int(tag[3][0:2])<10:\n",
    "            if \"GBM\" in row.filename:\n",
    "                GBM+=1\n",
    "                resp=1\n",
    "            elif \"LGG\" in row.filename:\n",
    "                LGG+=1\n",
    "                resp=0\n",
    "            else:\n",
    "                ## Skip if neither LGG or GBM\n",
    "                continue\n",
    "            shortid=\"-\".join(row[\"submitter_id\"].split(\"-\")[0:3])\n",
    "            response[shortid]=resp\n",
    "            tot[shortid] = dat['copy_number'].to_list()\n",
    "cnv_table = pd.DataFrame.from_dict(tot, orient='index', columns=annot.index)"
   ]
  },
  {
   "cell_type": "code",
   "execution_count": null,
   "metadata": {},
   "outputs": [],
   "source": [
    "## Build a list of all gene mutations\n",
    "full_mut_gene_list=set()\n",
    "for aa in tqdm(range(len(manif_snv))):\n",
    "    file_path=manif_snv[\"id\"][aa]+\"/\"+manif_snv[\"filename\"][aa]\n",
    "    mut_genes=pd.read_table(\"/scratch/cp3759/cancer-net/brain/snv/%s\" % file_path,comment=\"#\", low_memory=False)\n",
    "    test_list=set(mut_genes[\"Hugo_Symbol\"])\n",
    "    full_mut_gene_list=full_mut_gene_list.union(test_list.difference(full_mut_gene_list))\n",
    "\n",
    "## Load pnet genes\n",
    "pnet_genes=pd.read_csv(\"/home/cp3759/Projects/cancer-net-fresh/data/prostate/P1000_data_CNA_paper.csv\")\n",
    "\n",
    "## Intersection between brain mutation dataset and pnet - we drop anything in the cnv\n",
    "## file which is not part of this intersection\n",
    "brain_pnet_intersection=set(list(pnet_genes.head(0))).intersection(full_mut_gene_list)"
   ]
  },
  {
   "cell_type": "code",
   "execution_count": null,
   "metadata": {},
   "outputs": [],
   "source": [
    "cnv_cache=cnv_table"
   ]
  },
  {
   "cell_type": "code",
   "execution_count": null,
   "metadata": {},
   "outputs": [],
   "source": [
    "## Drop genes not in the mut or pnet datasets\n",
    "cnv_genes=list(cnv_table.head(0))\n",
    "diff_genes=set(cnv_genes).difference(brain_pnet_intersection)\n",
    "\n",
    "cnv_table.fillna(0,inplace=True)\n",
    "## Processed cnv - only genes that are common to both datasets\n",
    "cnv_table=cnv_table.drop(list(diff_genes),axis=1)\n",
    "## Update cnv genes to reduced set (intersection with pnet)\n",
    "cnv_genes=list(cnv_table.head(0))"
   ]
  },
  {
   "cell_type": "code",
   "execution_count": null,
   "metadata": {},
   "outputs": [],
   "source": [
    "## Build one-hot encoding table for brain data\n",
    "tot={}\n",
    "for aa in tqdm(range(len(manif_snv))):\n",
    "    file_path=manif_snv[\"id\"][aa]+\"/\"+manif_snv[\"filename\"][aa]\n",
    "    tag=manif_snv[\"submitter_id\"][aa].split(\"-\")\n",
    "    if tag[0]==\"TCGA\":\n",
    "        shortid=\"-\".join(manif_snv[\"submitter_id\"][aa].split(\"-\")[0:3])\n",
    "        mut_genes=pd.read_table(\"/scratch/cp3759/cancer-net/brain/snv/%s\" % file_path,comment=\"#\", low_memory=False)\n",
    "        mut_gene=list(mut_genes[\"Hugo_Symbol\"])\n",
    "        both = set(cnv_genes).intersection(mut_gene)\n",
    "        mut_indices = [cnv_genes.index(x) for x in both]\n",
    "        mut_entries=np.zeros(len(cnv_genes))\n",
    "        mut_entries[mut_indices]=1\n",
    "        tot[shortid]=list(mut_entries)\n",
    "mutation_table = pd.DataFrame.from_dict(tot, orient='index', columns=cnv_genes)"
   ]
  },
  {
   "cell_type": "code",
   "execution_count": null,
   "metadata": {},
   "outputs": [],
   "source": [
    "## Next, remove uncommon tumor samples\n",
    "cnv_tumors=list(cnv_table.T.head())\n",
    "mut_tumors=list(mutation_table.T.head())\n",
    "common_tumors=set(mut_tumors).intersection(cnv_tumors)"
   ]
  },
  {
   "cell_type": "code",
   "execution_count": null,
   "metadata": {},
   "outputs": [],
   "source": [
    "## Drop uncommon genes\n",
    "cnv_table=cnv_table.drop(list(set(cnv_tumors).difference(common_tumors)),axis=0)\n",
    "mutation_table=mutation_table.drop(list(set(mut_tumors).difference(common_tumors)),axis=0)\n",
    "## Reorder genes in mutation dataset to follow cnv dataset\n",
    "mutation_table=mutation_table.reindex(list(cnv_table.T.head(0)))"
   ]
  },
  {
   "cell_type": "code",
   "execution_count": null,
   "metadata": {},
   "outputs": [],
   "source": [
    "## Finally need to generate the response vector\n",
    "response_table={}\n",
    "for gene in list(cnv_table.T.head(0)):\n",
    "    response_table[gene]=[response[gene]]\n",
    "response_table = pd.DataFrame.from_dict(response_table)"
   ]
  },
  {
   "cell_type": "code",
   "execution_count": null,
   "metadata": {},
   "outputs": [],
   "source": [
    "cnv_table.to_csv(\"/home/cp3759/Projects/cancer-net-fresh/data/brain/cnv.csv\")\n",
    "mutation_table.to_csv(\"/home/cp3759/Projects/cancer-net-fresh/data/brain/mut.csv\")\n",
    "response_table.to_csv(\"/home/cp3759/Projects/cancer-net-fresh/data/brain/response.csv\")"
   ]
  },
  {
   "cell_type": "code",
   "execution_count": null,
   "metadata": {},
   "outputs": [],
   "source": [
    "print(data_vector)"
   ]
  },
  {
   "cell_type": "markdown",
   "metadata": {},
   "source": [
    "## Load the saved tables. Convert into a single torch tensor that can be used in a dataset"
   ]
  },
  {
   "cell_type": "code",
   "execution_count": 8,
   "metadata": {},
   "outputs": [],
   "source": [
    "import pandas as pd\n",
    "import pickle\n",
    "import torch\n",
    "from tqdm import tqdm\n",
    "import numpy as np"
   ]
  },
  {
   "cell_type": "code",
   "execution_count": 9,
   "metadata": {},
   "outputs": [],
   "source": [
    "\n",
    "\n",
    "def tables_to_data_vector(valid_cnv,valid_mut,genes):\n",
    "    \"\"\" Take in matrices of [tumor sample,genes] for both copy number variation\n",
    "        and mutation\"\"\"\n",
    "    cnv_amp=torch.empty((len(valid_cnv),len(genes)))\n",
    "    cnv_del=torch.empty((len(valid_cnv),len(genes)))\n",
    "    missing_count=0\n",
    "    for aa,gene in enumerate(tqdm(genes)):\n",
    "        if gene in valid_cnv:\n",
    "            for bb in range(len(valid_cnv)):\n",
    "                ## For some reason, some entries are lists..\n",
    "                ## but the entries are all the same value\n",
    "                ## so just take the zeroth\n",
    "                test_val=valid_cnv[gene].values[bb]\n",
    "                if type(test_val)!=np.float64:\n",
    "                    test_val=test_val[0]\n",
    "                if test_val>1:\n",
    "                    cnv_amp[bb][aa]=1\n",
    "                    cnv_del[bb][aa]=0\n",
    "                elif test_val<-1:\n",
    "                    cnv_amp[bb][aa]=0\n",
    "                    cnv_del[bb][aa]=1\n",
    "                else:\n",
    "                    cnv_amp[bb][aa]=0\n",
    "                    cnv_del[bb][aa]=0\n",
    "        else:\n",
    "            missing_count+=1\n",
    "            cnv_amp[:,aa]=torch.zeros(len(valid_cnv))\n",
    "            cnv_del[:,aa]=torch.zeros(len(valid_cnv))\n",
    "            \n",
    "    print(\"%d training set genes missing from cnv set\" % missing_count)\n",
    "\n",
    "    mut_matrix=torch.empty((len(valid_mut),len(genes)))\n",
    "    missing_count=0\n",
    "    for aa,gene in enumerate(tqdm(genes)):\n",
    "        if gene in valid_mut:\n",
    "            ## Set to one-hot encoding, whether or not the gene is mutated\n",
    "            for bb in range(len(valid_mut)):\n",
    "                if valid_mut[gene].values[bb]>0:\n",
    "                    mut_matrix[bb,aa]=1\n",
    "                else:\n",
    "                    mut_matrix[bb,aa]=0 \n",
    "            ## If the gene is not present, just set all entries to 0\n",
    "        else:\n",
    "            missing_count+=1\n",
    "            mut_matr\n",
    "            ix[:,aa]=torch.zeros(len(valid_mut))\n",
    "            \n",
    "    print(\"%d training set genes missing from mut set\" % missing_count)\n",
    "    return torch.swapaxes(torch.stack((mut_matrix,cnv_amp,cnv_del)),0,1)\n"
   ]
  },
  {
   "cell_type": "code",
   "execution_count": 10,
   "metadata": {},
   "outputs": [],
   "source": [
    "cnv_table=pd.read_csv(\"/home/cp3759/Projects/cancer-net-fresh/data/brain/cnv.csv\")\n",
    "mutation_table=pd.read_csv(\"/home/cp3759/Projects/cancer-net-fresh/data/brain/mut.csv\")\n",
    "response_table=pd.read_csv(\"/home/cp3759/Projects/cancer-net-fresh/data/brain/response.csv\")\n",
    "cnv_genes=list(cnv_table.head(0))[1:]"
   ]
  },
  {
   "cell_type": "code",
   "execution_count": 18,
   "metadata": {},
   "outputs": [
    {
     "name": "stderr",
     "output_type": "stream",
     "text": [
      "100%|██████████| 9243/9243 [01:54<00:00, 80.46it/s]\n"
     ]
    },
    {
     "name": "stdout",
     "output_type": "stream",
     "text": [
      "0 training set genes missing from cnv set\n"
     ]
    },
    {
     "name": "stderr",
     "output_type": "stream",
     "text": [
      "100%|██████████| 9243/9243 [01:06<00:00, 138.39it/s]\n"
     ]
    },
    {
     "name": "stdout",
     "output_type": "stream",
     "text": [
      "0 training set genes missing from mut set\n",
      "saved\n"
     ]
    }
   ],
   "source": [
    "data_vector=tables_to_data_vector(cnv_table,mutation_table,cnv_genes)\n",
    "data_vector=torch.swapaxes(data_vector,1,2)\n",
    "with open('brain_vector.pkl', 'wb') as outp:  \n",
    "    pickle.dump(data_vector, outp, pickle.HIGHEST_PROTOCOL)\n",
    "print(\"saved\")"
   ]
  },
  {
   "cell_type": "code",
   "execution_count": 20,
   "metadata": {},
   "outputs": [
    {
     "data": {
      "text/plain": [
       "torch.Size([868, 3, 9243])"
      ]
     },
     "execution_count": 20,
     "metadata": {},
     "output_type": "execute_result"
    }
   ],
   "source": [
    "data_vector.shape"
   ]
  },
  {
   "cell_type": "code",
   "execution_count": 2,
   "metadata": {},
   "outputs": [
    {
     "name": "stderr",
     "output_type": "stream",
     "text": [
      "WARNING:root:response in cached_data is being set by '../data/prostate/response_paper.csv'\n",
      "WARNING:root:some genes don't exist in the original data set\n",
      "WARNING:root:some genes don't exist in the original data set\n",
      "WARNING:root:some genes don't exist in the original data set\n"
     ]
    }
   ],
   "source": [
    "import os\n",
    "from cancernet import PnetDataSet, ReactomeNetwork\n",
    "## Initalise dataset\n",
    "prostate_root = os.path.join(\"../data\", \"prostate\")\n",
    "dataset = PnetDataSet(\n",
    "    root=prostate_root,\n",
    ")"
   ]
  },
  {
   "cell_type": "code",
   "execution_count": 16,
   "metadata": {},
   "outputs": [
    {
     "data": {
      "text/plain": [
       "tensor([1.])"
      ]
     },
     "execution_count": 16,
     "metadata": {},
     "output_type": "execute_result"
    }
   ],
   "source": [
    "dataset.y[0]"
   ]
  },
  {
   "cell_type": "code",
   "execution_count": 12,
   "metadata": {},
   "outputs": [
    {
     "data": {
      "text/plain": [
       "9243"
      ]
     },
     "execution_count": 12,
     "metadata": {},
     "output_type": "execute_result"
    }
   ],
   "source": [
    "len(cnv_genes)"
   ]
  },
  {
   "cell_type": "code",
   "execution_count": 13,
   "metadata": {},
   "outputs": [],
   "source": [
    "import json\n",
    "\n",
    "with open(\"brain_genes.json\", 'w') as f:\n",
    "    json.dump(cnv_genes, f) "
   ]
  },
  {
   "cell_type": "code",
   "execution_count": null,
   "metadata": {},
   "outputs": [],
   "source": []
  }
 ],
 "metadata": {
  "kernelspec": {
   "display_name": "cancer_fresh",
   "language": "python",
   "name": "cancer_fresh"
  },
  "language_info": {
   "codemirror_mode": {
    "name": "ipython",
    "version": 3
   },
   "file_extension": ".py",
   "mimetype": "text/x-python",
   "name": "python",
   "nbconvert_exporter": "python",
   "pygments_lexer": "ipython3",
   "version": "3.11.5"
  }
 },
 "nbformat": 4,
 "nbformat_minor": 4
}
