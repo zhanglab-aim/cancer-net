{
 "cells": [
  {
   "cell_type": "code",
   "execution_count": 1,
   "id": "4454c60e",
   "metadata": {},
   "outputs": [],
   "source": [
    "import time\n",
    "import os\n",
    "\n",
    "import torch, torch_geometric.transforms as T, torch.nn.functional as F\n",
    "from torch.utils.data.sampler import SubsetRandomSampler\n",
    "\n",
    "from torch_geometric.loader import DataLoader\n",
    "from torch_geometric.nn import MetaLayer\n",
    "\n",
    "import pytorch_lightning as pl\n",
    "\n",
    "import matplotlib.pyplot as plt\n",
    "\n",
    "from sklearn.metrics import (\n",
    "    roc_auc_score,\n",
    "    roc_curve,\n",
    "    auc,\n",
    "    average_precision_score,\n",
    "    f1_score,\n",
    "    accuracy_score,\n",
    "    precision_score,\n",
    "    recall_score,\n",
    ")\n",
    "\n",
    "from cancernet.arch import InteractionNet\n",
    "from cancernet.util import ProgressBar, InMemoryLogger, get_roc\n",
    "from cancernet import PnetDataSet"
   ]
  },
  {
   "cell_type": "markdown",
   "id": "b512cbc5",
   "metadata": {},
   "source": [
    "## Load dataset"
   ]
  },
  {
   "cell_type": "code",
   "execution_count": 2,
   "id": "8e7bdf96",
   "metadata": {},
   "outputs": [],
   "source": [
    "dataset = PnetDataSet(\n",
    "    root=os.path.join(\"data\", \"prostate\"),\n",
    "    name=\"prostate_graph_humanbase\",\n",
    "    # files={'graph_file': \"global.geneSymbol.gz\"},\n",
    "    edge_tol=0.5,\n",
    "    pre_transform=T.Compose(\n",
    "        [T.GCNNorm(add_self_loops=False), T.ToSparseTensor(remove_edge_index=False)]\n",
    "    ),\n",
    ")"
   ]
  },
  {
   "cell_type": "markdown",
   "id": "50f3a842",
   "metadata": {},
   "source": [
    "Ensure consistent and reproducible train/validation/test split."
   ]
  },
  {
   "cell_type": "code",
   "execution_count": 3,
   "id": "0105a346",
   "metadata": {},
   "outputs": [],
   "source": [
    "splits_root = os.path.join(\"data\", \"prostate\", \"splits\")\n",
    "dataset.split_index_by_file(\n",
    "    train_fp=os.path.join(splits_root, \"training_set_0.csv\"),\n",
    "    valid_fp=os.path.join(splits_root, \"validation_set.csv\"),\n",
    "    test_fp=os.path.join(splits_root, \"test_set.csv\"),\n",
    ")"
   ]
  },
  {
   "cell_type": "code",
   "execution_count": 4,
   "id": "a58cd56f",
   "metadata": {},
   "outputs": [
    {
     "data": {
      "text/plain": [
       "PnetDataset(len=1011, graph=prostate_graph_humanbase, num_edges=15080, edge_tol=0.50)"
      ]
     },
     "execution_count": 4,
     "metadata": {},
     "output_type": "execute_result"
    }
   ],
   "source": [
    "dataset"
   ]
  },
  {
   "cell_type": "markdown",
   "id": "9b702fae",
   "metadata": {},
   "source": [
    "Check whether test indices are fixed. \n",
    "\n",
    "Should be `[764, 865, 136, 968, 847, 155, 961, 998, 23, 112]`"
   ]
  },
  {
   "cell_type": "code",
   "execution_count": 5,
   "id": "8b5aee7d",
   "metadata": {},
   "outputs": [
    {
     "data": {
      "text/plain": [
       "[764, 865, 136, 968, 847, 155, 961, 998, 23, 112]"
      ]
     },
     "execution_count": 5,
     "metadata": {},
     "output_type": "execute_result"
    }
   ],
   "source": [
    "dataset.test_idx[0:10]"
   ]
  },
  {
   "cell_type": "markdown",
   "id": "9ec4ac92",
   "metadata": {},
   "source": [
    "## Train"
   ]
  },
  {
   "cell_type": "markdown",
   "id": "fbf8a02c",
   "metadata": {},
   "source": [
    "Set up hyperparameters and random seed."
   ]
  },
  {
   "cell_type": "code",
   "execution_count": 6,
   "id": "fac5ff47",
   "metadata": {},
   "outputs": [
    {
     "name": "stderr",
     "output_type": "stream",
     "text": [
      "Global seed set to 42\n"
     ]
    }
   ],
   "source": [
    "# try to ensure reproducibility\n",
    "pl.seed_everything(42, workers=True)\n",
    "\n",
    "n_epochs = 200\n",
    "batch_size = 10\n",
    "lr = 0.001"
   ]
  },
  {
   "cell_type": "markdown",
   "id": "0b70a5d6",
   "metadata": {},
   "source": [
    "Prepare data."
   ]
  },
  {
   "cell_type": "code",
   "execution_count": 7,
   "id": "80713481",
   "metadata": {},
   "outputs": [],
   "source": [
    "train_loader = DataLoader(\n",
    "    dataset,\n",
    "    batch_size=batch_size,\n",
    "    sampler=SubsetRandomSampler(dataset.train_idx),\n",
    ")\n",
    "valid_loader = DataLoader(\n",
    "    dataset,\n",
    "    batch_size=batch_size,\n",
    "    sampler=SubsetRandomSampler(dataset.valid_idx),\n",
    ")"
   ]
  },
  {
   "cell_type": "markdown",
   "id": "b4017273",
   "metadata": {},
   "source": [
    "Visualize the connectivity of the graph."
   ]
  },
  {
   "cell_type": "code",
   "execution_count": 8,
   "id": "6c262069-c52d-4475-8a31-d7b8bbdf79e0",
   "metadata": {},
   "outputs": [
    {
     "data": {
      "text/plain": [
       "Text(0, 0.5, 'Frequency')"
      ]
     },
     "execution_count": 8,
     "metadata": {},
     "output_type": "execute_result"
    },
    {
     "data": {
      "image/png": "[encoded data removed]",
      "text/plain": [
       "<Figure size 432x288 with 1 Axes>"
      ]
     },
     "metadata": {
      "needs_background": "light"
     },
     "output_type": "display_data"
    }
   ],
   "source": [
    "# XXX this should be somewhere else\n",
    "data = next(iter(train_loader))\n",
    "edge_indices = data[0].edge_index.cpu().numpy()\n",
    "edge_counter = 1\n",
    "connections = []\n",
    "gene = edge_indices[1][0]\n",
    "for aa in range(len(edge_indices[0])):\n",
    "    if gene == edge_indices[1][aa]:\n",
    "        edge_counter += 1\n",
    "    else:\n",
    "        gene = edge_indices[1][aa]\n",
    "        connections.append(edge_counter)\n",
    "        edge_counter = 1\n",
    "    # print(edge_indices[1][aa])\n",
    "\n",
    "plt.hist(connections, bins=100)\n",
    "plt.xlabel(\"Number of connections of each node/gene\")\n",
    "plt.ylabel(\"Frequency\")"
   ]
  },
  {
   "cell_type": "markdown",
   "id": "bf6dd0bf",
   "metadata": {},
   "source": [
    "Create and train model."
   ]
  },
  {
   "cell_type": "code",
   "execution_count": 9,
   "id": "fe668c90",
   "metadata": {},
   "outputs": [
    {
     "name": "stderr",
     "output_type": "stream",
     "text": [
      "GPU available: True, used: True\n",
      "TPU available: False, using: 0 TPU cores\n",
      "IPU available: False, using: 0 IPUs\n",
      "HPU available: False, using: 0 HPUs\n",
      "LOCAL_RANK: 0 - CUDA_VISIBLE_DEVICES: [0]\n",
      "\n",
      "  | Name       | Type      | Params\n",
      "-----------------------------------------\n",
      "0 | meta_layer | MetaLayer | 102 K \n",
      "-----------------------------------------\n",
      "102 K     Trainable params\n",
      "0         Non-trainable params\n",
      "102 K     Total params\n",
      "0.408     Total estimated model params size (MB)\n",
      "/mnt/home/ttesileanu/miniconda3/envs/cancerenv/lib/python3.9/site-packages/pytorch_lightning/trainer/connectors/data_connector.py:240: PossibleUserWarning: The dataloader, val_dataloader 0, does not have many workers which may be a bottleneck. Consider increasing the value of the `num_workers` argument` (try 16 which is the number of cpus on this machine) in the `DataLoader` init to improve performance.\n",
      "  rank_zero_warn(\n",
      "/mnt/home/ttesileanu/miniconda3/envs/cancerenv/lib/python3.9/site-packages/pytorch_lightning/trainer/connectors/data_connector.py:240: PossibleUserWarning: The dataloader, train_dataloader, does not have many workers which may be a bottleneck. Consider increasing the value of the `num_workers` argument` (try 16 which is the number of cpus on this machine) in the `DataLoader` init to improve performance.\n",
      "  rank_zero_warn(\n"
     ]
    },
    {
     "data": {
      "application/vnd.jupyter.widget-view+json": {
       "model_id": "2ff99b93ec42456dbc57db8fa17e4ef3",
       "version_major": 2,
       "version_minor": 0
      },
      "text/plain": [
       "Training:   0%|          | 0/200 [00:00<?, ?it/s]"
      ]
     },
     "metadata": {},
     "output_type": "display_data"
    },
    {
     "name": "stdout",
     "output_type": "stream",
     "text": [
      "Training took 316.8 seconds.\n"
     ]
    }
   ],
   "source": [
    "t0 = time.time()\n",
    "\n",
    "model = InteractionNet()\n",
    "logger = InMemoryLogger()\n",
    "\n",
    "# XXX this cannot be fully deterministic on GPU because\n",
    "# XXX scatter_add_cuda_kernel does not have a deterministic implementation!\n",
    "trainer = pl.Trainer(\n",
    "    accelerator=\"auto\",\n",
    "    max_epochs=n_epochs,\n",
    "    callbacks=[ProgressBar()],\n",
    "    logger=logger,\n",
    "    # deterministic=True,\n",
    ")\n",
    "trainer.fit(model, train_loader, valid_loader)\n",
    "print(f\"Training took {time.time() - t0:.1f} seconds.\")"
   ]
  },
  {
   "cell_type": "markdown",
   "id": "319ddabb",
   "metadata": {},
   "source": [
    "Visualize training trajectory."
   ]
  },
  {
   "cell_type": "code",
   "execution_count": 10,
   "id": "b0dbbc3a",
   "metadata": {},
   "outputs": [
    {
     "data": {
      "image/png": "[encoded data removed]",
      "text/plain": [
       "<Figure size 432x576 with 2 Axes>"
      ]
     },
     "metadata": {
      "needs_background": "light"
     },
     "output_type": "display_data"
    }
   ],
   "source": [
    "fig, (ax1, ax2) = plt.subplots(2, 1, figsize=(6, 8), constrained_layout=True)\n",
    "logger.metrics_df.plot(\"epoch\", [\"train_accuracy\", \"val_accuracy\"], ax=ax1)\n",
    "ax1.grid()\n",
    "\n",
    "logger.metrics_df.plot(\"epoch\", [\"train_loss\", \"val_loss\"], ax=ax2)\n",
    "ax2.grid()"
   ]
  },
  {
   "cell_type": "markdown",
   "id": "3cdc3630",
   "metadata": {},
   "source": [
    "Calculate and show ROC and AUC."
   ]
  },
  {
   "cell_type": "code",
   "execution_count": 11,
   "id": "07d7ef48",
   "metadata": {},
   "outputs": [
    {
     "data": {
      "text/plain": [
       "<matplotlib.legend.Legend at 0x7f3802a6dc10>"
      ]
     },
     "execution_count": 11,
     "metadata": {},
     "output_type": "execute_result"
    },
    {
     "data": {
      "image/png": "[encoded data removed]",
      "text/plain": [
       "<Figure size 432x288 with 1 Axes>"
      ]
     },
     "metadata": {
      "needs_background": "light"
     },
     "output_type": "display_data"
    }
   ],
   "source": [
    "fpr_train, tpr_train, train_auc, _, _ = get_roc(model, train_loader)\n",
    "fpr_valid, tpr_valid, valid_auc, _, _ = get_roc(model, valid_loader)\n",
    "\n",
    "fig, ax = plt.subplots()\n",
    "ax.plot(\n",
    "    fpr_train,\n",
    "    tpr_train,\n",
    "    lw=2,\n",
    "    label=\"train (area = %0.3f)\" % train_auc,\n",
    ")\n",
    "ax.plot(\n",
    "    fpr_valid,\n",
    "    tpr_valid,\n",
    "    lw=2,\n",
    "    label=\"validation (area = %0.3f)\" % valid_auc,\n",
    ")\n",
    "ax.plot([0, 1], [0, 1], color=\"black\", lw=1, linestyle=\"--\")\n",
    "ax.set_xlim([0.0, 1.0])\n",
    "ax.set_ylim([0.0, 1.05])\n",
    "ax.set_xlabel(\"False Positive Rate\")\n",
    "ax.set_ylabel(\"True Positive Rate\")\n",
    "ax.set_title(\"Receiver operating characteristic\")\n",
    "ax.legend(loc=\"lower right\", frameon=False)"
   ]
  },
  {
   "cell_type": "markdown",
   "id": "1b75064b",
   "metadata": {},
   "source": [
    "Check performance on test set."
   ]
  },
  {
   "cell_type": "code",
   "execution_count": 12,
   "id": "d1bb47ee",
   "metadata": {},
   "outputs": [
    {
     "name": "stdout",
     "output_type": "stream",
     "text": [
      "accuracy 0.8\n",
      "auc 0.8796924468566261\n",
      "aupr 0.8102690470667014\n",
      "f1 0.6551724137931034\n",
      "precision 0.76\n",
      "recall 0.5757575757575758\n"
     ]
    }
   ],
   "source": [
    "test_loader = DataLoader(\n",
    "    dataset,\n",
    "    batch_size=batch_size,\n",
    "    sampler=SubsetRandomSampler(dataset.test_idx),\n",
    "    drop_last=True,\n",
    ")\n",
    "fpr_test, tpr_test, test_auc, ys, outs = get_roc(model, test_loader)\n",
    "\n",
    "print(\"accuracy\", accuracy_score(ys, outs[:, 1] > 0.5))\n",
    "print(\"auc\", test_auc)\n",
    "print(\"aupr\", average_precision_score(ys, outs[:, 1]))\n",
    "print(\"f1\", f1_score(ys, outs[:, 1] > 0.5))\n",
    "print(\"precision\", precision_score(ys, outs[:, 1] > 0.5))\n",
    "print(\"recall\", recall_score(ys, outs[:, 1] > 0.5))"
   ]
  },
  {
   "cell_type": "code",
   "execution_count": null,
   "id": "ce7f9ada",
   "metadata": {},
   "outputs": [],
   "source": []
  }
 ],
 "metadata": {
  "kernelspec": {
   "display_name": "Python 3.9.7 ('cancerenv')",
   "language": "python",
   "name": "python3"
  },
  "language_info": {
   "codemirror_mode": {
    "name": "ipython",
    "version": 3
   },
   "file_extension": ".py",
   "mimetype": "text/x-python",
   "name": "python",
   "nbconvert_exporter": "python",
   "pygments_lexer": "ipython3",
   "version": "3.9.13"
  },
  "vscode": {
   "interpreter": {
    "hash": "8cf7caf096f5b9436d42d20d5edf527ae84d7f0f47f0de2642e1cfbb9c173595"
   }
  }
 },
 "nbformat": 4,
 "nbformat_minor": 5
}
