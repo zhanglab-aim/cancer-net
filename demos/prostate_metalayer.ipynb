{
 "cells": [
  {
   "cell_type": "code",
   "execution_count": 1,
   "id": "93ebf43d-1b29-41c2-ab12-5e0e17331bb7",
   "metadata": {},
   "outputs": [],
   "source": [
    "import time\n",
    "import sys\n",
    "import seaborn as sns\n",
    "import pandas as pd\n",
    "from tqdm import tqdm\n",
    "import matplotlib.pyplot as plt, numpy as np\n",
    "\n",
    "\n",
    "import torch, torch_geometric.transforms as T, torch.nn.functional as F\n",
    "from torch_geometric.loader import DataLoader\n",
    "from torch.utils.data.sampler import SubsetRandomSampler\n",
    "from torch.nn import Sequential as Seq, Linear as Lin, ReLU, BatchNorm1d\n",
    "from torch_scatter import scatter_mean\n",
    "from torch_geometric.nn import MetaLayer\n",
    "from sklearn.metrics import roc_auc_score, roc_curve, auc, average_precision_score, f1_score, accuracy_score, \\\n",
    "    precision_score, recall_score\n",
    "\n",
    "from cancernet.dataset import PnetDataSet\n",
    "# from cancernet.arch import "
   ]
  },
  {
   "cell_type": "code",
   "execution_count": 2,
   "id": "a12ac362-7232-450f-b813-8248d05c88ee",
   "metadata": {},
   "outputs": [
    {
     "name": "stdout",
     "output_type": "stream",
     "text": [
      "cuda\n"
     ]
    }
   ],
   "source": [
    "if torch.cuda.is_available():\n",
    "    device = torch.device(\"cuda\" if torch.cuda.is_available() else \"cpu\")\n",
    "else:\n",
    "    device = \"cpu\"\n",
    "\n",
    "print(device)"
   ]
  },
  {
   "cell_type": "code",
   "execution_count": 3,
   "id": "a23cc769-8aa8-4f8a-a219-75ef12ee1f74",
   "metadata": {},
   "outputs": [],
   "source": [
    "## Pytorch dataset for prostate data\n",
    "dataset = PnetDataSet(\n",
    "    root=\"./data/prostate\",\n",
    "    name=\"prostate_graph_humanbase\",\n",
    "    #files={'graph_file': \"global.geneSymbol.gz\"},\n",
    "    edge_tol=0.5,\n",
    "    pre_transform=T.Compose([T.GCNNorm(add_self_loops=False), T.ToSparseTensor(remove_edge_index=False)]))\n",
    "\n",
    "\n",
    "## loads the train/valid/test split from pnet\n",
    "dataset.split_index_by_file(\n",
    "    train_fp=\"./data/prostate/splits/training_set_0.csv\",\n",
    "    valid_fp=\"./data/prostate/splits/validation_set.csv\",\n",
    "    test_fp=\"./data/prostate/splits/test_set.csv\"\n",
    ")\n",
    "\n"
   ]
  },
  {
   "cell_type": "code",
   "execution_count": 4,
   "id": "de65a649-f3dd-46c6-9574-2a78121a2d1e",
   "metadata": {},
   "outputs": [],
   "source": [
    "inputs = 3\n",
    "hidden = 128\n",
    "outputs = 2\n",
    "\n",
    "class EdgeModel(torch.nn.Module):\n",
    "    def __init__(self):\n",
    "        super(EdgeModel, self).__init__()\n",
    "        self.edge_mlp = Seq(Lin(inputs*2, hidden), \n",
    "                            BatchNorm1d(hidden),\n",
    "                            ReLU(),\n",
    "                            Lin(hidden, hidden))\n",
    "\n",
    "    def forward(self, src, dest, edge_attr, u, batch):\n",
    "        out = torch.cat([src, dest], 1)\n",
    "        return self.edge_mlp(out)\n",
    "\n",
    "\n",
    "class NodeModel(torch.nn.Module):\n",
    "    def __init__(self):\n",
    "        super(NodeModel, self).__init__()\n",
    "        self.node_mlp_1 = Seq(Lin(inputs+hidden, hidden), \n",
    "                              BatchNorm1d(hidden),\n",
    "                              ReLU(), \n",
    "                              Lin(hidden, hidden))\n",
    "        self.node_mlp_2 = Seq(Lin(inputs+hidden, hidden), \n",
    "                              BatchNorm1d(hidden),\n",
    "                              ReLU(), \n",
    "                              Lin(hidden, hidden))\n",
    "\n",
    "    def forward(self, x, edge_index, edge_attr, u, batch):\n",
    "        row, col = edge_index\n",
    "        out = torch.cat([x[row], edge_attr], dim=1)\n",
    "        out = self.node_mlp_1(out)\n",
    "        out = scatter_mean(out, col, dim=0, dim_size=x.size(0))\n",
    "        out = torch.cat([x, out], dim=1)\n",
    "        return self.node_mlp_2(out)\n",
    "    \n",
    "class GlobalModel(torch.nn.Module):\n",
    "    def __init__(self):\n",
    "        super(GlobalModel, self).__init__()\n",
    "        self.global_mlp = Seq(Lin(hidden, hidden),                               \n",
    "                              BatchNorm1d(hidden),\n",
    "                              ReLU(), \n",
    "                              Lin(hidden, outputs))\n",
    "\n",
    "    def forward(self, x, edge_index, edge_attr, u, batch):\n",
    "        out = scatter_mean(x, batch, dim=0)\n",
    "        return self.global_mlp(out)\n",
    "\n",
    "\n",
    "class InteractionNetwork(torch.nn.Module):\n",
    "    def __init__(self):\n",
    "        super(InteractionNetwork, self).__init__()\n",
    "        self.interactionnetwork  = MetaLayer(EdgeModel(), NodeModel(), GlobalModel())\n",
    "        \n",
    "    def forward(self, x, edge_index, edge_attr, batch):\n",
    "        \n",
    "        x, edge_attr, u = self.interactionnetwork(x, edge_index, edge_attr, None, batch)\n",
    "        return F.log_softmax(u, dim=-1)"
   ]
  },
  {
   "cell_type": "code",
   "execution_count": 5,
   "id": "45b0bec1-61da-4006-b1eb-f10d11fa488c",
   "metadata": {},
   "outputs": [
    {
     "data": {
      "text/plain": [
       "Data(x=[9054, 3], edge_index=[2, 15080], edge_attr=[15080], y=[1], subject_id='TCGA-EJ-7782', edge_weight=[15080], adj_t=[9054, 9054, nnz=15080])"
      ]
     },
     "execution_count": 5,
     "metadata": {},
     "output_type": "execute_result"
    }
   ],
   "source": [
    "batch = 10\n",
    "\n",
    "# prep data\n",
    "train_loader = DataLoader(\n",
    "    dataset,\n",
    "    batch_size=batch,\n",
    "    sampler=SubsetRandomSampler(dataset.train_idx),\n",
    "    drop_last=True,\n",
    ")\n",
    "valid_loader = DataLoader(\n",
    "    dataset,\n",
    "    batch_size=batch,\n",
    "    sampler=SubsetRandomSampler(dataset.valid_idx),\n",
    "    drop_last=True,\n",
    ")\n",
    "\n",
    "data=next(iter(train_loader))\n",
    "data[0]"
   ]
  },
  {
   "cell_type": "code",
   "execution_count": 6,
   "id": "6c262069-c52d-4475-8a31-d7b8bbdf79e0",
   "metadata": {},
   "outputs": [
    {
     "data": {
      "text/plain": [
       "Text(0, 0.5, 'Frequency')"
      ]
     },
     "execution_count": 6,
     "metadata": {},
     "output_type": "execute_result"
    },
    {
     "data": {
      "image/png": "[encoded data removed]",
      "text/plain": [
       "<Figure size 432x288 with 1 Axes>"
      ]
     },
     "metadata": {
      "needs_background": "light"
     },
     "output_type": "display_data"
    }
   ],
   "source": [
    "data=next(iter(train_loader))\n",
    "edge_indices=data[0].edge_index.cpu().numpy()\n",
    "edge_counter=1\n",
    "connections=[]\n",
    "gene=edge_indices[1][0]\n",
    "for aa in range(len(data[0].edge_index[0])):\n",
    "    if gene==edge_indices[1][aa]:\n",
    "        edge_counter+=1\n",
    "    else:\n",
    "        gene=edge_indices[1][aa]\n",
    "        connections.append(edge_counter)\n",
    "        edge_counter=1\n",
    "    #print(edge_indices[1][aa])\n",
    "    \n",
    "plt.hist(connections,bins=100);\n",
    "plt.xlabel(\"Number of connections of each node/gene\");\n",
    "plt.ylabel(\"Frequency\")"
   ]
  },
  {
   "cell_type": "code",
   "execution_count": 7,
   "id": "caad1d8f-6478-4b4f-8f3e-432933dcf7db",
   "metadata": {},
   "outputs": [],
   "source": [
    "parall = False\n",
    "lr = 0.001\n",
    "\n",
    "model=InteractionNetwork().to(device)\n",
    "optimizer = torch.optim.Adam(model.parameters(), lr=lr)\n",
    "scheduler = torch.optim.lr_scheduler.ReduceLROnPlateau(optimizer, 'min', factor=0.5, patience=20)\n",
    "criterion = F.nll_loss"
   ]
  },
  {
   "cell_type": "code",
   "execution_count": 8,
   "id": "54a2a0d7-cd23-4bf0-9427-4c304017f9cb",
   "metadata": {},
   "outputs": [],
   "source": [
    "t0 = time.time()\n",
    "def train(epoch, report=True, progbar=False):\n",
    "    model.train()\n",
    "    global t0\n",
    "    total_loss = 0\n",
    "    correct = 0\n",
    "    num_samps = 0\n",
    "    gen = tqdm.tqdm(train_loader) if progbar is True else train_loader\n",
    "    for data in gen:\n",
    "        if not parall:\n",
    "            data = data.to(device)\n",
    "        optimizer.zero_grad()\n",
    "\n",
    "        output = model(data.x,data.edge_index,data.edge_attr,data.batch)\n",
    "        output = output.squeeze()\n",
    "\n",
    "        if parall:\n",
    "            y = torch.cat([d.y for d in data]).to(output.device)\n",
    "        else:\n",
    "            y = data.y\n",
    "\n",
    "        if len(output.shape) == 1:\n",
    "            output = output.unsqueeze(0)\n",
    "        loss = criterion(output, y)\n",
    "\n",
    "        pred = output.max(1)[1]\n",
    "        correct += pred.eq(y).sum().item()\n",
    "        total_loss += loss * batch\n",
    "        loss.backward()\n",
    "        optimizer.step()\n",
    "        num_samps += len(y)\n",
    "    if report:\n",
    "        print(\n",
    "            \"Epoch: {:02d}, Loss: {:.3g}, Train Acc: {:.4f}, Time lapsed: {:.1f} s\".format(\n",
    "                epoch, total_loss / num_samps, correct / num_samps,\n",
    "                time.time() - t0\n",
    "            )\n",
    "        )\n",
    "        t0 = time.time()\n",
    "\n",
    "    return total_loss / num_samps, correct / num_samps\n",
    "\n",
    "def valid():\n",
    "    model.eval()\n",
    "    correct = 0\n",
    "\n",
    "    total_loss = 0\n",
    "    num_samps = 0\n",
    "    for data in valid_loader:\n",
    "        if not parall:\n",
    "            data = data.to(device)\n",
    "        output = model(data.x,data.edge_index,data.edge_attr,data.batch)\n",
    "        output = output.squeeze()\n",
    "\n",
    "        pred = output.max(1)[1]\n",
    "        if parall:\n",
    "            y = torch.cat([d.y for d in data]).to(output.device)\n",
    "        else:\n",
    "            y = data.y\n",
    "        loss = criterion(output, y)\n",
    "        total_loss += loss.item() * batch\n",
    "\n",
    "        correct += pred.eq(y).sum().item()\n",
    "        num_samps += len(y)\n",
    "    return total_loss / num_samps, correct / num_samps"
   ]
  },
  {
   "cell_type": "code",
   "execution_count": 9,
   "id": "344397b9-5a05-40ca-914d-2cb78105da52",
   "metadata": {},
   "outputs": [
    {
     "name": "stdout",
     "output_type": "stream",
     "text": [
      "Epoch: 10, Loss: 0.517, Train Acc: 0.7475, Time lapsed: 211.4 s\n",
      "valid Loss: 0.535, Acc: 0.7400\n",
      "Epoch: 20, Loss: 0.491, Train Acc: 0.7875, Time lapsed: 211.9 s\n",
      "valid Loss: 0.52, Acc: 0.7600\n",
      "Epoch: 30, Loss: 0.468, Train Acc: 0.7925, Time lapsed: 212.8 s\n",
      "valid Loss: 0.534, Acc: 0.7400\n",
      "Epoch: 40, Loss: 0.447, Train Acc: 0.8037, Time lapsed: 212.5 s\n",
      "valid Loss: 0.485, Acc: 0.7500\n",
      "Epoch: 50, Loss: 0.46, Train Acc: 0.7987, Time lapsed: 212.8 s\n",
      "valid Loss: 0.499, Acc: 0.7800\n",
      "Epoch: 60, Loss: 0.452, Train Acc: 0.8075, Time lapsed: 212.3 s\n",
      "valid Loss: 0.477, Acc: 0.7800\n",
      "Epoch: 70, Loss: 0.476, Train Acc: 0.7825, Time lapsed: 212.1 s\n",
      "valid Loss: 0.45, Acc: 0.7900\n",
      "Epoch: 80, Loss: 0.44, Train Acc: 0.8100, Time lapsed: 212.4 s\n",
      "valid Loss: 0.487, Acc: 0.8000\n",
      "Epoch: 90, Loss: 0.444, Train Acc: 0.8225, Time lapsed: 212.5 s\n",
      "valid Loss: 0.447, Acc: 0.7700\n",
      "Epoch: 100, Loss: 0.425, Train Acc: 0.8225, Time lapsed: 212.4 s\n",
      "valid Loss: 0.436, Acc: 0.8000\n",
      "Epoch: 110, Loss: 0.451, Train Acc: 0.8025, Time lapsed: 150.6 s\n",
      "valid Loss: 0.435, Acc: 0.8000\n",
      "Epoch: 120, Loss: 0.416, Train Acc: 0.8263, Time lapsed: 117.4 s\n",
      "valid Loss: 0.452, Acc: 0.8000\n",
      "Epoch: 130, Loss: 0.436, Train Acc: 0.8087, Time lapsed: 117.2 s\n",
      "valid Loss: 0.475, Acc: 0.7800\n",
      "Epoch: 140, Loss: 0.423, Train Acc: 0.8075, Time lapsed: 117.2 s\n",
      "valid Loss: 0.433, Acc: 0.7900\n",
      "Epoch: 150, Loss: 0.426, Train Acc: 0.8263, Time lapsed: 117.3 s\n",
      "valid Loss: 0.456, Acc: 0.7800\n",
      "Epoch: 160, Loss: 0.408, Train Acc: 0.8263, Time lapsed: 117.2 s\n",
      "valid Loss: 0.435, Acc: 0.8100\n",
      "Epoch: 170, Loss: 0.431, Train Acc: 0.8137, Time lapsed: 117.2 s\n",
      "valid Loss: 0.453, Acc: 0.7900\n",
      "Epoch: 180, Loss: 0.414, Train Acc: 0.8263, Time lapsed: 117.2 s\n",
      "valid Loss: 0.485, Acc: 0.7900\n",
      "Epoch: 190, Loss: 0.406, Train Acc: 0.8425, Time lapsed: 117.2 s\n",
      "valid Loss: 0.432, Acc: 0.7800\n"
     ]
    }
   ],
   "source": [
    "# run training\n",
    "train_losses = []\n",
    "train_acces = []\n",
    "valid_acces = []\n",
    "valid_losses = []\n",
    "for epoch in range(1, 200):\n",
    "    report = (epoch) % 10 == 0\n",
    "    train_loss, train_acc = train(epoch, report=report)\n",
    "    valid_loss, valid_acc = valid()\n",
    "    scheduler.step(valid_loss)\n",
    "    train_losses.append(train_loss.cpu().detach().numpy())\n",
    "    valid_losses.append(valid_loss)\n",
    "    train_acces.append(train_acc)\n",
    "    valid_acces.append(valid_acc)\n",
    "    if report:\n",
    "        print(\"valid Loss: {:.3g}, Acc: {:.4f}\".format(valid_loss, valid_acc))"
   ]
  },
  {
   "cell_type": "code",
   "execution_count": 10,
   "id": "9bc951e1-48fb-4daa-a1b3-eb173d20391e",
   "metadata": {},
   "outputs": [
    {
     "data": {
      "text/plain": [
       "Text(0, 0.5, 'Valid accuracy')"
      ]
     },
     "execution_count": 10,
     "metadata": {},
     "output_type": "execute_result"
    },
    {
     "data": {
      "image/png": "[encoded data removed]",
      "text/plain": [
       "<Figure size 432x288 with 1 Axes>"
      ]
     },
     "metadata": {
      "needs_background": "light"
     },
     "output_type": "display_data"
    }
   ],
   "source": [
    "plt.plot(valid_acces)\n",
    "plt.xlabel(\"epoch\")\n",
    "plt.ylabel(\"Valid accuracy\")"
   ]
  },
  {
   "cell_type": "code",
   "execution_count": 11,
   "id": "b89751c5-8dd2-45ea-8200-af3ad127b7a4",
   "metadata": {},
   "outputs": [
    {
     "data": {
      "text/plain": [
       "Text(0.5, 0, 'epoch')"
      ]
     },
     "execution_count": 11,
     "metadata": {},
     "output_type": "execute_result"
    },
    {
     "data": {
      "image/png": "[encoded data removed]",
      "text/plain": [
       "<Figure size 432x288 with 1 Axes>"
      ]
     },
     "metadata": {
      "needs_background": "light"
     },
     "output_type": "display_data"
    }
   ],
   "source": [
    "plt.plot(train_losses,label=\"train loss\")\n",
    "plt.plot(valid_losses,label=\"valid loss\")\n",
    "plt.legend()\n",
    "plt.xlabel(\"epoch\")\n",
    "#plt.yscale(\"log\")"
   ]
  },
  {
   "cell_type": "code",
   "execution_count": 12,
   "id": "ab88574c-7b14-46b0-b74f-a4aba0845938",
   "metadata": {},
   "outputs": [
    {
     "data": {
      "image/png": "[encoded data removed]",
      "text/plain": [
       "<Figure size 432x288 with 1 Axes>"
      ]
     },
     "metadata": {
      "needs_background": "light"
     },
     "output_type": "display_data"
    }
   ],
   "source": [
    "# vis training + validation metrics\n",
    "loader_auc = DataLoader(\n",
    "    dataset,\n",
    "    batch_size=batch,\n",
    "    sampler=SubsetRandomSampler(dataset.train_idx),\n",
    "    drop_last=False,\n",
    ")\n",
    "\n",
    "outs = []\n",
    "ys = []\n",
    "for tb in loader_auc:\n",
    "    tbc = tb.cuda()\n",
    "    outs.append(torch.exp(model(tb.x,tb.edge_index,tb.edge_attr,tb.batch)).cpu().data.numpy())\n",
    "    ys.append(tb.y.cpu().numpy())\n",
    "\n",
    "outs = np.concatenate(outs)\n",
    "ys = np.concatenate(ys)\n",
    "\n",
    "fpr_train, tpr_train, _ = roc_curve(ys, outs[:, 1])\n",
    "train_auc = auc(fpr_train, tpr_train)\n",
    "\n",
    "loader_auc = DataLoader(\n",
    "    dataset,\n",
    "    batch_size=batch,\n",
    "    sampler=SubsetRandomSampler(dataset.valid_idx),\n",
    "    drop_last=False,\n",
    ")\n",
    "\n",
    "outs = []\n",
    "ys = []\n",
    "for tb in loader_auc:\n",
    "    tbc = tb.cuda()\n",
    "    outs.append(torch.exp(model(tb.x,tb.edge_index,tb.edge_attr,tb.batch)).cpu().data.numpy())\n",
    "    ys.append(tb.y.cpu().numpy())\n",
    "\n",
    "outs = np.concatenate(outs)\n",
    "ys = np.concatenate(ys)\n",
    "\n",
    "fpr_valid, tpr_valid, _ = roc_curve(ys, outs[:, 1])\n",
    "valid_auc = auc(fpr_valid, tpr_valid)\n",
    "\n",
    "plt.plot(\n",
    "    fpr_train, tpr_train, lw=2, label=\"ROC curve (area = %0.3f)\" % train_auc,\n",
    ")\n",
    "plt.plot(\n",
    "    fpr_valid, tpr_valid, lw=2, label=\"ROC curve (area = %0.3f)\" % valid_auc,\n",
    ")\n",
    "plt.plot([0, 1], [0, 1], color=\"black\", lw=1, linestyle=\"--\")\n",
    "plt.xlim([0.0, 1.0])\n",
    "plt.ylim([0.0, 1.05])\n",
    "plt.xlabel(\"False Positive Rate\")\n",
    "plt.ylabel(\"True Positive Rate\")\n",
    "plt.title(\"Receiver operating characteristic\")\n",
    "plt.legend(loc=\"lower right\")\n",
    "plt.show()"
   ]
  },
  {
   "cell_type": "code",
   "execution_count": 13,
   "id": "557bf1eb-f3a1-439e-80b6-db9039b90977",
   "metadata": {},
   "outputs": [
    {
     "name": "stdout",
     "output_type": "stream",
     "text": [
      "accuracy 0.8431372549019608\n",
      "auc 0.9225778546712802\n",
      "aupr 0.8423573694805617\n",
      "f1 0.7037037037037037\n",
      "precision 0.95\n",
      "recall 0.5588235294117647\n"
     ]
    }
   ],
   "source": [
    "# testing performance\n",
    "\n",
    "loader_auc = DataLoader(\n",
    "    dataset,\n",
    "    batch_size=batch,\n",
    "    sampler=SubsetRandomSampler(dataset.test_idx),\n",
    "    drop_last=False,\n",
    ")\n",
    "\n",
    "outs = []\n",
    "ys = []\n",
    "for tb in loader_auc:\n",
    "    tbc = tb.cuda()\n",
    "    outs.append(torch.exp(model(tb.x,tb.edge_index,tb.edge_attr,tb.batch)).cpu().data.numpy())\n",
    "    ys.append(tb.y.cpu().numpy())\n",
    "\n",
    "outs = np.concatenate(outs)\n",
    "ys = np.concatenate(ys)\n",
    "\n",
    "fpr_valid, tpr_valid, _ = roc_curve(ys, outs[:, 1])\n",
    "test_auc = auc(fpr_valid, tpr_valid)\n",
    "\n",
    "print('accuracy', accuracy_score(ys, outs[:, 1]>0.5))\n",
    "print('auc', test_auc)\n",
    "print('aupr', average_precision_score(ys, outs[:, 1]))\n",
    "print('f1', f1_score(ys, outs[:, 1]>0.5))\n",
    "print('precision', precision_score(ys, outs[:, 1]>0.5))\n",
    "print('recall', recall_score(ys, outs[:, 1]>0.5))"
   ]
  },
  {
   "cell_type": "code",
   "execution_count": null,
   "id": "4f3dc465-885e-4485-b652-a97c3a75c270",
   "metadata": {},
   "outputs": [],
   "source": []
  }
 ],
 "metadata": {
  "kernelspec": {
   "display_name": "Python 3.9.7 ('cancerenv')",
   "language": "python",
   "name": "python3"
  },
  "language_info": {
   "codemirror_mode": {
    "name": "ipython",
    "version": 3
   },
   "file_extension": ".py",
   "mimetype": "text/x-python",
   "name": "python",
   "nbconvert_exporter": "python",
   "pygments_lexer": "ipython3",
   "version": "3.9.7"
  },
  "vscode": {
   "interpreter": {
    "hash": "8cf7caf096f5b9436d42d20d5edf527ae84d7f0f47f0de2642e1cfbb9c173595"
   }
  }
 },
 "nbformat": 4,
 "nbformat_minor": 5
}
