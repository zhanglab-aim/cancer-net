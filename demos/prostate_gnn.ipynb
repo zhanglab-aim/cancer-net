{
 "cells": [
  {
   "cell_type": "markdown",
   "id": "9fe7257f",
   "metadata": {},
   "source": [
    "Compare to P-Net:\n",
    "\n",
    "\n",
    "|                         | accuracy | auc      | aupr     | f1       | precision | recall   |\n",
    "|-------------------------|----------|----------|----------|----------|-----------|----------|\n",
    "| P-net_ALL               | 0.838235 | 0.926789 | 0.878182 | 0.755556 | 0.750000  | 0.761194 |\n",
    "| Logistic Regression_ALL | 0.833333 | 0.881904 | 0.808983 | 0.725806 | 0.789474  | 0.671642 |"
   ]
  },
  {
   "cell_type": "code",
   "execution_count": 1,
   "id": "17f5da7d",
   "metadata": {},
   "outputs": [],
   "source": [
    "import time\n",
    "import tqdm\n",
    "\n",
    "import numpy as np\n",
    "import torch, torch_geometric.transforms as T, torch.nn.functional as F\n",
    "from torch.utils.data.sampler import SubsetRandomSampler\n",
    "\n",
    "from torch_geometric.loader import DataLoader\n",
    "\n",
    "import pytorch_lightning as pl\n",
    "\n",
    "import matplotlib.pyplot as plt\n",
    "\n",
    "from sklearn.metrics import roc_auc_score, roc_curve, auc, average_precision_score, \\\n",
    "    f1_score, accuracy_score, precision_score, recall_score\n",
    "\n",
    "from cancernet.arch import GATNet\n",
    "from cancernet.util import ProgressBar\n",
    "from cancernet import PnetDataSet"
   ]
  },
  {
   "cell_type": "markdown",
   "id": "b512cbc5",
   "metadata": {},
   "source": [
    "## Load dataset"
   ]
  },
  {
   "cell_type": "code",
   "execution_count": 2,
   "id": "8e7bdf96",
   "metadata": {},
   "outputs": [],
   "source": [
    "dataset = PnetDataSet(\n",
    "    root=\"./data/prostate\",\n",
    "    name=\"prostate_graph_humanbase\",\n",
    "    #files={'graph_file': \"global.geneSymbol.gz\"},\n",
    "    edge_tol=0.5,\n",
    "    pre_transform=T.Compose([T.GCNNorm(add_self_loops=False), T.ToSparseTensor(remove_edge_index=False)]))"
   ]
  },
  {
   "cell_type": "markdown",
   "id": "50f3a842",
   "metadata": {},
   "source": [
    "Ensure consistent and reproducible train/validation/test split."
   ]
  },
  {
   "cell_type": "code",
   "execution_count": 3,
   "id": "0105a346",
   "metadata": {},
   "outputs": [],
   "source": [
    "dataset.split_index_by_file(\n",
    "    train_fp=\"./data/prostate/splits/training_set_0.csv\",\n",
    "    valid_fp=\"./data/prostate/splits/validation_set.csv\",\n",
    "    test_fp=\"./data/prostate/splits/test_set.csv\"\n",
    ")"
   ]
  },
  {
   "cell_type": "code",
   "execution_count": 4,
   "id": "a58cd56f",
   "metadata": {},
   "outputs": [
    {
     "data": {
      "text/plain": [
       "PnetDataset(len=1011, graph=prostate_graph_humanbase, num_edges=15080, edge_tol=0.50)"
      ]
     },
     "execution_count": 4,
     "metadata": {},
     "output_type": "execute_result"
    }
   ],
   "source": [
    "dataset"
   ]
  },
  {
   "cell_type": "markdown",
   "id": "9b702fae",
   "metadata": {},
   "source": [
    "Check whether test indices are fixed. \n",
    "\n",
    "Should be `[764, 865, 136, 968, 847, 155, 961, 998, 23, 112]`"
   ]
  },
  {
   "cell_type": "code",
   "execution_count": 5,
   "id": "8b5aee7d",
   "metadata": {},
   "outputs": [
    {
     "data": {
      "text/plain": [
       "[764, 865, 136, 968, 847, 155, 961, 998, 23, 112]"
      ]
     },
     "execution_count": 5,
     "metadata": {},
     "output_type": "execute_result"
    }
   ],
   "source": [
    "dataset.test_idx[0:10]"
   ]
  },
  {
   "cell_type": "markdown",
   "id": "9ec4ac92",
   "metadata": {},
   "source": [
    "## Train"
   ]
  },
  {
   "cell_type": "markdown",
   "id": "fbf8a02c",
   "metadata": {},
   "source": [
    "Set up hyperparameters, choose device, ..."
   ]
  },
  {
   "cell_type": "code",
   "execution_count": 6,
   "id": "fac5ff47",
   "metadata": {},
   "outputs": [
    {
     "data": {
      "text/plain": [
       "<torch._C.Generator at 0x7fbf3c3a6c90>"
      ]
     },
     "execution_count": 6,
     "metadata": {},
     "output_type": "execute_result"
    }
   ],
   "source": [
    "batch_size = 10\n",
    "lr = 0.01\n",
    "\n",
    "# keep everything reproducible!\n",
    "torch.manual_seed(0)"
   ]
  },
  {
   "cell_type": "markdown",
   "id": "0b70a5d6",
   "metadata": {},
   "source": [
    "Prepare data."
   ]
  },
  {
   "cell_type": "code",
   "execution_count": 7,
   "id": "80713481",
   "metadata": {},
   "outputs": [],
   "source": [
    "train_loader = DataLoader(\n",
    "    dataset,\n",
    "    batch_size=batch_size,\n",
    "    sampler=SubsetRandomSampler(dataset.train_idx),\n",
    "    drop_last=True,\n",
    ")\n",
    "valid_loader = DataLoader(\n",
    "    dataset,\n",
    "    batch_size=batch_size,\n",
    "    sampler=SubsetRandomSampler(dataset.valid_idx),\n",
    "    drop_last=True,\n",
    ")"
   ]
  },
  {
   "cell_type": "markdown",
   "id": "bf6dd0bf",
   "metadata": {},
   "source": [
    "Create model."
   ]
  },
  {
   "cell_type": "code",
   "execution_count": 8,
   "id": "41140c3f",
   "metadata": {},
   "outputs": [],
   "source": [
    "model = GATNet(dims=[3, 64, 256, 128], lr=lr)"
   ]
  },
  {
   "cell_type": "markdown",
   "id": "2d96a181",
   "metadata": {},
   "source": [
    "Train."
   ]
  },
  {
   "cell_type": "code",
   "execution_count": 9,
   "id": "a97642ca",
   "metadata": {},
   "outputs": [
    {
     "name": "stderr",
     "output_type": "stream",
     "text": [
      "GPU available: True, used: True\n",
      "TPU available: False, using: 0 TPU cores\n",
      "IPU available: False, using: 0 IPUs\n",
      "HPU available: False, using: 0 HPUs\n",
      "LOCAL_RANK: 0 - CUDA_VISIBLE_DEVICES: [0]\n",
      "\n",
      "  | Name    | Type            | Params\n",
      "--------------------------------------------\n",
      "0 | prop1   | GCNConv         | 256   \n",
      "1 | prop2   | GCNConv         | 16.6 K\n",
      "2 | fc1     | Linear          | 32.9 K\n",
      "3 | fc2     | Linear          | 258   \n",
      "4 | m       | LogSoftmax      | 0     \n",
      "5 | gate_nn | Sequential      | 8.3 K \n",
      "6 | pool    | GlobalAttention | 8.3 K \n",
      "--------------------------------------------\n",
      "58.3 K    Trainable params\n",
      "0         Non-trainable params\n",
      "58.3 K    Total params\n",
      "0.233     Total estimated model params size (MB)\n",
      "/mnt/home/ttesileanu/miniconda3/envs/cancerenv/lib/python3.9/site-packages/pytorch_lightning/trainer/connectors/data_connector.py:240: PossibleUserWarning: The dataloader, val_dataloader 0, does not have many workers which may be a bottleneck. Consider increasing the value of the `num_workers` argument` (try 16 which is the number of cpus on this machine) in the `DataLoader` init to improve performance.\n",
      "  rank_zero_warn(\n",
      "/mnt/home/ttesileanu/miniconda3/envs/cancerenv/lib/python3.9/site-packages/pytorch_lightning/trainer/connectors/data_connector.py:240: PossibleUserWarning: The dataloader, train_dataloader, does not have many workers which may be a bottleneck. Consider increasing the value of the `num_workers` argument` (try 16 which is the number of cpus on this machine) in the `DataLoader` init to improve performance.\n",
      "  rank_zero_warn(\n"
     ]
    },
    {
     "data": {
      "application/vnd.jupyter.widget-view+json": {
       "model_id": "e249f8586c274a67906ec9de2ed42288",
       "version_major": 2,
       "version_minor": 0
      },
      "text/plain": [
       "Training:   0%|          | 0/100 [00:00<?, ?it/s]"
      ]
     },
     "metadata": {},
     "output_type": "display_data"
    },
    {
     "name": "stderr",
     "output_type": "stream",
     "text": [
      "2022-07-20 16:52:12.848259: I tensorflow/core/util/util.cc:169] oneDNN custom operations are on. You may see slightly different numerical results due to floating-point round-off errors from different computation orders. To turn them off, set the environment variable `TF_ENABLE_ONEDNN_OPTS=0`.\n"
     ]
    },
    {
     "name": "stdout",
     "output_type": "stream",
     "text": [
      "Training took 155.3 seconds.\n"
     ]
    }
   ],
   "source": [
    "t0 = time.time()\n",
    "trainer = pl.Trainer(accelerator=\"auto\", max_epochs=100, callbacks=[ProgressBar()])\n",
    "trainer.fit(model, train_loader, valid_loader)\n",
    "print(f\"Training took {time.time() - t0:.1f} seconds.\")"
   ]
  },
  {
   "cell_type": "markdown",
   "id": "448080c8",
   "metadata": {},
   "source": [
    "Visualize training trajectory."
   ]
  },
  {
   "cell_type": "code",
   "execution_count": 10,
   "id": "656d9791",
   "metadata": {},
   "outputs": [],
   "source": [
    "# fig, (ax1, ax2) = plt.subplots(2, 1)\n",
    "# ax1.plot(train_acces, label=\"train acc\", linewidth=3)\n",
    "# ax1.plot(valid_acces, label=\"valid acc\", linewidth=3)\n",
    "# ax1.legend()\n",
    "# ax1.set_xlabel(\"epoch\")\n",
    "# ax1.grid()\n",
    "\n",
    "# ax2.plot(train_losses, c=\"tab:blue\", label=\"train loss\", linewidth=3)\n",
    "# ax2.plot(valid_losses, c=\"tab:orange\", label=\"valid loss\", linewidth=3)\n",
    "# ax2.legend()\n",
    "# ax2.set_xlabel(\"epoch\")\n",
    "# ax2.grid()"
   ]
  },
  {
   "cell_type": "markdown",
   "id": "79c02a5c",
   "metadata": {},
   "source": [
    "Define helper function for calculating ROC curve and AUC."
   ]
  },
  {
   "cell_type": "code",
   "execution_count": 11,
   "id": "bbabc579",
   "metadata": {},
   "outputs": [],
   "source": [
    "def get_roc(model, loader, seed=1):\n",
    "    # keep everything reproducible!\n",
    "    torch.manual_seed(seed)\n",
    "\n",
    "    outs = []\n",
    "    ys = []\n",
    "    device = next(iter(model.parameters())).device\n",
    "    for tb in loader:\n",
    "        tb = tb.to(device)\n",
    "        outs.append(torch.exp(model(tb)).detach().cpu().clone().numpy())\n",
    "        ys.append(tb.y.detach().cpu().clone().numpy())\n",
    "\n",
    "    outs = np.concatenate(outs)\n",
    "    ys = np.concatenate(ys)\n",
    "\n",
    "    fpr, tpr, _ = roc_curve(ys, outs[:, 1])\n",
    "    auc_value = auc(fpr, tpr)\n",
    "\n",
    "    return fpr, tpr, auc_value, ys, outs"
   ]
  },
  {
   "cell_type": "markdown",
   "id": "3cdc3630",
   "metadata": {},
   "source": [
    "Calculate and show ROC and AUC."
   ]
  },
  {
   "cell_type": "code",
   "execution_count": 12,
   "id": "07d7ef48",
   "metadata": {},
   "outputs": [
    {
     "data": {
      "text/plain": [
       "<matplotlib.legend.Legend at 0x7fbd71277850>"
      ]
     },
     "execution_count": 12,
     "metadata": {},
     "output_type": "execute_result"
    },
    {
     "data": {
      "image/png": "[encoded data removed]",
      "text/plain": [
       "<Figure size 432x288 with 1 Axes>"
      ]
     },
     "metadata": {
      "needs_background": "light"
     },
     "output_type": "display_data"
    }
   ],
   "source": [
    "fpr_train, tpr_train, train_auc, _, _ = get_roc(model, train_loader)\n",
    "fpr_valid, tpr_valid, valid_auc, _, _ = get_roc(model, valid_loader)\n",
    "\n",
    "fig, ax = plt.subplots()\n",
    "ax.plot(\n",
    "    fpr_train, tpr_train, lw=2, label=\"ROC curve (area = %0.3f)\" % train_auc,\n",
    ")\n",
    "ax.plot(\n",
    "    fpr_valid, tpr_valid, lw=2, label=\"ROC curve (area = %0.3f)\" % valid_auc,\n",
    ")\n",
    "ax.plot([0, 1], [0, 1], color=\"black\", lw=1, linestyle=\"--\")\n",
    "ax.set_xlim([0.0, 1.0])\n",
    "ax.set_ylim([0.0, 1.05])\n",
    "ax.set_xlabel(\"False Positive Rate\")\n",
    "ax.set_ylabel(\"True Positive Rate\")\n",
    "ax.set_title(\"Receiver operating characteristic\")\n",
    "ax.legend(loc=\"lower right\", frameon=False)"
   ]
  },
  {
   "cell_type": "markdown",
   "id": "1b75064b",
   "metadata": {},
   "source": [
    "Check performance on test set."
   ]
  },
  {
   "cell_type": "code",
   "execution_count": 13,
   "id": "d1bb47ee",
   "metadata": {},
   "outputs": [
    {
     "name": "stdout",
     "output_type": "stream",
     "text": [
      "accuracy 0.87\n",
      "auc 0.9176843057440072\n",
      "aupr 0.8644195495438611\n",
      "f1 0.7796610169491526\n",
      "precision 0.8846153846153846\n",
      "recall 0.696969696969697\n"
     ]
    }
   ],
   "source": [
    "test_loader = DataLoader(\n",
    "    dataset,\n",
    "    batch_size=batch_size,\n",
    "    sampler=SubsetRandomSampler(dataset.test_idx),\n",
    "    drop_last=True,\n",
    ")\n",
    "fpr_test, tpr_test, test_auc, ys, outs = get_roc(model, test_loader)\n",
    "\n",
    "print('accuracy', accuracy_score(ys, outs[:, 1]>0.5))\n",
    "print('auc', test_auc)\n",
    "print('aupr', average_precision_score(ys, outs[:, 1]))\n",
    "print('f1', f1_score(ys, outs[:, 1]>0.5))\n",
    "print('precision', precision_score(ys, outs[:, 1]>0.5))\n",
    "print('recall', recall_score(ys, outs[:, 1]>0.5))"
   ]
  },
  {
   "cell_type": "code",
   "execution_count": null,
   "id": "4bae15a8",
   "metadata": {},
   "outputs": [],
   "source": []
  }
 ],
 "metadata": {
  "kernelspec": {
   "display_name": "Python 3.9.7 ('cancerenv')",
   "language": "python",
   "name": "python3"
  },
  "language_info": {
   "codemirror_mode": {
    "name": "ipython",
    "version": 3
   },
   "file_extension": ".py",
   "mimetype": "text/x-python",
   "name": "python",
   "nbconvert_exporter": "python",
   "pygments_lexer": "ipython3",
   "version": "3.9.13"
  },
  "vscode": {
   "interpreter": {
    "hash": "8cf7caf096f5b9436d42d20d5edf527ae84d7f0f47f0de2642e1cfbb9c173595"
   }
  }
 },
 "nbformat": 4,
 "nbformat_minor": 5
}
