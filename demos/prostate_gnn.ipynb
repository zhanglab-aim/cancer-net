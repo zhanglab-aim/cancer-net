{
 "cells": [
  {
   "cell_type": "markdown",
   "id": "9fe7257f",
   "metadata": {},
   "source": [
    "Compare to P-Net:\n",
    "\n",
    "\n",
    "|                         | accuracy | auc      | aupr     | f1       | precision | recall   |\n",
    "|-------------------------|----------|----------|----------|----------|-----------|----------|\n",
    "| P-net_ALL               | 0.838235 | 0.926789 | 0.878182 | 0.755556 | 0.750000  | 0.761194 |\n",
    "| Logistic Regression_ALL | 0.833333 | 0.881904 | 0.808983 | 0.725806 | 0.789474  | 0.671642 |"
   ]
  },
  {
   "cell_type": "code",
   "execution_count": 1,
   "id": "17f5da7d",
   "metadata": {},
   "outputs": [],
   "source": [
    "import time\n",
    "import tqdm\n",
    "\n",
    "import numpy as np\n",
    "import torch, torch_geometric.transforms as T, torch.nn.functional as F\n",
    "from torch.utils.data.sampler import SubsetRandomSampler\n",
    "\n",
    "from torch_geometric.loader import DataLoader\n",
    "\n",
    "import matplotlib.pyplot as plt\n",
    "\n",
    "from sklearn.metrics import roc_auc_score, roc_curve, auc, average_precision_score, \\\n",
    "    f1_score, accuracy_score, precision_score, recall_score\n",
    "\n",
    "from cancernet.arch import GATNet\n",
    "from cancernet import PnetDataSet"
   ]
  },
  {
   "cell_type": "markdown",
   "id": "b512cbc5",
   "metadata": {},
   "source": [
    "## Load dataset"
   ]
  },
  {
   "cell_type": "code",
   "execution_count": 2,
   "id": "8e7bdf96",
   "metadata": {},
   "outputs": [],
   "source": [
    "dataset = PnetDataSet(\n",
    "    root=\"./data/prostate\",\n",
    "    name=\"prostate_graph_humanbase\",\n",
    "    #files={'graph_file': \"global.geneSymbol.gz\"},\n",
    "    edge_tol=0.5,\n",
    "    pre_transform=T.Compose([T.GCNNorm(add_self_loops=False), T.ToSparseTensor(remove_edge_index=False)]))"
   ]
  },
  {
   "cell_type": "markdown",
   "id": "50f3a842",
   "metadata": {},
   "source": [
    "Ensure consistent and reproducible train/validation/test split."
   ]
  },
  {
   "cell_type": "code",
   "execution_count": 3,
   "id": "0105a346",
   "metadata": {},
   "outputs": [],
   "source": [
    "dataset.split_index_by_file(\n",
    "    train_fp=\"./data/prostate/splits/training_set_0.csv\",\n",
    "    valid_fp=\"./data/prostate/splits/validation_set.csv\",\n",
    "    test_fp=\"./data/prostate/splits/test_set.csv\"\n",
    ")"
   ]
  },
  {
   "cell_type": "code",
   "execution_count": 4,
   "id": "a58cd56f",
   "metadata": {},
   "outputs": [
    {
     "data": {
      "text/plain": [
       "PnetDataset(len=1011, graph=prostate_graph_humanbase, num_edges=15080, edge_tol=0.50)"
      ]
     },
     "execution_count": 4,
     "metadata": {},
     "output_type": "execute_result"
    }
   ],
   "source": [
    "dataset"
   ]
  },
  {
   "cell_type": "markdown",
   "id": "9b702fae",
   "metadata": {},
   "source": [
    "Check whether test indices are fixed. \n",
    "\n",
    "Should be `[764, 865, 136, 968, 847, 155, 961, 998, 23, 112]`"
   ]
  },
  {
   "cell_type": "code",
   "execution_count": 5,
   "id": "8b5aee7d",
   "metadata": {},
   "outputs": [
    {
     "data": {
      "text/plain": [
       "[764, 865, 136, 968, 847, 155, 961, 998, 23, 112]"
      ]
     },
     "execution_count": 5,
     "metadata": {},
     "output_type": "execute_result"
    }
   ],
   "source": [
    "dataset.test_idx[0:10]"
   ]
  },
  {
   "cell_type": "markdown",
   "id": "9ec4ac92",
   "metadata": {},
   "source": [
    "## Train"
   ]
  },
  {
   "cell_type": "markdown",
   "id": "fbf8a02c",
   "metadata": {},
   "source": [
    "Set up hyperparameters, choose device, ..."
   ]
  },
  {
   "cell_type": "code",
   "execution_count": 6,
   "id": "fac5ff47",
   "metadata": {},
   "outputs": [
    {
     "name": "stdout",
     "output_type": "stream",
     "text": [
      "cuda\n"
     ]
    },
    {
     "data": {
      "text/plain": [
       "<torch._C.Generator at 0x7f75f4143c70>"
      ]
     },
     "execution_count": 6,
     "metadata": {},
     "output_type": "execute_result"
    }
   ],
   "source": [
    "batch_size = 10\n",
    "parall = False\n",
    "lr = 0.01\n",
    "\n",
    "if torch.cuda.is_available():\n",
    "    device = torch.device(\"cuda\" if torch.cuda.is_available() else \"cpu\")\n",
    "else:\n",
    "    device = \"cpu\"\n",
    "\n",
    "print(device)\n",
    "\n",
    "# keep everything reproducible!\n",
    "torch.manual_seed(1)"
   ]
  },
  {
   "cell_type": "markdown",
   "id": "0b70a5d6",
   "metadata": {},
   "source": [
    "Prepare data."
   ]
  },
  {
   "cell_type": "code",
   "execution_count": 7,
   "id": "80713481",
   "metadata": {},
   "outputs": [],
   "source": [
    "train_loader = DataLoader(\n",
    "    dataset,\n",
    "    batch_size=batch_size,\n",
    "    sampler=SubsetRandomSampler(dataset.train_idx),\n",
    "    drop_last=True,\n",
    ")\n",
    "valid_loader = DataLoader(\n",
    "    dataset,\n",
    "    batch_size=batch_size,\n",
    "    sampler=SubsetRandomSampler(dataset.valid_idx),\n",
    "    drop_last=True,\n",
    ")"
   ]
  },
  {
   "cell_type": "markdown",
   "id": "bf6dd0bf",
   "metadata": {},
   "source": [
    "Create model."
   ]
  },
  {
   "cell_type": "code",
   "execution_count": 8,
   "id": "41140c3f",
   "metadata": {},
   "outputs": [],
   "source": [
    "model = GATNet(dims=[3, 64, 256, 128]).to(device)\n",
    "#model = GCNNet(dims=[3, 64, 256, 128]).to(device)\n",
    "#model = Net(dim=3).to(device)"
   ]
  },
  {
   "cell_type": "markdown",
   "id": "2bffb06e",
   "metadata": {},
   "source": [
    "Configure optimization."
   ]
  },
  {
   "cell_type": "code",
   "execution_count": 9,
   "id": "29b13d6b",
   "metadata": {},
   "outputs": [],
   "source": [
    "optimizer = torch.optim.Adam(model.parameters(), lr=lr)\n",
    "criterion = F.nll_loss"
   ]
  },
  {
   "cell_type": "markdown",
   "id": "2c281c9c",
   "metadata": {},
   "source": [
    "Define training and validation functions for one epoch."
   ]
  },
  {
   "cell_type": "code",
   "execution_count": 10,
   "id": "743ce7ca",
   "metadata": {},
   "outputs": [],
   "source": [
    "def train(\n",
    "    epoch, model, optimizer, criterion, train_loader, parall=False, report=True, progbar=False\n",
    "):\n",
    "    model.train()\n",
    "\n",
    "    # XXX learning rate scheduling shouldn't be hardcoded in here!\n",
    "    if epoch == 30:\n",
    "        for param_group in optimizer.param_groups:\n",
    "            param_group[\"lr\"] = lr * 0.5\n",
    "\n",
    "    if epoch == 60:\n",
    "        for param_group in optimizer.param_groups:\n",
    "            param_group[\"lr\"] = lr * 0.1\n",
    "            \n",
    "    total_loss = 0\n",
    "    correct = 0\n",
    "    num_samps = 0\n",
    "    gen = tqdm.tqdm(train_loader) if progbar is True else train_loader\n",
    "    device =next(iter(model.parameters())).device\n",
    "    for data in gen:\n",
    "        if not parall:\n",
    "            data = data.to(device)\n",
    "        optimizer.zero_grad()\n",
    "\n",
    "        output = model(data)\n",
    "        output = output.squeeze()\n",
    "\n",
    "        if parall:\n",
    "            y = torch.cat([d.y for d in data]).to(output.device)\n",
    "        else:\n",
    "            y = data.y\n",
    "\n",
    "        if len(output.shape) == 1:\n",
    "            output = output.unsqueeze(0)\n",
    "        loss = criterion(output, y)\n",
    "\n",
    "        pred = output.max(1)[1]\n",
    "        correct += pred.eq(y).sum().item()\n",
    "        total_loss += loss * len(data)\n",
    "        loss.backward()\n",
    "        optimizer.step()\n",
    "        num_samps += len(y)\n",
    "\n",
    "    avg_loss = total_loss / num_samps\n",
    "    avg_acc = correct / num_samps\n",
    "\n",
    "    if report:\n",
    "        print(\n",
    "            f\"Epoch: {epoch:02}, Loss: {avg_loss:.3g}, Train Acc: {avg_acc:.4f}\"\n",
    "        )\n",
    "\n",
    "    return avg_loss, avg_acc"
   ]
  },
  {
   "cell_type": "code",
   "execution_count": 11,
   "id": "b1b5e656",
   "metadata": {},
   "outputs": [],
   "source": [
    "def valid(model, criterion, valid_loader, parall=False):\n",
    "    model.eval()\n",
    "\n",
    "    correct = 0\n",
    "    total_loss = 0\n",
    "    num_samps = 0\n",
    "    device =next(iter(model.parameters())).device\n",
    "    for data in valid_loader:\n",
    "        if not parall:\n",
    "            data = data.to(device)\n",
    "        output = model(data)\n",
    "        output = output.squeeze()\n",
    "\n",
    "        pred = output.max(1)[1]\n",
    "        if parall:\n",
    "            y = torch.cat([d.y for d in data]).to(output.device)\n",
    "        else:\n",
    "            y = data.y\n",
    "        loss = criterion(output, y)\n",
    "        total_loss += loss.item() * len(data)\n",
    "\n",
    "        correct += pred.eq(y).sum().item()\n",
    "        num_samps += len(y)\n",
    "    return total_loss / num_samps, correct / num_samps"
   ]
  },
  {
   "cell_type": "markdown",
   "id": "812f3814",
   "metadata": {},
   "source": [
    "Run training."
   ]
  },
  {
   "cell_type": "code",
   "execution_count": 12,
   "id": "5f204e55",
   "metadata": {
    "scrolled": false
   },
   "outputs": [
    {
     "name": "stderr",
     "output_type": "stream",
     "text": [
      " 10%|█         | 10/100 [00:14<01:57,  1.31s/it]"
     ]
    },
    {
     "name": "stdout",
     "output_type": "stream",
     "text": [
      "Epoch: 10, Loss: 0.444, Train Acc: 0.7812\n",
      "valid Loss: 0.428, Acc: 0.7400\n"
     ]
    },
    {
     "name": "stderr",
     "output_type": "stream",
     "text": [
      " 20%|██        | 20/100 [00:27<01:42,  1.28s/it]"
     ]
    },
    {
     "name": "stdout",
     "output_type": "stream",
     "text": [
      "Epoch: 20, Loss: 0.409, Train Acc: 0.8150\n",
      "valid Loss: 0.427, Acc: 0.7900\n"
     ]
    },
    {
     "name": "stderr",
     "output_type": "stream",
     "text": [
      " 30%|███       | 30/100 [00:40<01:30,  1.29s/it]"
     ]
    },
    {
     "name": "stdout",
     "output_type": "stream",
     "text": [
      "Epoch: 30, Loss: 0.393, Train Acc: 0.8063\n",
      "valid Loss: 0.417, Acc: 0.7800\n"
     ]
    },
    {
     "name": "stderr",
     "output_type": "stream",
     "text": [
      " 40%|████      | 40/100 [00:53<01:17,  1.29s/it]"
     ]
    },
    {
     "name": "stdout",
     "output_type": "stream",
     "text": [
      "Epoch: 40, Loss: 0.393, Train Acc: 0.8137\n",
      "valid Loss: 0.393, Acc: 0.7900\n"
     ]
    },
    {
     "name": "stderr",
     "output_type": "stream",
     "text": [
      " 50%|█████     | 50/100 [01:05<01:04,  1.29s/it]"
     ]
    },
    {
     "name": "stdout",
     "output_type": "stream",
     "text": [
      "Epoch: 50, Loss: 0.391, Train Acc: 0.8225\n",
      "valid Loss: 0.409, Acc: 0.7900\n"
     ]
    },
    {
     "name": "stderr",
     "output_type": "stream",
     "text": [
      " 60%|██████    | 60/100 [01:18<00:51,  1.29s/it]"
     ]
    },
    {
     "name": "stdout",
     "output_type": "stream",
     "text": [
      "Epoch: 60, Loss: 0.399, Train Acc: 0.8187\n",
      "valid Loss: 0.382, Acc: 0.8100\n"
     ]
    },
    {
     "name": "stderr",
     "output_type": "stream",
     "text": [
      " 70%|███████   | 70/100 [01:31<00:38,  1.29s/it]"
     ]
    },
    {
     "name": "stdout",
     "output_type": "stream",
     "text": [
      "Epoch: 70, Loss: 0.393, Train Acc: 0.8200\n",
      "valid Loss: 0.381, Acc: 0.8100\n"
     ]
    },
    {
     "name": "stderr",
     "output_type": "stream",
     "text": [
      " 80%|████████  | 80/100 [01:44<00:25,  1.29s/it]"
     ]
    },
    {
     "name": "stdout",
     "output_type": "stream",
     "text": [
      "Epoch: 80, Loss: 0.384, Train Acc: 0.8163\n",
      "valid Loss: 0.398, Acc: 0.8000\n"
     ]
    },
    {
     "name": "stderr",
     "output_type": "stream",
     "text": [
      " 90%|█████████ | 90/100 [01:57<00:12,  1.29s/it]"
     ]
    },
    {
     "name": "stdout",
     "output_type": "stream",
     "text": [
      "Epoch: 90, Loss: 0.399, Train Acc: 0.8100\n",
      "valid Loss: 0.396, Acc: 0.8100\n"
     ]
    },
    {
     "name": "stderr",
     "output_type": "stream",
     "text": [
      "100%|██████████| 100/100 [02:10<00:00,  1.31s/it]"
     ]
    },
    {
     "name": "stdout",
     "output_type": "stream",
     "text": [
      "Epoch: 100, Loss: 0.391, Train Acc: 0.8175\n",
      "valid Loss: 0.391, Acc: 0.8000\n",
      "Total training time: 130.6 seconds.\n"
     ]
    },
    {
     "name": "stderr",
     "output_type": "stream",
     "text": [
      "\n"
     ]
    }
   ],
   "source": [
    "train_losses = []\n",
    "train_acces = []\n",
    "valid_acces = []\n",
    "valid_losses = []\n",
    "t0 = time.time()\n",
    "for epoch in tqdm.tqdm(range(1, 101)):\n",
    "    report = (epoch) % 10 == 0\n",
    "\n",
    "    train_loss, train_acc = train(\n",
    "        epoch, model=model, optimizer=optimizer, criterion=criterion, train_loader=train_loader, parall=parall, report=report\n",
    "    )\n",
    "    valid_loss, valid_acc = valid(\n",
    "        model=model, criterion=criterion, valid_loader=valid_loader, parall=parall\n",
    "    )\n",
    "    train_losses.append(train_loss.cpu().detach().numpy())\n",
    "    valid_losses.append(valid_loss)\n",
    "    train_acces.append(train_acc)\n",
    "    valid_acces.append(valid_acc)\n",
    "    if report:\n",
    "        print(\"valid Loss: {:.3g}, Acc: {:.4f}\".format(valid_loss, valid_acc))\n",
    "\n",
    "print(f\"Total training time: {time.time() - t0:.1f} seconds.\")"
   ]
  },
  {
   "cell_type": "markdown",
   "id": "448080c8",
   "metadata": {},
   "source": [
    "Visualize training trajectory."
   ]
  },
  {
   "cell_type": "code",
   "execution_count": 13,
   "id": "656d9791",
   "metadata": {},
   "outputs": [
    {
     "data": {
      "image/png": "[encoded data removed]",
      "text/plain": [
       "<Figure size 432x288 with 2 Axes>"
      ]
     },
     "metadata": {
      "needs_background": "light"
     },
     "output_type": "display_data"
    }
   ],
   "source": [
    "fig, (ax1, ax2) = plt.subplots(2, 1)\n",
    "ax1.plot(train_acces, label=\"train acc\", linewidth=3)\n",
    "ax1.plot(valid_acces, label=\"valid acc\", linewidth=3)\n",
    "ax1.legend()\n",
    "ax1.set_xlabel(\"epoch\")\n",
    "ax1.grid()\n",
    "\n",
    "ax2.plot(train_losses, c=\"tab:blue\", label=\"train loss\", linewidth=3)\n",
    "ax2.plot(valid_losses, c=\"tab:orange\", label=\"valid loss\", linewidth=3)\n",
    "ax2.legend()\n",
    "ax2.set_xlabel(\"epoch\")\n",
    "ax2.grid()"
   ]
  },
  {
   "cell_type": "markdown",
   "id": "79c02a5c",
   "metadata": {},
   "source": [
    "Define helper function for calculating ROC curve and AUC."
   ]
  },
  {
   "cell_type": "code",
   "execution_count": 14,
   "id": "bbabc579",
   "metadata": {},
   "outputs": [],
   "source": [
    "def get_roc(model, loader, seed=1):\n",
    "    # keep everything reproducible!\n",
    "    torch.manual_seed(seed)\n",
    "\n",
    "    outs = []\n",
    "    ys = []\n",
    "    device = next(iter(model.parameters())).device\n",
    "    for tb in loader:\n",
    "        tb = tb.to(device)\n",
    "        outs.append(torch.exp(model(tb)).detach().cpu().clone().numpy())\n",
    "        ys.append(tb.y.detach().cpu().clone().numpy())\n",
    "\n",
    "    outs = np.concatenate(outs)\n",
    "    ys = np.concatenate(ys)\n",
    "\n",
    "    fpr, tpr, _ = roc_curve(ys, outs[:, 1])\n",
    "    auc_value = auc(fpr, tpr)\n",
    "\n",
    "    return fpr, tpr, auc_value, ys, outs"
   ]
  },
  {
   "cell_type": "markdown",
   "id": "3cdc3630",
   "metadata": {},
   "source": [
    "Calculate and show ROC and AUC."
   ]
  },
  {
   "cell_type": "code",
   "execution_count": 15,
   "id": "07d7ef48",
   "metadata": {},
   "outputs": [
    {
     "data": {
      "text/plain": [
       "<matplotlib.legend.Legend at 0x7f74c9acd250>"
      ]
     },
     "execution_count": 15,
     "metadata": {},
     "output_type": "execute_result"
    },
    {
     "data": {
      "image/png": "[encoded data removed]",
      "text/plain": [
       "<Figure size 432x288 with 1 Axes>"
      ]
     },
     "metadata": {
      "needs_background": "light"
     },
     "output_type": "display_data"
    }
   ],
   "source": [
    "fpr_train, tpr_train, train_auc, _, _ = get_roc(model, train_loader)\n",
    "fpr_valid, tpr_valid, valid_auc, _, _ = get_roc(model, valid_loader)\n",
    "\n",
    "fig, ax = plt.subplots()\n",
    "ax.plot(\n",
    "    fpr_train, tpr_train, lw=2, label=\"ROC curve (area = %0.3f)\" % train_auc,\n",
    ")\n",
    "ax.plot(\n",
    "    fpr_valid, tpr_valid, lw=2, label=\"ROC curve (area = %0.3f)\" % valid_auc,\n",
    ")\n",
    "ax.plot([0, 1], [0, 1], color=\"black\", lw=1, linestyle=\"--\")\n",
    "ax.set_xlim([0.0, 1.0])\n",
    "ax.set_ylim([0.0, 1.05])\n",
    "ax.set_xlabel(\"False Positive Rate\")\n",
    "ax.set_ylabel(\"True Positive Rate\")\n",
    "ax.set_title(\"Receiver operating characteristic\")\n",
    "ax.legend(loc=\"lower right\", frameon=False)"
   ]
  },
  {
   "cell_type": "markdown",
   "id": "1b75064b",
   "metadata": {},
   "source": [
    "Check performance on test set."
   ]
  },
  {
   "cell_type": "code",
   "execution_count": 16,
   "id": "d1bb47ee",
   "metadata": {},
   "outputs": [
    {
     "name": "stdout",
     "output_type": "stream",
     "text": [
      "accuracy 0.86\n",
      "auc 0.9203980099502487\n",
      "aupr 0.8626685226756272\n",
      "f1 0.7586206896551725\n",
      "precision 0.88\n",
      "recall 0.6666666666666666\n"
     ]
    }
   ],
   "source": [
    "test_loader = DataLoader(\n",
    "    dataset,\n",
    "    batch_size=batch_size,\n",
    "    sampler=SubsetRandomSampler(dataset.test_idx),\n",
    "    drop_last=True,\n",
    ")\n",
    "fpr_test, tpr_test, test_auc, ys, outs = get_roc(model, test_loader)\n",
    "\n",
    "print('accuracy', accuracy_score(ys, outs[:, 1]>0.5))\n",
    "print('auc', test_auc)\n",
    "print('aupr', average_precision_score(ys, outs[:, 1]))\n",
    "print('f1', f1_score(ys, outs[:, 1]>0.5))\n",
    "print('precision', precision_score(ys, outs[:, 1]>0.5))\n",
    "print('recall', recall_score(ys, outs[:, 1]>0.5))"
   ]
  },
  {
   "cell_type": "code",
   "execution_count": null,
   "id": "4bae15a8",
   "metadata": {},
   "outputs": [],
   "source": []
  }
 ],
 "metadata": {
  "kernelspec": {
   "display_name": "Python 3.9.7 ('cancerenv')",
   "language": "python",
   "name": "python3"
  },
  "language_info": {
   "codemirror_mode": {
    "name": "ipython",
    "version": 3
   },
   "file_extension": ".py",
   "mimetype": "text/x-python",
   "name": "python",
   "nbconvert_exporter": "python",
   "pygments_lexer": "ipython3",
   "version": "3.9.13"
  },
  "vscode": {
   "interpreter": {
    "hash": "8cf7caf096f5b9436d42d20d5edf527ae84d7f0f47f0de2642e1cfbb9c173595"
   }
  }
 },
 "nbformat": 4,
 "nbformat_minor": 5
}
