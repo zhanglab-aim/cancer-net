{
 "cells": [
  {
   "cell_type": "code",
   "execution_count": 1,
   "id": "4a26552e",
   "metadata": {},
   "outputs": [],
   "source": [
    "import time\n",
    "import os\n",
    "\n",
    "import torch, torch_geometric.transforms as T, torch.nn.functional as F\n",
    "from torch.utils.data.sampler import SubsetRandomSampler\n",
    "\n",
    "from torch_geometric.loader import DataLoader\n",
    "from torch_geometric.nn import MetaLayer\n",
    "\n",
    "import pytorch_lightning as pl\n",
    "\n",
    "import matplotlib.pyplot as plt\n",
    "\n",
    "from sklearn.metrics import roc_auc_score, roc_curve, auc, average_precision_score, \\\n",
    "    f1_score, accuracy_score, precision_score, recall_score\n",
    "\n",
    "from cancernet.arch import InteractionNet, VisibleGraphInteractionNet\n",
    "from cancernet.util import ProgressBar, InMemoryLogger, get_roc\n",
    "from cancernet import PnetDataSet, ReactomeNetwork\n",
    "from cancernet.dataset import get_layer_maps"
   ]
  },
  {
   "cell_type": "code",
   "execution_count": 2,
   "id": "b060b249-5a2e-4c8d-91f9-633a5a241794",
   "metadata": {},
   "outputs": [],
   "source": [
    "reactome_kws = dict(\n",
    "    reactome_base_dir=os.path.join(\"data\", \"reactome\"),\n",
    "    relations_file_name=\"ReactomePathwaysRelation.txt\",\n",
    "    pathway_names_file_name=\"ReactomePathways.txt\",\n",
    "    pathway_genes_file_name=\"ReactomePathways.gmt\",\n",
    ")\n",
    "reactome = ReactomeNetwork(reactome_kws)\n",
    "\n",
    "prostate_root = os.path.join(\"data\", \"prostate\")\n",
    "dataset = PnetDataSet(\n",
    "    root=prostate_root,\n",
    "    name=\"prostate_graph_humanbase\",\n",
    "    edge_tol=0.5,\n",
    "    pre_transform=T.Compose(\n",
    "        [T.GCNNorm(add_self_loops=False), T.ToSparseTensor(remove_edge_index=False)]\n",
    "    ),\n",
    ")\n",
    "\n",
    "# loads the train/valid/test split from pnet\n",
    "splits_root = os.path.join(prostate_root, \"splits\")\n",
    "dataset.split_index_by_file(\n",
    "    train_fp=os.path.join(splits_root, \"training_set_0.csv\"),\n",
    "    valid_fp=os.path.join(splits_root, \"validation_set.csv\"),\n",
    "    test_fp=os.path.join(splits_root, \"test_set.csv\"),\n",
    ")"
   ]
  },
  {
   "cell_type": "code",
   "execution_count": 3,
   "id": "335091cd",
   "metadata": {},
   "outputs": [
    {
     "name": "stdout",
     "output_type": "stream",
     "text": [
      "layer # 0\n",
      "pathways 146\n",
      "genes 10621\n",
      "filtered_map (9054, 0)\n",
      "filtered_map (9054, 0)\n",
      "filtered_map (9054, 0)\n",
      "layer # 1\n",
      "pathways 26\n",
      "genes 147\n",
      "filtered_map (146, 0)\n",
      "filtered_map (146, 0)\n",
      "filtered_map (146, 0)\n",
      "layer # 2\n",
      "pathways 1\n",
      "genes 26\n",
      "filtered_map (26, 0)\n",
      "filtered_map (26, 0)\n",
      "filtered_map (26, 0)\n"
     ]
    }
   ],
   "source": [
    "maps = get_layer_maps(\n",
    "    genes=[g for g in dataset.node_index],\n",
    "    reactome=reactome,\n",
    "    n_levels=2,\n",
    "    direction=\"root_to_leaf\",\n",
    "    add_unk_genes=False,\n",
    "    verbose=True,\n",
    ")"
   ]
  },
  {
   "cell_type": "code",
   "execution_count": 4,
   "id": "aaf75412",
   "metadata": {},
   "outputs": [
    {
     "data": {
      "text/plain": [
       "R-HSA-597592     797.0\n",
       "R-HSA-73857      731.0\n",
       "R-HSA-372790     524.0\n",
       "R-HSA-168249     516.0\n",
       "R-HSA-1280218    383.0\n",
       "R-HSA-199991     382.0\n",
       "R-HSA-556833     366.0\n",
       "R-HSA-1280215    339.0\n",
       "R-HSA-422475     285.0\n",
       "R-HSA-9006934    268.0\n",
       "R-HSA-5663202    245.0\n",
       "R-HSA-194315     218.0\n",
       "R-HSA-5663205    206.0\n",
       "R-HSA-2262752    186.0\n",
       "R-HSA-9006925    180.0\n",
       "R-HSA-5683057    168.0\n",
       "R-HSA-71291      165.0\n",
       "R-HSA-195721     165.0\n",
       "R-HSA-72203      163.0\n",
       "R-HSA-71387      161.0\n",
       "dtype: float64"
      ]
     },
     "execution_count": 4,
     "metadata": {},
     "output_type": "execute_result"
    }
   ],
   "source": [
    "maps[0].sum(axis=0).sort_values(ascending=False).head(20)"
   ]
  },
  {
   "cell_type": "code",
   "execution_count": 5,
   "id": "faeca184",
   "metadata": {},
   "outputs": [
    {
     "data": {
      "text/html": [
       "<div>\n",
       "<style scoped>\n",
       "    .dataframe tbody tr th:only-of-type {\n",
       "        vertical-align: middle;\n",
       "    }\n",
       "\n",
       "    .dataframe tbody tr th {\n",
       "        vertical-align: top;\n",
       "    }\n",
       "\n",
       "    .dataframe thead th {\n",
       "        text-align: right;\n",
       "    }\n",
       "</style>\n",
       "<table border=\"1\" class=\"dataframe\">\n",
       "  <thead>\n",
       "    <tr style=\"text-align: right;\">\n",
       "      <th></th>\n",
       "      <th>R-HSA-15869</th>\n",
       "      <th>R-HSA-3000157</th>\n",
       "      <th>R-HSA-194315</th>\n",
       "      <th>R-HSA-216083</th>\n",
       "      <th>R-HSA-1483249</th>\n",
       "      <th>R-HSA-211859</th>\n",
       "      <th>R-HSA-9006936</th>\n",
       "      <th>R-HSA-112307</th>\n",
       "      <th>R-HSA-165159</th>\n",
       "      <th>R-HSA-75892</th>\n",
       "      <th>...</th>\n",
       "      <th>R-HSA-428359</th>\n",
       "      <th>R-HSA-163685</th>\n",
       "      <th>R-HSA-72086</th>\n",
       "      <th>R-HSA-5683826</th>\n",
       "      <th>R-HSA-72312</th>\n",
       "      <th>R-HSA-73864</th>\n",
       "      <th>R-HSA-3000171</th>\n",
       "      <th>R-HSA-5660526</th>\n",
       "      <th>R-HSA-1187000</th>\n",
       "      <th>R-HSA-452723</th>\n",
       "    </tr>\n",
       "  </thead>\n",
       "  <tbody>\n",
       "    <tr>\n",
       "      <th>A1CF</th>\n",
       "      <td>0.0</td>\n",
       "      <td>0.0</td>\n",
       "      <td>0.0</td>\n",
       "      <td>0.0</td>\n",
       "      <td>0.0</td>\n",
       "      <td>0.0</td>\n",
       "      <td>0.0</td>\n",
       "      <td>0.0</td>\n",
       "      <td>0.0</td>\n",
       "      <td>0.0</td>\n",
       "      <td>...</td>\n",
       "      <td>0.0</td>\n",
       "      <td>0.0</td>\n",
       "      <td>0.0</td>\n",
       "      <td>0.0</td>\n",
       "      <td>0.0</td>\n",
       "      <td>0.0</td>\n",
       "      <td>0.0</td>\n",
       "      <td>0.0</td>\n",
       "      <td>0.0</td>\n",
       "      <td>0.0</td>\n",
       "    </tr>\n",
       "    <tr>\n",
       "      <th>AAAS</th>\n",
       "      <td>0.0</td>\n",
       "      <td>0.0</td>\n",
       "      <td>0.0</td>\n",
       "      <td>0.0</td>\n",
       "      <td>0.0</td>\n",
       "      <td>0.0</td>\n",
       "      <td>0.0</td>\n",
       "      <td>0.0</td>\n",
       "      <td>0.0</td>\n",
       "      <td>0.0</td>\n",
       "      <td>...</td>\n",
       "      <td>0.0</td>\n",
       "      <td>0.0</td>\n",
       "      <td>0.0</td>\n",
       "      <td>0.0</td>\n",
       "      <td>0.0</td>\n",
       "      <td>0.0</td>\n",
       "      <td>0.0</td>\n",
       "      <td>0.0</td>\n",
       "      <td>0.0</td>\n",
       "      <td>0.0</td>\n",
       "    </tr>\n",
       "    <tr>\n",
       "      <th>AACS</th>\n",
       "      <td>0.0</td>\n",
       "      <td>0.0</td>\n",
       "      <td>0.0</td>\n",
       "      <td>0.0</td>\n",
       "      <td>0.0</td>\n",
       "      <td>0.0</td>\n",
       "      <td>0.0</td>\n",
       "      <td>0.0</td>\n",
       "      <td>0.0</td>\n",
       "      <td>0.0</td>\n",
       "      <td>...</td>\n",
       "      <td>0.0</td>\n",
       "      <td>0.0</td>\n",
       "      <td>0.0</td>\n",
       "      <td>0.0</td>\n",
       "      <td>0.0</td>\n",
       "      <td>0.0</td>\n",
       "      <td>0.0</td>\n",
       "      <td>0.0</td>\n",
       "      <td>0.0</td>\n",
       "      <td>0.0</td>\n",
       "    </tr>\n",
       "    <tr>\n",
       "      <th>AADAC</th>\n",
       "      <td>0.0</td>\n",
       "      <td>0.0</td>\n",
       "      <td>0.0</td>\n",
       "      <td>0.0</td>\n",
       "      <td>0.0</td>\n",
       "      <td>1.0</td>\n",
       "      <td>0.0</td>\n",
       "      <td>0.0</td>\n",
       "      <td>0.0</td>\n",
       "      <td>0.0</td>\n",
       "      <td>...</td>\n",
       "      <td>0.0</td>\n",
       "      <td>0.0</td>\n",
       "      <td>0.0</td>\n",
       "      <td>0.0</td>\n",
       "      <td>0.0</td>\n",
       "      <td>0.0</td>\n",
       "      <td>0.0</td>\n",
       "      <td>0.0</td>\n",
       "      <td>0.0</td>\n",
       "      <td>0.0</td>\n",
       "    </tr>\n",
       "    <tr>\n",
       "      <th>AADACL2</th>\n",
       "      <td>0.0</td>\n",
       "      <td>0.0</td>\n",
       "      <td>0.0</td>\n",
       "      <td>0.0</td>\n",
       "      <td>0.0</td>\n",
       "      <td>0.0</td>\n",
       "      <td>0.0</td>\n",
       "      <td>0.0</td>\n",
       "      <td>0.0</td>\n",
       "      <td>0.0</td>\n",
       "      <td>...</td>\n",
       "      <td>0.0</td>\n",
       "      <td>0.0</td>\n",
       "      <td>0.0</td>\n",
       "      <td>0.0</td>\n",
       "      <td>0.0</td>\n",
       "      <td>0.0</td>\n",
       "      <td>0.0</td>\n",
       "      <td>0.0</td>\n",
       "      <td>0.0</td>\n",
       "      <td>0.0</td>\n",
       "    </tr>\n",
       "  </tbody>\n",
       "</table>\n",
       "<p>5 rows × 146 columns</p>\n",
       "</div>"
      ],
      "text/plain": [
       "         R-HSA-15869  R-HSA-3000157  R-HSA-194315  R-HSA-216083  \\\n",
       "A1CF             0.0            0.0           0.0           0.0   \n",
       "AAAS             0.0            0.0           0.0           0.0   \n",
       "AACS             0.0            0.0           0.0           0.0   \n",
       "AADAC            0.0            0.0           0.0           0.0   \n",
       "AADACL2          0.0            0.0           0.0           0.0   \n",
       "\n",
       "         R-HSA-1483249  R-HSA-211859  R-HSA-9006936  R-HSA-112307  \\\n",
       "A1CF               0.0           0.0            0.0           0.0   \n",
       "AAAS               0.0           0.0            0.0           0.0   \n",
       "AACS               0.0           0.0            0.0           0.0   \n",
       "AADAC              0.0           1.0            0.0           0.0   \n",
       "AADACL2            0.0           0.0            0.0           0.0   \n",
       "\n",
       "         R-HSA-165159  R-HSA-75892  ...  R-HSA-428359  R-HSA-163685  \\\n",
       "A1CF              0.0          0.0  ...           0.0           0.0   \n",
       "AAAS              0.0          0.0  ...           0.0           0.0   \n",
       "AACS              0.0          0.0  ...           0.0           0.0   \n",
       "AADAC             0.0          0.0  ...           0.0           0.0   \n",
       "AADACL2           0.0          0.0  ...           0.0           0.0   \n",
       "\n",
       "         R-HSA-72086  R-HSA-5683826  R-HSA-72312  R-HSA-73864  R-HSA-3000171  \\\n",
       "A1CF             0.0            0.0          0.0          0.0            0.0   \n",
       "AAAS             0.0            0.0          0.0          0.0            0.0   \n",
       "AACS             0.0            0.0          0.0          0.0            0.0   \n",
       "AADAC            0.0            0.0          0.0          0.0            0.0   \n",
       "AADACL2          0.0            0.0          0.0          0.0            0.0   \n",
       "\n",
       "         R-HSA-5660526  R-HSA-1187000  R-HSA-452723  \n",
       "A1CF               0.0            0.0           0.0  \n",
       "AAAS               0.0            0.0           0.0  \n",
       "AACS               0.0            0.0           0.0  \n",
       "AADAC              0.0            0.0           0.0  \n",
       "AADACL2            0.0            0.0           0.0  \n",
       "\n",
       "[5 rows x 146 columns]"
      ]
     },
     "execution_count": 5,
     "metadata": {},
     "output_type": "execute_result"
    }
   ],
   "source": [
    "# use only top subsys\n",
    "#n_top = 12\n",
    "#maps[0] = maps[0][maps[0].sum(axis=0).sort_values(ascending=False).head(n_top).index]\n",
    "maps[0].head()"
   ]
  },
  {
   "cell_type": "code",
   "execution_count": 6,
   "id": "443c5a22",
   "metadata": {},
   "outputs": [
    {
     "data": {
      "text/plain": [
       "(9054, 146)"
      ]
     },
     "execution_count": 6,
     "metadata": {},
     "output_type": "execute_result"
    }
   ],
   "source": [
    "maps[0].shape"
   ]
  },
  {
   "cell_type": "markdown",
   "id": "9ec4ac92",
   "metadata": {},
   "source": [
    "## Train"
   ]
  },
  {
   "cell_type": "markdown",
   "id": "fbf8a02c",
   "metadata": {},
   "source": [
    "Set up hyperparameters and random seed."
   ]
  },
  {
   "cell_type": "code",
   "execution_count": 7,
   "id": "fac5ff47",
   "metadata": {},
   "outputs": [
    {
     "name": "stderr",
     "output_type": "stream",
     "text": [
      "Global seed set to 42\n"
     ]
    }
   ],
   "source": [
    "# try to ensure reproducibility\n",
    "pl.seed_everything(42, workers=True)\n",
    "\n",
    "n_epochs = 100\n",
    "batch_size = 10\n",
    "lr = 0.001"
   ]
  },
  {
   "cell_type": "markdown",
   "id": "0b70a5d6",
   "metadata": {},
   "source": [
    "Prepare data."
   ]
  },
  {
   "cell_type": "code",
   "execution_count": 8,
   "id": "80713481",
   "metadata": {},
   "outputs": [],
   "source": [
    "train_loader = DataLoader(\n",
    "    dataset,\n",
    "    batch_size=batch_size,\n",
    "    sampler=SubsetRandomSampler(dataset.train_idx),\n",
    ")\n",
    "valid_loader = DataLoader(\n",
    "    dataset,\n",
    "    batch_size=batch_size,\n",
    "    sampler=SubsetRandomSampler(dataset.valid_idx),\n",
    ")"
   ]
  },
  {
   "cell_type": "markdown",
   "id": "bf6dd0bf",
   "metadata": {},
   "source": [
    "Create and train model."
   ]
  },
  {
   "cell_type": "code",
   "execution_count": 9,
   "id": "fe668c90",
   "metadata": {},
   "outputs": [
    {
     "name": "stderr",
     "output_type": "stream",
     "text": [
      "GPU available: True, used: True\n",
      "TPU available: False, using: 0 TPU cores\n",
      "IPU available: False, using: 0 IPUs\n",
      "HPU available: False, using: 0 HPUs\n",
      "LOCAL_RANK: 0 - CUDA_VISIBLE_DEVICES: [0]\n",
      "\n",
      "  | Name   | Type       | Params\n",
      "--------------------------------------\n",
      "0 | subsys | ModuleList | 880 K \n",
      "1 | nn     | Sequential | 3.9 K \n",
      "--------------------------------------\n",
      "884 K     Trainable params\n",
      "0         Non-trainable params\n",
      "884 K     Total params\n",
      "3.539     Total estimated model params size (MB)\n",
      "/mnt/home/ttesileanu/miniconda3/envs/cancerenv/lib/python3.9/site-packages/pytorch_lightning/trainer/connectors/data_connector.py:240: PossibleUserWarning: The dataloader, val_dataloader 0, does not have many workers which may be a bottleneck. Consider increasing the value of the `num_workers` argument` (try 16 which is the number of cpus on this machine) in the `DataLoader` init to improve performance.\n",
      "  rank_zero_warn(\n",
      "/mnt/home/ttesileanu/miniconda3/envs/cancerenv/lib/python3.9/site-packages/pytorch_lightning/trainer/connectors/data_connector.py:240: PossibleUserWarning: The dataloader, train_dataloader, does not have many workers which may be a bottleneck. Consider increasing the value of the `num_workers` argument` (try 16 which is the number of cpus on this machine) in the `DataLoader` init to improve performance.\n",
      "  rank_zero_warn(\n"
     ]
    },
    {
     "data": {
      "application/vnd.jupyter.widget-view+json": {
       "model_id": "03bdc0d4a68b4c5d8361c7fb5e4c64fc",
       "version_major": 2,
       "version_minor": 0
      },
      "text/plain": [
       "Training:   0%|          | 0/100 [00:00<?, ?it/s]"
      ]
     },
     "metadata": {},
     "output_type": "display_data"
    },
    {
     "name": "stdout",
     "output_type": "stream",
     "text": [
      "Training took 7059.3 seconds.\n"
     ]
    }
   ],
   "source": [
    "# input node feature size\n",
    "inputs = 3\n",
    "# output dimensions of each subgraph\n",
    "outputs = 1\n",
    "# size of hidden layers in graphs (both MLP size and latent representation of nodes and edge)\n",
    "hidden = 16\n",
    "# number of graphs to stack\n",
    "layers = 2\n",
    "\n",
    "t0 = time.time()\n",
    "model = VisibleGraphInteractionNet(\n",
    "    pathway_maps=maps,\n",
    "    node_index=dataset.node_index,\n",
    "    # edge_model=edge_model, node_model=node_model, global_model=global_model,\n",
    "    model_config={\n",
    "        \"inputs\": inputs,\n",
    "        \"outputs\": outputs,\n",
    "        \"hidden\": hidden,\n",
    "        \"layers\": layers,\n",
    "    },\n",
    "    sparse=False,\n",
    ")\n",
    "logger = InMemoryLogger()\n",
    "\n",
    "# XXX this cannot be fully deterministic on GPU because\n",
    "# XXX scatter_add_cuda_kernel does not have a deterministic implementation!\n",
    "trainer = pl.Trainer(\n",
    "    accelerator=\"auto\",\n",
    "    max_epochs=n_epochs,\n",
    "    callbacks=[ProgressBar()],\n",
    "    logger=logger,\n",
    "    # deterministic=True,\n",
    ")\n",
    "trainer.fit(model, train_loader, valid_loader)\n",
    "print(f\"Training took {time.time() - t0:.1f} seconds.\")"
   ]
  },
  {
   "cell_type": "markdown",
   "id": "319ddabb",
   "metadata": {},
   "source": [
    "Visualize training trajectory."
   ]
  },
  {
   "cell_type": "code",
   "execution_count": 10,
   "id": "b0dbbc3a",
   "metadata": {},
   "outputs": [
    {
     "data": {
      "image/png": "[encoded data removed]",
      "text/plain": [
       "<Figure size 432x576 with 2 Axes>"
      ]
     },
     "metadata": {
      "needs_background": "light"
     },
     "output_type": "display_data"
    }
   ],
   "source": [
    "fig, (ax1, ax2) = plt.subplots(2, 1, figsize=(6, 8), constrained_layout=True)\n",
    "logger.metrics_df.plot(\"epoch\", [\"train_accuracy\", \"val_accuracy\"], ax=ax1)\n",
    "ax1.grid()\n",
    "\n",
    "logger.metrics_df.plot(\"epoch\", [\"train_loss\", \"val_loss\"], ax=ax2)\n",
    "ax2.grid()"
   ]
  },
  {
   "cell_type": "markdown",
   "id": "3cdc3630",
   "metadata": {},
   "source": [
    "Calculate and show ROC and AUC."
   ]
  },
  {
   "cell_type": "code",
   "execution_count": 12,
   "id": "07d7ef48",
   "metadata": {},
   "outputs": [
    {
     "data": {
      "text/plain": [
       "<matplotlib.legend.Legend at 0x7fb7caf80700>"
      ]
     },
     "execution_count": 12,
     "metadata": {},
     "output_type": "execute_result"
    },
    {
     "data": {
      "image/png": "[encoded data removed]",
      "text/plain": [
       "<Figure size 432x288 with 1 Axes>"
      ]
     },
     "metadata": {
      "needs_background": "light"
     },
     "output_type": "display_data"
    }
   ],
   "source": [
    "fpr_train, tpr_train, train_auc, _, _ = get_roc(model, train_loader)\n",
    "fpr_valid, tpr_valid, valid_auc, _, _ = get_roc(model, valid_loader)\n",
    "\n",
    "fig, ax = plt.subplots()\n",
    "ax.plot(\n",
    "    fpr_train, tpr_train, lw=2, label=\"train (area = %0.3f)\" % train_auc,\n",
    ")\n",
    "ax.plot(\n",
    "    fpr_valid, tpr_valid, lw=2, label=\"validation (area = %0.3f)\" % valid_auc,\n",
    ")\n",
    "ax.plot([0, 1], [0, 1], color=\"black\", lw=1, linestyle=\"--\")\n",
    "ax.set_xlim([0.0, 1.0])\n",
    "ax.set_ylim([0.0, 1.05])\n",
    "ax.set_xlabel(\"False Positive Rate\")\n",
    "ax.set_ylabel(\"True Positive Rate\")\n",
    "ax.set_title(\"Receiver operating characteristic\")\n",
    "ax.legend(loc=\"lower right\", frameon=False)"
   ]
  },
  {
   "cell_type": "markdown",
   "id": "1b75064b",
   "metadata": {},
   "source": [
    "Check performance on test set."
   ]
  },
  {
   "cell_type": "code",
   "execution_count": 13,
   "id": "d1bb47ee",
   "metadata": {},
   "outputs": [
    {
     "name": "stdout",
     "output_type": "stream",
     "text": [
      "accuracy 0.8\n",
      "auc 0.9023066485753053\n",
      "aupr 0.8174779269647914\n",
      "f1 0.6666666666666666\n",
      "precision 0.7407407407407407\n",
      "recall 0.6060606060606061\n"
     ]
    }
   ],
   "source": [
    "test_loader = DataLoader(\n",
    "    dataset,\n",
    "    batch_size=batch_size,\n",
    "    sampler=SubsetRandomSampler(dataset.test_idx),\n",
    "    drop_last=True,\n",
    ")\n",
    "fpr_test, tpr_test, test_auc, ys, outs = get_roc(model, test_loader)\n",
    "\n",
    "print('accuracy', accuracy_score(ys, outs[:, 1] > 0.5))\n",
    "print('auc', test_auc)\n",
    "print('aupr', average_precision_score(ys, outs[:, 1]))\n",
    "print('f1', f1_score(ys, outs[:, 1] > 0.5))\n",
    "print('precision', precision_score(ys, outs[:, 1] > 0.5))\n",
    "print('recall', recall_score(ys, outs[:, 1] > 0.5))"
   ]
  },
  {
   "cell_type": "code",
   "execution_count": null,
   "id": "61b01c02",
   "metadata": {},
   "outputs": [],
   "source": []
  }
 ],
 "metadata": {
  "kernelspec": {
   "display_name": "Python 3.9.13 ('cancerenv')",
   "language": "python",
   "name": "python3"
  },
  "language_info": {
   "codemirror_mode": {
    "name": "ipython",
    "version": 3
   },
   "file_extension": ".py",
   "mimetype": "text/x-python",
   "name": "python",
   "nbconvert_exporter": "python",
   "pygments_lexer": "ipython3",
   "version": "3.9.13"
  },
  "vscode": {
   "interpreter": {
    "hash": "8cf7caf096f5b9436d42d20d5edf527ae84d7f0f47f0de2642e1cfbb9c173595"
   }
  }
 },
 "nbformat": 4,
 "nbformat_minor": 5
}
