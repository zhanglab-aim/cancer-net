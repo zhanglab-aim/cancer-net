{
 "cells": [
  {
   "cell_type": "markdown",
   "id": "8b353b98-3957-4cd6-b488-46affab02e23",
   "metadata": {
    "tags": []
   },
   "source": [
    "## Pnet torch implementation\n",
    "\n",
    "Our torch implementation of pnet does not produce the same results as the original tf implementation, even though I have captured every feature of the architecture I can find. The model is described in the \"Methods\" section of: https://www.nature.com/articles/s41586-021-03922-4. Things we have included below:\n",
    "\n",
    "1. First layer is a \"dense\" layer, taking the 3 features for each gene and collapsing them into 1 latent variable. We then follow up with sparse NN layers.\n",
    "2. Tanh activations between each pnet hidden layer\n",
    "3. Each layer also has a linear layer with a sigmoid activation, producing a predictive output. The final prediction during training is a weighted sum of the losses of each of these intermediate predictive outputs, along with the final output of the network. The loss weights are the same as in the tf version.\n",
    "4. They use a BCE loss\n",
    "5. As far as I understand it, validation/test predictions do not use this weighted output, only the prediction of the final layer.\n",
    "6. Adam optimizer"
   ]
  },
  {
   "cell_type": "code",
   "execution_count": 1,
   "id": "55cda7c6-10c4-43e2-9640-e5ba38f5b7df",
   "metadata": {},
   "outputs": [],
   "source": [
    "import time\n",
    "import os\n",
    "import numpy as np\n",
    "\n",
    "import torch, torch_geometric.transforms as T, torch.nn.functional as F\n",
    "from torch.utils.data.sampler import SubsetRandomSampler, SequentialSampler, RandomSampler\n",
    "\n",
    "from torch_geometric.loader import DataLoader\n",
    "\n",
    "import pytorch_lightning as pl\n",
    "from pytorch_lightning.loggers import WandbLogger\n",
    "from pytorch_lightning.callbacks.early_stopping import EarlyStopping\n",
    "from pytorch_lightning.callbacks import ModelCheckpoint\n",
    "\n",
    "import matplotlib.pyplot as plt\n",
    "\n",
    "from sklearn.metrics import (\n",
    "    roc_auc_score,\n",
    "    roc_curve,\n",
    "    auc,\n",
    "    average_precision_score,\n",
    "    f1_score,\n",
    "    accuracy_score,\n",
    "    precision_score,\n",
    "    recall_score,\n",
    ")\n",
    "\n",
    "\n",
    "# from cancernet.arch import GATNet, InteractionNet, VisibleGraphInteractionNet\n",
    "from cancernet.util import ProgressBar, InMemoryLogger, get_roc\n",
    "from cancernet import PnetDataSet, ReactomeNetwork\n",
    "from cancernet.dataset import get_layer_maps"
   ]
  },
  {
   "cell_type": "code",
   "execution_count": 2,
   "id": "4fc7758f-286e-4ece-a8ed-79bc122c18c8",
   "metadata": {},
   "outputs": [],
   "source": [
    "import torch\n",
    "import numpy as np\n",
    "import torch.nn.functional as F\n",
    "from torch import nn\n",
    "from torch.nn import Linear, ReLU\n",
    "\n",
    "from cancernet.arch.base_net import BaseNet\n",
    "from cancernet.util import scatter_nd\n",
    "\n",
    "\n",
    "class FeatureLayer(torch.nn.Module):\n",
    "    \"\"\"This layer will take our input data of size `(N_genes, N_features)`, and perform\n",
    "    elementwise multiplication of the features of each gene. This is effectively\n",
    "    collapsing the `N_features dimension`, outputting a single scalar latent variable\n",
    "    for each gene.\n",
    "    \"\"\"\n",
    "\n",
    "    def __init__(self, num_genes: int, num_features: int):\n",
    "        super().__init__()\n",
    "        self.num_genes = num_genes\n",
    "        self.num_features = num_features\n",
    "        weights = torch.Tensor(self.num_genes, self.num_features)\n",
    "        self.weights = nn.Parameter(weights)\n",
    "        self.bias = nn.Parameter(torch.Tensor(self.num_genes,))\n",
    "        # initialise weights using a normal distribution; can also try uniform\n",
    "        torch.nn.init.normal_(self.weights, mean=0.0, std=1.0)\n",
    "        torch.nn.init.normal_(self.bias, mean=0.0, std=0.1)\n",
    "\n",
    "    def forward(self, x):\n",
    "        x = x * self.weights\n",
    "        x = torch.sum(x, dim=-1)\n",
    "        x = x + self.bias\n",
    "        return x\n",
    "\n",
    "\n",
    "class SparseLayer(torch.nn.Module):\n",
    "    \"\"\"Sparsely connected layer, with connections taken from pnet.\"\"\"\n",
    "\n",
    "    def __init__(self, layer_map):\n",
    "        super().__init__()\n",
    "        map_numpy = layer_map.to_numpy()\n",
    "        self.register_buffer(\n",
    "            \"nonzero_indices\", torch.LongTensor(np.array(np.nonzero(map_numpy)).T)\n",
    "        )\n",
    "        self.layer_map = layer_map\n",
    "        self.shape = map_numpy.shape\n",
    "        self.weights = nn.Parameter(torch.Tensor(self.nonzero_indices.shape[0]))\n",
    "        self.bias = nn.Parameter(torch.Tensor(self.shape[1]))\n",
    "        torch.nn.init.normal_(self.weights, mean=0.0, std=1.0)\n",
    "        torch.nn.init.normal_(self.bias, mean=0.0, std=0.1)\n",
    "\n",
    "    def forward(self, x):\n",
    "        sparse_tensor = scatter_nd(self.nonzero_indices, self.weights, self.shape)\n",
    "        x = torch.mm(x, sparse_tensor)\n",
    "        # no bias yet\n",
    "        x = x + self.bias\n",
    "        return x\n",
    "\n",
    "    \n",
    "class PNet(BaseNet):\n",
    "    \"\"\"Implementation of the pnet sparse feedforward network in torch. Uses the same\n",
    "    pytorch geometric dataset as the message passing networks.\n",
    "    \"\"\"\n",
    "\n",
    "    def __init__(self, layers, num_genes: int, num_features: int=3, lr: float = 0.001, intermediate_outputs: bool=True):\n",
    "        \"\"\"Initialize.\n",
    "        :param layers: list of pandas dataframes describing the pnet masks for each\n",
    "            layer\n",
    "        :param num_genes: number of genes in dataset\n",
    "        :param num_features: number of features for each gene\n",
    "        :param lr: learning rate\n",
    "        \"\"\"\n",
    "        super().__init__(lr=lr)\n",
    "        self.criterion = nn.BCELoss(reduction=\"sum\")\n",
    "        self.layers = layers\n",
    "        self.num_genes = num_genes\n",
    "        self.num_features = num_features\n",
    "        self.intermediate_outputs = intermediate_outputs\n",
    "        self.network = nn.ModuleList()\n",
    "        self.intermediate_outs = nn.ModuleList()\n",
    "        self.network.append(nn.Sequential(FeatureLayer(self.num_genes, self.num_features),nn.Tanh()))\n",
    "        self.loss_weights=[2, 7, 20, 54, 148, 400] ## Taken from pnet - final output layer is the last element\n",
    "        for i, layer_map in enumerate(layers):\n",
    "            if i != (len(layers) - 1):\n",
    "                if i==0:\n",
    "                    ## First layer has dropout of 0.5, the rest have 0.1\n",
    "                    dropout=0.5\n",
    "                else:\n",
    "                    dropout=0.1\n",
    "                    ## Build pnet layers\n",
    "                self.network.append(\n",
    "                    nn.Sequential(nn.Dropout(p=dropout),SparseLayer(layer_map),nn.Tanh())\n",
    "                                    )\n",
    "                    ## Build layers for intermediate output\n",
    "                if self.intermediate_outputs:\n",
    "                    self.intermediate_outs.append(\n",
    "                    nn.Sequential(nn.Linear(layer_map.shape[0], 1),nn.Sigmoid())\n",
    "                                                  )\n",
    "            else:\n",
    "                self.network.append(nn.Sequential(nn.Linear(layer_map.shape[0], 1),nn.Sigmoid()))\n",
    "                \n",
    "    def forward(self, data):\n",
    "        \"\"\"Only uses the \"node features\", which in this case we just treat as a data\n",
    "        vector for the sparse feedforward network.\n",
    "        \"\"\"\n",
    "        ## Create list for each component of the loss:\n",
    "        # reshape for batching appropriate for feedfoward network\n",
    "        x=[torch.reshape(\n",
    "            data.x, (int(data.batch[-1] + 1), self.num_genes, self.num_features)\n",
    "        )]\n",
    "        \n",
    "        ## First element in list is the final layer output\n",
    "        ## **but second element comes from second layer!**, etc.\n",
    "        x[0]=self.network[0](x[0])\n",
    "        for aa in range(1,len(self.network)-1):\n",
    "            x.append(self.intermediate_outs[aa-1](x[0]))\n",
    "            x[0]=self.network[aa](x[0])\n",
    "        x[0]=self.network[-1](x[0])\n",
    "        \n",
    "        # x.reverse()\n",
    "        ## **Swap the first element to the end**\n",
    "        ## to align with self.loss_weights\n",
    "        x = x[1:] + [x[0]]\n",
    "        #print(x)\n",
    "        return x\n",
    "    \n",
    "    def step(self, batch, kind: str) -> dict:\n",
    "        \"\"\" Step function executed by lightning trainer module.\n",
    "        \"\"\"\n",
    "        # run the model and calculate loss\n",
    "        y_hat = self(batch)\n",
    "\n",
    "        loss=0\n",
    "        for aa,y in enumerate(y_hat):\n",
    "            ## Here we take a weighted average of the preditive outputs. Intermediate layers first\n",
    "            loss+=(self.loss_weights[aa]*self.criterion(y.squeeze(), batch.y.to(torch.float32)))\n",
    "        loss/=np.sum(self.loss_weights[aa])\n",
    "\n",
    "        correct = ((y_hat[-1]>0.5).flatten()==batch.y).sum()\n",
    "        # assess accuracy\n",
    "        total = len(batch.y)\n",
    "        batch_dict = {\n",
    "            \"loss\": loss,\n",
    "            # correct and total will be used at epoch end\n",
    "            \"correct\": correct,\n",
    "            \"total\": total,\n",
    "        }\n",
    "        return batch_dict\n"
   ]
  },
  {
   "cell_type": "code",
   "execution_count": 10,
   "id": "1e21bf80-6414-4566-add7-d34a9eedd3af",
   "metadata": {},
   "outputs": [
    {
     "name": "stdout",
     "output_type": "stream",
     "text": [
      "layer # 0\n",
      "pathways 146\n",
      "genes 10621\n",
      "filtered_map (9054, 0)\n",
      "filtered_map (9054, 0)\n",
      "filtered_map (9054, 0)\n",
      "layer # 1\n",
      "pathways 26\n",
      "genes 147\n",
      "filtered_map (146, 0)\n",
      "filtered_map (146, 0)\n",
      "filtered_map (146, 0)\n",
      "layer # 2\n",
      "pathways 1\n",
      "genes 26\n",
      "filtered_map (26, 0)\n",
      "filtered_map (26, 0)\n",
      "filtered_map (26, 0)\n"
     ]
    }
   ],
   "source": [
    "reactome_kws = dict(\n",
    "    reactome_base_dir=os.path.join(\"/mnt/home/cpedersen/ceph/Data/data\", \"reactome\"),\n",
    "    relations_file_name=\"ReactomePathwaysRelation.txt\",\n",
    "    pathway_names_file_name=\"ReactomePathways.txt\",\n",
    "    pathway_genes_file_name=\"ReactomePathways.gmt\",\n",
    ")\n",
    "reactome = ReactomeNetwork(reactome_kws)\n",
    "\n",
    "prostate_root = os.path.join(\"/mnt/home/cpedersen/ceph/Data/data\", \"prostate\")\n",
    "dataset = PnetDataSet(\n",
    "    root=prostate_root,\n",
    "    name=\"prostate_graph_humanbase\",\n",
    "    edge_tol=0.5,\n",
    "    pre_transform=T.Compose(\n",
    "        [T.GCNNorm(add_self_loops=False), T.ToSparseTensor(remove_edge_index=False)]\n",
    "    )\n",
    ")\n",
    "\n",
    "# loads the train/valid/test split from pnet\n",
    "splits_root = os.path.join(prostate_root, \"splits\")\n",
    "dataset.split_index_by_file(\n",
    "    train_fp=os.path.join(splits_root, \"training_set_0.csv\"),\n",
    "    valid_fp=os.path.join(splits_root, \"validation_set.csv\"),\n",
    "    test_fp=os.path.join(splits_root, \"test_set.csv\"),\n",
    ")\n",
    "#pl.seed_everything(42, workers=True)\n",
    "\n",
    "n_epochs = 40\n",
    "batch_size = 10\n",
    "lr = 0.001\n",
    "## Maps for pnet connections\n",
    "maps = get_layer_maps(\n",
    "    genes=[g for g in dataset.node_index],\n",
    "    reactome=reactome,\n",
    "    n_levels=2,\n",
    "    direction=\"root_to_leaf\",\n",
    "    add_unk_genes=False,\n",
    "    verbose=True,\n",
    ")\n",
    "\n",
    "train_loader = DataLoader(\n",
    "    dataset,\n",
    "    batch_size=batch_size,\n",
    "    sampler=SubsetRandomSampler(dataset.train_idx),\n",
    "    drop_last=True\n",
    ")\n",
    "valid_loader = DataLoader(\n",
    "    dataset,\n",
    "    batch_size=batch_size,\n",
    "    sampler=SubsetRandomSampler(dataset.valid_idx),\n",
    "    drop_last=True\n",
    ")\n",
    "\n",
    "test_loader = DataLoader(\n",
    "    dataset,\n",
    "    batch_size=batch_size,\n",
    "    sampler=SubsetRandomSampler(\n",
    "        dataset.test_idx,\n",
    "        generator=torch.Generator().manual_seed(43),\n",
    "    ),\n",
    "    drop_last=True,\n",
    ")"
   ]
  },
  {
   "cell_type": "code",
   "execution_count": 11,
   "id": "27fcadb8-39b7-4d83-8e5c-42a03f33e6fd",
   "metadata": {},
   "outputs": [],
   "source": [
    "data=next(iter(test_loader))"
   ]
  },
  {
   "cell_type": "code",
   "execution_count": 12,
   "id": "0928c9c2-fe65-4624-8d54-749430cb08ce",
   "metadata": {},
   "outputs": [],
   "source": [
    "model = PNet(\n",
    "    layers=maps,\n",
    "    num_genes=maps[0].shape[0], # 9054\n",
    "    lr=lr\n",
    ")"
   ]
  },
  {
   "cell_type": "code",
   "execution_count": 13,
   "id": "02b6ae79-73c1-4fa2-8040-35fb271c70d9",
   "metadata": {},
   "outputs": [
    {
     "name": "stderr",
     "output_type": "stream",
     "text": [
      "/mnt/home/ttesileanu/miniconda3/envs/cancerenv/lib/python3.9/site-packages/lightning_fabric/plugins/environments/slurm.py:166: PossibleUserWarning: The `srun` command is available on your system but is not used. HINT: If your intention is to run Lightning on SLURM, prepend your python command with `srun` like so: srun python /mnt/home/ttesileanu/miniconda3/envs/cancerenv/lib/p ...\n",
      "  rank_zero_warn(\n",
      "GPU available: True (cuda), used: True\n",
      "TPU available: False, using: 0 TPU cores\n",
      "IPU available: False, using: 0 IPUs\n",
      "HPU available: False, using: 0 HPUs\n",
      "LOCAL_RANK: 0 - CUDA_VISIBLE_DEVICES: [0]\n",
      "\n",
      "  | Name              | Type       | Params\n",
      "-------------------------------------------------\n",
      "0 | criterion         | BCELoss    | 0     \n",
      "1 | network           | ModuleList | 47.7 K\n",
      "2 | intermediate_outs | ModuleList | 9.2 K \n",
      "-------------------------------------------------\n",
      "56.9 K    Trainable params\n",
      "0         Non-trainable params\n",
      "56.9 K    Total params\n",
      "0.228     Total estimated model params size (MB)\n"
     ]
    },
    {
     "data": {
      "application/vnd.jupyter.widget-view+json": {
       "model_id": "3ca7023be6d44f7d8b22feb50190842d",
       "version_major": 2,
       "version_minor": 0
      },
      "text/plain": [
       "Sanity Checking: 0it [00:00, ?it/s]"
      ]
     },
     "metadata": {},
     "output_type": "display_data"
    },
    {
     "name": "stderr",
     "output_type": "stream",
     "text": [
      "/mnt/home/ttesileanu/miniconda3/envs/cancerenv/lib/python3.9/site-packages/pytorch_lightning/trainer/connectors/data_connector.py:224: PossibleUserWarning: The dataloader, val_dataloader 0, does not have many workers which may be a bottleneck. Consider increasing the value of the `num_workers` argument` (try 16 which is the number of cpus on this machine) in the `DataLoader` init to improve performance.\n",
      "  rank_zero_warn(\n",
      "/mnt/home/ttesileanu/miniconda3/envs/cancerenv/lib/python3.9/site-packages/pytorch_lightning/trainer/connectors/data_connector.py:224: PossibleUserWarning: The dataloader, train_dataloader, does not have many workers which may be a bottleneck. Consider increasing the value of the `num_workers` argument` (try 16 which is the number of cpus on this machine) in the `DataLoader` init to improve performance.\n",
      "  rank_zero_warn(\n"
     ]
    },
    {
     "data": {
      "application/vnd.jupyter.widget-view+json": {
       "model_id": "d1b22e8f6d81420ea097c23cde390f13",
       "version_major": 2,
       "version_minor": 0
      },
      "text/plain": [
       "Training: 0it [00:00, ?it/s]"
      ]
     },
     "metadata": {},
     "output_type": "display_data"
    },
    {
     "data": {
      "application/vnd.jupyter.widget-view+json": {
       "model_id": "d485bb199f66405286e80dac7ab6a5c1",
       "version_major": 2,
       "version_minor": 0
      },
      "text/plain": [
       "Validation: 0it [00:00, ?it/s]"
      ]
     },
     "metadata": {},
     "output_type": "display_data"
    },
    {
     "data": {
      "application/vnd.jupyter.widget-view+json": {
       "model_id": "a87a964b1b774f6fbe3bb4dcfb9178b7",
       "version_major": 2,
       "version_minor": 0
      },
      "text/plain": [
       "Validation: 0it [00:00, ?it/s]"
      ]
     },
     "metadata": {},
     "output_type": "display_data"
    },
    {
     "data": {
      "application/vnd.jupyter.widget-view+json": {
       "model_id": "3b189bd06ae24c7b86c8807e3f5c1e19",
       "version_major": 2,
       "version_minor": 0
      },
      "text/plain": [
       "Validation: 0it [00:00, ?it/s]"
      ]
     },
     "metadata": {},
     "output_type": "display_data"
    },
    {
     "data": {
      "application/vnd.jupyter.widget-view+json": {
       "model_id": "36bff11bdb434e94aff5e5ba1fc9283a",
       "version_major": 2,
       "version_minor": 0
      },
      "text/plain": [
       "Validation: 0it [00:00, ?it/s]"
      ]
     },
     "metadata": {},
     "output_type": "display_data"
    },
    {
     "data": {
      "application/vnd.jupyter.widget-view+json": {
       "model_id": "81d9ab45b0aa48c5af0503f17243dcc0",
       "version_major": 2,
       "version_minor": 0
      },
      "text/plain": [
       "Validation: 0it [00:00, ?it/s]"
      ]
     },
     "metadata": {},
     "output_type": "display_data"
    },
    {
     "data": {
      "application/vnd.jupyter.widget-view+json": {
       "model_id": "c4cef83920204b9b954aeadc20dec5ff",
       "version_major": 2,
       "version_minor": 0
      },
      "text/plain": [
       "Validation: 0it [00:00, ?it/s]"
      ]
     },
     "metadata": {},
     "output_type": "display_data"
    },
    {
     "data": {
      "application/vnd.jupyter.widget-view+json": {
       "model_id": "548c529d599e4a138c7a043522d330a1",
       "version_major": 2,
       "version_minor": 0
      },
      "text/plain": [
       "Validation: 0it [00:00, ?it/s]"
      ]
     },
     "metadata": {},
     "output_type": "display_data"
    },
    {
     "data": {
      "application/vnd.jupyter.widget-view+json": {
       "model_id": "7ee3834b0fc24bbda93cbcebc94efca5",
       "version_major": 2,
       "version_minor": 0
      },
      "text/plain": [
       "Validation: 0it [00:00, ?it/s]"
      ]
     },
     "metadata": {},
     "output_type": "display_data"
    },
    {
     "data": {
      "application/vnd.jupyter.widget-view+json": {
       "model_id": "429163efcde6462fbea01a6f60e6d64c",
       "version_major": 2,
       "version_minor": 0
      },
      "text/plain": [
       "Validation: 0it [00:00, ?it/s]"
      ]
     },
     "metadata": {},
     "output_type": "display_data"
    },
    {
     "data": {
      "application/vnd.jupyter.widget-view+json": {
       "model_id": "83fcf24cea244968a53485c9a1fa2db2",
       "version_major": 2,
       "version_minor": 0
      },
      "text/plain": [
       "Validation: 0it [00:00, ?it/s]"
      ]
     },
     "metadata": {},
     "output_type": "display_data"
    },
    {
     "data": {
      "application/vnd.jupyter.widget-view+json": {
       "model_id": "01ad961cffd547e5a5b8b0a2cc76f7f1",
       "version_major": 2,
       "version_minor": 0
      },
      "text/plain": [
       "Validation: 0it [00:00, ?it/s]"
      ]
     },
     "metadata": {},
     "output_type": "display_data"
    },
    {
     "data": {
      "application/vnd.jupyter.widget-view+json": {
       "model_id": "19e7af69ccfd4834a62c13ac03fef56d",
       "version_major": 2,
       "version_minor": 0
      },
      "text/plain": [
       "Validation: 0it [00:00, ?it/s]"
      ]
     },
     "metadata": {},
     "output_type": "display_data"
    },
    {
     "data": {
      "application/vnd.jupyter.widget-view+json": {
       "model_id": "cc738e333c534cc69c38b34e7d7d7a74",
       "version_major": 2,
       "version_minor": 0
      },
      "text/plain": [
       "Validation: 0it [00:00, ?it/s]"
      ]
     },
     "metadata": {},
     "output_type": "display_data"
    },
    {
     "data": {
      "application/vnd.jupyter.widget-view+json": {
       "model_id": "04f826e7779445259b1c2544517c7699",
       "version_major": 2,
       "version_minor": 0
      },
      "text/plain": [
       "Validation: 0it [00:00, ?it/s]"
      ]
     },
     "metadata": {},
     "output_type": "display_data"
    },
    {
     "data": {
      "application/vnd.jupyter.widget-view+json": {
       "model_id": "79caa99c1f164eaeb4d589c71dcccf85",
       "version_major": 2,
       "version_minor": 0
      },
      "text/plain": [
       "Validation: 0it [00:00, ?it/s]"
      ]
     },
     "metadata": {},
     "output_type": "display_data"
    },
    {
     "data": {
      "application/vnd.jupyter.widget-view+json": {
       "model_id": "124ea65aea7f48e4acca988b46d644aa",
       "version_major": 2,
       "version_minor": 0
      },
      "text/plain": [
       "Validation: 0it [00:00, ?it/s]"
      ]
     },
     "metadata": {},
     "output_type": "display_data"
    },
    {
     "data": {
      "application/vnd.jupyter.widget-view+json": {
       "model_id": "4fb1fdef6e72425dbfbe346d115edbaa",
       "version_major": 2,
       "version_minor": 0
      },
      "text/plain": [
       "Validation: 0it [00:00, ?it/s]"
      ]
     },
     "metadata": {},
     "output_type": "display_data"
    },
    {
     "data": {
      "application/vnd.jupyter.widget-view+json": {
       "model_id": "55d0c4256de04b1ea5df971c89b77cd0",
       "version_major": 2,
       "version_minor": 0
      },
      "text/plain": [
       "Validation: 0it [00:00, ?it/s]"
      ]
     },
     "metadata": {},
     "output_type": "display_data"
    },
    {
     "data": {
      "application/vnd.jupyter.widget-view+json": {
       "model_id": "7fbb67d7fc244cd9b9dd6f9471d8c695",
       "version_major": 2,
       "version_minor": 0
      },
      "text/plain": [
       "Validation: 0it [00:00, ?it/s]"
      ]
     },
     "metadata": {},
     "output_type": "display_data"
    },
    {
     "data": {
      "application/vnd.jupyter.widget-view+json": {
       "model_id": "138de163f84a4377aed2c2a5d3da62ce",
       "version_major": 2,
       "version_minor": 0
      },
      "text/plain": [
       "Validation: 0it [00:00, ?it/s]"
      ]
     },
     "metadata": {},
     "output_type": "display_data"
    },
    {
     "data": {
      "application/vnd.jupyter.widget-view+json": {
       "model_id": "f8c456f74a43492e9dc0ef86e6246f21",
       "version_major": 2,
       "version_minor": 0
      },
      "text/plain": [
       "Validation: 0it [00:00, ?it/s]"
      ]
     },
     "metadata": {},
     "output_type": "display_data"
    },
    {
     "data": {
      "application/vnd.jupyter.widget-view+json": {
       "model_id": "3e8e1ab003d64961bd88ad1e176d2f99",
       "version_major": 2,
       "version_minor": 0
      },
      "text/plain": [
       "Validation: 0it [00:00, ?it/s]"
      ]
     },
     "metadata": {},
     "output_type": "display_data"
    },
    {
     "data": {
      "application/vnd.jupyter.widget-view+json": {
       "model_id": "bb2c75168180442ca4e3981e1e882af2",
       "version_major": 2,
       "version_minor": 0
      },
      "text/plain": [
       "Validation: 0it [00:00, ?it/s]"
      ]
     },
     "metadata": {},
     "output_type": "display_data"
    },
    {
     "data": {
      "application/vnd.jupyter.widget-view+json": {
       "model_id": "5145ba1f177143eba334332eb0360ba6",
       "version_major": 2,
       "version_minor": 0
      },
      "text/plain": [
       "Validation: 0it [00:00, ?it/s]"
      ]
     },
     "metadata": {},
     "output_type": "display_data"
    },
    {
     "data": {
      "application/vnd.jupyter.widget-view+json": {
       "model_id": "2fc69d586f934673be4c48aea4ad75be",
       "version_major": 2,
       "version_minor": 0
      },
      "text/plain": [
       "Validation: 0it [00:00, ?it/s]"
      ]
     },
     "metadata": {},
     "output_type": "display_data"
    },
    {
     "data": {
      "application/vnd.jupyter.widget-view+json": {
       "model_id": "1a3097f6c1a842c4ab362d1815a9d9be",
       "version_major": 2,
       "version_minor": 0
      },
      "text/plain": [
       "Validation: 0it [00:00, ?it/s]"
      ]
     },
     "metadata": {},
     "output_type": "display_data"
    },
    {
     "data": {
      "application/vnd.jupyter.widget-view+json": {
       "model_id": "cbf27c02c6de454ab54e5fbd50dfc2a9",
       "version_major": 2,
       "version_minor": 0
      },
      "text/plain": [
       "Validation: 0it [00:00, ?it/s]"
      ]
     },
     "metadata": {},
     "output_type": "display_data"
    },
    {
     "data": {
      "application/vnd.jupyter.widget-view+json": {
       "model_id": "802ae23a57cb4050bdaadc9c7ad24fc7",
       "version_major": 2,
       "version_minor": 0
      },
      "text/plain": [
       "Validation: 0it [00:00, ?it/s]"
      ]
     },
     "metadata": {},
     "output_type": "display_data"
    },
    {
     "data": {
      "application/vnd.jupyter.widget-view+json": {
       "model_id": "3c36df72e00343139f7f5dbb330156ee",
       "version_major": 2,
       "version_minor": 0
      },
      "text/plain": [
       "Validation: 0it [00:00, ?it/s]"
      ]
     },
     "metadata": {},
     "output_type": "display_data"
    },
    {
     "data": {
      "application/vnd.jupyter.widget-view+json": {
       "model_id": "f5566c08089249678cecb4320e2adaa5",
       "version_major": 2,
       "version_minor": 0
      },
      "text/plain": [
       "Validation: 0it [00:00, ?it/s]"
      ]
     },
     "metadata": {},
     "output_type": "display_data"
    },
    {
     "data": {
      "application/vnd.jupyter.widget-view+json": {
       "model_id": "7740121dcf044ba793c90605cd2f6a62",
       "version_major": 2,
       "version_minor": 0
      },
      "text/plain": [
       "Validation: 0it [00:00, ?it/s]"
      ]
     },
     "metadata": {},
     "output_type": "display_data"
    },
    {
     "data": {
      "application/vnd.jupyter.widget-view+json": {
       "model_id": "844f6ee4edd348b89c6a1e65e7155828",
       "version_major": 2,
       "version_minor": 0
      },
      "text/plain": [
       "Validation: 0it [00:00, ?it/s]"
      ]
     },
     "metadata": {},
     "output_type": "display_data"
    },
    {
     "data": {
      "application/vnd.jupyter.widget-view+json": {
       "model_id": "7ccdf805bf214567a0d6d6e128ef873b",
       "version_major": 2,
       "version_minor": 0
      },
      "text/plain": [
       "Validation: 0it [00:00, ?it/s]"
      ]
     },
     "metadata": {},
     "output_type": "display_data"
    },
    {
     "data": {
      "application/vnd.jupyter.widget-view+json": {
       "model_id": "30e84a1739ba4e56979f14c10cca156c",
       "version_major": 2,
       "version_minor": 0
      },
      "text/plain": [
       "Validation: 0it [00:00, ?it/s]"
      ]
     },
     "metadata": {},
     "output_type": "display_data"
    },
    {
     "data": {
      "application/vnd.jupyter.widget-view+json": {
       "model_id": "a89bff6c5afc45d7b7c324c66cca8ef9",
       "version_major": 2,
       "version_minor": 0
      },
      "text/plain": [
       "Validation: 0it [00:00, ?it/s]"
      ]
     },
     "metadata": {},
     "output_type": "display_data"
    },
    {
     "data": {
      "application/vnd.jupyter.widget-view+json": {
       "model_id": "9926be8f7d454e42819f679a16d31617",
       "version_major": 2,
       "version_minor": 0
      },
      "text/plain": [
       "Validation: 0it [00:00, ?it/s]"
      ]
     },
     "metadata": {},
     "output_type": "display_data"
    },
    {
     "data": {
      "application/vnd.jupyter.widget-view+json": {
       "model_id": "93020904b5ca4b358089be8ff77107b3",
       "version_major": 2,
       "version_minor": 0
      },
      "text/plain": [
       "Validation: 0it [00:00, ?it/s]"
      ]
     },
     "metadata": {},
     "output_type": "display_data"
    },
    {
     "data": {
      "application/vnd.jupyter.widget-view+json": {
       "model_id": "7d17628b67084d9f933a460155ba0c77",
       "version_major": 2,
       "version_minor": 0
      },
      "text/plain": [
       "Validation: 0it [00:00, ?it/s]"
      ]
     },
     "metadata": {},
     "output_type": "display_data"
    },
    {
     "data": {
      "application/vnd.jupyter.widget-view+json": {
       "model_id": "e44c41b17a7a4769901fd045ada2b1e9",
       "version_major": 2,
       "version_minor": 0
      },
      "text/plain": [
       "Validation: 0it [00:00, ?it/s]"
      ]
     },
     "metadata": {},
     "output_type": "display_data"
    },
    {
     "data": {
      "application/vnd.jupyter.widget-view+json": {
       "model_id": "d9ce33ffd75d4124b67dfaa480d59be3",
       "version_major": 2,
       "version_minor": 0
      },
      "text/plain": [
       "Validation: 0it [00:00, ?it/s]"
      ]
     },
     "metadata": {},
     "output_type": "display_data"
    },
    {
     "data": {
      "application/vnd.jupyter.widget-view+json": {
       "model_id": "f50ea30e02e4408abb42df3ffc6e7398",
       "version_major": 2,
       "version_minor": 0
      },
      "text/plain": [
       "Validation: 0it [00:00, ?it/s]"
      ]
     },
     "metadata": {},
     "output_type": "display_data"
    },
    {
     "data": {
      "application/vnd.jupyter.widget-view+json": {
       "model_id": "cc9029a03a084665928e80450838019b",
       "version_major": 2,
       "version_minor": 0
      },
      "text/plain": [
       "Validation: 0it [00:00, ?it/s]"
      ]
     },
     "metadata": {},
     "output_type": "display_data"
    },
    {
     "data": {
      "application/vnd.jupyter.widget-view+json": {
       "model_id": "11fd9914d1074b8b8d4f028a85c187f9",
       "version_major": 2,
       "version_minor": 0
      },
      "text/plain": [
       "Validation: 0it [00:00, ?it/s]"
      ]
     },
     "metadata": {},
     "output_type": "display_data"
    },
    {
     "data": {
      "application/vnd.jupyter.widget-view+json": {
       "model_id": "73734943a9aa460d8fbd6883987fdd72",
       "version_major": 2,
       "version_minor": 0
      },
      "text/plain": [
       "Validation: 0it [00:00, ?it/s]"
      ]
     },
     "metadata": {},
     "output_type": "display_data"
    },
    {
     "data": {
      "application/vnd.jupyter.widget-view+json": {
       "model_id": "10b61d8057154b67bc00288aff97d6d7",
       "version_major": 2,
       "version_minor": 0
      },
      "text/plain": [
       "Validation: 0it [00:00, ?it/s]"
      ]
     },
     "metadata": {},
     "output_type": "display_data"
    },
    {
     "data": {
      "application/vnd.jupyter.widget-view+json": {
       "model_id": "23f59360037c48be8240e6bd09558a63",
       "version_major": 2,
       "version_minor": 0
      },
      "text/plain": [
       "Validation: 0it [00:00, ?it/s]"
      ]
     },
     "metadata": {},
     "output_type": "display_data"
    },
    {
     "data": {
      "application/vnd.jupyter.widget-view+json": {
       "model_id": "5c2bb330ca11490c87662dd167462ecb",
       "version_major": 2,
       "version_minor": 0
      },
      "text/plain": [
       "Validation: 0it [00:00, ?it/s]"
      ]
     },
     "metadata": {},
     "output_type": "display_data"
    },
    {
     "data": {
      "application/vnd.jupyter.widget-view+json": {
       "model_id": "6fab72792ff04e4c9b862cdf7d8a97f6",
       "version_major": 2,
       "version_minor": 0
      },
      "text/plain": [
       "Validation: 0it [00:00, ?it/s]"
      ]
     },
     "metadata": {},
     "output_type": "display_data"
    },
    {
     "data": {
      "application/vnd.jupyter.widget-view+json": {
       "model_id": "2a7aa26390564e58a588c305b1100ac2",
       "version_major": 2,
       "version_minor": 0
      },
      "text/plain": [
       "Validation: 0it [00:00, ?it/s]"
      ]
     },
     "metadata": {},
     "output_type": "display_data"
    },
    {
     "data": {
      "application/vnd.jupyter.widget-view+json": {
       "model_id": "cabef61ac885451385ba8090c52a6585",
       "version_major": 2,
       "version_minor": 0
      },
      "text/plain": [
       "Validation: 0it [00:00, ?it/s]"
      ]
     },
     "metadata": {},
     "output_type": "display_data"
    },
    {
     "data": {
      "application/vnd.jupyter.widget-view+json": {
       "model_id": "ba11f44404f24dfd89473619ffabfc49",
       "version_major": 2,
       "version_minor": 0
      },
      "text/plain": [
       "Validation: 0it [00:00, ?it/s]"
      ]
     },
     "metadata": {},
     "output_type": "display_data"
    },
    {
     "data": {
      "application/vnd.jupyter.widget-view+json": {
       "model_id": "d2bbcab0bd8b4f4795afa037192ad20d",
       "version_major": 2,
       "version_minor": 0
      },
      "text/plain": [
       "Validation: 0it [00:00, ?it/s]"
      ]
     },
     "metadata": {},
     "output_type": "display_data"
    },
    {
     "data": {
      "application/vnd.jupyter.widget-view+json": {
       "model_id": "0d132666a6b44e74b9d2457aadaffadc",
       "version_major": 2,
       "version_minor": 0
      },
      "text/plain": [
       "Validation: 0it [00:00, ?it/s]"
      ]
     },
     "metadata": {},
     "output_type": "display_data"
    },
    {
     "data": {
      "application/vnd.jupyter.widget-view+json": {
       "model_id": "07a86f0a5d8a4a28aefe8396dcb143bc",
       "version_major": 2,
       "version_minor": 0
      },
      "text/plain": [
       "Validation: 0it [00:00, ?it/s]"
      ]
     },
     "metadata": {},
     "output_type": "display_data"
    },
    {
     "data": {
      "application/vnd.jupyter.widget-view+json": {
       "model_id": "f26285b306564fff9e8a647fbb3efc89",
       "version_major": 2,
       "version_minor": 0
      },
      "text/plain": [
       "Validation: 0it [00:00, ?it/s]"
      ]
     },
     "metadata": {},
     "output_type": "display_data"
    },
    {
     "data": {
      "application/vnd.jupyter.widget-view+json": {
       "model_id": "9e1a0c423ba54c9ba489b853661ad07b",
       "version_major": 2,
       "version_minor": 0
      },
      "text/plain": [
       "Validation: 0it [00:00, ?it/s]"
      ]
     },
     "metadata": {},
     "output_type": "display_data"
    },
    {
     "data": {
      "application/vnd.jupyter.widget-view+json": {
       "model_id": "13cb784a3b1141e4bbe0c65ce791c283",
       "version_major": 2,
       "version_minor": 0
      },
      "text/plain": [
       "Validation: 0it [00:00, ?it/s]"
      ]
     },
     "metadata": {},
     "output_type": "display_data"
    },
    {
     "data": {
      "application/vnd.jupyter.widget-view+json": {
       "model_id": "5e69d03839a743bfb66f6fa142bedba1",
       "version_major": 2,
       "version_minor": 0
      },
      "text/plain": [
       "Validation: 0it [00:00, ?it/s]"
      ]
     },
     "metadata": {},
     "output_type": "display_data"
    },
    {
     "data": {
      "application/vnd.jupyter.widget-view+json": {
       "model_id": "463d589f167c4e5587b48713573af670",
       "version_major": 2,
       "version_minor": 0
      },
      "text/plain": [
       "Validation: 0it [00:00, ?it/s]"
      ]
     },
     "metadata": {},
     "output_type": "display_data"
    },
    {
     "data": {
      "application/vnd.jupyter.widget-view+json": {
       "model_id": "f5dcf62757954bacaad71e95478cc97f",
       "version_major": 2,
       "version_minor": 0
      },
      "text/plain": [
       "Validation: 0it [00:00, ?it/s]"
      ]
     },
     "metadata": {},
     "output_type": "display_data"
    },
    {
     "data": {
      "application/vnd.jupyter.widget-view+json": {
       "model_id": "fb77ca4c19af4299bce222c162bb8485",
       "version_major": 2,
       "version_minor": 0
      },
      "text/plain": [
       "Validation: 0it [00:00, ?it/s]"
      ]
     },
     "metadata": {},
     "output_type": "display_data"
    },
    {
     "data": {
      "application/vnd.jupyter.widget-view+json": {
       "model_id": "7c9595a6bb73470db951a408fe389dcb",
       "version_major": 2,
       "version_minor": 0
      },
      "text/plain": [
       "Validation: 0it [00:00, ?it/s]"
      ]
     },
     "metadata": {},
     "output_type": "display_data"
    },
    {
     "data": {
      "application/vnd.jupyter.widget-view+json": {
       "model_id": "bc2a4cd1918641e2996a29f0a21a052c",
       "version_major": 2,
       "version_minor": 0
      },
      "text/plain": [
       "Validation: 0it [00:00, ?it/s]"
      ]
     },
     "metadata": {},
     "output_type": "display_data"
    },
    {
     "data": {
      "application/vnd.jupyter.widget-view+json": {
       "model_id": "6837ae0171f94b28a81e42ecb7fc2657",
       "version_major": 2,
       "version_minor": 0
      },
      "text/plain": [
       "Validation: 0it [00:00, ?it/s]"
      ]
     },
     "metadata": {},
     "output_type": "display_data"
    },
    {
     "data": {
      "application/vnd.jupyter.widget-view+json": {
       "model_id": "8f2e392a5884428eb53241719b913843",
       "version_major": 2,
       "version_minor": 0
      },
      "text/plain": [
       "Validation: 0it [00:00, ?it/s]"
      ]
     },
     "metadata": {},
     "output_type": "display_data"
    },
    {
     "data": {
      "application/vnd.jupyter.widget-view+json": {
       "model_id": "d9e7d9131f4c4098b91bee076e19188a",
       "version_major": 2,
       "version_minor": 0
      },
      "text/plain": [
       "Validation: 0it [00:00, ?it/s]"
      ]
     },
     "metadata": {},
     "output_type": "display_data"
    },
    {
     "data": {
      "application/vnd.jupyter.widget-view+json": {
       "model_id": "28aea3077fba476e8308a8da33120800",
       "version_major": 2,
       "version_minor": 0
      },
      "text/plain": [
       "Validation: 0it [00:00, ?it/s]"
      ]
     },
     "metadata": {},
     "output_type": "display_data"
    },
    {
     "data": {
      "application/vnd.jupyter.widget-view+json": {
       "model_id": "23954925d2e44906883df9c87e300752",
       "version_major": 2,
       "version_minor": 0
      },
      "text/plain": [
       "Validation: 0it [00:00, ?it/s]"
      ]
     },
     "metadata": {},
     "output_type": "display_data"
    },
    {
     "data": {
      "application/vnd.jupyter.widget-view+json": {
       "model_id": "b568de9253bd4a5cb3cae4d91712d1d0",
       "version_major": 2,
       "version_minor": 0
      },
      "text/plain": [
       "Validation: 0it [00:00, ?it/s]"
      ]
     },
     "metadata": {},
     "output_type": "display_data"
    },
    {
     "data": {
      "application/vnd.jupyter.widget-view+json": {
       "model_id": "a439242a7cf842eb904999eaa51d05a1",
       "version_major": 2,
       "version_minor": 0
      },
      "text/plain": [
       "Validation: 0it [00:00, ?it/s]"
      ]
     },
     "metadata": {},
     "output_type": "display_data"
    },
    {
     "data": {
      "application/vnd.jupyter.widget-view+json": {
       "model_id": "6ae75b5112be4ff9a6b2d90b0f5a2714",
       "version_major": 2,
       "version_minor": 0
      },
      "text/plain": [
       "Validation: 0it [00:00, ?it/s]"
      ]
     },
     "metadata": {},
     "output_type": "display_data"
    },
    {
     "data": {
      "application/vnd.jupyter.widget-view+json": {
       "model_id": "694be065886046d98798d2fc13c7c673",
       "version_major": 2,
       "version_minor": 0
      },
      "text/plain": [
       "Validation: 0it [00:00, ?it/s]"
      ]
     },
     "metadata": {},
     "output_type": "display_data"
    },
    {
     "data": {
      "application/vnd.jupyter.widget-view+json": {
       "model_id": "5f4332b66e5a4d63a4165f6489e83660",
       "version_major": 2,
       "version_minor": 0
      },
      "text/plain": [
       "Validation: 0it [00:00, ?it/s]"
      ]
     },
     "metadata": {},
     "output_type": "display_data"
    },
    {
     "data": {
      "application/vnd.jupyter.widget-view+json": {
       "model_id": "0d74dd6223394c3eb55af86fc8f02a92",
       "version_major": 2,
       "version_minor": 0
      },
      "text/plain": [
       "Validation: 0it [00:00, ?it/s]"
      ]
     },
     "metadata": {},
     "output_type": "display_data"
    },
    {
     "data": {
      "application/vnd.jupyter.widget-view+json": {
       "model_id": "249a2eddbaee4e5e9c78356ac8a623f2",
       "version_major": 2,
       "version_minor": 0
      },
      "text/plain": [
       "Validation: 0it [00:00, ?it/s]"
      ]
     },
     "metadata": {},
     "output_type": "display_data"
    },
    {
     "data": {
      "application/vnd.jupyter.widget-view+json": {
       "model_id": "e490de211e3a4d129c7c54575c0c1f68",
       "version_major": 2,
       "version_minor": 0
      },
      "text/plain": [
       "Validation: 0it [00:00, ?it/s]"
      ]
     },
     "metadata": {},
     "output_type": "display_data"
    },
    {
     "data": {
      "application/vnd.jupyter.widget-view+json": {
       "model_id": "8b9b959a09e44141bc3abb585f596838",
       "version_major": 2,
       "version_minor": 0
      },
      "text/plain": [
       "Validation: 0it [00:00, ?it/s]"
      ]
     },
     "metadata": {},
     "output_type": "display_data"
    },
    {
     "data": {
      "application/vnd.jupyter.widget-view+json": {
       "model_id": "10c5584ba7864659a000e35a085b1979",
       "version_major": 2,
       "version_minor": 0
      },
      "text/plain": [
       "Validation: 0it [00:00, ?it/s]"
      ]
     },
     "metadata": {},
     "output_type": "display_data"
    },
    {
     "data": {
      "application/vnd.jupyter.widget-view+json": {
       "model_id": "37c687b893a94edcbbcbe1ebfbff01cc",
       "version_major": 2,
       "version_minor": 0
      },
      "text/plain": [
       "Validation: 0it [00:00, ?it/s]"
      ]
     },
     "metadata": {},
     "output_type": "display_data"
    },
    {
     "data": {
      "application/vnd.jupyter.widget-view+json": {
       "model_id": "64d4429f900941adb217cc977dbfde22",
       "version_major": 2,
       "version_minor": 0
      },
      "text/plain": [
       "Validation: 0it [00:00, ?it/s]"
      ]
     },
     "metadata": {},
     "output_type": "display_data"
    },
    {
     "data": {
      "application/vnd.jupyter.widget-view+json": {
       "model_id": "51f5157a2585416794ffa17608172fcc",
       "version_major": 2,
       "version_minor": 0
      },
      "text/plain": [
       "Validation: 0it [00:00, ?it/s]"
      ]
     },
     "metadata": {},
     "output_type": "display_data"
    },
    {
     "data": {
      "application/vnd.jupyter.widget-view+json": {
       "model_id": "a991e9bb583a466086510aca748a0329",
       "version_major": 2,
       "version_minor": 0
      },
      "text/plain": [
       "Validation: 0it [00:00, ?it/s]"
      ]
     },
     "metadata": {},
     "output_type": "display_data"
    },
    {
     "data": {
      "application/vnd.jupyter.widget-view+json": {
       "model_id": "49680df5f123469e8ebffcd08ec23f1c",
       "version_major": 2,
       "version_minor": 0
      },
      "text/plain": [
       "Validation: 0it [00:00, ?it/s]"
      ]
     },
     "metadata": {},
     "output_type": "display_data"
    },
    {
     "data": {
      "application/vnd.jupyter.widget-view+json": {
       "model_id": "7dcac92635364e8eaf8e83a4cef05d6c",
       "version_major": 2,
       "version_minor": 0
      },
      "text/plain": [
       "Validation: 0it [00:00, ?it/s]"
      ]
     },
     "metadata": {},
     "output_type": "display_data"
    },
    {
     "data": {
      "application/vnd.jupyter.widget-view+json": {
       "model_id": "9a3c90292be04b1a9828cdb3c4f476fe",
       "version_major": 2,
       "version_minor": 0
      },
      "text/plain": [
       "Validation: 0it [00:00, ?it/s]"
      ]
     },
     "metadata": {},
     "output_type": "display_data"
    },
    {
     "data": {
      "application/vnd.jupyter.widget-view+json": {
       "model_id": "5d6298bae8ce44c2afa8e58a5f0d23f2",
       "version_major": 2,
       "version_minor": 0
      },
      "text/plain": [
       "Validation: 0it [00:00, ?it/s]"
      ]
     },
     "metadata": {},
     "output_type": "display_data"
    },
    {
     "data": {
      "application/vnd.jupyter.widget-view+json": {
       "model_id": "1aef98c8c60b4e51a11b16f2ed5e1868",
       "version_major": 2,
       "version_minor": 0
      },
      "text/plain": [
       "Validation: 0it [00:00, ?it/s]"
      ]
     },
     "metadata": {},
     "output_type": "display_data"
    },
    {
     "data": {
      "application/vnd.jupyter.widget-view+json": {
       "model_id": "de868fd1117b44d4988bf88ce40f1c3a",
       "version_major": 2,
       "version_minor": 0
      },
      "text/plain": [
       "Validation: 0it [00:00, ?it/s]"
      ]
     },
     "metadata": {},
     "output_type": "display_data"
    },
    {
     "data": {
      "application/vnd.jupyter.widget-view+json": {
       "model_id": "03177287fa514f70a8132f3abb2c95fd",
       "version_major": 2,
       "version_minor": 0
      },
      "text/plain": [
       "Validation: 0it [00:00, ?it/s]"
      ]
     },
     "metadata": {},
     "output_type": "display_data"
    },
    {
     "data": {
      "application/vnd.jupyter.widget-view+json": {
       "model_id": "041babb1b1c546b689bbabda154803ab",
       "version_major": 2,
       "version_minor": 0
      },
      "text/plain": [
       "Validation: 0it [00:00, ?it/s]"
      ]
     },
     "metadata": {},
     "output_type": "display_data"
    },
    {
     "data": {
      "application/vnd.jupyter.widget-view+json": {
       "model_id": "6e26d17b32654f39a357f481c7381171",
       "version_major": 2,
       "version_minor": 0
      },
      "text/plain": [
       "Validation: 0it [00:00, ?it/s]"
      ]
     },
     "metadata": {},
     "output_type": "display_data"
    },
    {
     "data": {
      "application/vnd.jupyter.widget-view+json": {
       "model_id": "faf18a23f11c4235b2854239bd7fd77d",
       "version_major": 2,
       "version_minor": 0
      },
      "text/plain": [
       "Validation: 0it [00:00, ?it/s]"
      ]
     },
     "metadata": {},
     "output_type": "display_data"
    },
    {
     "data": {
      "application/vnd.jupyter.widget-view+json": {
       "model_id": "96c452bd701e4eb595933d3834163e55",
       "version_major": 2,
       "version_minor": 0
      },
      "text/plain": [
       "Validation: 0it [00:00, ?it/s]"
      ]
     },
     "metadata": {},
     "output_type": "display_data"
    },
    {
     "data": {
      "application/vnd.jupyter.widget-view+json": {
       "model_id": "bc7f3cb3be5c41c38a52f8a151cadbf5",
       "version_major": 2,
       "version_minor": 0
      },
      "text/plain": [
       "Validation: 0it [00:00, ?it/s]"
      ]
     },
     "metadata": {},
     "output_type": "display_data"
    },
    {
     "data": {
      "application/vnd.jupyter.widget-view+json": {
       "model_id": "89ea0c4492794afe98324009d1f8c0a2",
       "version_major": 2,
       "version_minor": 0
      },
      "text/plain": [
       "Validation: 0it [00:00, ?it/s]"
      ]
     },
     "metadata": {},
     "output_type": "display_data"
    },
    {
     "data": {
      "application/vnd.jupyter.widget-view+json": {
       "model_id": "10bead33d8dd4369bd2923f21ab8af1f",
       "version_major": 2,
       "version_minor": 0
      },
      "text/plain": [
       "Validation: 0it [00:00, ?it/s]"
      ]
     },
     "metadata": {},
     "output_type": "display_data"
    },
    {
     "data": {
      "application/vnd.jupyter.widget-view+json": {
       "model_id": "296c1c92c6a24bcf97dd1d95627ef7a9",
       "version_major": 2,
       "version_minor": 0
      },
      "text/plain": [
       "Validation: 0it [00:00, ?it/s]"
      ]
     },
     "metadata": {},
     "output_type": "display_data"
    },
    {
     "data": {
      "application/vnd.jupyter.widget-view+json": {
       "model_id": "f9a6001e478e436780e6461c4b5d8147",
       "version_major": 2,
       "version_minor": 0
      },
      "text/plain": [
       "Validation: 0it [00:00, ?it/s]"
      ]
     },
     "metadata": {},
     "output_type": "display_data"
    },
    {
     "data": {
      "application/vnd.jupyter.widget-view+json": {
       "model_id": "e3bd11a6f80644a6a638043fa94156cc",
       "version_major": 2,
       "version_minor": 0
      },
      "text/plain": [
       "Validation: 0it [00:00, ?it/s]"
      ]
     },
     "metadata": {},
     "output_type": "display_data"
    },
    {
     "data": {
      "application/vnd.jupyter.widget-view+json": {
       "model_id": "a0d87f8cba3b4ea59d198914acec8a72",
       "version_major": 2,
       "version_minor": 0
      },
      "text/plain": [
       "Validation: 0it [00:00, ?it/s]"
      ]
     },
     "metadata": {},
     "output_type": "display_data"
    },
    {
     "name": "stderr",
     "output_type": "stream",
     "text": [
      "`Trainer.fit` stopped: `max_epochs=100` reached.\n"
     ]
    },
    {
     "name": "stdout",
     "output_type": "stream",
     "text": [
      "Training took 102.1 seconds.\n"
     ]
    }
   ],
   "source": [
    "logger = InMemoryLogger()\n",
    "\n",
    "t0 = time.time()\n",
    "# XXX this cannot be fully deterministic on GPU because\n",
    "# XXX scatter_add_cuda_kernel does not have a deterministic implementation!\n",
    "trainer = pl.Trainer(\n",
    "    accelerator=\"auto\",\n",
    "    max_epochs=n_epochs,\n",
    "    logger = logger,\n",
    ")\n",
    "trainer.fit(model, train_loader, valid_loader)\n",
    "print(f\"Training took {time.time() - t0:.1f} seconds.\")"
   ]
  },
  {
   "cell_type": "code",
   "execution_count": 14,
   "id": "6645c720-30c0-4616-ab3c-7a4aee41d2df",
   "metadata": {},
   "outputs": [
    {
     "data": {
      "image/png": "[encoded data removed]",
      "text/plain": [
       "<Figure size 600x800 with 2 Axes>"
      ]
     },
     "metadata": {},
     "output_type": "display_data"
    }
   ],
   "source": [
    "fig, (ax1, ax2) = plt.subplots(2, 1, figsize=(6, 8), constrained_layout=True)\n",
    "logger.metrics_df.plot(\"epoch\", [\"train_accuracy\", \"val_accuracy\"], ax=ax1)\n",
    "ax1.grid()\n",
    "\n",
    "logger.metrics_df.plot(\"epoch\", [\"train_loss\", \"val_loss\"], ax=ax2)\n",
    "ax2.grid()"
   ]
  },
  {
   "cell_type": "code",
   "execution_count": 15,
   "id": "25331552-9006-47f6-acec-ef97851d9e0f",
   "metadata": {},
   "outputs": [],
   "source": [
    "import torch\n",
    "import numpy as np\n",
    "\n",
    "from sklearn.metrics import roc_curve, auc\n",
    "from typing import Iterable, Tuple\n",
    "\n",
    "\n",
    "def get_roc(\n",
    "    model: torch.nn.Module, loader: Iterable, seed: int = 1, exp: bool = True\n",
    ") -> Tuple[np.ndarray, np.ndarray, float, np.ndarray, np.ndarray]:\n",
    "    \"\"\"Run a model on the a dataset and calculate ROC and AUC.\n",
    "\n",
    "    The model output values are by default exponentiated before calculating the ROC.\n",
    "    XXX Why?\n",
    "\n",
    "    :param model: model to test\n",
    "    :param loader: data loader\n",
    "    :param seed: PyTorch random seed\n",
    "    :param exp: if `True`, exponential model outputs before calculating ROC\n",
    "    :return: a tuple `(fpr, tpr, auc_value, ys, outs)`, where `(fpr, tpr)` are vectors\n",
    "        representing the ROC curve; `auc_value` is the AUC; `ys` and `outs` are the\n",
    "        expected (ground-truth) outputs and the (exponentiated) model outputs,\n",
    "        respectively\n",
    "    \"\"\"\n",
    "    # keep everything reproducible!\n",
    "    torch.manual_seed(seed)\n",
    "\n",
    "    # make sure the model is in evaluation mode\n",
    "    model.eval()\n",
    "\n",
    "    outs = []\n",
    "    ys = []\n",
    "    device = next(iter(model.parameters())).device\n",
    "    for tb in loader:\n",
    "        tb = tb.to(device)\n",
    "        if exp:\n",
    "            outs.append(torch.exp(model(tb)).detach().cpu().clone().numpy())\n",
    "        else: ### Take the final element in the list here (can tidy this up once the model is working)\n",
    "            outs.append(model(tb)[-1].detach().cpu().clone().numpy())\n",
    "\n",
    "        ys.append(tb.y.detach().cpu().clone().numpy())\n",
    "\n",
    "    outs = np.concatenate(outs)\n",
    "    ys = np.concatenate(ys)\n",
    "    if len(outs.shape) == 1:\n",
    "        outs = np.vstack([1 - outs, outs]).T\n",
    "    if outs.shape[-1] == 1: ## Pnet model outputs a single squeezed tensor\n",
    "        outs=np.array([1-outs.flatten(),outs.flatten()]).T\n",
    "    fpr, tpr, _ = roc_curve(ys, outs[:, 1])\n",
    "    auc_value = auc(fpr, tpr)\n",
    "\n",
    "    return fpr, tpr, auc_value, ys, outs"
   ]
  },
  {
   "cell_type": "code",
   "execution_count": 16,
   "id": "695b17dc-943f-4f37-ab60-b7de0e2b4d18",
   "metadata": {},
   "outputs": [
    {
     "name": "stdout",
     "output_type": "stream",
     "text": [
      "accuracy 0.82\n",
      "auc 0.9255793226381461\n",
      "aupr 0.8626869811722115\n",
      "f1 0.6785714285714287\n",
      "precision 0.8636363636363636\n",
      "recall 0.5588235294117647\n"
     ]
    }
   ],
   "source": [
    "fpr_test, tpr_test, test_auc, ys, outs = get_roc(model, test_loader,exp=False)\n",
    "test_acc=accuracy_score(ys, outs[:, 1] > 0.5)\n",
    "test_aupr=average_precision_score(ys, outs[:, 1])\n",
    "test_f1=f1_score(ys, outs[:, 1] > 0.5)\n",
    "test_precision=precision_score(ys, outs[:, 1] > 0.5)\n",
    "test_recall=recall_score(ys, outs[:, 1] > 0.5)\n",
    "\n",
    "print(\"accuracy\", test_acc)\n",
    "print(\"auc\", test_auc)\n",
    "print(\"aupr\", test_aupr)\n",
    "print(\"f1\", test_f1)\n",
    "print(\"precision\", test_precision)\n",
    "print(\"recall\", test_recall)"
   ]
  },
  {
   "cell_type": "code",
   "execution_count": null,
   "id": "56849e6b-f8f6-4172-8ed3-bb1a2a45a2ce",
   "metadata": {},
   "outputs": [],
   "source": []
  }
 ],
 "metadata": {
  "kernelspec": {
   "display_name": "cancerenv",
   "language": "python",
   "name": "python3"
  },
  "language_info": {
   "codemirror_mode": {
    "name": "ipython",
    "version": 3
   },
   "file_extension": ".py",
   "mimetype": "text/x-python",
   "name": "python",
   "nbconvert_exporter": "python",
   "pygments_lexer": "ipython3",
   "version": "3.9.16"
  }
 },
 "nbformat": 4,
 "nbformat_minor": 5
}
