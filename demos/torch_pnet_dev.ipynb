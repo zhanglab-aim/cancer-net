{
 "cells": [
  {
   "cell_type": "markdown",
   "id": "8b353b98-3957-4cd6-b488-46affab02e23",
   "metadata": {
    "tags": []
   },
   "source": [
    "## Pnet torch implementation\n",
    "\n",
    "Our torch implementation of pnet does not produce the same results as the original tf implementation, even though I have captured every feature of the architecture I can find. The model is described in the \"Methods\" section of: https://www.nature.com/articles/s41586-021-03922-4. Things we have included below:\n",
    "\n",
    "1. First layer is a \"dense\" layer, taking the 3 features for each gene and collapsing them into 1 latent variable. We then follow up with sparse NN layers.\n",
    "2. Tanh activations between each pnet hidden layer\n",
    "3. Each layer also has a linear layer with a sigmoid activation, producing a predictive output. The final prediction during training is a weighted sum of the losses of each of these intermediate predictive outputs, along with the final output of the network. The loss weights are the same as in the tf version.\n",
    "4. They use a BCE loss\n",
    "5. As far as I understand it, validation/test predictions do not use this weighted output, only the prediction of the final layer.\n",
    "6. Adam optimizer"
   ]
  },
  {
   "cell_type": "code",
   "execution_count": 1,
   "id": "55cda7c6-10c4-43e2-9640-e5ba38f5b7df",
   "metadata": {},
   "outputs": [
    {
     "name": "stderr",
     "output_type": "stream",
     "text": [
      "/mnt/home/cpedersen/miniconda3/envs/cancerenv_tib/lib/python3.9/site-packages/pytorch_lightning/utilities/warnings.py:53: LightningDeprecationWarning: pytorch_lightning.utilities.warnings.rank_zero_deprecation has been deprecated in v1.6 and will be removed in v1.8. Use the equivalent function from the pytorch_lightning.utilities.rank_zero module instead.\n",
      "  new_rank_zero_deprecation(\n",
      "/mnt/home/cpedersen/miniconda3/envs/cancerenv_tib/lib/python3.9/site-packages/pytorch_lightning/utilities/warnings.py:58: LightningDeprecationWarning: The `pytorch_lightning.loggers.base.rank_zero_experiment` is deprecated in v1.7 and will be removed in v1.9. Please use `pytorch_lightning.loggers.logger.rank_zero_experiment` instead.\n",
      "  return new_rank_zero_deprecation(*args, **kwargs)\n"
     ]
    }
   ],
   "source": [
    "import time\n",
    "import os\n",
    "import numpy as np\n",
    "\n",
    "import torch, torch_geometric.transforms as T, torch.nn.functional as F\n",
    "from torch.utils.data.sampler import SubsetRandomSampler, SequentialSampler, RandomSampler\n",
    "\n",
    "from torch_geometric.loader import DataLoader\n",
    "\n",
    "import pytorch_lightning as pl\n",
    "from pytorch_lightning.loggers import WandbLogger\n",
    "from pytorch_lightning.callbacks.early_stopping import EarlyStopping\n",
    "from pytorch_lightning.callbacks import ModelCheckpoint\n",
    "\n",
    "import matplotlib.pyplot as plt\n",
    "\n",
    "from sklearn.metrics import (\n",
    "    roc_auc_score,\n",
    "    roc_curve,\n",
    "    auc,\n",
    "    average_precision_score,\n",
    "    f1_score,\n",
    "    accuracy_score,\n",
    "    precision_score,\n",
    "    recall_score,\n",
    ")\n",
    "\n",
    "\n",
    "from cancernet.arch import GATNet, InteractionNet, VisibleGraphInteractionNet\n",
    "from cancernet.util import ProgressBar, InMemoryLogger, get_roc, sampler\n",
    "from cancernet import PnetDataSet, ReactomeNetwork\n",
    "from cancernet.dataset import get_layer_maps"
   ]
  },
  {
   "cell_type": "code",
   "execution_count": 2,
   "id": "4fc7758f-286e-4ece-a8ed-79bc122c18c8",
   "metadata": {},
   "outputs": [],
   "source": [
    "import torch\n",
    "import numpy as np\n",
    "import torch.nn.functional as F\n",
    "from torch import nn\n",
    "from torch.nn import Linear, ReLU\n",
    "\n",
    "from cancernet.arch.base_net import BaseNet\n",
    "from cancernet.util import scatter_nd\n",
    "\n",
    "\n",
    "class FeatureLayer(torch.nn.Module):\n",
    "    \"\"\"This layer will take our input data of size `(N_genes, N_features)`, and perform\n",
    "    elementwise multiplication of the features of each gene. This is effectively\n",
    "    collapsing the `N_features dimension`, outputting a single scalar latent variable\n",
    "    for each gene.\n",
    "    \"\"\"\n",
    "\n",
    "    def __init__(self, num_genes: int, num_features: int):\n",
    "        super().__init__()\n",
    "        self.num_genes = num_genes\n",
    "        self.num_features = num_features\n",
    "        weights = torch.Tensor(self.num_genes, self.num_features)\n",
    "        self.weights = nn.Parameter(weights)\n",
    "        self.bias = nn.Parameter(torch.Tensor(self.num_genes,))\n",
    "        # initialise weights using a normal distribution; can also try uniform\n",
    "        torch.nn.init.normal_(self.weights, mean=0.0, std=1.0)\n",
    "        torch.nn.init.normal_(self.bias, mean=0.0, std=0.1)\n",
    "\n",
    "    def forward(self, x):\n",
    "        x = x * self.weights\n",
    "        x = torch.sum(x, dim=-1)\n",
    "        x = x + self.bias\n",
    "        return x\n",
    "\n",
    "\n",
    "class SparseLayer(torch.nn.Module):\n",
    "    \"\"\"Sparsely connected layer, with connections taken from pnet.\"\"\"\n",
    "\n",
    "    def __init__(self, layer_map):\n",
    "        super().__init__()\n",
    "        map_numpy = layer_map.to_numpy()\n",
    "        self.register_buffer(\n",
    "            \"nonzero_indices\", torch.LongTensor(np.array(np.nonzero(map_numpy)).T)\n",
    "        )\n",
    "        self.layer_map = layer_map\n",
    "        self.shape = map_numpy.shape\n",
    "        self.weights = nn.Parameter(torch.Tensor(self.nonzero_indices.shape[0]))\n",
    "        self.bias = nn.Parameter(torch.Tensor(self.shape[1]))\n",
    "        torch.nn.init.normal_(self.weights, mean=0.0, std=1.0)\n",
    "        torch.nn.init.normal_(self.bias, mean=0.0, std=0.1)\n",
    "\n",
    "    def forward(self, x):\n",
    "        sparse_tensor = scatter_nd(self.nonzero_indices, self.weights, self.shape)\n",
    "        x = torch.mm(x, sparse_tensor)\n",
    "        # no bias yet\n",
    "        x = x + self.bias\n",
    "        return x\n",
    "\n",
    "    \n",
    "class PNet(BaseNet):\n",
    "    \"\"\"Implementation of the pnet sparse feedforward network in torch. Uses the same\n",
    "    pytorch geometric dataset as the message passing networks.\n",
    "    \"\"\"\n",
    "\n",
    "    def __init__(self, layers, num_genes: int, num_features: int=3, lr: float = 0.001, intermediate_outputs: bool=True):\n",
    "        \"\"\"Initialize.\n",
    "        :param layers: list of pandas dataframes describing the pnet masks for each\n",
    "            layer\n",
    "        :param num_genes: number of genes in dataset\n",
    "        :param num_features: number of features for each gene\n",
    "        :param lr: learning rate\n",
    "        \"\"\"\n",
    "        super().__init__(lr=lr)\n",
    "        self.criterion = nn.BCELoss()\n",
    "        self.layers = layers\n",
    "        self.num_genes = num_genes\n",
    "        self.num_features = num_features\n",
    "        self.intermediate_outputs = intermediate_outputs\n",
    "        self.network = nn.ModuleList()\n",
    "        self.intermediate_outs = nn.ModuleList()\n",
    "        self.network.append(nn.Sequential(FeatureLayer(self.num_genes, self.num_features),nn.Tanh()))\n",
    "        self.loss_weights=[2, 7, 20, 54, 148, 400] ## Taken from pnet - final output layer is the last element\n",
    "        for i, layer_map in enumerate(layers):\n",
    "            if i != (len(layers) - 1):\n",
    "                if i==0:\n",
    "                    ## First layer has dropout of 0.5, the rest have 0.1\n",
    "                    dropout=0.5\n",
    "                else:\n",
    "                    dropout=0.1\n",
    "                    ## Build pnet layers\n",
    "                self.network.append(\n",
    "                    nn.Sequential(nn.Dropout(p=dropout),SparseLayer(layer_map),nn.Tanh())\n",
    "                                    )\n",
    "                    ## Build layers for intermediate output\n",
    "                if self.intermediate_outputs:\n",
    "                    self.intermediate_outs.append(\n",
    "                    nn.Sequential(nn.Linear(layer_map.shape[0], 1),nn.Sigmoid())\n",
    "                                                  )\n",
    "            else:\n",
    "                self.network.append(nn.Sequential(nn.Linear(layer_map.shape[0], 1),nn.Sigmoid()))\n",
    "                \n",
    "    def forward(self, data):\n",
    "        \"\"\"Only uses the \"node features\", which in this case we just treat as a data\n",
    "        vector for the sparse feedforward network.\n",
    "        \"\"\"\n",
    "        ## Create list for each component of the loss:\n",
    "        # reshape for batching appropriate for feedfoward network\n",
    "        x=[torch.reshape(\n",
    "            data.x, (int(data.batch[-1] + 1), self.num_genes, self.num_features)\n",
    "        )]\n",
    "        \n",
    "        ## First element in list is the final layer output\n",
    "        ## second element comes from the penultimate layer\n",
    "        ## and so on\n",
    "        x[0]=self.network[0](x[0])\n",
    "        for aa in range(1,len(self.network)-1):\n",
    "            x.append(self.intermediate_outs[aa-1](x[0]))\n",
    "            x[0]=self.network[aa](x[0])\n",
    "        x[0]=self.network[-1](x[0])\n",
    "        \n",
    "        ## Reverse list to begin with intermediate outputs\n",
    "        ## to align with self.loss_weights\n",
    "        x.reverse()\n",
    "        #print(x)\n",
    "        return x\n",
    "    \n",
    "    def step(self, batch, kind: str) -> dict:\n",
    "        \"\"\" Step function executed by lightning trainer module.\n",
    "        \"\"\"\n",
    "        # run the model and calculate loss\n",
    "        y_hat = self(batch)\n",
    "\n",
    "        if kind==\"train\":\n",
    "            loss=0\n",
    "            for aa,y in enumerate(y_hat):\n",
    "                ## Here we take a weighted average of the preditive outputs. Intermediate layers first\n",
    "                loss+=(self.loss_weights[aa]*self.criterion(y.squeeze(), batch.y.to(torch.float32)))\n",
    "            loss/=np.sum(self.loss_weights[aa])\n",
    "        else:\n",
    "            loss=self.criterion(y_hat[-1].squeeze(),batch.y.to(torch.float32))\n",
    "\n",
    "        correct = ((y_hat[-1]>0.5).flatten()==batch.y).sum()\n",
    "        # assess accuracy\n",
    "        total = len(batch.y)\n",
    "        batch_dict = {\n",
    "            \"loss\": loss,\n",
    "            # correct and total will be used at epoch end\n",
    "            \"correct\": correct,\n",
    "            \"total\": total,\n",
    "        }\n",
    "        return batch_dict\n"
   ]
  },
  {
   "cell_type": "code",
   "execution_count": 4,
   "id": "1e21bf80-6414-4566-add7-d34a9eedd3af",
   "metadata": {},
   "outputs": [
    {
     "name": "stdout",
     "output_type": "stream",
     "text": [
      "layer # 0\n",
      "pathways 1387\n",
      "genes 9275\n",
      "filtered_map (9054, 0)\n",
      "filtered_map (9054, 0)\n",
      "filtered_map (9054, 0)\n",
      "layer # 1\n",
      "pathways 1066\n",
      "genes 1399\n",
      "filtered_map (1387, 0)\n",
      "filtered_map (1387, 0)\n",
      "filtered_map (1387, 0)\n",
      "layer # 2\n",
      "pathways 447\n",
      "genes 1068\n",
      "filtered_map (1066, 0)\n",
      "filtered_map (1066, 0)\n",
      "filtered_map (1066, 0)\n",
      "layer # 3\n",
      "pathways 147\n",
      "genes 448\n",
      "filtered_map (447, 0)\n",
      "filtered_map (447, 0)\n",
      "filtered_map (447, 0)\n",
      "layer # 4\n",
      "pathways 26\n",
      "genes 147\n",
      "filtered_map (147, 0)\n",
      "filtered_map (147, 0)\n",
      "filtered_map (147, 0)\n",
      "layer # 5\n",
      "pathways 1\n",
      "genes 26\n",
      "filtered_map (26, 0)\n",
      "filtered_map (26, 0)\n",
      "filtered_map (26, 0)\n"
     ]
    }
   ],
   "source": [
    "reactome_kws = dict(\n",
    "    reactome_base_dir=os.path.join(\"/mnt/home/cpedersen/ceph/Data/data\", \"reactome\"),\n",
    "    relations_file_name=\"ReactomePathwaysRelation.txt\",\n",
    "    pathway_names_file_name=\"ReactomePathways.txt\",\n",
    "    pathway_genes_file_name=\"ReactomePathways.gmt\",\n",
    ")\n",
    "reactome = ReactomeNetwork(reactome_kws)\n",
    "\n",
    "prostate_root = os.path.join(\"/mnt/home/cpedersen/ceph/Data/data\", \"prostate\")\n",
    "dataset = PnetDataSet(\n",
    "    root=prostate_root,\n",
    "    name=\"prostate_graph_humanbase\",\n",
    "    edge_tol=0.5,\n",
    "    pre_transform=T.Compose(\n",
    "        [T.GCNNorm(add_self_loops=False), T.ToSparseTensor(remove_edge_index=False)]\n",
    "    )\n",
    ")\n",
    "\n",
    "# loads the train/valid/test split from pnet\n",
    "splits_root = os.path.join(prostate_root, \"splits\")\n",
    "dataset.split_index_by_file(\n",
    "    train_fp=os.path.join(splits_root, \"training_set_0.csv\"),\n",
    "    valid_fp=os.path.join(splits_root, \"validation_set.csv\"),\n",
    "    test_fp=os.path.join(splits_root, \"test_set.csv\"),\n",
    ")\n",
    "#pl.seed_everything(42, workers=True)\n",
    "\n",
    "n_epochs = 40\n",
    "batch_size = 10\n",
    "lr = 0.01\n",
    "## Maps for pnet connections\n",
    "maps = get_layer_maps(\n",
    "    genes=[g for g in dataset.node_index],\n",
    "    reactome=reactome,\n",
    "    n_levels=5,\n",
    "    direction=\"root_to_leaf\",\n",
    "    add_unk_genes=False,\n",
    "    verbose=True,\n",
    ")\n",
    "\n",
    "train_loader = DataLoader(\n",
    "    dataset,\n",
    "    batch_size=batch_size,\n",
    "    sampler=SubsetRandomSampler(dataset.train_idx),\n",
    "    drop_last=True\n",
    ")\n",
    "valid_loader = DataLoader(\n",
    "    dataset,\n",
    "    batch_size=batch_size,\n",
    "    sampler=SubsetRandomSampler(dataset.valid_idx),\n",
    "    drop_last=True\n",
    ")\n",
    "\n",
    "test_loader = DataLoader(\n",
    "    dataset,\n",
    "    batch_size=batch_size,\n",
    "    sampler=SubsetRandomSampler(\n",
    "        dataset.test_idx,\n",
    "        generator=torch.Generator().manual_seed(43),\n",
    "    ),\n",
    "    drop_last=True,\n",
    ")"
   ]
  },
  {
   "cell_type": "code",
   "execution_count": 5,
   "id": "27fcadb8-39b7-4d83-8e5c-42a03f33e6fd",
   "metadata": {},
   "outputs": [],
   "source": [
    "data=next(iter(test_loader))"
   ]
  },
  {
   "cell_type": "code",
   "execution_count": 6,
   "id": "0928c9c2-fe65-4624-8d54-749430cb08ce",
   "metadata": {},
   "outputs": [],
   "source": [
    "model = PNet(\n",
    "    layers=maps,\n",
    "    num_genes=maps[0].shape[0], # 9054\n",
    "    lr=lr\n",
    ")"
   ]
  },
  {
   "cell_type": "code",
   "execution_count": 7,
   "id": "02b6ae79-73c1-4fa2-8040-35fb271c70d9",
   "metadata": {},
   "outputs": [
    {
     "name": "stderr",
     "output_type": "stream",
     "text": [
      "/mnt/home/cpedersen/miniconda3/envs/cancerenv_tib/lib/python3.9/site-packages/pytorch_lightning/utilities/warnings.py:53: LightningDeprecationWarning: pytorch_lightning.utilities.warnings.rank_zero_deprecation has been deprecated in v1.6 and will be removed in v1.8. Use the equivalent function from the pytorch_lightning.utilities.rank_zero module instead.\n",
      "  new_rank_zero_deprecation(\n",
      "/mnt/home/cpedersen/miniconda3/envs/cancerenv_tib/lib/python3.9/site-packages/pytorch_lightning/utilities/warnings.py:58: LightningDeprecationWarning: The `pytorch_lightning.loggers.base.LightningLoggerBase` is deprecated in v1.7 and will be removed in v1.9. Please use `pytorch_lightning.loggers.logger.Logger` instead.\n",
      "  return new_rank_zero_deprecation(*args, **kwargs)\n",
      "Multiprocessing is handled by SLURM.\n",
      "GPU available: True (cuda), used: True\n",
      "TPU available: False, using: 0 TPU cores\n",
      "IPU available: False, using: 0 IPUs\n",
      "HPU available: False, using: 0 HPUs\n",
      "LOCAL_RANK: 0 - CUDA_VISIBLE_DEVICES: [0]\n",
      "\n",
      "  | Name              | Type       | Params\n",
      "-------------------------------------------------\n",
      "0 | criterion         | BCELoss    | 0     \n",
      "1 | network           | ModuleList | 57.7 K\n",
      "2 | intermediate_outs | ModuleList | 12.1 K\n",
      "-------------------------------------------------\n",
      "69.8 K    Trainable params\n",
      "0         Non-trainable params\n",
      "69.8 K    Total params\n",
      "0.279     Total estimated model params size (MB)\n",
      "SLURM auto-requeueing enabled. Setting signal handlers.\n"
     ]
    },
    {
     "data": {
      "application/vnd.jupyter.widget-view+json": {
       "model_id": "f75f281f7f954772bd340be8313dba61",
       "version_major": 2,
       "version_minor": 0
      },
      "text/plain": [
       "Sanity Checking: 0it [00:00, ?it/s]"
      ]
     },
     "metadata": {},
     "output_type": "display_data"
    },
    {
     "name": "stderr",
     "output_type": "stream",
     "text": [
      "/mnt/home/cpedersen/miniconda3/envs/cancerenv_tib/lib/python3.9/site-packages/pytorch_lightning/trainer/connectors/data_connector.py:236: PossibleUserWarning: The dataloader, val_dataloader 0, does not have many workers which may be a bottleneck. Consider increasing the value of the `num_workers` argument` (try 36 which is the number of cpus on this machine) in the `DataLoader` init to improve performance.\n",
      "  rank_zero_warn(\n",
      "/mnt/home/cpedersen/miniconda3/envs/cancerenv_tib/lib/python3.9/site-packages/pytorch_lightning/trainer/connectors/data_connector.py:236: PossibleUserWarning: The dataloader, train_dataloader, does not have many workers which may be a bottleneck. Consider increasing the value of the `num_workers` argument` (try 36 which is the number of cpus on this machine) in the `DataLoader` init to improve performance.\n",
      "  rank_zero_warn(\n"
     ]
    },
    {
     "data": {
      "application/vnd.jupyter.widget-view+json": {
       "model_id": "20f2374d3d9d4fa1b84e51c2c2b52a50",
       "version_major": 2,
       "version_minor": 0
      },
      "text/plain": [
       "Training: 0it [00:00, ?it/s]"
      ]
     },
     "metadata": {},
     "output_type": "display_data"
    },
    {
     "data": {
      "application/vnd.jupyter.widget-view+json": {
       "model_id": "7b2c15e87e5b496fa234f8b44773299c",
       "version_major": 2,
       "version_minor": 0
      },
      "text/plain": [
       "Validation: 0it [00:00, ?it/s]"
      ]
     },
     "metadata": {},
     "output_type": "display_data"
    },
    {
     "data": {
      "application/vnd.jupyter.widget-view+json": {
       "model_id": "3d68b068806847f8a04e4baa9f0fa343",
       "version_major": 2,
       "version_minor": 0
      },
      "text/plain": [
       "Validation: 0it [00:00, ?it/s]"
      ]
     },
     "metadata": {},
     "output_type": "display_data"
    },
    {
     "data": {
      "application/vnd.jupyter.widget-view+json": {
       "model_id": "d45ae8593e99452294004f37443a8ce2",
       "version_major": 2,
       "version_minor": 0
      },
      "text/plain": [
       "Validation: 0it [00:00, ?it/s]"
      ]
     },
     "metadata": {},
     "output_type": "display_data"
    },
    {
     "data": {
      "application/vnd.jupyter.widget-view+json": {
       "model_id": "0d6df09e49ca448c88c6c7aa39bced77",
       "version_major": 2,
       "version_minor": 0
      },
      "text/plain": [
       "Validation: 0it [00:00, ?it/s]"
      ]
     },
     "metadata": {},
     "output_type": "display_data"
    },
    {
     "data": {
      "application/vnd.jupyter.widget-view+json": {
       "model_id": "6d789340d14a4e238388a1d134e70e86",
       "version_major": 2,
       "version_minor": 0
      },
      "text/plain": [
       "Validation: 0it [00:00, ?it/s]"
      ]
     },
     "metadata": {},
     "output_type": "display_data"
    },
    {
     "data": {
      "application/vnd.jupyter.widget-view+json": {
       "model_id": "435f65839f40428faf451928b3a44dbe",
       "version_major": 2,
       "version_minor": 0
      },
      "text/plain": [
       "Validation: 0it [00:00, ?it/s]"
      ]
     },
     "metadata": {},
     "output_type": "display_data"
    },
    {
     "data": {
      "application/vnd.jupyter.widget-view+json": {
       "model_id": "fb9f170facc7464691334055a2ba7eb1",
       "version_major": 2,
       "version_minor": 0
      },
      "text/plain": [
       "Validation: 0it [00:00, ?it/s]"
      ]
     },
     "metadata": {},
     "output_type": "display_data"
    },
    {
     "data": {
      "application/vnd.jupyter.widget-view+json": {
       "model_id": "bfd2701f54314b46a9018fb04c1a5e84",
       "version_major": 2,
       "version_minor": 0
      },
      "text/plain": [
       "Validation: 0it [00:00, ?it/s]"
      ]
     },
     "metadata": {},
     "output_type": "display_data"
    },
    {
     "data": {
      "application/vnd.jupyter.widget-view+json": {
       "model_id": "5d0dddc5debd4bf8b84be00a49ea4f72",
       "version_major": 2,
       "version_minor": 0
      },
      "text/plain": [
       "Validation: 0it [00:00, ?it/s]"
      ]
     },
     "metadata": {},
     "output_type": "display_data"
    },
    {
     "data": {
      "application/vnd.jupyter.widget-view+json": {
       "model_id": "8a527b8b16314e10beb76c5fcbd939fe",
       "version_major": 2,
       "version_minor": 0
      },
      "text/plain": [
       "Validation: 0it [00:00, ?it/s]"
      ]
     },
     "metadata": {},
     "output_type": "display_data"
    },
    {
     "data": {
      "application/vnd.jupyter.widget-view+json": {
       "model_id": "bd297dd8820e47cca8fafad5ec37927f",
       "version_major": 2,
       "version_minor": 0
      },
      "text/plain": [
       "Validation: 0it [00:00, ?it/s]"
      ]
     },
     "metadata": {},
     "output_type": "display_data"
    },
    {
     "data": {
      "application/vnd.jupyter.widget-view+json": {
       "model_id": "14b234506a1248e6b426bdad00f4cdb6",
       "version_major": 2,
       "version_minor": 0
      },
      "text/plain": [
       "Validation: 0it [00:00, ?it/s]"
      ]
     },
     "metadata": {},
     "output_type": "display_data"
    },
    {
     "data": {
      "application/vnd.jupyter.widget-view+json": {
       "model_id": "c22bf05ca03641c58c4c27f74eb14bc3",
       "version_major": 2,
       "version_minor": 0
      },
      "text/plain": [
       "Validation: 0it [00:00, ?it/s]"
      ]
     },
     "metadata": {},
     "output_type": "display_data"
    },
    {
     "data": {
      "application/vnd.jupyter.widget-view+json": {
       "model_id": "3e2e78e3fa94408b9a6840e12063c34e",
       "version_major": 2,
       "version_minor": 0
      },
      "text/plain": [
       "Validation: 0it [00:00, ?it/s]"
      ]
     },
     "metadata": {},
     "output_type": "display_data"
    },
    {
     "data": {
      "application/vnd.jupyter.widget-view+json": {
       "model_id": "b9482fd777814e4291e960f983f9ab7f",
       "version_major": 2,
       "version_minor": 0
      },
      "text/plain": [
       "Validation: 0it [00:00, ?it/s]"
      ]
     },
     "metadata": {},
     "output_type": "display_data"
    },
    {
     "data": {
      "application/vnd.jupyter.widget-view+json": {
       "model_id": "f3422d8c4857479d87b168f62a28c8e6",
       "version_major": 2,
       "version_minor": 0
      },
      "text/plain": [
       "Validation: 0it [00:00, ?it/s]"
      ]
     },
     "metadata": {},
     "output_type": "display_data"
    },
    {
     "data": {
      "application/vnd.jupyter.widget-view+json": {
       "model_id": "03d8d2b8e066410f8b8b1d7e7e748f43",
       "version_major": 2,
       "version_minor": 0
      },
      "text/plain": [
       "Validation: 0it [00:00, ?it/s]"
      ]
     },
     "metadata": {},
     "output_type": "display_data"
    },
    {
     "data": {
      "application/vnd.jupyter.widget-view+json": {
       "model_id": "37b5db98cb8145f786f213dfe724eb72",
       "version_major": 2,
       "version_minor": 0
      },
      "text/plain": [
       "Validation: 0it [00:00, ?it/s]"
      ]
     },
     "metadata": {},
     "output_type": "display_data"
    },
    {
     "data": {
      "application/vnd.jupyter.widget-view+json": {
       "model_id": "8b5129099b7b4155a92bed4f0144ee5e",
       "version_major": 2,
       "version_minor": 0
      },
      "text/plain": [
       "Validation: 0it [00:00, ?it/s]"
      ]
     },
     "metadata": {},
     "output_type": "display_data"
    },
    {
     "data": {
      "application/vnd.jupyter.widget-view+json": {
       "model_id": "8d44bc634fce458e98c3aff21315246f",
       "version_major": 2,
       "version_minor": 0
      },
      "text/plain": [
       "Validation: 0it [00:00, ?it/s]"
      ]
     },
     "metadata": {},
     "output_type": "display_data"
    },
    {
     "data": {
      "application/vnd.jupyter.widget-view+json": {
       "model_id": "47bf34f220dc4ac2acf7e5233c09876c",
       "version_major": 2,
       "version_minor": 0
      },
      "text/plain": [
       "Validation: 0it [00:00, ?it/s]"
      ]
     },
     "metadata": {},
     "output_type": "display_data"
    },
    {
     "data": {
      "application/vnd.jupyter.widget-view+json": {
       "model_id": "b85ee0457f944b10930d9fbe2fac5c56",
       "version_major": 2,
       "version_minor": 0
      },
      "text/plain": [
       "Validation: 0it [00:00, ?it/s]"
      ]
     },
     "metadata": {},
     "output_type": "display_data"
    },
    {
     "data": {
      "application/vnd.jupyter.widget-view+json": {
       "model_id": "51674e6d274d491f9ce933e490c55f15",
       "version_major": 2,
       "version_minor": 0
      },
      "text/plain": [
       "Validation: 0it [00:00, ?it/s]"
      ]
     },
     "metadata": {},
     "output_type": "display_data"
    },
    {
     "data": {
      "application/vnd.jupyter.widget-view+json": {
       "model_id": "1bb8208557b64b6280f30335dd1b5a71",
       "version_major": 2,
       "version_minor": 0
      },
      "text/plain": [
       "Validation: 0it [00:00, ?it/s]"
      ]
     },
     "metadata": {},
     "output_type": "display_data"
    },
    {
     "data": {
      "application/vnd.jupyter.widget-view+json": {
       "model_id": "dc5a7b1198d74c529dfebdd3aaa19d55",
       "version_major": 2,
       "version_minor": 0
      },
      "text/plain": [
       "Validation: 0it [00:00, ?it/s]"
      ]
     },
     "metadata": {},
     "output_type": "display_data"
    },
    {
     "data": {
      "application/vnd.jupyter.widget-view+json": {
       "model_id": "af6ec6f433ca44868a97425464293568",
       "version_major": 2,
       "version_minor": 0
      },
      "text/plain": [
       "Validation: 0it [00:00, ?it/s]"
      ]
     },
     "metadata": {},
     "output_type": "display_data"
    },
    {
     "data": {
      "application/vnd.jupyter.widget-view+json": {
       "model_id": "d6fe836a17274f8f814d9fce052c6b4b",
       "version_major": 2,
       "version_minor": 0
      },
      "text/plain": [
       "Validation: 0it [00:00, ?it/s]"
      ]
     },
     "metadata": {},
     "output_type": "display_data"
    },
    {
     "data": {
      "application/vnd.jupyter.widget-view+json": {
       "model_id": "2b6812f0950c44269af9f927a0e4f909",
       "version_major": 2,
       "version_minor": 0
      },
      "text/plain": [
       "Validation: 0it [00:00, ?it/s]"
      ]
     },
     "metadata": {},
     "output_type": "display_data"
    },
    {
     "data": {
      "application/vnd.jupyter.widget-view+json": {
       "model_id": "11535941e6c144869df61a54d295041a",
       "version_major": 2,
       "version_minor": 0
      },
      "text/plain": [
       "Validation: 0it [00:00, ?it/s]"
      ]
     },
     "metadata": {},
     "output_type": "display_data"
    },
    {
     "data": {
      "application/vnd.jupyter.widget-view+json": {
       "model_id": "c823abeacf6845aaa48cdba8f28f7aa1",
       "version_major": 2,
       "version_minor": 0
      },
      "text/plain": [
       "Validation: 0it [00:00, ?it/s]"
      ]
     },
     "metadata": {},
     "output_type": "display_data"
    },
    {
     "data": {
      "application/vnd.jupyter.widget-view+json": {
       "model_id": "b5d1355e03ac428eb0c1ebc6a1baeb3f",
       "version_major": 2,
       "version_minor": 0
      },
      "text/plain": [
       "Validation: 0it [00:00, ?it/s]"
      ]
     },
     "metadata": {},
     "output_type": "display_data"
    },
    {
     "data": {
      "application/vnd.jupyter.widget-view+json": {
       "model_id": "3f7eb4859e4846629268b768ea977202",
       "version_major": 2,
       "version_minor": 0
      },
      "text/plain": [
       "Validation: 0it [00:00, ?it/s]"
      ]
     },
     "metadata": {},
     "output_type": "display_data"
    },
    {
     "data": {
      "application/vnd.jupyter.widget-view+json": {
       "model_id": "aece84e4c2574bc5b98ed4f98ca00638",
       "version_major": 2,
       "version_minor": 0
      },
      "text/plain": [
       "Validation: 0it [00:00, ?it/s]"
      ]
     },
     "metadata": {},
     "output_type": "display_data"
    },
    {
     "data": {
      "application/vnd.jupyter.widget-view+json": {
       "model_id": "5344515c8f8e4cf4888bf2cc6b9c8daa",
       "version_major": 2,
       "version_minor": 0
      },
      "text/plain": [
       "Validation: 0it [00:00, ?it/s]"
      ]
     },
     "metadata": {},
     "output_type": "display_data"
    },
    {
     "data": {
      "application/vnd.jupyter.widget-view+json": {
       "model_id": "57dd23bae6c84ebcb8a78d983196b82e",
       "version_major": 2,
       "version_minor": 0
      },
      "text/plain": [
       "Validation: 0it [00:00, ?it/s]"
      ]
     },
     "metadata": {},
     "output_type": "display_data"
    },
    {
     "data": {
      "application/vnd.jupyter.widget-view+json": {
       "model_id": "260e7e7060ec4549b4df9dfa47831ec8",
       "version_major": 2,
       "version_minor": 0
      },
      "text/plain": [
       "Validation: 0it [00:00, ?it/s]"
      ]
     },
     "metadata": {},
     "output_type": "display_data"
    },
    {
     "data": {
      "application/vnd.jupyter.widget-view+json": {
       "model_id": "2ec073605ac1412d8ec14be17fb325cb",
       "version_major": 2,
       "version_minor": 0
      },
      "text/plain": [
       "Validation: 0it [00:00, ?it/s]"
      ]
     },
     "metadata": {},
     "output_type": "display_data"
    },
    {
     "data": {
      "application/vnd.jupyter.widget-view+json": {
       "model_id": "07b38c75b4f3439facf12a802da1f3b3",
       "version_major": 2,
       "version_minor": 0
      },
      "text/plain": [
       "Validation: 0it [00:00, ?it/s]"
      ]
     },
     "metadata": {},
     "output_type": "display_data"
    },
    {
     "data": {
      "application/vnd.jupyter.widget-view+json": {
       "model_id": "23b8344fc40d477c87b0b065f656f7fc",
       "version_major": 2,
       "version_minor": 0
      },
      "text/plain": [
       "Validation: 0it [00:00, ?it/s]"
      ]
     },
     "metadata": {},
     "output_type": "display_data"
    },
    {
     "data": {
      "application/vnd.jupyter.widget-view+json": {
       "model_id": "7e6b50caa9e74a078e47aadd2d00364b",
       "version_major": 2,
       "version_minor": 0
      },
      "text/plain": [
       "Validation: 0it [00:00, ?it/s]"
      ]
     },
     "metadata": {},
     "output_type": "display_data"
    },
    {
     "name": "stderr",
     "output_type": "stream",
     "text": [
      "`Trainer.fit` stopped: `max_epochs=40` reached.\n"
     ]
    },
    {
     "name": "stdout",
     "output_type": "stream",
     "text": [
      "Training took 95.8 seconds.\n"
     ]
    }
   ],
   "source": [
    "logger = InMemoryLogger()\n",
    "\n",
    "t0 = time.time()\n",
    "# XXX this cannot be fully deterministic on GPU because\n",
    "# XXX scatter_add_cuda_kernel does not have a deterministic implementation!\n",
    "trainer = pl.Trainer(\n",
    "    accelerator=\"auto\",\n",
    "    max_epochs=n_epochs,\n",
    "    logger = logger,\n",
    ")\n",
    "trainer.fit(model, train_loader, valid_loader)\n",
    "print(f\"Training took {time.time() - t0:.1f} seconds.\")"
   ]
  },
  {
   "cell_type": "code",
   "execution_count": 8,
   "id": "6645c720-30c0-4616-ab3c-7a4aee41d2df",
   "metadata": {},
   "outputs": [
    {
     "data": {
      "image/png": "[encoded data removed]",
      "text/plain": [
       "<Figure size 600x800 with 2 Axes>"
      ]
     },
     "metadata": {},
     "output_type": "display_data"
    }
   ],
   "source": [
    "fig, (ax1, ax2) = plt.subplots(2, 1, figsize=(6, 8), constrained_layout=True)\n",
    "logger.metrics_df.plot(\"epoch\", [\"train_accuracy\", \"val_accuracy\"], ax=ax1)\n",
    "ax1.grid()\n",
    "\n",
    "logger.metrics_df.plot(\"epoch\", [\"train_loss\", \"val_loss\"], ax=ax2)\n",
    "ax2.grid()"
   ]
  },
  {
   "cell_type": "code",
   "execution_count": 9,
   "id": "25331552-9006-47f6-acec-ef97851d9e0f",
   "metadata": {},
   "outputs": [],
   "source": [
    "import torch\n",
    "import numpy as np\n",
    "\n",
    "from sklearn.metrics import roc_curve, auc\n",
    "from typing import Iterable, Tuple\n",
    "\n",
    "\n",
    "def get_roc(\n",
    "    model: torch.nn.Module, loader: Iterable, seed: int = 1, exp: bool = True\n",
    ") -> Tuple[np.ndarray, np.ndarray, float, np.ndarray, np.ndarray]:\n",
    "    \"\"\"Run a model on the a dataset and calculate ROC and AUC.\n",
    "\n",
    "    The model output values are by default exponentiated before calculating the ROC.\n",
    "    XXX Why?\n",
    "\n",
    "    :param model: model to test\n",
    "    :param loader: data loader\n",
    "    :param seed: PyTorch random seed\n",
    "    :param exp: if `True`, exponential model outputs before calculating ROC\n",
    "    :return: a tuple `(fpr, tpr, auc_value, ys, outs)`, where `(fpr, tpr)` are vectors\n",
    "        representing the ROC curve; `auc_value` is the AUC; `ys` and `outs` are the\n",
    "        expected (ground-truth) outputs and the (exponentiated) model outputs,\n",
    "        respectively\n",
    "    \"\"\"\n",
    "    # keep everything reproducible!\n",
    "    torch.manual_seed(seed)\n",
    "\n",
    "    # make sure the model is in evaluation mode\n",
    "    model.eval()\n",
    "\n",
    "    outs = []\n",
    "    ys = []\n",
    "    device = next(iter(model.parameters())).device\n",
    "    for tb in loader:\n",
    "        tb = tb.to(device)\n",
    "        if exp:\n",
    "            outs.append(torch.exp(model(tb)).detach().cpu().clone().numpy())\n",
    "        else: ### Take the final element in the list here (can tidy this up once the model is working)\n",
    "            outs.append(model(tb)[-1].detach().cpu().clone().numpy())\n",
    "\n",
    "        ys.append(tb.y.detach().cpu().clone().numpy())\n",
    "\n",
    "    outs = np.concatenate(outs)\n",
    "    ys = np.concatenate(ys)\n",
    "    if len(outs.shape) == 1:\n",
    "        outs = np.vstack([1 - outs, outs]).T\n",
    "    if outs.shape[-1] == 1: ## Pnet model outputs a single squeezed tensor\n",
    "        outs=np.array([1-outs.flatten(),outs.flatten()]).T\n",
    "    fpr, tpr, _ = roc_curve(ys, outs[:, 1])\n",
    "    auc_value = auc(fpr, tpr)\n",
    "\n",
    "    return fpr, tpr, auc_value, ys, outs"
   ]
  },
  {
   "cell_type": "code",
   "execution_count": 10,
   "id": "695b17dc-943f-4f37-ab60-b7de0e2b4d18",
   "metadata": {},
   "outputs": [
    {
     "name": "stdout",
     "output_type": "stream",
     "text": [
      "accuracy 0.82\n",
      "auc 0.9353832442067735\n",
      "aupr 0.8880811634259791\n",
      "f1 0.6538461538461539\n",
      "precision 0.9444444444444444\n",
      "recall 0.5\n"
     ]
    }
   ],
   "source": [
    "fpr_test, tpr_test, test_auc, ys, outs = get_roc(model, test_loader,exp=False)\n",
    "test_acc=accuracy_score(ys, outs[:, 1] > 0.5)\n",
    "test_aupr=average_precision_score(ys, outs[:, 1])\n",
    "test_f1=f1_score(ys, outs[:, 1] > 0.5)\n",
    "test_precision=precision_score(ys, outs[:, 1] > 0.5)\n",
    "test_recall=recall_score(ys, outs[:, 1] > 0.5)\n",
    "\n",
    "print(\"accuracy\", test_acc)\n",
    "print(\"auc\", test_auc)\n",
    "print(\"aupr\", test_aupr)\n",
    "print(\"f1\", test_f1)\n",
    "print(\"precision\", test_precision)\n",
    "print(\"recall\", test_recall)"
   ]
  },
  {
   "cell_type": "code",
   "execution_count": null,
   "id": "56849e6b-f8f6-4172-8ed3-bb1a2a45a2ce",
   "metadata": {},
   "outputs": [],
   "source": []
  }
 ],
 "metadata": {
  "kernelspec": {
   "display_name": "cancerenv_tib",
   "language": "python",
   "name": "cancerenv_tib"
  },
  "language_info": {
   "codemirror_mode": {
    "name": "ipython",
    "version": 3
   },
   "file_extension": ".py",
   "mimetype": "text/x-python",
   "name": "python",
   "nbconvert_exporter": "python",
   "pygments_lexer": "ipython3",
   "version": "3.9.13"
  }
 },
 "nbformat": 4,
 "nbformat_minor": 5
}
