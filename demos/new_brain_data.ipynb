{
 "cells": [
  {
   "cell_type": "markdown",
   "id": "422a0067-c7d5-4f54-892b-3e87787fe7a3",
   "metadata": {},
   "source": [
    "## Read new brain data\n",
    "\n",
    "New brain data also contains columns for copy number number variation. Build some syntax for reading this, which we ultimately want to put into the GNN."
   ]
  },
  {
   "cell_type": "code",
   "execution_count": 1,
   "id": "c08b2445-2600-4b33-9499-0ed2a9199480",
   "metadata": {},
   "outputs": [],
   "source": [
    "import csv\n",
    "import os"
   ]
  },
  {
   "cell_type": "code",
   "execution_count": 2,
   "id": "2310a3f7-6ade-4315-a3f9-5655ccea24a4",
   "metadata": {},
   "outputs": [],
   "source": [
    "data_path=\"/mnt/home/cpedersen/Data/cancer-net-data/compiled_mats/\""
   ]
  },
  {
   "cell_type": "code",
   "execution_count": 3,
   "id": "f4eaa8ac-22f7-4c43-898d-33930efa099d",
   "metadata": {},
   "outputs": [],
   "source": [
    "gbm_somatic=data_path+\"TCGA-GBM.Somatic.csv\"\n",
    "gbm_cnv=data_path+\"TCGA-GBM.CNV.csv\"\n",
    "lgg_somatic=data_path+\"TCGA-LGG.Somatic.csv\"\n",
    "lgg_cnv=data_path+\"TCGA-LGG.CNV.csv\""
   ]
  },
  {
   "cell_type": "code",
   "execution_count": 4,
   "id": "f4155184-6bab-4a48-a001-523ebe16b04c",
   "metadata": {},
   "outputs": [],
   "source": [
    "def list_from_csv(csv_file):\n",
    "    fields = []\n",
    "    rows = []\n",
    "\n",
    "    # reading csv file\n",
    "    with open(csv_file, 'r') as csvfile:\n",
    "        csvreader = csv.reader(csvfile)\n",
    "\n",
    "        # extracting field names through first row\n",
    "        fields = next(csvreader)\n",
    "\n",
    "        # extracting each data row one by one\n",
    "        for row in csvreader:\n",
    "            rows.append(row)\n",
    "\n",
    "        # get total number of rows\n",
    "        print(\"Total no. of rows: %d\"%(csvreader.line_num))\n",
    "    \n",
    "    return rows,fields"
   ]
  },
  {
   "cell_type": "code",
   "execution_count": 5,
   "id": "e3bebfda-1be9-46d1-93fd-5315e5e07074",
   "metadata": {},
   "outputs": [
    {
     "name": "stdout",
     "output_type": "stream",
     "text": [
      "Total no. of rows: 394\n",
      "Total no. of rows: 528\n",
      "Total no. of rows: 509\n",
      "Total no. of rows: 518\n"
     ]
    }
   ],
   "source": [
    "gbm_mut,fields=list_from_csv(gbm_somatic)\n",
    "gbm_cnv,fields=list_from_csv(gbm_cnv)\n",
    "lgg_mut,fields=list_from_csv(lgg_somatic)\n",
    "lgg_cnv,fields=list_from_csv(lgg_cnv)"
   ]
  },
  {
   "cell_type": "code",
   "execution_count": 6,
   "id": "758044c6-05e6-4854-8ce6-9cbc6699bbb6",
   "metadata": {},
   "outputs": [],
   "source": [
    "## Get a list of patient names for each\n",
    "gbm_mut_patient=[]\n",
    "for aa in range(len(gbm_mut)):\n",
    "    gbm_mut_patient.append(gbm_mut[aa][0])\n",
    "gbm_cnv_patient=[]\n",
    "for aa in range(len(gbm_cnv)):\n",
    "    gbm_cnv_patient.append(gbm_cnv[aa][0])\n",
    "lgg_mut_patient=[]\n",
    "for aa in range(len(lgg_mut)):\n",
    "    lgg_mut_patient.append(lgg_mut[aa][0])\n",
    "lgg_cnv_patient=[]\n",
    "for aa in range(len(lgg_cnv)):\n",
    "    lgg_cnv_patient.append(lgg_cnv[aa][0])\n",
    "\n"
   ]
  },
  {
   "cell_type": "code",
   "execution_count": 7,
   "id": "eb701227-5b06-43f6-8a9e-52bb793c3563",
   "metadata": {},
   "outputs": [],
   "source": [
    "def get_intersection(list1,list2):\n",
    "    ## Just find the elements present in both lists\n",
    "    intersection = list(set(list1).intersection(set(list2)))\n",
    "    print(\"%d elements in intersection\" % len(intersection))\n",
    "    return intersection"
   ]
  },
  {
   "cell_type": "code",
   "execution_count": 8,
   "id": "c8b6eb61-458e-47ea-9212-0ab059ade9f4",
   "metadata": {},
   "outputs": [
    {
     "name": "stdout",
     "output_type": "stream",
     "text": [
      "0 elements in intersection\n",
      "0 elements in intersection\n",
      "0 elements in intersection\n",
      "0 elements in intersection\n",
      "527 elements in intersection\n"
     ]
    }
   ],
   "source": [
    "get_intersection(gbm_mut_patient,gbm_cnv_patient)\n",
    "get_intersection(lgg_mut_patient,lgg_cnv_patient)\n",
    "get_intersection(gbm_mut_patient,lgg_cnv_patient)\n",
    "get_intersection(gbm_cnv_patient,lgg_cnv_patient)\n",
    "get_intersection(gbm_cnv_patient,gbm_cnv_patient);"
   ]
  },
  {
   "cell_type": "code",
   "execution_count": 9,
   "id": "054dd6d8-0fd7-4f63-9290-4b6945b6489b",
   "metadata": {},
   "outputs": [],
   "source": [
    "def check_files(file_list,path):\n",
    "    \"\"\" Scan through a list of files, count how many are present\n",
    "    in a given directory \"\"\"\n",
    "    \n",
    "    count=0\n",
    "    for file in file_list:\n",
    "        file=file+\".h5\"\n",
    "        path_to_file=os.path.join(path,file)\n",
    "        #rint(os.path.exists(path_to_file))\n",
    "        if os.path.exists(path_to_file):\n",
    "            count+=1\n",
    "    print(\"%d files out of %d in %s\" % (count,len(file_list),path))\n",
    "    \n",
    "    "
   ]
  },
  {
   "cell_type": "code",
   "execution_count": 10,
   "id": "9c9233f4-de5a-40a4-bda1-69b6b625539d",
   "metadata": {},
   "outputs": [
    {
     "name": "stdout",
     "output_type": "stream",
     "text": [
      "393 files out of 393 in /mnt/home/sgolkar/projects/cancer-net/data/brain/raw/GBM\n",
      "456 files out of 508 in /mnt/home/sgolkar/projects/cancer-net/data/brain/raw/LGG\n",
      "0 files out of 527 in /mnt/home/sgolkar/projects/cancer-net/data/brain/raw/GBM\n",
      "0 files out of 517 in /mnt/home/sgolkar/projects/cancer-net/data/brain/raw/LGG\n"
     ]
    }
   ],
   "source": [
    "check_files(gbm_mut_patient,\"/mnt/home/sgolkar/projects/cancer-net/data/brain/raw/GBM\")\n",
    "check_files(lgg_mut_patient,\"/mnt/home/sgolkar/projects/cancer-net/data/brain/raw/LGG\")\n",
    "check_files(gbm_cnv_patient,\"/mnt/home/sgolkar/projects/cancer-net/data/brain/raw/GBM\")\n",
    "check_files(lgg_cnv_patient,\"/mnt/home/sgolkar/projects/cancer-net/data/brain/raw/LGG\")"
   ]
  },
  {
   "cell_type": "code",
   "execution_count": 13,
   "id": "5d0e67dd-9a1c-4f7a-8176-89fb9795b8e6",
   "metadata": {},
   "outputs": [
    {
     "data": {
      "text/plain": [
       "60447"
      ]
     },
     "execution_count": 13,
     "metadata": {},
     "output_type": "execute_result"
    }
   ],
   "source": [
    "len(lgg_cnv[0])"
   ]
  },
  {
   "cell_type": "code",
   "execution_count": null,
   "id": "76929938-a5bf-4a02-b795-a2648b53609d",
   "metadata": {},
   "outputs": [],
   "source": []
  }
 ],
 "metadata": {
  "kernelspec": {
   "display_name": "cancerenv",
   "language": "python",
   "name": "cancerenv"
  },
  "language_info": {
   "codemirror_mode": {
    "name": "ipython",
    "version": 3
   },
   "file_extension": ".py",
   "mimetype": "text/x-python",
   "name": "python",
   "nbconvert_exporter": "python",
   "pygments_lexer": "ipython3",
   "version": "3.9.7"
  }
 },
 "nbformat": 4,
 "nbformat_minor": 5
}
