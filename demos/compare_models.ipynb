{
 "cells": [
  {
   "cell_type": "markdown",
   "id": "70b0272b-f9cf-40db-9502-910cca42f0d9",
   "metadata": {},
   "source": [
    "## Model comparison plot\n",
    "\n",
    "Show predictions vs truth for a range of our different models"
   ]
  },
  {
   "cell_type": "code",
   "execution_count": 1,
   "id": "6e0eb44c-5fc4-44c1-a285-bcb75c527cc9",
   "metadata": {},
   "outputs": [
    {
     "name": "stderr",
     "output_type": "stream",
     "text": [
      "/mnt/home/cpedersen/miniconda3/envs/cancerenv_tib/lib/python3.9/site-packages/pytorch_lightning/utilities/warnings.py:53: LightningDeprecationWarning: pytorch_lightning.utilities.warnings.rank_zero_deprecation has been deprecated in v1.6 and will be removed in v1.8. Use the equivalent function from the pytorch_lightning.utilities.rank_zero module instead.\n",
      "  new_rank_zero_deprecation(\n",
      "/mnt/home/cpedersen/miniconda3/envs/cancerenv_tib/lib/python3.9/site-packages/pytorch_lightning/utilities/warnings.py:58: LightningDeprecationWarning: The `pytorch_lightning.loggers.base.rank_zero_experiment` is deprecated in v1.7 and will be removed in v1.9. Please use `pytorch_lightning.loggers.logger.rank_zero_experiment` instead.\n",
      "  return new_rank_zero_deprecation(*args, **kwargs)\n"
     ]
    }
   ],
   "source": [
    "import matplotlib.pyplot as plt\n",
    "import numpy as np\n",
    "\n",
    "import os\n",
    "from cancernet import PnetDataSet, ReactomeNetwork\n",
    "import torch, torch_geometric.transforms as T, torch.nn.functional as F\n",
    "from cancernet.dataset import get_layer_maps\n",
    "from torch_geometric.loader import DataLoader\n",
    "from torch.utils.data.sampler import SubsetRandomSampler, SequentialSampler\n",
    "from cancernet.util import ProgressBar, InMemoryLogger, get_roc\n",
    "\n",
    "\n",
    "from pytorch_lightning.callbacks.early_stopping import EarlyStopping\n",
    "from pytorch_lightning.callbacks import ModelCheckpoint\n",
    "import time\n",
    "import pytorch_lightning as pl\n",
    "\n",
    "\n",
    "import torch\n",
    "from torch import nn\n",
    "\n",
    "from sklearn.linear_model import LogisticRegression\n",
    "from cancernet.arch import BaseNet, GATNet, PNet, VgnNet, InteractionNet"
   ]
  },
  {
   "cell_type": "code",
   "execution_count": 2,
   "id": "8babc3fe-5e49-4f35-bf5f-f9c8e9580dbe",
   "metadata": {},
   "outputs": [
    {
     "name": "stdout",
     "output_type": "stream",
     "text": [
      "layer # 0\n",
      "pathways 146\n",
      "genes 10621\n",
      "filtered_map (9054, 0)\n",
      "filtered_map (9054, 0)\n",
      "filtered_map (9054, 0)\n",
      "layer # 1\n",
      "pathways 26\n",
      "genes 147\n",
      "filtered_map (146, 0)\n",
      "filtered_map (146, 0)\n",
      "filtered_map (146, 0)\n",
      "layer # 2\n",
      "pathways 1\n",
      "genes 26\n",
      "filtered_map (26, 0)\n",
      "filtered_map (26, 0)\n",
      "filtered_map (26, 0)\n"
     ]
    }
   ],
   "source": [
    "reactome_kws = dict(\n",
    "    reactome_base_dir=os.path.join(\"/mnt/home/cpedersen/ceph/Data/data\", \"reactome\"),\n",
    "    relations_file_name=\"ReactomePathwaysRelation.txt\",\n",
    "    pathway_names_file_name=\"ReactomePathways.txt\",\n",
    "    pathway_genes_file_name=\"ReactomePathways.gmt\",\n",
    ")\n",
    "reactome = ReactomeNetwork(reactome_kws)\n",
    "\n",
    "prostate_root = os.path.join(\"/mnt/home/cpedersen/ceph/Data/data\", \"prostate\")\n",
    "dataset = PnetDataSet(\n",
    "    root=prostate_root,\n",
    "    name=\"prostate_graph_humanbase\",\n",
    "    edge_tol=0.5,\n",
    "    pre_transform=T.Compose(\n",
    "        [T.GCNNorm(add_self_loops=False), T.ToSparseTensor(remove_edge_index=False)]\n",
    "    ),\n",
    ")\n",
    "\n",
    "# loads the train/valid/test split from pnet\n",
    "splits_root = os.path.join(prostate_root, \"splits\")\n",
    "dataset.split_index_by_file(\n",
    "    train_fp=os.path.join(splits_root, \"training_set_0.csv\"),\n",
    "    valid_fp=os.path.join(splits_root, \"validation_set.csv\"),\n",
    "    test_fp=os.path.join(splits_root, \"test_set.csv\"),\n",
    ")\n",
    "\n",
    "maps = get_layer_maps(\n",
    "    genes=[g for g in dataset.node_index],\n",
    "    reactome=reactome,\n",
    "    n_levels=2,\n",
    "    direction=\"root_to_leaf\",\n",
    "    add_unk_genes=False,\n",
    "    verbose=True,\n",
    ")\n",
    "\n",
    "train_loader = DataLoader(\n",
    "    dataset,\n",
    "    batch_size=10,\n",
    "    sampler=SubsetRandomSampler(dataset.train_idx),\n",
    "    num_workers=10\n",
    ")\n",
    "\n",
    "valid_loader = DataLoader(\n",
    "    dataset,\n",
    "    batch_size=10,\n",
    "    sampler=SubsetRandomSampler(dataset.valid_idx),\n",
    "    num_workers=10\n",
    ")\n",
    "\n",
    "test_loader = DataLoader(\n",
    "    dataset,\n",
    "    batch_size=10,\n",
    "    sampler=SequentialSampler(dataset.test_idx),\n",
    "    num_workers=10,\n",
    ")"
   ]
  },
  {
   "cell_type": "code",
   "execution_count": 3,
   "id": "da783cc7-aa2c-484f-8464-9ab29f92a6dc",
   "metadata": {},
   "outputs": [],
   "source": [
    "def get_numpy_values(test_loader):\n",
    "    \"\"\" Iterate over a test loader, concat into numpy arrays for LR performance estimation \"\"\"\n",
    "    numpy_y=np.array([])\n",
    "\n",
    "    for data in test_loader:\n",
    "        numpy_y=np.append(numpy_y,data.y)\n",
    "        batch_x=torch.reshape(data.x,(int(data.x.shape[0]/9054),9054*3)).numpy()\n",
    "        try:\n",
    "            numpy_x=np.vstack((numpy_x,batch_x))\n",
    "        except:\n",
    "            numpy_x=batch_x\n",
    "    return numpy_x, numpy_y\n",
    "\n",
    "def log_reg(dataset,test_loader,mut_only=False):\n",
    "    \"\"\" Run logistic regression \"\"\"\n",
    "    ## Train\n",
    "    true_numpy=dataset.data.y.numpy()\n",
    "    if mut_only:\n",
    "        ## Take only the mutations\n",
    "        reshaped=torch.reshape(dataset.data.x[:,0],(1011,9054)).numpy()\n",
    "    else:\n",
    "        ## Include copy number variations\n",
    "        reshaped=torch.reshape(dataset.data.x,(1011,9054*3)).numpy()\n",
    "    clf = LogisticRegression(random_state=0).fit(reshaped[dataset.train_idx], true_numpy[dataset.train_idx])\n",
    "    return clf\n",
    "\n",
    "def train_model(model,train_loader,valid_loader):\n",
    "    logger = InMemoryLogger()\n",
    "    early_stop_callback = EarlyStopping(\n",
    "        monitor=\"val_loss\", min_delta=0.00, patience=50, verbose=False, mode=\"min\"\n",
    "    )\n",
    "\n",
    "    # XXX this cannot be fully deterministic on GPU because\n",
    "    # XXX scatter_add_cuda_kernel does not have a deterministic implementation!\n",
    "    trainer = pl.Trainer(\n",
    "        accelerator=\"auto\",\n",
    "        max_epochs=n_epochs,\n",
    "        callbacks=[ProgressBar(), early_stop_callback],\n",
    "        logger=logger,\n",
    "        # deterministic=True,\n",
    "    )\n",
    "    t0 = time.time()\n",
    "    trainer.fit(model, train_loader,valid_loader)\n",
    "    return model"
   ]
  },
  {
   "cell_type": "code",
   "execution_count": 4,
   "id": "15536370-3c3d-49aa-ab7c-53fe89debead",
   "metadata": {},
   "outputs": [
    {
     "name": "stderr",
     "output_type": "stream",
     "text": [
      "Global seed set to 42\n"
     ]
    }
   ],
   "source": [
    "# try to ensure reproducibility\n",
    "pl.seed_everything(42, workers=True)\n",
    "\n",
    "n_epochs = 100\n",
    "batch_size = 10\n",
    "lr = 0.01"
   ]
  },
  {
   "cell_type": "code",
   "execution_count": 5,
   "id": "70ffe441-935e-4289-870d-615b3438540e",
   "metadata": {},
   "outputs": [],
   "source": [
    "model_LR=log_reg(dataset,test_loader)\n",
    "#print(\"LR accuracy =\",np.sum((pred_LR>0.5)==true_LR)/len(pred_LR))"
   ]
  },
  {
   "cell_type": "code",
   "execution_count": 6,
   "id": "dda23f71-d5e8-484f-bd17-5c9f157a9c99",
   "metadata": {},
   "outputs": [
    {
     "name": "stderr",
     "output_type": "stream",
     "text": [
      "/mnt/home/cpedersen/miniconda3/envs/cancerenv_tib/lib/python3.9/site-packages/pytorch_lightning/utilities/warnings.py:53: LightningDeprecationWarning: pytorch_lightning.utilities.warnings.rank_zero_deprecation has been deprecated in v1.6 and will be removed in v1.8. Use the equivalent function from the pytorch_lightning.utilities.rank_zero module instead.\n",
      "  new_rank_zero_deprecation(\n",
      "/mnt/home/cpedersen/miniconda3/envs/cancerenv_tib/lib/python3.9/site-packages/pytorch_lightning/utilities/warnings.py:58: LightningDeprecationWarning: The `pytorch_lightning.loggers.base.LightningLoggerBase` is deprecated in v1.7 and will be removed in v1.9. Please use `pytorch_lightning.loggers.logger.Logger` instead.\n",
      "  return new_rank_zero_deprecation(*args, **kwargs)\n",
      "Multiprocessing is handled by SLURM.\n",
      "GPU available: True (cuda), used: True\n",
      "TPU available: False, using: 0 TPU cores\n",
      "IPU available: False, using: 0 IPUs\n",
      "HPU available: False, using: 0 HPUs\n",
      "LOCAL_RANK: 0 - CUDA_VISIBLE_DEVICES: [0]\n",
      "\n",
      "  | Name    | Type            | Params\n",
      "--------------------------------------------\n",
      "0 | prop1   | GCNConv         | 256   \n",
      "1 | prop2   | GCNConv         | 16.6 K\n",
      "2 | fc1     | Linear          | 32.9 K\n",
      "3 | fc2     | Linear          | 258   \n",
      "4 | m       | LogSoftmax      | 0     \n",
      "5 | gate_nn | Sequential      | 8.3 K \n",
      "6 | pool    | GlobalAttention | 8.3 K \n",
      "--------------------------------------------\n",
      "58.3 K    Trainable params\n",
      "0         Non-trainable params\n",
      "58.3 K    Total params\n",
      "0.233     Total estimated model params size (MB)\n",
      "SLURM auto-requeueing enabled. Setting signal handlers.\n"
     ]
    },
    {
     "data": {
      "application/vnd.jupyter.widget-view+json": {
       "model_id": "2607d33db02f4d4b882e3da5cf7afc40",
       "version_major": 2,
       "version_minor": 0
      },
      "text/plain": [
       "Training:   0%|          | 0/100 [00:00<?, ?it/s]"
      ]
     },
     "metadata": {},
     "output_type": "display_data"
    },
    {
     "name": "stderr",
     "output_type": "stream",
     "text": [
      "`Trainer.fit` stopped: `max_epochs=100` reached.\n"
     ]
    }
   ],
   "source": [
    "model_gat = GATNet(dims=[3, 64, 256, 128], lr=lr)\n",
    "model_gat=train_model(model_gat,train_loader,valid_loader)"
   ]
  },
  {
   "cell_type": "code",
   "execution_count": 7,
   "id": "a7fe365f-491e-4991-9a0a-f7551a477039",
   "metadata": {},
   "outputs": [
    {
     "name": "stderr",
     "output_type": "stream",
     "text": [
      "/mnt/home/cpedersen/miniconda3/envs/cancerenv_tib/lib/python3.9/site-packages/pytorch_lightning/utilities/warnings.py:53: LightningDeprecationWarning: pytorch_lightning.utilities.warnings.rank_zero_deprecation has been deprecated in v1.6 and will be removed in v1.8. Use the equivalent function from the pytorch_lightning.utilities.rank_zero module instead.\n",
      "  new_rank_zero_deprecation(\n",
      "/mnt/home/cpedersen/miniconda3/envs/cancerenv_tib/lib/python3.9/site-packages/pytorch_lightning/utilities/warnings.py:58: LightningDeprecationWarning: The `pytorch_lightning.loggers.base.LightningLoggerBase` is deprecated in v1.7 and will be removed in v1.9. Please use `pytorch_lightning.loggers.logger.Logger` instead.\n",
      "  return new_rank_zero_deprecation(*args, **kwargs)\n",
      "Multiprocessing is handled by SLURM.\n",
      "GPU available: True (cuda), used: True\n",
      "TPU available: False, using: 0 TPU cores\n",
      "IPU available: False, using: 0 IPUs\n",
      "HPU available: False, using: 0 HPUs\n",
      "LOCAL_RANK: 0 - CUDA_VISIBLE_DEVICES: [0]\n",
      "\n",
      "  | Name        | Type       | Params\n",
      "-------------------------------------------\n",
      "0 | prop1       | GCNConv    | 256   \n",
      "1 | prop2       | GCNConv    | 16.6 K\n",
      "2 | pnet_layers | Sequential | 11.5 K\n",
      "-------------------------------------------\n",
      "28.4 K    Trainable params\n",
      "0         Non-trainable params\n",
      "28.4 K    Total params\n",
      "0.114     Total estimated model params size (MB)\n",
      "SLURM auto-requeueing enabled. Setting signal handlers.\n"
     ]
    },
    {
     "data": {
      "application/vnd.jupyter.widget-view+json": {
       "model_id": "95e3af6de5324708bc5fab10a0df4ddc",
       "version_major": 2,
       "version_minor": 0
      },
      "text/plain": [
       "Training:   0%|          | 0/100 [00:00<?, ?it/s]"
      ]
     },
     "metadata": {},
     "output_type": "display_data"
    }
   ],
   "source": [
    "model_vgcn = VgnNet(dims=[3, 64, 256], lr=lr, layers=maps[:-1])\n",
    "model_vgcn = train_model(model_vgcn,train_loader,valid_loader)"
   ]
  },
  {
   "cell_type": "code",
   "execution_count": 8,
   "id": "ad30b705-a3fc-4b8c-bc8d-207f6171b59b",
   "metadata": {},
   "outputs": [
    {
     "name": "stderr",
     "output_type": "stream",
     "text": [
      "/mnt/home/cpedersen/miniconda3/envs/cancerenv_tib/lib/python3.9/site-packages/pytorch_lightning/utilities/warnings.py:53: LightningDeprecationWarning: pytorch_lightning.utilities.warnings.rank_zero_deprecation has been deprecated in v1.6 and will be removed in v1.8. Use the equivalent function from the pytorch_lightning.utilities.rank_zero module instead.\n",
      "  new_rank_zero_deprecation(\n",
      "/mnt/home/cpedersen/miniconda3/envs/cancerenv_tib/lib/python3.9/site-packages/pytorch_lightning/utilities/warnings.py:58: LightningDeprecationWarning: The `pytorch_lightning.loggers.base.LightningLoggerBase` is deprecated in v1.7 and will be removed in v1.9. Please use `pytorch_lightning.loggers.logger.Logger` instead.\n",
      "  return new_rank_zero_deprecation(*args, **kwargs)\n",
      "Multiprocessing is handled by SLURM.\n",
      "GPU available: True (cuda), used: True\n",
      "TPU available: False, using: 0 TPU cores\n",
      "IPU available: False, using: 0 IPUs\n",
      "HPU available: False, using: 0 HPUs\n",
      "LOCAL_RANK: 0 - CUDA_VISIBLE_DEVICES: [0]\n",
      "\n",
      "  | Name              | Type       | Params\n",
      "-------------------------------------------------\n",
      "0 | criterion         | BCELoss    | 0     \n",
      "1 | network           | ModuleList | 47.7 K\n",
      "2 | intermediate_outs | ModuleList | 9.2 K \n",
      "-------------------------------------------------\n",
      "56.9 K    Trainable params\n",
      "0         Non-trainable params\n",
      "56.9 K    Total params\n",
      "0.228     Total estimated model params size (MB)\n",
      "SLURM auto-requeueing enabled. Setting signal handlers.\n"
     ]
    },
    {
     "data": {
      "application/vnd.jupyter.widget-view+json": {
       "model_id": "e3862581e4d24e0b990aaea4aa736710",
       "version_major": 2,
       "version_minor": 0
      },
      "text/plain": [
       "Training:   0%|          | 0/100 [00:00<?, ?it/s]"
      ]
     },
     "metadata": {},
     "output_type": "display_data"
    },
    {
     "name": "stderr",
     "output_type": "stream",
     "text": [
      "`Trainer.fit` stopped: `max_epochs=100` reached.\n"
     ]
    }
   ],
   "source": [
    "model_pnet = PNet(\n",
    "    layers=maps,\n",
    "    num_genes=maps[0].shape[0], # 9054\n",
    "    lr=lr\n",
    ")\n",
    "\n",
    "model_pnet=train_model(model_pnet,train_loader,valid_loader)"
   ]
  },
  {
   "cell_type": "code",
   "execution_count": 9,
   "id": "6411fb40-ced4-4e2b-b64f-abc452c86f49",
   "metadata": {},
   "outputs": [],
   "source": [
    "model_pnet.eval()\n",
    "model_vgcn.eval()\n",
    "model_gat.eval()\n",
    "\n",
    "true=np.array([])\n",
    "pred_pnet=np.array([])\n",
    "pred_vgcn=np.array([])\n",
    "pred_gat=np.array([])\n",
    "\n",
    "## Delete LR_x if it exists\n",
    "try:\n",
    "    del LR_x\n",
    "except:\n",
    "    pass\n",
    "\n",
    "for data in test_loader:\n",
    "    ## Iterate over test loader for all models at once, to ensure we have the same ordering\n",
    "    true=np.append(true,data.y)\n",
    "    pred_pnet=np.append(pred_pnet,model_pnet(data).detach().numpy()) ## Pnet uses BCE loss\n",
    "    pred_vgcn=np.append(pred_vgcn,np.exp(model_vgcn(data)[:,1].detach().numpy())) ## Graph models use log loss, so we exponentiate\n",
    "    pred_gat=np.append(pred_gat,np.exp(model_gat(data)[:,1].detach().numpy()))\n",
    "    ## Batch values for LR, done at the end\n",
    "    batch_x=torch.reshape(data.x,(int(data.x.shape[0]/9054),9054*3)).numpy()\n",
    "    try:\n",
    "        LR_x=np.vstack((LR_x,batch_x))\n",
    "    except:\n",
    "        LR_x=batch_x\n",
    "        \n",
    "pred_LR=model_LR.predict_proba(LR_x)[:,1]"
   ]
  },
  {
   "cell_type": "code",
   "execution_count": 10,
   "id": "8ffb22f1-8aca-4c44-9bdb-e1d549db06f5",
   "metadata": {},
   "outputs": [
    {
     "data": {
      "image/png": "[encoded data removed]",
      "text/plain": [
       "<Figure size 1500x3200 with 2 Axes>"
      ]
     },
     "metadata": {},
     "output_type": "display_data"
    }
   ],
   "source": [
    "ys=[0,1,2,3,4]\n",
    "labels=[\"Truth\",\"LR\",\"Reduced pnet\",\"GAT net\",\"VGCN\"]\n",
    "\n",
    "\n",
    "plt.figure(figsize=(15,32))\n",
    "plt.title(\"Comparison of model predictions on test set\")\n",
    "plt.imshow(np.vstack((true[np.argsort(true)],pred_LR[np.argsort(true)],pred_pnet[np.argsort(true)],pred_gat[np.argsort(true)],pred_vgcn[np.argsort(true)])),aspect=15,interpolation=\"none\",cmap=\"RdYlGn\")\n",
    "plt.axvline(np.argmax(true[np.argsort(true)])-0.5,color=\"black\",linewidth=3) ## Solid black line just to differentiate between 0 and 1 test points\n",
    "plt.colorbar(fraction=0.02, pad=0.04)\n",
    "plt.yticks(ys,labels);"
   ]
  },
  {
   "cell_type": "code",
   "execution_count": null,
   "id": "c72baa82-787b-4c28-b8f9-321f48d803af",
   "metadata": {},
   "outputs": [],
   "source": []
  }
 ],
 "metadata": {
  "kernelspec": {
   "display_name": "cancerenv_tib",
   "language": "python",
   "name": "cancerenv_tib"
  },
  "language_info": {
   "codemirror_mode": {
    "name": "ipython",
    "version": 3
   },
   "file_extension": ".py",
   "mimetype": "text/x-python",
   "name": "python",
   "nbconvert_exporter": "python",
   "pygments_lexer": "ipython3",
   "version": "3.9.13"
  }
 },
 "nbformat": 4,
 "nbformat_minor": 5
}
