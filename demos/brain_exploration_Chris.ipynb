{
 "cells": [
  {
   "cell_type": "code",
   "execution_count": 3,
   "metadata": {},
   "outputs": [],
   "source": [
    "# Training on brain data using GCN2 architecture\n",
    "\n",
    "# Hyperparameters etc:\n",
    "\n",
    "arch = \"GCN2\"\n",
    "batch = 10\n",
    "parall = False\n",
    "lr = 0.005\n",
    "\n",
    "\n",
    "import sys\n",
    "\n",
    "sys.path.insert(0, \"..\")\n",
    "import TCGAData\n",
    "import torch, torch_geometric.transforms as T, torch.nn.functional as F\n",
    "import matplotlib.pyplot as plt, numpy as np\n",
    "from sklearn.metrics import roc_auc_score, roc_curve, auc\n",
    "from torch_geometric.loader import DataLoader\n",
    "from torch.utils.data.sampler import SubsetRandomSampler\n",
    "from arch.net import *\n",
    "import wandb\n",
    "\n",
    "if torch.cuda.is_available():\n",
    "    device = torch.device(\"cuda\" if torch.cuda.is_available() else \"cpu\")\n",
    "else:\n",
    "    device = \"cpu\"\n",
    "\n",
    "root = \"/mnt/home/sgolkar/projects/cancer-net/data/brain\"\n",
    "files = \"/mnt/home/sgolkar/projects/cancer-net/data/brain/samples.txt\"\n",
    "label_mapping = [\"LGG\", \"GBM\"]\n"
   ]
  },
  {
   "cell_type": "code",
   "execution_count": 4,
   "metadata": {},
   "outputs": [],
   "source": [
    "class EarlyStopping():\n",
    "    \"\"\"\n",
    "    Early stopping to stop the training when the loss does not improve after\n",
    "    certain epochs.\n",
    "    \"\"\"\n",
    "    def __init__(self, patience=6, min_delta=0.05):\n",
    "        \"\"\"\n",
    "        :param patience: how many epochs to wait before stopping when loss is\n",
    "               not improving\n",
    "        :param min_delta: minimum difference between new loss and old loss for\n",
    "               new loss to be considered as an improvement\n",
    "        \"\"\"\n",
    "        self.patience = patience\n",
    "        self.min_delta = min_delta\n",
    "        self.counter = 0\n",
    "        self.best_loss = None\n",
    "        self.early_stop = False\n",
    "    def __call__(self, val_loss):\n",
    "        if self.best_loss == None:\n",
    "            self.best_loss = val_loss\n",
    "        elif self.best_loss - val_loss > self.min_delta:\n",
    "            self.best_loss = val_loss\n",
    "            # reset counter if validation loss improves\n",
    "            self.counter = 0\n",
    "        elif self.best_loss - val_loss < self.min_delta:\n",
    "            self.counter += 1\n",
    "            if self.counter >= self.patience:\n",
    "                self.early_stop = True\n"
   ]
  },
  {
   "cell_type": "code",
   "execution_count": 10,
   "metadata": {},
   "outputs": [],
   "source": [
    "class Objective(object):\n",
    "    def __init__(self,arch,root,batch,epochs,device,hidden,valid_seed,alpha,lr,dropout):\n",
    "        self.arch=arch\n",
    "        self.root=root\n",
    "        self.batch=batch\n",
    "        self.epochs=epochs\n",
    "        self.device=device\n",
    "        self.hidden=hidden\n",
    "        self.valid_seed=valid_seed\n",
    "        \n",
    "        ## hardcoding this false for now\n",
    "        self.parall=False\n",
    "        \n",
    "        self.lr        = lr\n",
    "        self.alpha     = alpha\n",
    "        self.dropout   = dropout\n",
    "        \n",
    "        root = \"/mnt/home/sgolkar/projects/cancer-net/data/brain\"\n",
    "        files = \"/mnt/home/sgolkar/projects/cancer-net/data/brain/samples.txt\"\n",
    "        label_mapping = [\"LGG\", \"GBM\"]\n",
    "        pre_transform = T.Compose([T.GCNNorm(), T.ToSparseTensor()])\n",
    "        dataset = TCGAData.TCGADataset(\n",
    "            root=root,\n",
    "            files=files,\n",
    "            label_mapping=label_mapping,\n",
    "            gene_graph=\"brain.geneSymbol.gz\",\n",
    "            pre_transform=pre_transform,\n",
    "            suffix=\"sparse\",\n",
    "            valid_seed=valid_seed,\n",
    "        )\n",
    "\n",
    "        self.train_loader = DataLoader(\n",
    "            dataset,\n",
    "            batch_size=batch,\n",
    "            sampler=SubsetRandomSampler(dataset.train_idx),\n",
    "            drop_last=True,\n",
    "        )\n",
    "        self.valid_loader = DataLoader(\n",
    "            dataset,\n",
    "            batch_size=batch,\n",
    "            sampler=SubsetRandomSampler(dataset.valid_idx),\n",
    "            drop_last=True,\n",
    "        )\n",
    "\n",
    "        self.model = GCN2Net(\n",
    "            hidden_channels=self.hidden,\n",
    "            num_layers=4,\n",
    "            alpha=self.alpha,\n",
    "            theta=1.0,\n",
    "            shared_weights=False,\n",
    "            dropout=self.dropout,\n",
    "        ).to(device)\n",
    "\n",
    "    def train(self, epoch, report=True):\n",
    "        self.model.train()\n",
    "        total_loss = 0\n",
    "        correct = 0\n",
    "        num_samps = 0\n",
    "        for data in self.train_loader:\n",
    "            if not self.parall:\n",
    "                data = data.to(device)\n",
    "            self.optimizer.zero_grad()\n",
    "\n",
    "            output = self.model(data)\n",
    "            output = output.squeeze()\n",
    "\n",
    "            if self.parall:\n",
    "                y = torch.cat([d.y for d in data]).to(output.device)\n",
    "            else:\n",
    "                y = data.y\n",
    "\n",
    "            if len(output.shape) == 1:\n",
    "                output = output.unsqueeze(0)\n",
    "            loss = self.criterion(output, y)\n",
    "\n",
    "            pred = output.max(1)[1]\n",
    "            correct += pred.eq(y).sum().item()\n",
    "            total_loss += loss\n",
    "            loss.backward()\n",
    "            self.optimizer.step()\n",
    "            num_samps += len(y)\n",
    "        if report:\n",
    "            print(\n",
    "                \"Epoch: {:02d}, Loss: {:.3g}, Train Acc: {:.4f}\".format(\n",
    "                    epoch, total_loss / num_samps, correct / num_samps\n",
    "                )\n",
    "            )\n",
    "\n",
    "        return total_loss / num_samps, correct / num_samps\n",
    "    \n",
    "    def valid(self):\n",
    "        self.model.eval()\n",
    "        correct = 0\n",
    "\n",
    "        total_loss = 0\n",
    "        num_samps = 0\n",
    "        for data in self.valid_loader:\n",
    "            if not self.parall:\n",
    "                data = data.to(device)\n",
    "            output = self.model(data)\n",
    "            output = output.squeeze()\n",
    "\n",
    "            pred = output.max(1)[1]\n",
    "            if self.parall:\n",
    "                y = torch.cat([d.y for d in data]).to(output.device)\n",
    "            else:\n",
    "                y = data.y\n",
    "            loss = self.criterion(output, y)\n",
    "            total_loss += loss.item()\n",
    "\n",
    "            correct += pred.eq(y).sum().item()\n",
    "            num_samps += len(y)\n",
    "        return total_loss / num_samps, correct / num_samps\n",
    "    \n",
    "    def __call__(self):\n",
    "        config = {\"learning rate\": self.lr,\n",
    "         \"valid_seed\":self.valid_seed,\n",
    "         \"hidden\":self.hidden,\n",
    "         \"epochs\": self.epochs,\n",
    "         \"batch size\": self.batch,\n",
    "         \"arch\": self.arch,\n",
    "         \"alpha\": self.alpha,\n",
    "         \"dropout\": self.dropout}\n",
    "        wandb.login()\n",
    "        wandb.init(project=\"brain-GCN2-shuffle-2048\", entity=\"chris-pedersen\",config=config)\n",
    "        wandb.watch(self.model, log_freq=1)\n",
    "        self.optimizer = torch.optim.Adam(self.model.parameters(), lr=lr)\n",
    "        scheduler = torch.optim.lr_scheduler.ReduceLROnPlateau(self.optimizer, 'min', factor=0.3, patience=7)\n",
    "        early_stopping=EarlyStopping()\n",
    "        self.criterion = F.nll_loss\n",
    "        train_losses = []\n",
    "        train_acces = []\n",
    "        valid_acces = []\n",
    "        valid_losses = []\n",
    "        for epoch in range(1, self.epochs):\n",
    "            report = False\n",
    "            #report = (epoch) % 10 == 0\n",
    "            train_loss, train_acc = self.train(epoch, report=report)\n",
    "            valid_loss, valid_acc = self.valid()\n",
    "            train_losses.append(train_loss.cpu().detach().numpy())\n",
    "            valid_losses.append(valid_loss)\n",
    "            train_acces.append(train_acc)\n",
    "            valid_acces.append(valid_acc)\n",
    "            wandb.log({\"train loss\": train_loss,\n",
    "                       \"valid loss\": valid_loss,\n",
    "                       \"train accuracy\": train_acc,\n",
    "                       \"valid accuracy\": valid_acc,\n",
    "                       \"learning rate\": self.optimizer.param_groups[0][\"lr\"]})\n",
    "            if report:\n",
    "                print(\"Valid Loss: {:.3g}, Acc: {:.4f}\".format(valid_loss, valid_acc))\n",
    "            if epoch>60:\n",
    "                early_stopping(valid_loss)\n",
    "                if early_stopping.early_stop:\n",
    "                    wandb.finish()\n",
    "                    #trial.study.stop()\n",
    "                    break\n",
    "        wandb.finish()\n",
    "        return train_acces[-1], valid_acces[-1]"
   ]
  },
  {
   "cell_type": "code",
   "execution_count": 6,
   "metadata": {},
   "outputs": [],
   "source": [
    "arch = \"GCN2\"\n",
    "batch = 10\n",
    "parall = False\n",
    "epochs=200\n",
    "hidden=128\n",
    "\n",
    "alpha=0.555\n",
    "dropout=0.315\n",
    "lr=0.007\n",
    "\n",
    "if torch.cuda.is_available():\n",
    "    device = torch.device(\"cuda\" if torch.cuda.is_available() else \"cpu\")\n",
    "else:\n",
    "    device = \"cpu\"\n",
    "\n",
    "root = \"/mnt/home/sgolkar/projects/cancer-net/data/brain\""
   ]
  },
  {
   "cell_type": "code",
   "execution_count": 7,
   "metadata": {},
   "outputs": [
    {
     "name": "stderr",
     "output_type": "stream",
     "text": [
      "Failed to detect the name of this notebook, you can set it manually with the WANDB_NOTEBOOK_NAME environment variable to enable code saving.\n",
      "\u001b[34m\u001b[1mwandb\u001b[0m: Currently logged in as: \u001b[33mchris-pedersen\u001b[0m (use `wandb login --relogin` to force relogin)\n"
     ]
    },
    {
     "data": {
      "text/html": [
       "Tracking run with wandb version 0.12.11"
      ],
      "text/plain": [
       "<IPython.core.display.HTML object>"
      ]
     },
     "metadata": {},
     "output_type": "display_data"
    },
    {
     "data": {
      "text/html": [
       "Run data is saved locally in <code>/mnt/home/cpedersen/Codes/cancer-net/demos/wandb/run-20220311_114030-29fz20nr</code>"
      ],
      "text/plain": [
       "<IPython.core.display.HTML object>"
      ]
     },
     "metadata": {},
     "output_type": "display_data"
    },
    {
     "data": {
      "text/html": [
       "Syncing run <strong><a href=\"https://wandb.ai/chris-pedersen/brain-GCN2-shuffle/runs/29fz20nr\" target=\"_blank\">pretty-fire-65</a></strong> to <a href=\"https://wandb.ai/chris-pedersen/brain-GCN2-shuffle\" target=\"_blank\">Weights & Biases</a> (<a href=\"https://wandb.me/run\" target=\"_blank\">docs</a>)<br/>"
      ],
      "text/plain": [
       "<IPython.core.display.HTML object>"
      ]
     },
     "metadata": {},
     "output_type": "display_data"
    },
    {
     "name": "stdout",
     "output_type": "stream",
     "text": [
      "\n"
     ]
    },
    {
     "data": {
      "text/html": [
       "Waiting for W&B process to finish... <strong style=\"color:green\">(success).</strong>"
      ],
      "text/plain": [
       "<IPython.core.display.HTML object>"
      ]
     },
     "metadata": {},
     "output_type": "display_data"
    },
    {
     "data": {
      "text/html": [
       "<style>\n",
       "    table.wandb td:nth-child(1) { padding: 0 10px; text-align: right }\n",
       "    .wandb-row { display: flex; flex-direction: row; flex-wrap: wrap; width: 100% }\n",
       "    .wandb-col { display: flex; flex-direction: column; flex-basis: 100%; flex: 1; padding: 10px; }\n",
       "    </style>\n",
       "<div class=\"wandb-row\"><div class=\"wandb-col\"><h3>Run history:</h3><br/><table class=\"wandb\"><tr><td>learning rate</td><td>▁▁▁▁▁▁▁▁▁▁▁▁▁▁▁▁▁▁▁▁▁▁▁▁▁▁▁▁▁▁▁▁▁▁▁▁▁▁▁▁</td></tr><tr><td>train accuracy</td><td>▁▂▃▄▄▄▄▄▄▄▅▄▅▅▆▅▅▆▆▆▆▆▆▆▇▆▆▆▇▆▇▆▇▇▇█▇█▇█</td></tr><tr><td>train loss</td><td>██▇▆▆▆▅▆▆▅▅▅▅▅▄▄▄▄▄▄▄▄▃▃▃▃▃▄▂▃▃▃▂▂▃▁▂▂▂▁</td></tr><tr><td>valid accuracy</td><td>▁▁▄▁▁▂▄▆▃▅▁▄▇▃▆▆▅▄█▄▃▇▆▆▆▇▄▅█▆█▃▇▃▇▃▃▇▇▆</td></tr><tr><td>valid loss</td><td>▄▃█▆▅█▃▂▂▃▃▃▂▃▃▄▄▃▁▃▃▂▄▃▃▃▄▃▂▄▃▄▃▃▂▄▄▃▂▃</td></tr></table><br/></div><div class=\"wandb-col\"><h3>Run summary:</h3><br/><table class=\"wandb\"><tr><td>learning rate</td><td>0.007</td></tr><tr><td>train accuracy</td><td>0.92889</td></tr><tr><td>train loss</td><td>0.01627</td></tr><tr><td>valid accuracy</td><td>0.76364</td></tr><tr><td>valid loss</td><td>0.06268</td></tr></table><br/></div></div>"
      ],
      "text/plain": [
       "<IPython.core.display.HTML object>"
      ]
     },
     "metadata": {},
     "output_type": "display_data"
    },
    {
     "data": {
      "text/html": [
       "Synced <strong style=\"color:#cdcd00\">pretty-fire-65</strong>: <a href=\"https://wandb.ai/chris-pedersen/brain-GCN2-shuffle/runs/29fz20nr\" target=\"_blank\">https://wandb.ai/chris-pedersen/brain-GCN2-shuffle/runs/29fz20nr</a><br/>Synced 5 W&B file(s), 0 media file(s), 0 artifact file(s) and 0 other file(s)"
      ],
      "text/plain": [
       "<IPython.core.display.HTML object>"
      ]
     },
     "metadata": {},
     "output_type": "display_data"
    },
    {
     "data": {
      "text/html": [
       "Find logs at: <code>./wandb/run-20220311_114030-29fz20nr/logs</code>"
      ],
      "text/plain": [
       "<IPython.core.display.HTML object>"
      ]
     },
     "metadata": {},
     "output_type": "display_data"
    },
    {
     "data": {
      "text/html": [
       "Tracking run with wandb version 0.12.11"
      ],
      "text/plain": [
       "<IPython.core.display.HTML object>"
      ]
     },
     "metadata": {},
     "output_type": "display_data"
    },
    {
     "data": {
      "text/html": [
       "Run data is saved locally in <code>/mnt/home/cpedersen/Codes/cancer-net/demos/wandb/run-20220311_114152-23atce61</code>"
      ],
      "text/plain": [
       "<IPython.core.display.HTML object>"
      ]
     },
     "metadata": {},
     "output_type": "display_data"
    },
    {
     "data": {
      "text/html": [
       "Syncing run <strong><a href=\"https://wandb.ai/chris-pedersen/brain-GCN2-shuffle/runs/23atce61\" target=\"_blank\">tough-serenity-66</a></strong> to <a href=\"https://wandb.ai/chris-pedersen/brain-GCN2-shuffle\" target=\"_blank\">Weights & Biases</a> (<a href=\"https://wandb.me/run\" target=\"_blank\">docs</a>)<br/>"
      ],
      "text/plain": [
       "<IPython.core.display.HTML object>"
      ]
     },
     "metadata": {},
     "output_type": "display_data"
    },
    {
     "name": "stdout",
     "output_type": "stream",
     "text": [
      "\n"
     ]
    },
    {
     "data": {
      "text/html": [
       "Waiting for W&B process to finish... <strong style=\"color:green\">(success).</strong>"
      ],
      "text/plain": [
       "<IPython.core.display.HTML object>"
      ]
     },
     "metadata": {},
     "output_type": "display_data"
    },
    {
     "data": {
      "text/html": [
       "<style>\n",
       "    table.wandb td:nth-child(1) { padding: 0 10px; text-align: right }\n",
       "    .wandb-row { display: flex; flex-direction: row; flex-wrap: wrap; width: 100% }\n",
       "    .wandb-col { display: flex; flex-direction: column; flex-basis: 100%; flex: 1; padding: 10px; }\n",
       "    </style>\n",
       "<div class=\"wandb-row\"><div class=\"wandb-col\"><h3>Run history:</h3><br/><table class=\"wandb\"><tr><td>learning rate</td><td>▁▁▁▁▁▁▁▁▁▁▁▁▁▁▁▁▁▁▁▁▁▁▁▁▁▁▁▁▁▁▁▁▁▁▁▁▁▁▁▁</td></tr><tr><td>train accuracy</td><td>▁▃▃▃▄▅▄▅▅▄▅▅▅▆▆▇▇▆▆▆▇▇▆▆▇▇█▇▇▇███▆█▇████</td></tr><tr><td>train loss</td><td>█▇▇▇▆▆▆▅▅▅▅▅▅▃▄▃▃▄▄▄▃▂▄▃▃▃▂▂▃▂▂▁▂▄▂▂▂▂▁▂</td></tr><tr><td>valid accuracy</td><td>▁▂▃▅▇▅▂▅▂█▃▁▄▃▁▄▆▄▅▅▂▄▄▅▂▅▆▅▂▄▅▄▄▁▅▄▄▅▇▅</td></tr><tr><td>valid loss</td><td>▁▁▂▂▃▂▁▅▂▂▄▃▁▂▂▅▁▄▂▂▂▂▄▁▃▂▅▂▅▄▅▂▅▂▂▃▂█▂▂</td></tr></table><br/></div><div class=\"wandb-col\"><h3>Run summary:</h3><br/><table class=\"wandb\"><tr><td>learning rate</td><td>0.007</td></tr><tr><td>train accuracy</td><td>0.91333</td></tr><tr><td>train loss</td><td>0.02151</td></tr><tr><td>valid accuracy</td><td>0.72727</td></tr><tr><td>valid loss</td><td>0.06876</td></tr></table><br/></div></div>"
      ],
      "text/plain": [
       "<IPython.core.display.HTML object>"
      ]
     },
     "metadata": {},
     "output_type": "display_data"
    },
    {
     "data": {
      "text/html": [
       "Synced <strong style=\"color:#cdcd00\">tough-serenity-66</strong>: <a href=\"https://wandb.ai/chris-pedersen/brain-GCN2-shuffle/runs/23atce61\" target=\"_blank\">https://wandb.ai/chris-pedersen/brain-GCN2-shuffle/runs/23atce61</a><br/>Synced 5 W&B file(s), 0 media file(s), 0 artifact file(s) and 0 other file(s)"
      ],
      "text/plain": [
       "<IPython.core.display.HTML object>"
      ]
     },
     "metadata": {},
     "output_type": "display_data"
    },
    {
     "data": {
      "text/html": [
       "Find logs at: <code>./wandb/run-20220311_114152-23atce61/logs</code>"
      ],
      "text/plain": [
       "<IPython.core.display.HTML object>"
      ]
     },
     "metadata": {},
     "output_type": "display_data"
    },
    {
     "data": {
      "text/html": [
       "Tracking run with wandb version 0.12.11"
      ],
      "text/plain": [
       "<IPython.core.display.HTML object>"
      ]
     },
     "metadata": {},
     "output_type": "display_data"
    },
    {
     "data": {
      "text/html": [
       "Run data is saved locally in <code>/mnt/home/cpedersen/Codes/cancer-net/demos/wandb/run-20220311_114314-vkaddigz</code>"
      ],
      "text/plain": [
       "<IPython.core.display.HTML object>"
      ]
     },
     "metadata": {},
     "output_type": "display_data"
    },
    {
     "data": {
      "text/html": [
       "Syncing run <strong><a href=\"https://wandb.ai/chris-pedersen/brain-GCN2-shuffle/runs/vkaddigz\" target=\"_blank\">comic-microwave-67</a></strong> to <a href=\"https://wandb.ai/chris-pedersen/brain-GCN2-shuffle\" target=\"_blank\">Weights & Biases</a> (<a href=\"https://wandb.me/run\" target=\"_blank\">docs</a>)<br/>"
      ],
      "text/plain": [
       "<IPython.core.display.HTML object>"
      ]
     },
     "metadata": {},
     "output_type": "display_data"
    },
    {
     "name": "stdout",
     "output_type": "stream",
     "text": [
      "\n"
     ]
    },
    {
     "data": {
      "text/html": [
       "Waiting for W&B process to finish... <strong style=\"color:green\">(success).</strong>"
      ],
      "text/plain": [
       "<IPython.core.display.HTML object>"
      ]
     },
     "metadata": {},
     "output_type": "display_data"
    },
    {
     "data": {
      "text/html": [
       "<style>\n",
       "    table.wandb td:nth-child(1) { padding: 0 10px; text-align: right }\n",
       "    .wandb-row { display: flex; flex-direction: row; flex-wrap: wrap; width: 100% }\n",
       "    .wandb-col { display: flex; flex-direction: column; flex-basis: 100%; flex: 1; padding: 10px; }\n",
       "    </style>\n",
       "<div class=\"wandb-row\"><div class=\"wandb-col\"><h3>Run history:</h3><br/><table class=\"wandb\"><tr><td>learning rate</td><td>▁▁▁▁▁▁▁▁▁▁▁▁▁▁▁▁▁▁▁▁▁▁▁▁▁▁▁▁▁▁▁▁▁▁▁▁▁▁▁▁</td></tr><tr><td>train accuracy</td><td>▁▃▃▄▄▄▄▄▅▅▅▅▅▆▆▅▆▆▆▆▇▇▆▆▆▇▇▇▇▇▇▇▇▇▇▆▇███</td></tr><tr><td>train loss</td><td>█▇▆▆▆▅▅▅▅▅▅▄▄▄▄▅▄▃▃▃▂▃▄▄▃▃▂▂▃▂▂▂▂▂▂▃▃▂▁▁</td></tr><tr><td>valid accuracy</td><td>▂▃▄▂▁▁▃▄▆▂▄▅▄▅▆▆▆▅▇█▄▄▆▄▄▄▆▅▅▇▃▅▅▆▁▄▄▅█▆</td></tr><tr><td>valid loss</td><td>▂▂▁▂▂▂▂▂▁▂▂▂▂▂▂▂▃▃▁▁▁▁▁▁▁▁▂▂▂▂▂▂▂▂▃█▁▂▁▂</td></tr></table><br/></div><div class=\"wandb-col\"><h3>Run summary:</h3><br/><table class=\"wandb\"><tr><td>learning rate</td><td>0.007</td></tr><tr><td>train accuracy</td><td>0.92</td></tr><tr><td>train loss</td><td>0.02063</td></tr><tr><td>valid accuracy</td><td>0.80909</td></tr><tr><td>valid loss</td><td>0.06335</td></tr></table><br/></div></div>"
      ],
      "text/plain": [
       "<IPython.core.display.HTML object>"
      ]
     },
     "metadata": {},
     "output_type": "display_data"
    },
    {
     "data": {
      "text/html": [
       "Synced <strong style=\"color:#cdcd00\">comic-microwave-67</strong>: <a href=\"https://wandb.ai/chris-pedersen/brain-GCN2-shuffle/runs/vkaddigz\" target=\"_blank\">https://wandb.ai/chris-pedersen/brain-GCN2-shuffle/runs/vkaddigz</a><br/>Synced 5 W&B file(s), 0 media file(s), 0 artifact file(s) and 0 other file(s)"
      ],
      "text/plain": [
       "<IPython.core.display.HTML object>"
      ]
     },
     "metadata": {},
     "output_type": "display_data"
    },
    {
     "data": {
      "text/html": [
       "Find logs at: <code>./wandb/run-20220311_114314-vkaddigz/logs</code>"
      ],
      "text/plain": [
       "<IPython.core.display.HTML object>"
      ]
     },
     "metadata": {},
     "output_type": "display_data"
    },
    {
     "data": {
      "text/html": [
       "Tracking run with wandb version 0.12.11"
      ],
      "text/plain": [
       "<IPython.core.display.HTML object>"
      ]
     },
     "metadata": {},
     "output_type": "display_data"
    },
    {
     "data": {
      "text/html": [
       "Run data is saved locally in <code>/mnt/home/cpedersen/Codes/cancer-net/demos/wandb/run-20220311_114434-2gpqys23</code>"
      ],
      "text/plain": [
       "<IPython.core.display.HTML object>"
      ]
     },
     "metadata": {},
     "output_type": "display_data"
    },
    {
     "data": {
      "text/html": [
       "Syncing run <strong><a href=\"https://wandb.ai/chris-pedersen/brain-GCN2-shuffle/runs/2gpqys23\" target=\"_blank\">rosy-energy-68</a></strong> to <a href=\"https://wandb.ai/chris-pedersen/brain-GCN2-shuffle\" target=\"_blank\">Weights & Biases</a> (<a href=\"https://wandb.me/run\" target=\"_blank\">docs</a>)<br/>"
      ],
      "text/plain": [
       "<IPython.core.display.HTML object>"
      ]
     },
     "metadata": {},
     "output_type": "display_data"
    },
    {
     "name": "stdout",
     "output_type": "stream",
     "text": [
      "\n"
     ]
    },
    {
     "data": {
      "text/html": [
       "Waiting for W&B process to finish... <strong style=\"color:green\">(success).</strong>"
      ],
      "text/plain": [
       "<IPython.core.display.HTML object>"
      ]
     },
     "metadata": {},
     "output_type": "display_data"
    },
    {
     "data": {
      "text/html": [
       "<style>\n",
       "    table.wandb td:nth-child(1) { padding: 0 10px; text-align: right }\n",
       "    .wandb-row { display: flex; flex-direction: row; flex-wrap: wrap; width: 100% }\n",
       "    .wandb-col { display: flex; flex-direction: column; flex-basis: 100%; flex: 1; padding: 10px; }\n",
       "    </style>\n",
       "<div class=\"wandb-row\"><div class=\"wandb-col\"><h3>Run history:</h3><br/><table class=\"wandb\"><tr><td>learning rate</td><td>▁▁▁▁▁▁▁▁▁▁▁▁▁▁▁▁▁▁▁▁▁▁▁▁▁▁▁▁▁▁▁▁▁▁▁▁▁▁▁▁</td></tr><tr><td>train accuracy</td><td>▁▃▄▄▅▄▄▄▅▅▃▅▅▅▅▅▆▇▆▆▇▇▇▇▇▇▇▇█████▇███▇▇▇</td></tr><tr><td>train loss</td><td>█▇▆▆▅▆▆▆▅▅▆▅▅▅▄▅▃▃▃▄▃▂▃▂▂▂▂▂▁▁▁▁▂▃▁▂▂▃▂▂</td></tr><tr><td>valid accuracy</td><td>▁▅▁▂▂▆▅▇▆█▇▅▇▆▆▃▇█▇▆▆▇▇▇██▇▇████▇█▆▇▇██▇</td></tr><tr><td>valid loss</td><td>▅▃█▇▅▃▃▂▂▃▂▃▂▂▃▅▁▁▂▃▃▄▂▄▄▂▄▂▂▂▁▂▃▁▄▃▁▁▂▂</td></tr></table><br/></div><div class=\"wandb-col\"><h3>Run summary:</h3><br/><table class=\"wandb\"><tr><td>learning rate</td><td>0.007</td></tr><tr><td>train accuracy</td><td>0.88667</td></tr><tr><td>train loss</td><td>0.02521</td></tr><tr><td>valid accuracy</td><td>0.78182</td></tr><tr><td>valid loss</td><td>0.04383</td></tr></table><br/></div></div>"
      ],
      "text/plain": [
       "<IPython.core.display.HTML object>"
      ]
     },
     "metadata": {},
     "output_type": "display_data"
    },
    {
     "data": {
      "text/html": [
       "Synced <strong style=\"color:#cdcd00\">rosy-energy-68</strong>: <a href=\"https://wandb.ai/chris-pedersen/brain-GCN2-shuffle/runs/2gpqys23\" target=\"_blank\">https://wandb.ai/chris-pedersen/brain-GCN2-shuffle/runs/2gpqys23</a><br/>Synced 5 W&B file(s), 0 media file(s), 0 artifact file(s) and 0 other file(s)"
      ],
      "text/plain": [
       "<IPython.core.display.HTML object>"
      ]
     },
     "metadata": {},
     "output_type": "display_data"
    },
    {
     "data": {
      "text/html": [
       "Find logs at: <code>./wandb/run-20220311_114434-2gpqys23/logs</code>"
      ],
      "text/plain": [
       "<IPython.core.display.HTML object>"
      ]
     },
     "metadata": {},
     "output_type": "display_data"
    },
    {
     "data": {
      "text/html": [
       "Tracking run with wandb version 0.12.11"
      ],
      "text/plain": [
       "<IPython.core.display.HTML object>"
      ]
     },
     "metadata": {},
     "output_type": "display_data"
    },
    {
     "data": {
      "text/html": [
       "Run data is saved locally in <code>/mnt/home/cpedersen/Codes/cancer-net/demos/wandb/run-20220311_114554-225zdivq</code>"
      ],
      "text/plain": [
       "<IPython.core.display.HTML object>"
      ]
     },
     "metadata": {},
     "output_type": "display_data"
    },
    {
     "data": {
      "text/html": [
       "Syncing run <strong><a href=\"https://wandb.ai/chris-pedersen/brain-GCN2-shuffle/runs/225zdivq\" target=\"_blank\">vivid-breeze-69</a></strong> to <a href=\"https://wandb.ai/chris-pedersen/brain-GCN2-shuffle\" target=\"_blank\">Weights & Biases</a> (<a href=\"https://wandb.me/run\" target=\"_blank\">docs</a>)<br/>"
      ],
      "text/plain": [
       "<IPython.core.display.HTML object>"
      ]
     },
     "metadata": {},
     "output_type": "display_data"
    },
    {
     "name": "stdout",
     "output_type": "stream",
     "text": [
      "\n"
     ]
    },
    {
     "data": {
      "text/html": [
       "Waiting for W&B process to finish... <strong style=\"color:green\">(success).</strong>"
      ],
      "text/plain": [
       "<IPython.core.display.HTML object>"
      ]
     },
     "metadata": {},
     "output_type": "display_data"
    },
    {
     "data": {
      "text/html": [
       "<style>\n",
       "    table.wandb td:nth-child(1) { padding: 0 10px; text-align: right }\n",
       "    .wandb-row { display: flex; flex-direction: row; flex-wrap: wrap; width: 100% }\n",
       "    .wandb-col { display: flex; flex-direction: column; flex-basis: 100%; flex: 1; padding: 10px; }\n",
       "    </style>\n",
       "<div class=\"wandb-row\"><div class=\"wandb-col\"><h3>Run history:</h3><br/><table class=\"wandb\"><tr><td>learning rate</td><td>▁▁▁▁▁▁▁▁▁▁▁▁▁▁▁▁▁▁▁▁▁▁▁▁▁▁▁▁▁▁▁▁▁▁▁▁▁▁▁▁</td></tr><tr><td>train accuracy</td><td>▁▂▃▃▃▃▅▄▅▄▅▅▅▅▅▆▅▆▅▆▆▅▇▇▇▇▇█▇▇▇▇▇▇▇▇█▇▇█</td></tr><tr><td>train loss</td><td>█▇▇▇▆▆▆▅▆▆▅▅▅▄▄▄▄▃▄▄▄▄▄▃▃▃▃▂▂▂▂▂▂▂▂▂▁▂▂▁</td></tr><tr><td>valid accuracy</td><td>▃▃▆▁▄▆▄▄▄▄▄▁▄▃▃▅▅▁▂▇▇▆▇▇▅▆▅▆█▇▇▅▄▄▄▆█▇▇█</td></tr><tr><td>valid loss</td><td>▂▂▁▃▃▁▁▂▂▂▃▃▂▂▄▃▇██▂▁▃▁▂▂▂▂▃▂▃▃▃▃▃▃▃▅▂▁▃</td></tr></table><br/></div><div class=\"wandb-col\"><h3>Run summary:</h3><br/><table class=\"wandb\"><tr><td>learning rate</td><td>0.007</td></tr><tr><td>train accuracy</td><td>0.92</td></tr><tr><td>train loss</td><td>0.01959</td></tr><tr><td>valid accuracy</td><td>0.79091</td></tr><tr><td>valid loss</td><td>0.06535</td></tr></table><br/></div></div>"
      ],
      "text/plain": [
       "<IPython.core.display.HTML object>"
      ]
     },
     "metadata": {},
     "output_type": "display_data"
    },
    {
     "data": {
      "text/html": [
       "Synced <strong style=\"color:#cdcd00\">vivid-breeze-69</strong>: <a href=\"https://wandb.ai/chris-pedersen/brain-GCN2-shuffle/runs/225zdivq\" target=\"_blank\">https://wandb.ai/chris-pedersen/brain-GCN2-shuffle/runs/225zdivq</a><br/>Synced 5 W&B file(s), 0 media file(s), 0 artifact file(s) and 0 other file(s)"
      ],
      "text/plain": [
       "<IPython.core.display.HTML object>"
      ]
     },
     "metadata": {},
     "output_type": "display_data"
    },
    {
     "data": {
      "text/html": [
       "Find logs at: <code>./wandb/run-20220311_114554-225zdivq/logs</code>"
      ],
      "text/plain": [
       "<IPython.core.display.HTML object>"
      ]
     },
     "metadata": {},
     "output_type": "display_data"
    },
    {
     "data": {
      "text/html": [
       "Tracking run with wandb version 0.12.11"
      ],
      "text/plain": [
       "<IPython.core.display.HTML object>"
      ]
     },
     "metadata": {},
     "output_type": "display_data"
    },
    {
     "data": {
      "text/html": [
       "Run data is saved locally in <code>/mnt/home/cpedersen/Codes/cancer-net/demos/wandb/run-20220311_114716-2v47nmop</code>"
      ],
      "text/plain": [
       "<IPython.core.display.HTML object>"
      ]
     },
     "metadata": {},
     "output_type": "display_data"
    },
    {
     "data": {
      "text/html": [
       "Syncing run <strong><a href=\"https://wandb.ai/chris-pedersen/brain-GCN2-shuffle/runs/2v47nmop\" target=\"_blank\">blooming-rain-70</a></strong> to <a href=\"https://wandb.ai/chris-pedersen/brain-GCN2-shuffle\" target=\"_blank\">Weights & Biases</a> (<a href=\"https://wandb.me/run\" target=\"_blank\">docs</a>)<br/>"
      ],
      "text/plain": [
       "<IPython.core.display.HTML object>"
      ]
     },
     "metadata": {},
     "output_type": "display_data"
    },
    {
     "name": "stdout",
     "output_type": "stream",
     "text": [
      "\n"
     ]
    },
    {
     "data": {
      "text/html": [
       "Waiting for W&B process to finish... <strong style=\"color:green\">(success).</strong>"
      ],
      "text/plain": [
       "<IPython.core.display.HTML object>"
      ]
     },
     "metadata": {},
     "output_type": "display_data"
    },
    {
     "data": {
      "text/html": [
       "<style>\n",
       "    table.wandb td:nth-child(1) { padding: 0 10px; text-align: right }\n",
       "    .wandb-row { display: flex; flex-direction: row; flex-wrap: wrap; width: 100% }\n",
       "    .wandb-col { display: flex; flex-direction: column; flex-basis: 100%; flex: 1; padding: 10px; }\n",
       "    </style>\n",
       "<div class=\"wandb-row\"><div class=\"wandb-col\"><h3>Run history:</h3><br/><table class=\"wandb\"><tr><td>learning rate</td><td>▁▁▁▁▁▁▁▁▁▁▁▁▁▁▁▁▁▁▁▁▁▁▁▁▁▁▁▁▁▁▁▁▁▁▁▁▁▁▁▁</td></tr><tr><td>train accuracy</td><td>▁▃▃▃▃▄▄▄▅▅▅▅▆▆▅▆▅▆▇▅▆▆▆▆▅▇▇▆▆▇▇▇█▇█▇████</td></tr><tr><td>train loss</td><td>█▇▇▇▇▆▆▆▅▅▆▅▄▅▆▄▄▄▃▄▄▄▃▄▄▃▃▃▃▂▃▃▂▂▁▂▂▁▂▁</td></tr><tr><td>valid accuracy</td><td>▁▃▆▃▅▅▅▅▆▆▅▇▆▅▇▇▇▇▇▆▆▇█▆▆▆▅▆▇█▆▆▆▇▇▆█▇▇▇</td></tr><tr><td>valid loss</td><td>▄▄▇█▆▄▄▄▄▄▃▂▃▃▂▃▄▄▄▇▃▁▃▃▂▂▄▂▃▁▂▂▄▂▄▅▁▃▄▅</td></tr></table><br/></div><div class=\"wandb-col\"><h3>Run summary:</h3><br/><table class=\"wandb\"><tr><td>learning rate</td><td>0.007</td></tr><tr><td>train accuracy</td><td>0.91333</td></tr><tr><td>train loss</td><td>0.02052</td></tr><tr><td>valid accuracy</td><td>0.77273</td></tr><tr><td>valid loss</td><td>0.0751</td></tr></table><br/></div></div>"
      ],
      "text/plain": [
       "<IPython.core.display.HTML object>"
      ]
     },
     "metadata": {},
     "output_type": "display_data"
    },
    {
     "data": {
      "text/html": [
       "Synced <strong style=\"color:#cdcd00\">blooming-rain-70</strong>: <a href=\"https://wandb.ai/chris-pedersen/brain-GCN2-shuffle/runs/2v47nmop\" target=\"_blank\">https://wandb.ai/chris-pedersen/brain-GCN2-shuffle/runs/2v47nmop</a><br/>Synced 5 W&B file(s), 0 media file(s), 0 artifact file(s) and 0 other file(s)"
      ],
      "text/plain": [
       "<IPython.core.display.HTML object>"
      ]
     },
     "metadata": {},
     "output_type": "display_data"
    },
    {
     "data": {
      "text/html": [
       "Find logs at: <code>./wandb/run-20220311_114716-2v47nmop/logs</code>"
      ],
      "text/plain": [
       "<IPython.core.display.HTML object>"
      ]
     },
     "metadata": {},
     "output_type": "display_data"
    },
    {
     "data": {
      "text/html": [
       "Tracking run with wandb version 0.12.11"
      ],
      "text/plain": [
       "<IPython.core.display.HTML object>"
      ]
     },
     "metadata": {},
     "output_type": "display_data"
    },
    {
     "data": {
      "text/html": [
       "Run data is saved locally in <code>/mnt/home/cpedersen/Codes/cancer-net/demos/wandb/run-20220311_114839-2tyz5i6e</code>"
      ],
      "text/plain": [
       "<IPython.core.display.HTML object>"
      ]
     },
     "metadata": {},
     "output_type": "display_data"
    },
    {
     "data": {
      "text/html": [
       "Syncing run <strong><a href=\"https://wandb.ai/chris-pedersen/brain-GCN2-shuffle/runs/2tyz5i6e\" target=\"_blank\">crisp-grass-71</a></strong> to <a href=\"https://wandb.ai/chris-pedersen/brain-GCN2-shuffle\" target=\"_blank\">Weights & Biases</a> (<a href=\"https://wandb.me/run\" target=\"_blank\">docs</a>)<br/>"
      ],
      "text/plain": [
       "<IPython.core.display.HTML object>"
      ]
     },
     "metadata": {},
     "output_type": "display_data"
    },
    {
     "name": "stdout",
     "output_type": "stream",
     "text": [
      "\n"
     ]
    },
    {
     "data": {
      "text/html": [
       "Waiting for W&B process to finish... <strong style=\"color:green\">(success).</strong>"
      ],
      "text/plain": [
       "<IPython.core.display.HTML object>"
      ]
     },
     "metadata": {},
     "output_type": "display_data"
    },
    {
     "data": {
      "text/html": [
       "<style>\n",
       "    table.wandb td:nth-child(1) { padding: 0 10px; text-align: right }\n",
       "    .wandb-row { display: flex; flex-direction: row; flex-wrap: wrap; width: 100% }\n",
       "    .wandb-col { display: flex; flex-direction: column; flex-basis: 100%; flex: 1; padding: 10px; }\n",
       "    </style>\n",
       "<div class=\"wandb-row\"><div class=\"wandb-col\"><h3>Run history:</h3><br/><table class=\"wandb\"><tr><td>learning rate</td><td>▁▁▁▁▁▁▁▁▁▁▁▁▁▁▁▁▁▁▁▁▁▁▁▁▁▁▁▁▁▁▁▁▁▁▁▁▁▁▁▁</td></tr><tr><td>train accuracy</td><td>▁▂▄▃▄▄▅▄▄▅▅▅▅▅▅▆▆▆▆▆▆▆▆▇▇█▇▇███▇█▇███▇█▇</td></tr><tr><td>train loss</td><td>█▇▆▇▆▅▆▅▅▄▅▄▄▄▄▄▄▃▄▃▃▃▃▃▃▂▂▂▂▁▂▂▁▂▁▂▁▃▁▂</td></tr><tr><td>valid accuracy</td><td>▄▄▁▂▂▁▁▃▄▆▆▄▅▆▅▇▅▅▆▆▄▅▅▅▆▆▆▆▆▇▇▆▅▆▇▇█▆█▇</td></tr><tr><td>valid loss</td><td>▂▁▂▃▄▄█▅▅▂▂▃▂▂▂▁▁▃▂▂▂▂▂▁▂▁▁▂▁▁▂▁▂▂▁▁▁▂▁▁</td></tr></table><br/></div><div class=\"wandb-col\"><h3>Run summary:</h3><br/><table class=\"wandb\"><tr><td>learning rate</td><td>0.007</td></tr><tr><td>train accuracy</td><td>0.87556</td></tr><tr><td>train loss</td><td>0.0288</td></tr><tr><td>valid accuracy</td><td>0.82727</td></tr><tr><td>valid loss</td><td>0.04091</td></tr></table><br/></div></div>"
      ],
      "text/plain": [
       "<IPython.core.display.HTML object>"
      ]
     },
     "metadata": {},
     "output_type": "display_data"
    },
    {
     "data": {
      "text/html": [
       "Synced <strong style=\"color:#cdcd00\">crisp-grass-71</strong>: <a href=\"https://wandb.ai/chris-pedersen/brain-GCN2-shuffle/runs/2tyz5i6e\" target=\"_blank\">https://wandb.ai/chris-pedersen/brain-GCN2-shuffle/runs/2tyz5i6e</a><br/>Synced 5 W&B file(s), 0 media file(s), 0 artifact file(s) and 0 other file(s)"
      ],
      "text/plain": [
       "<IPython.core.display.HTML object>"
      ]
     },
     "metadata": {},
     "output_type": "display_data"
    },
    {
     "data": {
      "text/html": [
       "Find logs at: <code>./wandb/run-20220311_114839-2tyz5i6e/logs</code>"
      ],
      "text/plain": [
       "<IPython.core.display.HTML object>"
      ]
     },
     "metadata": {},
     "output_type": "display_data"
    },
    {
     "data": {
      "text/html": [
       "Tracking run with wandb version 0.12.11"
      ],
      "text/plain": [
       "<IPython.core.display.HTML object>"
      ]
     },
     "metadata": {},
     "output_type": "display_data"
    },
    {
     "data": {
      "text/html": [
       "Run data is saved locally in <code>/mnt/home/cpedersen/Codes/cancer-net/demos/wandb/run-20220311_115001-3ic5hsvb</code>"
      ],
      "text/plain": [
       "<IPython.core.display.HTML object>"
      ]
     },
     "metadata": {},
     "output_type": "display_data"
    },
    {
     "data": {
      "text/html": [
       "Syncing run <strong><a href=\"https://wandb.ai/chris-pedersen/brain-GCN2-shuffle/runs/3ic5hsvb\" target=\"_blank\">brisk-night-72</a></strong> to <a href=\"https://wandb.ai/chris-pedersen/brain-GCN2-shuffle\" target=\"_blank\">Weights & Biases</a> (<a href=\"https://wandb.me/run\" target=\"_blank\">docs</a>)<br/>"
      ],
      "text/plain": [
       "<IPython.core.display.HTML object>"
      ]
     },
     "metadata": {},
     "output_type": "display_data"
    },
    {
     "name": "stdout",
     "output_type": "stream",
     "text": [
      "\n"
     ]
    },
    {
     "data": {
      "text/html": [
       "Waiting for W&B process to finish... <strong style=\"color:green\">(success).</strong>"
      ],
      "text/plain": [
       "<IPython.core.display.HTML object>"
      ]
     },
     "metadata": {},
     "output_type": "display_data"
    },
    {
     "data": {
      "text/html": [
       "<style>\n",
       "    table.wandb td:nth-child(1) { padding: 0 10px; text-align: right }\n",
       "    .wandb-row { display: flex; flex-direction: row; flex-wrap: wrap; width: 100% }\n",
       "    .wandb-col { display: flex; flex-direction: column; flex-basis: 100%; flex: 1; padding: 10px; }\n",
       "    </style>\n",
       "<div class=\"wandb-row\"><div class=\"wandb-col\"><h3>Run history:</h3><br/><table class=\"wandb\"><tr><td>learning rate</td><td>▁▁▁▁▁▁▁▁▁▁▁▁▁▁▁▁▁▁▁▁▁▁▁▁▁▁▁▁▁▁▁▁▁▁▁▁▁▁▁▁</td></tr><tr><td>train accuracy</td><td>▁▃▄▄▄▄▅▅▅▅▅▅▆▇▅▆▆▆▆▇▆▆▇▆▇▇▆▇█▇█▇▇▇▇█▇▇██</td></tr><tr><td>train loss</td><td>█▆▆▆▆▆▅▅▅▅▄▅▄▃▄▃▃▄▃▃▃▃▃▃▂▂▂▂▁▂▁▂▂▂▂▁▁▂▁▁</td></tr><tr><td>valid accuracy</td><td>▁▄▅▄▅▆▇▅▄▆▆▄▃▇▆▇█▅▃▆▆▇▅▇▆█▆▇▆▇▆▆▅▇▇▇▇▇▇▇</td></tr><tr><td>valid loss</td><td>▃▂▂▃▄▁▁▂▄▄▂▅▂▇▅▂▂▃█▄▂▃▆▃▄▆▃▃▃▃▄▂▃▁▂▂▁▂▂▃</td></tr></table><br/></div><div class=\"wandb-col\"><h3>Run summary:</h3><br/><table class=\"wandb\"><tr><td>learning rate</td><td>0.007</td></tr><tr><td>train accuracy</td><td>0.93556</td></tr><tr><td>train loss</td><td>0.01889</td></tr><tr><td>valid accuracy</td><td>0.75455</td></tr><tr><td>valid loss</td><td>0.06985</td></tr></table><br/></div></div>"
      ],
      "text/plain": [
       "<IPython.core.display.HTML object>"
      ]
     },
     "metadata": {},
     "output_type": "display_data"
    },
    {
     "data": {
      "text/html": [
       "Synced <strong style=\"color:#cdcd00\">brisk-night-72</strong>: <a href=\"https://wandb.ai/chris-pedersen/brain-GCN2-shuffle/runs/3ic5hsvb\" target=\"_blank\">https://wandb.ai/chris-pedersen/brain-GCN2-shuffle/runs/3ic5hsvb</a><br/>Synced 5 W&B file(s), 0 media file(s), 0 artifact file(s) and 0 other file(s)"
      ],
      "text/plain": [
       "<IPython.core.display.HTML object>"
      ]
     },
     "metadata": {},
     "output_type": "display_data"
    },
    {
     "data": {
      "text/html": [
       "Find logs at: <code>./wandb/run-20220311_115001-3ic5hsvb/logs</code>"
      ],
      "text/plain": [
       "<IPython.core.display.HTML object>"
      ]
     },
     "metadata": {},
     "output_type": "display_data"
    },
    {
     "data": {
      "text/html": [
       "Tracking run with wandb version 0.12.11"
      ],
      "text/plain": [
       "<IPython.core.display.HTML object>"
      ]
     },
     "metadata": {},
     "output_type": "display_data"
    },
    {
     "data": {
      "text/html": [
       "Run data is saved locally in <code>/mnt/home/cpedersen/Codes/cancer-net/demos/wandb/run-20220311_115125-21zytjkz</code>"
      ],
      "text/plain": [
       "<IPython.core.display.HTML object>"
      ]
     },
     "metadata": {},
     "output_type": "display_data"
    },
    {
     "data": {
      "text/html": [
       "Syncing run <strong><a href=\"https://wandb.ai/chris-pedersen/brain-GCN2-shuffle/runs/21zytjkz\" target=\"_blank\">light-shadow-73</a></strong> to <a href=\"https://wandb.ai/chris-pedersen/brain-GCN2-shuffle\" target=\"_blank\">Weights & Biases</a> (<a href=\"https://wandb.me/run\" target=\"_blank\">docs</a>)<br/>"
      ],
      "text/plain": [
       "<IPython.core.display.HTML object>"
      ]
     },
     "metadata": {},
     "output_type": "display_data"
    },
    {
     "name": "stdout",
     "output_type": "stream",
     "text": [
      "\n"
     ]
    },
    {
     "data": {
      "text/html": [
       "Waiting for W&B process to finish... <strong style=\"color:green\">(success).</strong>"
      ],
      "text/plain": [
       "<IPython.core.display.HTML object>"
      ]
     },
     "metadata": {},
     "output_type": "display_data"
    },
    {
     "data": {
      "text/html": [
       "<style>\n",
       "    table.wandb td:nth-child(1) { padding: 0 10px; text-align: right }\n",
       "    .wandb-row { display: flex; flex-direction: row; flex-wrap: wrap; width: 100% }\n",
       "    .wandb-col { display: flex; flex-direction: column; flex-basis: 100%; flex: 1; padding: 10px; }\n",
       "    </style>\n",
       "<div class=\"wandb-row\"><div class=\"wandb-col\"><h3>Run history:</h3><br/><table class=\"wandb\"><tr><td>learning rate</td><td>▁▁▁▁▁▁▁▁▁▁▁▁▁▁▁▁▁▁▁▁▁▁▁▁▁▁▁▁▁▁▁▁▁▁▁▁▁▁▁▁</td></tr><tr><td>train accuracy</td><td>▁▃▃▃▄▃▃▄▄▄▅▅▆▆▅▅▆▆▇▆▆▆▆▆▇▇▇▇▇▇██▆▇█▇██▇█</td></tr><tr><td>train loss</td><td>█▇▆▆▆▆▆▅▆▅▅▄▄▄▄▄▄▃▄▃▃▃▃▃▂▂▃▃▂▂▂▂▃▂▂▂▂▁▂▁</td></tr><tr><td>valid accuracy</td><td>▂▁▄▆▅▄▆▆▆▇▆▆▆▇███▇▇▆▇▇██▆▆█▆▆█▇█▇▇▇▆▇▇▇▇</td></tr><tr><td>valid loss</td><td>▂▃▂▁▁▂▁▁▂▁▁▁▂▃▃▂▃▁▁▄▃▃▃▂▂█▂▂▂▄▆▂▂▃▅▄▃▄▃▅</td></tr></table><br/></div><div class=\"wandb-col\"><h3>Run summary:</h3><br/><table class=\"wandb\"><tr><td>learning rate</td><td>0.007</td></tr><tr><td>train accuracy</td><td>0.91111</td></tr><tr><td>train loss</td><td>0.02079</td></tr><tr><td>valid accuracy</td><td>0.78182</td></tr><tr><td>valid loss</td><td>0.12706</td></tr></table><br/></div></div>"
      ],
      "text/plain": [
       "<IPython.core.display.HTML object>"
      ]
     },
     "metadata": {},
     "output_type": "display_data"
    },
    {
     "data": {
      "text/html": [
       "Synced <strong style=\"color:#cdcd00\">light-shadow-73</strong>: <a href=\"https://wandb.ai/chris-pedersen/brain-GCN2-shuffle/runs/21zytjkz\" target=\"_blank\">https://wandb.ai/chris-pedersen/brain-GCN2-shuffle/runs/21zytjkz</a><br/>Synced 5 W&B file(s), 0 media file(s), 0 artifact file(s) and 0 other file(s)"
      ],
      "text/plain": [
       "<IPython.core.display.HTML object>"
      ]
     },
     "metadata": {},
     "output_type": "display_data"
    },
    {
     "data": {
      "text/html": [
       "Find logs at: <code>./wandb/run-20220311_115125-21zytjkz/logs</code>"
      ],
      "text/plain": [
       "<IPython.core.display.HTML object>"
      ]
     },
     "metadata": {},
     "output_type": "display_data"
    },
    {
     "data": {
      "text/html": [
       "Tracking run with wandb version 0.12.11"
      ],
      "text/plain": [
       "<IPython.core.display.HTML object>"
      ]
     },
     "metadata": {},
     "output_type": "display_data"
    },
    {
     "data": {
      "text/html": [
       "Run data is saved locally in <code>/mnt/home/cpedersen/Codes/cancer-net/demos/wandb/run-20220311_115248-3u9du5t7</code>"
      ],
      "text/plain": [
       "<IPython.core.display.HTML object>"
      ]
     },
     "metadata": {},
     "output_type": "display_data"
    },
    {
     "data": {
      "text/html": [
       "Syncing run <strong><a href=\"https://wandb.ai/chris-pedersen/brain-GCN2-shuffle/runs/3u9du5t7\" target=\"_blank\">kind-dream-74</a></strong> to <a href=\"https://wandb.ai/chris-pedersen/brain-GCN2-shuffle\" target=\"_blank\">Weights & Biases</a> (<a href=\"https://wandb.me/run\" target=\"_blank\">docs</a>)<br/>"
      ],
      "text/plain": [
       "<IPython.core.display.HTML object>"
      ]
     },
     "metadata": {},
     "output_type": "display_data"
    },
    {
     "name": "stdout",
     "output_type": "stream",
     "text": [
      "\n"
     ]
    },
    {
     "data": {
      "text/html": [
       "Waiting for W&B process to finish... <strong style=\"color:green\">(success).</strong>"
      ],
      "text/plain": [
       "<IPython.core.display.HTML object>"
      ]
     },
     "metadata": {},
     "output_type": "display_data"
    },
    {
     "data": {
      "text/html": [
       "<style>\n",
       "    table.wandb td:nth-child(1) { padding: 0 10px; text-align: right }\n",
       "    .wandb-row { display: flex; flex-direction: row; flex-wrap: wrap; width: 100% }\n",
       "    .wandb-col { display: flex; flex-direction: column; flex-basis: 100%; flex: 1; padding: 10px; }\n",
       "    </style>\n",
       "<div class=\"wandb-row\"><div class=\"wandb-col\"><h3>Run history:</h3><br/><table class=\"wandb\"><tr><td>learning rate</td><td>▁▁▁▁▁▁▁▁▁▁▁▁▁▁▁▁▁▁▁▁▁▁▁▁▁▁▁▁▁▁▁▁▁▁▁▁▁▁▁▁</td></tr><tr><td>train accuracy</td><td>▁▃▂▄▄▄▄▄▄▅▄▄▄▆▅▆▆▆▆▆▆▆▆▇▇▇▆▆▇▆▇▇▇▇██████</td></tr><tr><td>train loss</td><td>█▇▆▆▆▅▆▅▅▅▆▅▅▄▄▄▄▄▃▄▃▃▃▃▂▂▃▃▃▂▂▂▂▂▁▁▁▁▁▁</td></tr><tr><td>valid accuracy</td><td>▂▁▃▄▅▅▅▆▃▅▆▇▅▆▇▅▇▅▅▆▆▅▆▅▇▇▇▇█▆▄▅▇▇▇█▆▇▇▆</td></tr><tr><td>valid loss</td><td>▃▃▃▅▂▃▃▅▃▄▁▂▄▂▂▁▂▁▂▁▂▃▂▃▄▃▂▅▃▄▄▆▄▄▂▅▂▅█▃</td></tr></table><br/></div><div class=\"wandb-col\"><h3>Run summary:</h3><br/><table class=\"wandb\"><tr><td>learning rate</td><td>0.007</td></tr><tr><td>train accuracy</td><td>0.92222</td></tr><tr><td>train loss</td><td>0.02195</td></tr><tr><td>valid accuracy</td><td>0.77273</td></tr><tr><td>valid loss</td><td>0.06277</td></tr></table><br/></div></div>"
      ],
      "text/plain": [
       "<IPython.core.display.HTML object>"
      ]
     },
     "metadata": {},
     "output_type": "display_data"
    },
    {
     "data": {
      "text/html": [
       "Synced <strong style=\"color:#cdcd00\">kind-dream-74</strong>: <a href=\"https://wandb.ai/chris-pedersen/brain-GCN2-shuffle/runs/3u9du5t7\" target=\"_blank\">https://wandb.ai/chris-pedersen/brain-GCN2-shuffle/runs/3u9du5t7</a><br/>Synced 5 W&B file(s), 0 media file(s), 0 artifact file(s) and 0 other file(s)"
      ],
      "text/plain": [
       "<IPython.core.display.HTML object>"
      ]
     },
     "metadata": {},
     "output_type": "display_data"
    },
    {
     "data": {
      "text/html": [
       "Find logs at: <code>./wandb/run-20220311_115248-3u9du5t7/logs</code>"
      ],
      "text/plain": [
       "<IPython.core.display.HTML object>"
      ]
     },
     "metadata": {},
     "output_type": "display_data"
    },
    {
     "data": {
      "text/html": [
       "Tracking run with wandb version 0.12.11"
      ],
      "text/plain": [
       "<IPython.core.display.HTML object>"
      ]
     },
     "metadata": {},
     "output_type": "display_data"
    },
    {
     "data": {
      "text/html": [
       "Run data is saved locally in <code>/mnt/home/cpedersen/Codes/cancer-net/demos/wandb/run-20220311_115410-11qz86w2</code>"
      ],
      "text/plain": [
       "<IPython.core.display.HTML object>"
      ]
     },
     "metadata": {},
     "output_type": "display_data"
    },
    {
     "data": {
      "text/html": [
       "Syncing run <strong><a href=\"https://wandb.ai/chris-pedersen/brain-GCN2-shuffle/runs/11qz86w2\" target=\"_blank\">sparkling-sponge-75</a></strong> to <a href=\"https://wandb.ai/chris-pedersen/brain-GCN2-shuffle\" target=\"_blank\">Weights & Biases</a> (<a href=\"https://wandb.me/run\" target=\"_blank\">docs</a>)<br/>"
      ],
      "text/plain": [
       "<IPython.core.display.HTML object>"
      ]
     },
     "metadata": {},
     "output_type": "display_data"
    },
    {
     "name": "stdout",
     "output_type": "stream",
     "text": [
      "\n"
     ]
    },
    {
     "data": {
      "text/html": [
       "Waiting for W&B process to finish... <strong style=\"color:green\">(success).</strong>"
      ],
      "text/plain": [
       "<IPython.core.display.HTML object>"
      ]
     },
     "metadata": {},
     "output_type": "display_data"
    },
    {
     "data": {
      "text/html": [
       "<style>\n",
       "    table.wandb td:nth-child(1) { padding: 0 10px; text-align: right }\n",
       "    .wandb-row { display: flex; flex-direction: row; flex-wrap: wrap; width: 100% }\n",
       "    .wandb-col { display: flex; flex-direction: column; flex-basis: 100%; flex: 1; padding: 10px; }\n",
       "    </style>\n",
       "<div class=\"wandb-row\"><div class=\"wandb-col\"><h3>Run history:</h3><br/><table class=\"wandb\"><tr><td>learning rate</td><td>▁▁▁▁▁▁▁▁▁▁▁▁▁▁▁▁▁▁▁▁▁▁▁▁▁▁▁▁▁▁▁▁▁▁▁▁▁▁▁▁</td></tr><tr><td>train accuracy</td><td>▁▃▄▅▄▅▅▅▅▅▅▅▆▆▆▅▆▆▆▆▆▇▇▇▇▇▆▇▇▇█▇▇██▇██▇█</td></tr><tr><td>train loss</td><td>█▇▆▅▆▅▅▅▄▅▅▅▄▄▄▄▄▄▃▄▃▃▂▂▂▂▃▂▂▂▂▂▁▁▁▂▁▁▂▁</td></tr><tr><td>valid accuracy</td><td>▃▃▁▃▂▄▅▄▄▃▄▄▆▃▆▅▇▃▆▆▅▆▅▇▇▅▆▆▆▆▆▆▅▇▇▇▇▇▇█</td></tr><tr><td>valid loss</td><td>▂▂▂▃▂▂▂▂▂▂▂▁▁▂█▅▂▅▂▆▇▅▂▃▂▂▂▁▂▄▂▂▂▃▃▁▃▅▃▄</td></tr></table><br/></div><div class=\"wandb-col\"><h3>Run summary:</h3><br/><table class=\"wandb\"><tr><td>learning rate</td><td>0.007</td></tr><tr><td>train accuracy</td><td>0.90222</td></tr><tr><td>train loss</td><td>0.02485</td></tr><tr><td>valid accuracy</td><td>0.82727</td></tr><tr><td>valid loss</td><td>0.108</td></tr></table><br/></div></div>"
      ],
      "text/plain": [
       "<IPython.core.display.HTML object>"
      ]
     },
     "metadata": {},
     "output_type": "display_data"
    },
    {
     "data": {
      "text/html": [
       "Synced <strong style=\"color:#cdcd00\">sparkling-sponge-75</strong>: <a href=\"https://wandb.ai/chris-pedersen/brain-GCN2-shuffle/runs/11qz86w2\" target=\"_blank\">https://wandb.ai/chris-pedersen/brain-GCN2-shuffle/runs/11qz86w2</a><br/>Synced 5 W&B file(s), 0 media file(s), 0 artifact file(s) and 0 other file(s)"
      ],
      "text/plain": [
       "<IPython.core.display.HTML object>"
      ]
     },
     "metadata": {},
     "output_type": "display_data"
    },
    {
     "data": {
      "text/html": [
       "Find logs at: <code>./wandb/run-20220311_115410-11qz86w2/logs</code>"
      ],
      "text/plain": [
       "<IPython.core.display.HTML object>"
      ]
     },
     "metadata": {},
     "output_type": "display_data"
    },
    {
     "data": {
      "text/html": [
       "Tracking run with wandb version 0.12.11"
      ],
      "text/plain": [
       "<IPython.core.display.HTML object>"
      ]
     },
     "metadata": {},
     "output_type": "display_data"
    },
    {
     "data": {
      "text/html": [
       "Run data is saved locally in <code>/mnt/home/cpedersen/Codes/cancer-net/demos/wandb/run-20220311_115533-3akntmmc</code>"
      ],
      "text/plain": [
       "<IPython.core.display.HTML object>"
      ]
     },
     "metadata": {},
     "output_type": "display_data"
    },
    {
     "data": {
      "text/html": [
       "Syncing run <strong><a href=\"https://wandb.ai/chris-pedersen/brain-GCN2-shuffle/runs/3akntmmc\" target=\"_blank\">easy-elevator-76</a></strong> to <a href=\"https://wandb.ai/chris-pedersen/brain-GCN2-shuffle\" target=\"_blank\">Weights & Biases</a> (<a href=\"https://wandb.me/run\" target=\"_blank\">docs</a>)<br/>"
      ],
      "text/plain": [
       "<IPython.core.display.HTML object>"
      ]
     },
     "metadata": {},
     "output_type": "display_data"
    },
    {
     "name": "stdout",
     "output_type": "stream",
     "text": [
      "\n"
     ]
    },
    {
     "data": {
      "text/html": [
       "Waiting for W&B process to finish... <strong style=\"color:green\">(success).</strong>"
      ],
      "text/plain": [
       "<IPython.core.display.HTML object>"
      ]
     },
     "metadata": {},
     "output_type": "display_data"
    },
    {
     "data": {
      "text/html": [
       "<style>\n",
       "    table.wandb td:nth-child(1) { padding: 0 10px; text-align: right }\n",
       "    .wandb-row { display: flex; flex-direction: row; flex-wrap: wrap; width: 100% }\n",
       "    .wandb-col { display: flex; flex-direction: column; flex-basis: 100%; flex: 1; padding: 10px; }\n",
       "    </style>\n",
       "<div class=\"wandb-row\"><div class=\"wandb-col\"><h3>Run history:</h3><br/><table class=\"wandb\"><tr><td>learning rate</td><td>▁▁▁▁▁▁▁▁▁▁▁▁▁▁▁▁▁▁▁▁▁▁▁▁▁▁▁▁▁▁▁▁▁▁▁▁▁▁▁▁</td></tr><tr><td>train accuracy</td><td>▁▂▃▄▅▄▄▄▅▅▄▆▄▆▅▆▆▆▆▇▅▆▇▇▇█▇▇▇▇▅▆▇▇█▇████</td></tr><tr><td>train loss</td><td>█▇▇▅▅▅▆▅▅▄▅▄▅▄▄▃▃▃▃▂▄▃▂▂▂▂▂▂▂▂▃▃▃▁▁▃▁▁▁▁</td></tr><tr><td>valid accuracy</td><td>▂▅▂▄▂▄▇▅▆▅▄▄▅▇▄▅▅▆▅▅▅▅▃▇▃▄▅▇▇▅▁▅▄▄▇▆███▆</td></tr><tr><td>valid loss</td><td>▁▁▂▂▂▂▁▁▁▁▄▃▃▃▄▂▁▃▂▂▂▄▅▅▄▅▂▂▂▂▂▄▂▄▂▂▃█▂▃</td></tr></table><br/></div><div class=\"wandb-col\"><h3>Run summary:</h3><br/><table class=\"wandb\"><tr><td>learning rate</td><td>0.007</td></tr><tr><td>train accuracy</td><td>0.90889</td></tr><tr><td>train loss</td><td>0.02617</td></tr><tr><td>valid accuracy</td><td>0.71818</td></tr><tr><td>valid loss</td><td>0.1356</td></tr></table><br/></div></div>"
      ],
      "text/plain": [
       "<IPython.core.display.HTML object>"
      ]
     },
     "metadata": {},
     "output_type": "display_data"
    },
    {
     "data": {
      "text/html": [
       "Synced <strong style=\"color:#cdcd00\">easy-elevator-76</strong>: <a href=\"https://wandb.ai/chris-pedersen/brain-GCN2-shuffle/runs/3akntmmc\" target=\"_blank\">https://wandb.ai/chris-pedersen/brain-GCN2-shuffle/runs/3akntmmc</a><br/>Synced 5 W&B file(s), 0 media file(s), 0 artifact file(s) and 0 other file(s)"
      ],
      "text/plain": [
       "<IPython.core.display.HTML object>"
      ]
     },
     "metadata": {},
     "output_type": "display_data"
    },
    {
     "data": {
      "text/html": [
       "Find logs at: <code>./wandb/run-20220311_115533-3akntmmc/logs</code>"
      ],
      "text/plain": [
       "<IPython.core.display.HTML object>"
      ]
     },
     "metadata": {},
     "output_type": "display_data"
    },
    {
     "data": {
      "text/html": [
       "Tracking run with wandb version 0.12.11"
      ],
      "text/plain": [
       "<IPython.core.display.HTML object>"
      ]
     },
     "metadata": {},
     "output_type": "display_data"
    },
    {
     "data": {
      "text/html": [
       "Run data is saved locally in <code>/mnt/home/cpedersen/Codes/cancer-net/demos/wandb/run-20220311_115655-343ofni6</code>"
      ],
      "text/plain": [
       "<IPython.core.display.HTML object>"
      ]
     },
     "metadata": {},
     "output_type": "display_data"
    },
    {
     "data": {
      "text/html": [
       "Syncing run <strong><a href=\"https://wandb.ai/chris-pedersen/brain-GCN2-shuffle/runs/343ofni6\" target=\"_blank\">ruby-glitter-77</a></strong> to <a href=\"https://wandb.ai/chris-pedersen/brain-GCN2-shuffle\" target=\"_blank\">Weights & Biases</a> (<a href=\"https://wandb.me/run\" target=\"_blank\">docs</a>)<br/>"
      ],
      "text/plain": [
       "<IPython.core.display.HTML object>"
      ]
     },
     "metadata": {},
     "output_type": "display_data"
    },
    {
     "name": "stdout",
     "output_type": "stream",
     "text": [
      "\n"
     ]
    },
    {
     "data": {
      "text/html": [
       "Waiting for W&B process to finish... <strong style=\"color:green\">(success).</strong>"
      ],
      "text/plain": [
       "<IPython.core.display.HTML object>"
      ]
     },
     "metadata": {},
     "output_type": "display_data"
    },
    {
     "data": {
      "text/html": [
       "<style>\n",
       "    table.wandb td:nth-child(1) { padding: 0 10px; text-align: right }\n",
       "    .wandb-row { display: flex; flex-direction: row; flex-wrap: wrap; width: 100% }\n",
       "    .wandb-col { display: flex; flex-direction: column; flex-basis: 100%; flex: 1; padding: 10px; }\n",
       "    </style>\n",
       "<div class=\"wandb-row\"><div class=\"wandb-col\"><h3>Run history:</h3><br/><table class=\"wandb\"><tr><td>learning rate</td><td>▁▁▁▁▁▁▁▁▁▁▁▁▁▁▁▁▁▁▁▁▁▁▁▁▁▁▁▁▁▁▁▁▁▁▁▁▁▁▁▁</td></tr><tr><td>train accuracy</td><td>▁▃▃▄▄▄▅▄▅▅▆▅▅▆▅▆▆▆▆▅▆▅▆▅▆▆▇▆▆▆▇▇▇▇▇▇█▇▆█</td></tr><tr><td>train loss</td><td>█▇▆▆▆▅▅▆▅▆▄▅▅▄▄▄▄▄▃▄▃▄▄▅▄▄▃▃▃▃▂▂▂▂▂▂▂▂▃▁</td></tr><tr><td>valid accuracy</td><td>▃▅▁▆▆▅▆▅▅▄▄▆▆▇▇▇▅▅▇▆▅▆▆▆▇█▆▆▆▇▇▆█▇▆▆▇█▇▆</td></tr><tr><td>valid loss</td><td>▂▂▄▂▂▂▄▂▂▃▃▂▂▁▂▂▂█▂▂▂▂▂▂▂▁▂▂▂▁▂▂▂▄▆▂▂▁▃▄</td></tr></table><br/></div><div class=\"wandb-col\"><h3>Run summary:</h3><br/><table class=\"wandb\"><tr><td>learning rate</td><td>0.007</td></tr><tr><td>train accuracy</td><td>0.92222</td></tr><tr><td>train loss</td><td>0.02156</td></tr><tr><td>valid accuracy</td><td>0.74545</td></tr><tr><td>valid loss</td><td>0.09871</td></tr></table><br/></div></div>"
      ],
      "text/plain": [
       "<IPython.core.display.HTML object>"
      ]
     },
     "metadata": {},
     "output_type": "display_data"
    },
    {
     "data": {
      "text/html": [
       "Synced <strong style=\"color:#cdcd00\">ruby-glitter-77</strong>: <a href=\"https://wandb.ai/chris-pedersen/brain-GCN2-shuffle/runs/343ofni6\" target=\"_blank\">https://wandb.ai/chris-pedersen/brain-GCN2-shuffle/runs/343ofni6</a><br/>Synced 5 W&B file(s), 0 media file(s), 0 artifact file(s) and 0 other file(s)"
      ],
      "text/plain": [
       "<IPython.core.display.HTML object>"
      ]
     },
     "metadata": {},
     "output_type": "display_data"
    },
    {
     "data": {
      "text/html": [
       "Find logs at: <code>./wandb/run-20220311_115655-343ofni6/logs</code>"
      ],
      "text/plain": [
       "<IPython.core.display.HTML object>"
      ]
     },
     "metadata": {},
     "output_type": "display_data"
    },
    {
     "data": {
      "text/html": [
       "Tracking run with wandb version 0.12.11"
      ],
      "text/plain": [
       "<IPython.core.display.HTML object>"
      ]
     },
     "metadata": {},
     "output_type": "display_data"
    },
    {
     "data": {
      "text/html": [
       "Run data is saved locally in <code>/mnt/home/cpedersen/Codes/cancer-net/demos/wandb/run-20220311_115817-182hwfz1</code>"
      ],
      "text/plain": [
       "<IPython.core.display.HTML object>"
      ]
     },
     "metadata": {},
     "output_type": "display_data"
    },
    {
     "data": {
      "text/html": [
       "Syncing run <strong><a href=\"https://wandb.ai/chris-pedersen/brain-GCN2-shuffle/runs/182hwfz1\" target=\"_blank\">graceful-cosmos-78</a></strong> to <a href=\"https://wandb.ai/chris-pedersen/brain-GCN2-shuffle\" target=\"_blank\">Weights & Biases</a> (<a href=\"https://wandb.me/run\" target=\"_blank\">docs</a>)<br/>"
      ],
      "text/plain": [
       "<IPython.core.display.HTML object>"
      ]
     },
     "metadata": {},
     "output_type": "display_data"
    },
    {
     "name": "stdout",
     "output_type": "stream",
     "text": [
      "\n"
     ]
    },
    {
     "data": {
      "text/html": [
       "Waiting for W&B process to finish... <strong style=\"color:green\">(success).</strong>"
      ],
      "text/plain": [
       "<IPython.core.display.HTML object>"
      ]
     },
     "metadata": {},
     "output_type": "display_data"
    },
    {
     "data": {
      "text/html": [
       "<style>\n",
       "    table.wandb td:nth-child(1) { padding: 0 10px; text-align: right }\n",
       "    .wandb-row { display: flex; flex-direction: row; flex-wrap: wrap; width: 100% }\n",
       "    .wandb-col { display: flex; flex-direction: column; flex-basis: 100%; flex: 1; padding: 10px; }\n",
       "    </style>\n",
       "<div class=\"wandb-row\"><div class=\"wandb-col\"><h3>Run history:</h3><br/><table class=\"wandb\"><tr><td>learning rate</td><td>▁▁▁▁▁▁▁▁▁▁▁▁▁▁▁▁▁▁▁▁▁▁▁▁▁▁▁▁▁▁▁▁▁▁▁▁▁▁▁▁</td></tr><tr><td>train accuracy</td><td>▁▃▃▄▄▄▅▄▄▅▅▅▅▆▅▆▆▆▆▆▆▇▆▇▇▆▆▇▇▇▇▆▇█▆▇▇▇█▇</td></tr><tr><td>train loss</td><td>█▇▆▆▅▆▅▅▅▅▄▅▅▃▅▄▄▃▃▄▃▃▃▃▃▃▃▂▃▂▂▃▂▁▃▁▂▂▁▃</td></tr><tr><td>valid accuracy</td><td>▁▁▃▂▄▃▄▄▄▆▄▄▅▃▆▄▆▆▆▃▄▆▆▆▆▃▄▇▅▆▅▄▄▅▆▆▆█▇▄</td></tr><tr><td>valid loss</td><td>▂▁▂█▄▆▁▃▁▂▂▂▁▃▁▂▂▁▁▂▂▁▁▂▂▂▂▁▂▂▃▂▂▂▂▂▁▂▂▂</td></tr></table><br/></div><div class=\"wandb-col\"><h3>Run summary:</h3><br/><table class=\"wandb\"><tr><td>learning rate</td><td>0.007</td></tr><tr><td>train accuracy</td><td>0.90222</td></tr><tr><td>train loss</td><td>0.02934</td></tr><tr><td>valid accuracy</td><td>0.64545</td></tr><tr><td>valid loss</td><td>0.07978</td></tr></table><br/></div></div>"
      ],
      "text/plain": [
       "<IPython.core.display.HTML object>"
      ]
     },
     "metadata": {},
     "output_type": "display_data"
    },
    {
     "data": {
      "text/html": [
       "Synced <strong style=\"color:#cdcd00\">graceful-cosmos-78</strong>: <a href=\"https://wandb.ai/chris-pedersen/brain-GCN2-shuffle/runs/182hwfz1\" target=\"_blank\">https://wandb.ai/chris-pedersen/brain-GCN2-shuffle/runs/182hwfz1</a><br/>Synced 5 W&B file(s), 0 media file(s), 0 artifact file(s) and 0 other file(s)"
      ],
      "text/plain": [
       "<IPython.core.display.HTML object>"
      ]
     },
     "metadata": {},
     "output_type": "display_data"
    },
    {
     "data": {
      "text/html": [
       "Find logs at: <code>./wandb/run-20220311_115817-182hwfz1/logs</code>"
      ],
      "text/plain": [
       "<IPython.core.display.HTML object>"
      ]
     },
     "metadata": {},
     "output_type": "display_data"
    },
    {
     "data": {
      "text/html": [
       "Tracking run with wandb version 0.12.11"
      ],
      "text/plain": [
       "<IPython.core.display.HTML object>"
      ]
     },
     "metadata": {},
     "output_type": "display_data"
    },
    {
     "data": {
      "text/html": [
       "Run data is saved locally in <code>/mnt/home/cpedersen/Codes/cancer-net/demos/wandb/run-20220311_115942-1h42843m</code>"
      ],
      "text/plain": [
       "<IPython.core.display.HTML object>"
      ]
     },
     "metadata": {},
     "output_type": "display_data"
    },
    {
     "data": {
      "text/html": [
       "Syncing run <strong><a href=\"https://wandb.ai/chris-pedersen/brain-GCN2-shuffle/runs/1h42843m\" target=\"_blank\">proud-firefly-79</a></strong> to <a href=\"https://wandb.ai/chris-pedersen/brain-GCN2-shuffle\" target=\"_blank\">Weights & Biases</a> (<a href=\"https://wandb.me/run\" target=\"_blank\">docs</a>)<br/>"
      ],
      "text/plain": [
       "<IPython.core.display.HTML object>"
      ]
     },
     "metadata": {},
     "output_type": "display_data"
    },
    {
     "name": "stdout",
     "output_type": "stream",
     "text": [
      "\n"
     ]
    },
    {
     "data": {
      "text/html": [
       "Waiting for W&B process to finish... <strong style=\"color:green\">(success).</strong>"
      ],
      "text/plain": [
       "<IPython.core.display.HTML object>"
      ]
     },
     "metadata": {},
     "output_type": "display_data"
    },
    {
     "data": {
      "text/html": [
       "<style>\n",
       "    table.wandb td:nth-child(1) { padding: 0 10px; text-align: right }\n",
       "    .wandb-row { display: flex; flex-direction: row; flex-wrap: wrap; width: 100% }\n",
       "    .wandb-col { display: flex; flex-direction: column; flex-basis: 100%; flex: 1; padding: 10px; }\n",
       "    </style>\n",
       "<div class=\"wandb-row\"><div class=\"wandb-col\"><h3>Run history:</h3><br/><table class=\"wandb\"><tr><td>learning rate</td><td>▁▁▁▁▁▁▁▁▁▁▁▁▁▁▁▁▁▁▁▁▁▁▁▁▁▁▁▁▁▁▁▁▁▁▁▁▁▁▁▁</td></tr><tr><td>train accuracy</td><td>▁▂▃▄▄▄▆▄▄▅▅▃▅▆▆▆▆▆▆▆▆▆▇▆▇▇▇▇▇▆▇▇▇▇█▇▇▇█▇</td></tr><tr><td>train loss</td><td>█▇▆▆▆▆▅▅▆▅▄▆▄▄▄▄▄▄▃▃▃▃▂▄▃▃▂▂▃▃▂▂▃▃▁▁▃▁▂▂</td></tr><tr><td>valid accuracy</td><td>▁▁▄▄▄▆▅▆▅▅▅▇▇▅▆▆▆▇▇▇▇▆▆▇▇▇▇▆▇▆█▇▇▇█▆▇▇█▇</td></tr><tr><td>valid loss</td><td>▂▃▄▆█▃▂▄▃▃▂▂▁▂▁▂▂▂▂▂▂▂▄▂▂▂▁▂▄▁▁▁▂▂▁▂▁▂▁▁</td></tr></table><br/></div><div class=\"wandb-col\"><h3>Run summary:</h3><br/><table class=\"wandb\"><tr><td>learning rate</td><td>0.007</td></tr><tr><td>train accuracy</td><td>0.90889</td></tr><tr><td>train loss</td><td>0.02203</td></tr><tr><td>valid accuracy</td><td>0.81818</td></tr><tr><td>valid loss</td><td>0.05538</td></tr></table><br/></div></div>"
      ],
      "text/plain": [
       "<IPython.core.display.HTML object>"
      ]
     },
     "metadata": {},
     "output_type": "display_data"
    },
    {
     "data": {
      "text/html": [
       "Synced <strong style=\"color:#cdcd00\">proud-firefly-79</strong>: <a href=\"https://wandb.ai/chris-pedersen/brain-GCN2-shuffle/runs/1h42843m\" target=\"_blank\">https://wandb.ai/chris-pedersen/brain-GCN2-shuffle/runs/1h42843m</a><br/>Synced 5 W&B file(s), 0 media file(s), 0 artifact file(s) and 0 other file(s)"
      ],
      "text/plain": [
       "<IPython.core.display.HTML object>"
      ]
     },
     "metadata": {},
     "output_type": "display_data"
    },
    {
     "data": {
      "text/html": [
       "Find logs at: <code>./wandb/run-20220311_115942-1h42843m/logs</code>"
      ],
      "text/plain": [
       "<IPython.core.display.HTML object>"
      ]
     },
     "metadata": {},
     "output_type": "display_data"
    },
    {
     "data": {
      "text/html": [
       "Tracking run with wandb version 0.12.11"
      ],
      "text/plain": [
       "<IPython.core.display.HTML object>"
      ]
     },
     "metadata": {},
     "output_type": "display_data"
    },
    {
     "data": {
      "text/html": [
       "Run data is saved locally in <code>/mnt/home/cpedersen/Codes/cancer-net/demos/wandb/run-20220311_120103-1n0kdy09</code>"
      ],
      "text/plain": [
       "<IPython.core.display.HTML object>"
      ]
     },
     "metadata": {},
     "output_type": "display_data"
    },
    {
     "data": {
      "text/html": [
       "Syncing run <strong><a href=\"https://wandb.ai/chris-pedersen/brain-GCN2-shuffle/runs/1n0kdy09\" target=\"_blank\">fiery-leaf-80</a></strong> to <a href=\"https://wandb.ai/chris-pedersen/brain-GCN2-shuffle\" target=\"_blank\">Weights & Biases</a> (<a href=\"https://wandb.me/run\" target=\"_blank\">docs</a>)<br/>"
      ],
      "text/plain": [
       "<IPython.core.display.HTML object>"
      ]
     },
     "metadata": {},
     "output_type": "display_data"
    },
    {
     "name": "stdout",
     "output_type": "stream",
     "text": [
      "\n"
     ]
    },
    {
     "data": {
      "text/html": [
       "Waiting for W&B process to finish... <strong style=\"color:green\">(success).</strong>"
      ],
      "text/plain": [
       "<IPython.core.display.HTML object>"
      ]
     },
     "metadata": {},
     "output_type": "display_data"
    },
    {
     "data": {
      "text/html": [
       "<style>\n",
       "    table.wandb td:nth-child(1) { padding: 0 10px; text-align: right }\n",
       "    .wandb-row { display: flex; flex-direction: row; flex-wrap: wrap; width: 100% }\n",
       "    .wandb-col { display: flex; flex-direction: column; flex-basis: 100%; flex: 1; padding: 10px; }\n",
       "    </style>\n",
       "<div class=\"wandb-row\"><div class=\"wandb-col\"><h3>Run history:</h3><br/><table class=\"wandb\"><tr><td>learning rate</td><td>▁▁▁▁▁▁▁▁▁▁▁▁▁▁▁▁▁▁▁▁▁▁▁▁▁▁▁▁▁▁▁▁▁▁▁▁▁▁▁▁</td></tr><tr><td>train accuracy</td><td>▁▂▄▄▄▄▃▄▆▅▅▆▅▆▅▅▅▆▆▇▇▇▇▇▆▆▇▇▇▇████▇██▇██</td></tr><tr><td>train loss</td><td>█▇▆▅▆▆▆▅▅▅▅▃▄▄▄▄▄▄▃▃▃▂▃▃▃▃▃▂▃▂▂▂▂▁▂▂▂▂▁▁</td></tr><tr><td>valid accuracy</td><td>▆▄▁▃▄▃▃▆▄▄▇▆▃▅▆▇▆▅▆▇▆█▅▇▇▆▅▇▆█▄▆▇▆▇▇▆▆▇▆</td></tr><tr><td>valid loss</td><td>▁▁▇█▃▁▁▁▁▂▁▁▁▁▁▁▁▁▁▁▁▁▁▁▁▂▅▆▂▁▃▁▂▁▁▂▂▅▄▄</td></tr></table><br/></div><div class=\"wandb-col\"><h3>Run summary:</h3><br/><table class=\"wandb\"><tr><td>learning rate</td><td>0.007</td></tr><tr><td>train accuracy</td><td>0.90889</td></tr><tr><td>train loss</td><td>0.02033</td></tr><tr><td>valid accuracy</td><td>0.7</td></tr><tr><td>valid loss</td><td>0.15095</td></tr></table><br/></div></div>"
      ],
      "text/plain": [
       "<IPython.core.display.HTML object>"
      ]
     },
     "metadata": {},
     "output_type": "display_data"
    },
    {
     "data": {
      "text/html": [
       "Synced <strong style=\"color:#cdcd00\">fiery-leaf-80</strong>: <a href=\"https://wandb.ai/chris-pedersen/brain-GCN2-shuffle/runs/1n0kdy09\" target=\"_blank\">https://wandb.ai/chris-pedersen/brain-GCN2-shuffle/runs/1n0kdy09</a><br/>Synced 5 W&B file(s), 0 media file(s), 0 artifact file(s) and 0 other file(s)"
      ],
      "text/plain": [
       "<IPython.core.display.HTML object>"
      ]
     },
     "metadata": {},
     "output_type": "display_data"
    },
    {
     "data": {
      "text/html": [
       "Find logs at: <code>./wandb/run-20220311_120103-1n0kdy09/logs</code>"
      ],
      "text/plain": [
       "<IPython.core.display.HTML object>"
      ]
     },
     "metadata": {},
     "output_type": "display_data"
    },
    {
     "data": {
      "text/html": [
       "Tracking run with wandb version 0.12.11"
      ],
      "text/plain": [
       "<IPython.core.display.HTML object>"
      ]
     },
     "metadata": {},
     "output_type": "display_data"
    },
    {
     "data": {
      "text/html": [
       "Run data is saved locally in <code>/mnt/home/cpedersen/Codes/cancer-net/demos/wandb/run-20220311_120224-pfzzlr92</code>"
      ],
      "text/plain": [
       "<IPython.core.display.HTML object>"
      ]
     },
     "metadata": {},
     "output_type": "display_data"
    },
    {
     "data": {
      "text/html": [
       "Syncing run <strong><a href=\"https://wandb.ai/chris-pedersen/brain-GCN2-shuffle/runs/pfzzlr92\" target=\"_blank\">sweet-snow-81</a></strong> to <a href=\"https://wandb.ai/chris-pedersen/brain-GCN2-shuffle\" target=\"_blank\">Weights & Biases</a> (<a href=\"https://wandb.me/run\" target=\"_blank\">docs</a>)<br/>"
      ],
      "text/plain": [
       "<IPython.core.display.HTML object>"
      ]
     },
     "metadata": {},
     "output_type": "display_data"
    },
    {
     "name": "stdout",
     "output_type": "stream",
     "text": [
      "\n"
     ]
    },
    {
     "data": {
      "text/html": [
       "Waiting for W&B process to finish... <strong style=\"color:green\">(success).</strong>"
      ],
      "text/plain": [
       "<IPython.core.display.HTML object>"
      ]
     },
     "metadata": {},
     "output_type": "display_data"
    },
    {
     "data": {
      "text/html": [
       "<style>\n",
       "    table.wandb td:nth-child(1) { padding: 0 10px; text-align: right }\n",
       "    .wandb-row { display: flex; flex-direction: row; flex-wrap: wrap; width: 100% }\n",
       "    .wandb-col { display: flex; flex-direction: column; flex-basis: 100%; flex: 1; padding: 10px; }\n",
       "    </style>\n",
       "<div class=\"wandb-row\"><div class=\"wandb-col\"><h3>Run history:</h3><br/><table class=\"wandb\"><tr><td>learning rate</td><td>▁▁▁▁▁▁▁▁▁▁▁▁▁▁▁▁▁▁▁▁▁▁▁▁▁▁▁▁▁▁▁▁▁▁▁▁▁▁▁▁</td></tr><tr><td>train accuracy</td><td>▁▂▄▄▃▄▄▄▄▅▅▅▅▆▆▆▆▅▅▆▆▇▇▇▇▇█▇▇█▇██▇█▇▇███</td></tr><tr><td>train loss</td><td>█▇▆▆▆▅▅▆▅▄▅▄▅▄▄▄▄▄▄▄▄▃▃▃▃▂▂▃▂▂▃▁▁▂▂▂▂▂▁▂</td></tr><tr><td>valid accuracy</td><td>▁▁▂▄▅▇▅▄▂▄▅▅▆▆▅▄▅▆▅▆▆▄▆▆▆▅▆▆▅▆▇▇▇▇▅█▇▃▆▅</td></tr><tr><td>valid loss</td><td>▃▂▂▂▁▂▂▃▅▆▃▃▃▅▄▆▂▃▂▅▃▃▄▅▂█▇▆▅▅▃▆▆▄▇▄▄▆▆█</td></tr></table><br/></div><div class=\"wandb-col\"><h3>Run summary:</h3><br/><table class=\"wandb\"><tr><td>learning rate</td><td>0.007</td></tr><tr><td>train accuracy</td><td>0.90667</td></tr><tr><td>train loss</td><td>0.02679</td></tr><tr><td>valid accuracy</td><td>0.70909</td></tr><tr><td>valid loss</td><td>0.10624</td></tr></table><br/></div></div>"
      ],
      "text/plain": [
       "<IPython.core.display.HTML object>"
      ]
     },
     "metadata": {},
     "output_type": "display_data"
    },
    {
     "data": {
      "text/html": [
       "Synced <strong style=\"color:#cdcd00\">sweet-snow-81</strong>: <a href=\"https://wandb.ai/chris-pedersen/brain-GCN2-shuffle/runs/pfzzlr92\" target=\"_blank\">https://wandb.ai/chris-pedersen/brain-GCN2-shuffle/runs/pfzzlr92</a><br/>Synced 5 W&B file(s), 0 media file(s), 0 artifact file(s) and 0 other file(s)"
      ],
      "text/plain": [
       "<IPython.core.display.HTML object>"
      ]
     },
     "metadata": {},
     "output_type": "display_data"
    },
    {
     "data": {
      "text/html": [
       "Find logs at: <code>./wandb/run-20220311_120224-pfzzlr92/logs</code>"
      ],
      "text/plain": [
       "<IPython.core.display.HTML object>"
      ]
     },
     "metadata": {},
     "output_type": "display_data"
    },
    {
     "data": {
      "text/html": [
       "Tracking run with wandb version 0.12.11"
      ],
      "text/plain": [
       "<IPython.core.display.HTML object>"
      ]
     },
     "metadata": {},
     "output_type": "display_data"
    },
    {
     "data": {
      "text/html": [
       "Run data is saved locally in <code>/mnt/home/cpedersen/Codes/cancer-net/demos/wandb/run-20220311_120343-1w6bnyjf</code>"
      ],
      "text/plain": [
       "<IPython.core.display.HTML object>"
      ]
     },
     "metadata": {},
     "output_type": "display_data"
    },
    {
     "data": {
      "text/html": [
       "Syncing run <strong><a href=\"https://wandb.ai/chris-pedersen/brain-GCN2-shuffle/runs/1w6bnyjf\" target=\"_blank\">skilled-snow-82</a></strong> to <a href=\"https://wandb.ai/chris-pedersen/brain-GCN2-shuffle\" target=\"_blank\">Weights & Biases</a> (<a href=\"https://wandb.me/run\" target=\"_blank\">docs</a>)<br/>"
      ],
      "text/plain": [
       "<IPython.core.display.HTML object>"
      ]
     },
     "metadata": {},
     "output_type": "display_data"
    },
    {
     "name": "stdout",
     "output_type": "stream",
     "text": [
      "\n"
     ]
    },
    {
     "data": {
      "text/html": [
       "Waiting for W&B process to finish... <strong style=\"color:green\">(success).</strong>"
      ],
      "text/plain": [
       "<IPython.core.display.HTML object>"
      ]
     },
     "metadata": {},
     "output_type": "display_data"
    },
    {
     "data": {
      "text/html": [
       "<style>\n",
       "    table.wandb td:nth-child(1) { padding: 0 10px; text-align: right }\n",
       "    .wandb-row { display: flex; flex-direction: row; flex-wrap: wrap; width: 100% }\n",
       "    .wandb-col { display: flex; flex-direction: column; flex-basis: 100%; flex: 1; padding: 10px; }\n",
       "    </style>\n",
       "<div class=\"wandb-row\"><div class=\"wandb-col\"><h3>Run history:</h3><br/><table class=\"wandb\"><tr><td>learning rate</td><td>▁▁▁▁▁▁▁▁▁▁▁▁▁▁▁▁▁▁▁▁▁▁▁▁▁▁▁▁▁▁▁▁▁▁▁▁▁▁▁▁</td></tr><tr><td>train accuracy</td><td>▁▃▃▄▃▃▄▅▄▅▄▅▄▅▅▅▆▅▆▆▆▅▆▆▆▆▆▇▇█▇█▇███▇██▇</td></tr><tr><td>train loss</td><td>█▇▆▆▆▆▅▅▅▅▅▅▅▅▄▄▄▄▃▃▄▄▃▃▄▃▃▂▂▂▃▁▃▂▁▁▂▁▁▂</td></tr><tr><td>valid accuracy</td><td>▄▄▂▁▂▆▄▆▃▅▅▆▆▆▅▅▆▆▅▅▆█▆▅▇▆▇▅▇▇▆▃▆▆▇█▆▆▇▇</td></tr><tr><td>valid loss</td><td>▃▃▄█▆▃▅▃▄▂▃▃▄▃▃▂▂▂▂▃▂▂▂▃▂▂▂▃▃▂▃▄▂▂▂▁▂▂▂▂</td></tr></table><br/></div><div class=\"wandb-col\"><h3>Run summary:</h3><br/><table class=\"wandb\"><tr><td>learning rate</td><td>0.007</td></tr><tr><td>train accuracy</td><td>0.9</td></tr><tr><td>train loss</td><td>0.02782</td></tr><tr><td>valid accuracy</td><td>0.78182</td></tr><tr><td>valid loss</td><td>0.04592</td></tr></table><br/></div></div>"
      ],
      "text/plain": [
       "<IPython.core.display.HTML object>"
      ]
     },
     "metadata": {},
     "output_type": "display_data"
    },
    {
     "data": {
      "text/html": [
       "Synced <strong style=\"color:#cdcd00\">skilled-snow-82</strong>: <a href=\"https://wandb.ai/chris-pedersen/brain-GCN2-shuffle/runs/1w6bnyjf\" target=\"_blank\">https://wandb.ai/chris-pedersen/brain-GCN2-shuffle/runs/1w6bnyjf</a><br/>Synced 5 W&B file(s), 0 media file(s), 0 artifact file(s) and 0 other file(s)"
      ],
      "text/plain": [
       "<IPython.core.display.HTML object>"
      ]
     },
     "metadata": {},
     "output_type": "display_data"
    },
    {
     "data": {
      "text/html": [
       "Find logs at: <code>./wandb/run-20220311_120343-1w6bnyjf/logs</code>"
      ],
      "text/plain": [
       "<IPython.core.display.HTML object>"
      ]
     },
     "metadata": {},
     "output_type": "display_data"
    },
    {
     "data": {
      "text/html": [
       "Tracking run with wandb version 0.12.11"
      ],
      "text/plain": [
       "<IPython.core.display.HTML object>"
      ]
     },
     "metadata": {},
     "output_type": "display_data"
    },
    {
     "data": {
      "text/html": [
       "Run data is saved locally in <code>/mnt/home/cpedersen/Codes/cancer-net/demos/wandb/run-20220311_120506-a3m0uwdl</code>"
      ],
      "text/plain": [
       "<IPython.core.display.HTML object>"
      ]
     },
     "metadata": {},
     "output_type": "display_data"
    },
    {
     "data": {
      "text/html": [
       "Syncing run <strong><a href=\"https://wandb.ai/chris-pedersen/brain-GCN2-shuffle/runs/a3m0uwdl\" target=\"_blank\">glamorous-lake-83</a></strong> to <a href=\"https://wandb.ai/chris-pedersen/brain-GCN2-shuffle\" target=\"_blank\">Weights & Biases</a> (<a href=\"https://wandb.me/run\" target=\"_blank\">docs</a>)<br/>"
      ],
      "text/plain": [
       "<IPython.core.display.HTML object>"
      ]
     },
     "metadata": {},
     "output_type": "display_data"
    },
    {
     "name": "stdout",
     "output_type": "stream",
     "text": [
      "\n"
     ]
    },
    {
     "data": {
      "text/html": [
       "Waiting for W&B process to finish... <strong style=\"color:green\">(success).</strong>"
      ],
      "text/plain": [
       "<IPython.core.display.HTML object>"
      ]
     },
     "metadata": {},
     "output_type": "display_data"
    },
    {
     "data": {
      "text/html": [
       "<style>\n",
       "    table.wandb td:nth-child(1) { padding: 0 10px; text-align: right }\n",
       "    .wandb-row { display: flex; flex-direction: row; flex-wrap: wrap; width: 100% }\n",
       "    .wandb-col { display: flex; flex-direction: column; flex-basis: 100%; flex: 1; padding: 10px; }\n",
       "    </style>\n",
       "<div class=\"wandb-row\"><div class=\"wandb-col\"><h3>Run history:</h3><br/><table class=\"wandb\"><tr><td>learning rate</td><td>▁▁▁▁▁▁▁▁▁▁▁▁▁▁▁▁▁▁▁▁▁▁▁▁▁▁▁▁▁▁▁▁▁▁▁▁▁▁▁▁</td></tr><tr><td>train accuracy</td><td>▁▂▃▃▄▃▄▅▅▅▅▅▅▆▆▅▅▆▇▇▇▆▆▆▇▆▆▇▇▇▆▇▇▇▇▇▇▇██</td></tr><tr><td>train loss</td><td>█▇▇▆▆▆▅▅▄▅▆▅▅▄▄▄▄▄▃▃▃▄▄▄▂▃▃▃▂▃▃▂▂▂▂▂▂▂▁▁</td></tr><tr><td>valid accuracy</td><td>▂▅▁▆▃▆▆▅▆▆▄▄▄▇█▆▆▆▅▇▆▆▇▇█▆▇█▇▅▇▆█▇▆▇▇▅▇▇</td></tr><tr><td>valid loss</td><td>▂▂█▆▆▂▂▂▂▂▂▃▂▁▁▂▂▂▂▂▁▂▁▁▁▂▂▁▁▃▃▂▁▁▂▂▃▂▃▃</td></tr></table><br/></div><div class=\"wandb-col\"><h3>Run summary:</h3><br/><table class=\"wandb\"><tr><td>learning rate</td><td>0.007</td></tr><tr><td>train accuracy</td><td>0.90444</td></tr><tr><td>train loss</td><td>0.02536</td></tr><tr><td>valid accuracy</td><td>0.75455</td></tr><tr><td>valid loss</td><td>0.07519</td></tr></table><br/></div></div>"
      ],
      "text/plain": [
       "<IPython.core.display.HTML object>"
      ]
     },
     "metadata": {},
     "output_type": "display_data"
    },
    {
     "data": {
      "text/html": [
       "Synced <strong style=\"color:#cdcd00\">glamorous-lake-83</strong>: <a href=\"https://wandb.ai/chris-pedersen/brain-GCN2-shuffle/runs/a3m0uwdl\" target=\"_blank\">https://wandb.ai/chris-pedersen/brain-GCN2-shuffle/runs/a3m0uwdl</a><br/>Synced 5 W&B file(s), 0 media file(s), 0 artifact file(s) and 0 other file(s)"
      ],
      "text/plain": [
       "<IPython.core.display.HTML object>"
      ]
     },
     "metadata": {},
     "output_type": "display_data"
    },
    {
     "data": {
      "text/html": [
       "Find logs at: <code>./wandb/run-20220311_120506-a3m0uwdl/logs</code>"
      ],
      "text/plain": [
       "<IPython.core.display.HTML object>"
      ]
     },
     "metadata": {},
     "output_type": "display_data"
    },
    {
     "data": {
      "text/html": [
       "Tracking run with wandb version 0.12.11"
      ],
      "text/plain": [
       "<IPython.core.display.HTML object>"
      ]
     },
     "metadata": {},
     "output_type": "display_data"
    },
    {
     "data": {
      "text/html": [
       "Run data is saved locally in <code>/mnt/home/cpedersen/Codes/cancer-net/demos/wandb/run-20220311_120628-ktmjfbw6</code>"
      ],
      "text/plain": [
       "<IPython.core.display.HTML object>"
      ]
     },
     "metadata": {},
     "output_type": "display_data"
    },
    {
     "data": {
      "text/html": [
       "Syncing run <strong><a href=\"https://wandb.ai/chris-pedersen/brain-GCN2-shuffle/runs/ktmjfbw6\" target=\"_blank\">chocolate-dream-84</a></strong> to <a href=\"https://wandb.ai/chris-pedersen/brain-GCN2-shuffle\" target=\"_blank\">Weights & Biases</a> (<a href=\"https://wandb.me/run\" target=\"_blank\">docs</a>)<br/>"
      ],
      "text/plain": [
       "<IPython.core.display.HTML object>"
      ]
     },
     "metadata": {},
     "output_type": "display_data"
    },
    {
     "name": "stdout",
     "output_type": "stream",
     "text": [
      "\n"
     ]
    },
    {
     "data": {
      "text/html": [
       "Waiting for W&B process to finish... <strong style=\"color:green\">(success).</strong>"
      ],
      "text/plain": [
       "<IPython.core.display.HTML object>"
      ]
     },
     "metadata": {},
     "output_type": "display_data"
    },
    {
     "data": {
      "text/html": [
       "<style>\n",
       "    table.wandb td:nth-child(1) { padding: 0 10px; text-align: right }\n",
       "    .wandb-row { display: flex; flex-direction: row; flex-wrap: wrap; width: 100% }\n",
       "    .wandb-col { display: flex; flex-direction: column; flex-basis: 100%; flex: 1; padding: 10px; }\n",
       "    </style>\n",
       "<div class=\"wandb-row\"><div class=\"wandb-col\"><h3>Run history:</h3><br/><table class=\"wandb\"><tr><td>learning rate</td><td>▁▁▁▁▁▁▁▁▁▁▁▁▁▁▁▁▁▁▁▁▁▁▁▁▁▁▁▁▁▁▁▁▁▁▁▁▁▁▁▁</td></tr><tr><td>train accuracy</td><td>▁▂▄▄▄▄▃▄▃▄▄▅▅▅▅▆▅▅▅▅▇▆▇▆▇▇▇▇▇▇▇▇▇▇▇▇██▇█</td></tr><tr><td>train loss</td><td>█▇▆▆▅▅▆▆▆▅▅▅▄▄▅▄▅▅▄▄▃▄▃▃▂▂▃▂▃▃▂▂▂▂▂▃▂▂▂▁</td></tr><tr><td>valid accuracy</td><td>▄▁▂▂▂▄▅▆▃▂▁▅▅▄▆▆▅▅▆▅▇▆▇▇▇█▇▇▆▇▇▆▇▇▆█▆▇▇▅</td></tr><tr><td>valid loss</td><td>▂▂▄▂▃▄▃▃▃█▄▂▂▂▂▂▂▂▁▂▁▁▁▁▁▁▁▁▂▁▁▁▁▁▁▁▂▁▁▂</td></tr></table><br/></div><div class=\"wandb-col\"><h3>Run summary:</h3><br/><table class=\"wandb\"><tr><td>learning rate</td><td>0.007</td></tr><tr><td>train accuracy</td><td>0.93333</td></tr><tr><td>train loss</td><td>0.01759</td></tr><tr><td>valid accuracy</td><td>0.7</td></tr><tr><td>valid loss</td><td>0.07121</td></tr></table><br/></div></div>"
      ],
      "text/plain": [
       "<IPython.core.display.HTML object>"
      ]
     },
     "metadata": {},
     "output_type": "display_data"
    },
    {
     "data": {
      "text/html": [
       "Synced <strong style=\"color:#cdcd00\">chocolate-dream-84</strong>: <a href=\"https://wandb.ai/chris-pedersen/brain-GCN2-shuffle/runs/ktmjfbw6\" target=\"_blank\">https://wandb.ai/chris-pedersen/brain-GCN2-shuffle/runs/ktmjfbw6</a><br/>Synced 5 W&B file(s), 0 media file(s), 0 artifact file(s) and 0 other file(s)"
      ],
      "text/plain": [
       "<IPython.core.display.HTML object>"
      ]
     },
     "metadata": {},
     "output_type": "display_data"
    },
    {
     "data": {
      "text/html": [
       "Find logs at: <code>./wandb/run-20220311_120628-ktmjfbw6/logs</code>"
      ],
      "text/plain": [
       "<IPython.core.display.HTML object>"
      ]
     },
     "metadata": {},
     "output_type": "display_data"
    }
   ],
   "source": [
    "train_acc=[]\n",
    "valid_acc=[]\n",
    "for valid_seed in range(20):\n",
    "    trial=Objective(arch,root,batch,epochs,device,hidden,valid_seed,alpha,lr,dropout)\n",
    "    train,valid=trial()\n",
    "    train_acc.append(train)\n",
    "    valid_acc.append(valid)"
   ]
  },
  {
   "cell_type": "code",
   "execution_count": 8,
   "metadata": {},
   "outputs": [
    {
     "name": "stdout",
     "output_type": "stream",
     "text": [
      "[0.9288888888888889, 0.9133333333333333, 0.92, 0.8866666666666667, 0.92, 0.9133333333333333, 0.8755555555555555, 0.9355555555555556, 0.9111111111111111, 0.9222222222222223, 0.9022222222222223, 0.9088888888888889, 0.9222222222222223, 0.9022222222222223, 0.9088888888888889, 0.9088888888888889, 0.9066666666666666, 0.9, 0.9044444444444445, 0.9333333333333333]\n"
     ]
    }
   ],
   "source": [
    "print(train_acc)"
   ]
  },
  {
   "cell_type": "code",
   "execution_count": 9,
   "metadata": {},
   "outputs": [
    {
     "name": "stdout",
     "output_type": "stream",
     "text": [
      "[0.7636363636363637, 0.7272727272727273, 0.8090909090909091, 0.7818181818181819, 0.7909090909090909, 0.7727272727272727, 0.8272727272727273, 0.7545454545454545, 0.7818181818181819, 0.7727272727272727, 0.8272727272727273, 0.7181818181818181, 0.7454545454545455, 0.6454545454545455, 0.8181818181818182, 0.7, 0.7090909090909091, 0.7818181818181819, 0.7545454545454545, 0.7]\n"
     ]
    }
   ],
   "source": [
    "print(valid_acc)"
   ]
  },
  {
   "cell_type": "code",
   "execution_count": 11,
   "metadata": {},
   "outputs": [],
   "source": [
    "hidden=2048\n",
    "\n",
    "alpha=0.66\n",
    "dropout=0.216\n",
    "lr=0.01\n"
   ]
  },
  {
   "cell_type": "code",
   "execution_count": null,
   "metadata": {},
   "outputs": [],
   "source": [
    "train_acc=[]\n",
    "valid_acc=[]\n",
    "for valid_seed in range(20):\n",
    "    trial=Objective(arch,root,batch,epochs,device,hidden,valid_seed,alpha,lr,dropout)\n",
    "    train,valid=trial()\n",
    "    train_acc.append(train)\n",
    "    valid_acc.append(valid)"
   ]
  },
  {
   "cell_type": "code",
   "execution_count": null,
   "metadata": {},
   "outputs": [],
   "source": [
    "print(train_acc)"
   ]
  },
  {
   "cell_type": "code",
   "execution_count": null,
   "metadata": {},
   "outputs": [],
   "source": [
    "print(valid_acc)"
   ]
  },
  {
   "cell_type": "code",
   "execution_count": null,
   "metadata": {},
   "outputs": [],
   "source": []
  },
  {
   "cell_type": "code",
   "execution_count": null,
   "metadata": {},
   "outputs": [],
   "source": []
  },
  {
   "cell_type": "code",
   "execution_count": null,
   "metadata": {},
   "outputs": [],
   "source": [
    "train_acc,valid_acc=test_run()"
   ]
  },
  {
   "cell_type": "code",
   "execution_count": null,
   "metadata": {},
   "outputs": [],
   "source": [
    "valid_acc"
   ]
  },
  {
   "cell_type": "code",
   "execution_count": null,
   "metadata": {},
   "outputs": [],
   "source": [
    "pre_transform = T.Compose([T.GCNNorm(), T.ToSparseTensor()])\n",
    "dataset = TCGAData.TCGADataset(\n",
    "    root=root,\n",
    "    files=files,\n",
    "    label_mapping=label_mapping,\n",
    "    gene_graph=\"brain.geneSymbol.gz\",\n",
    "    pre_transform=pre_transform,\n",
    "    suffix=\"sparse\",valid_seed=0\n",
    ")\n",
    "\n",
    "\n",
    "train_loader = DataLoader(\n",
    "    dataset,\n",
    "    batch_size=batch,\n",
    "    sampler=SubsetRandomSampler(dataset.train_idx),\n",
    "    drop_last=True,\n",
    ")\n",
    "valid_loader = DataLoader(\n",
    "    dataset,\n",
    "    batch_size=batch,\n",
    "    sampler=SubsetRandomSampler(dataset.valid_idx),\n",
    "    drop_last=True,\n",
    ")"
   ]
  },
  {
   "cell_type": "code",
   "execution_count": null,
   "metadata": {},
   "outputs": [],
   "source": [
    "model = GCN2Net(\n",
    "    hidden_channels=128,\n",
    "    num_layers=4,\n",
    "    alpha=0.5,\n",
    "    theta=1.0,\n",
    "    shared_weights=False,\n",
    "    dropout=0.2,\n",
    ").to(device)\n",
    "optimizer = torch.optim.Adam(model.parameters(), lr=lr)\n",
    "criterion = F.nll_loss\n",
    "\n",
    "\n",
    "def train(epoch, report=True):\n",
    "    model.train()\n",
    "\n",
    "    if epoch == 30:\n",
    "        for param_group in optimizer.param_groups:\n",
    "            param_group[\"lr\"] = lr * 0.5\n",
    "\n",
    "    if epoch == 60:\n",
    "        for param_group in optimizer.param_groups:\n",
    "            param_group[\"lr\"] = lr * 0.1\n",
    "\n",
    "    total_loss = 0\n",
    "    correct = 0\n",
    "    num_samps = 0\n",
    "    for data in train_loader:\n",
    "        if not parall:\n",
    "            data = data.to(device)\n",
    "        optimizer.zero_grad()\n",
    "\n",
    "        output = model(data)\n",
    "        output = output.squeeze()\n",
    "\n",
    "        if parall:\n",
    "            y = torch.cat([d.y for d in data]).to(output.device)\n",
    "        else:\n",
    "            y = data.y\n",
    "\n",
    "        if len(output.shape) == 1:\n",
    "            output = output.unsqueeze(0)\n",
    "        loss = criterion(output, y)\n",
    "\n",
    "        pred = output.max(1)[1]\n",
    "        correct += pred.eq(y).sum().item()\n",
    "        total_loss += loss\n",
    "        loss.backward()\n",
    "        optimizer.step()\n",
    "        num_samps += len(y)\n",
    "    if report:\n",
    "        print(\n",
    "            \"Epoch: {:02d}, Loss: {:.3g}, Train Acc: {:.4f}\".format(\n",
    "                epoch, total_loss / num_samps, correct / num_samps\n",
    "            )\n",
    "        )\n",
    "\n",
    "    return total_loss / num_samps, correct / num_samps\n",
    "\n",
    "\n",
    "def valid():\n",
    "    model.eval()\n",
    "    correct = 0\n",
    "\n",
    "    total_loss = 0\n",
    "    num_samps = 0\n",
    "    for data in valid_loader:\n",
    "        if not parall:\n",
    "            data = data.to(device)\n",
    "        output = model(data)\n",
    "        output = output.squeeze()\n",
    "\n",
    "        pred = output.max(1)[1]\n",
    "        if parall:\n",
    "            y = torch.cat([d.y for d in data]).to(output.device)\n",
    "        else:\n",
    "            y = data.y\n",
    "        loss = criterion(output, y)\n",
    "        total_loss += loss.item()\n",
    "\n",
    "        correct += pred.eq(y).sum().item()\n",
    "        num_samps += len(y)\n",
    "    return total_loss / num_samps, correct / num_samps\n",
    "\n",
    "\n",
    "train_losses = []\n",
    "train_acces = []\n",
    "valid_acces = []\n",
    "valid_losses = []\n",
    "for epoch in range(1, 101):\n",
    "    report = (epoch) % 10 == 0\n",
    "    train_loss, train_acc = train(epoch, report=report)\n",
    "    valid_loss, valid_acc = valid()\n",
    "    train_losses.append(train_loss.cpu().detach().numpy())\n",
    "    valid_losses.append(valid_loss)\n",
    "    train_acces.append(train_acc)\n",
    "    valid_acces.append(valid_acc)\n",
    "    if report:\n",
    "        print(\"valid Loss: {:.3g}, Acc: {:.4f}\".format(valid_loss, valid_acc))\n",
    "\n",
    "plt.figure()\n",
    "plt.plot(train_acces, label=\"train acc\", linewidth=3)\n",
    "plt.plot(valid_acces, label=\"valid acc\", linewidth=3)\n",
    "plt.legend(prop={\"size\": 16})\n",
    "plt.xlabel(\"epoch\", fontsize=16)\n",
    "plt.grid()\n",
    "plt.show()\n",
    "plt.plot(train_losses, c=\"tab:blue\", label=\"train loss\", linewidth=3)\n",
    "plt.plot(valid_losses, c=\"tab:orange\", label=\"valid loss\", linewidth=3)\n",
    "plt.legend(prop={\"size\": 16})\n",
    "plt.xlabel(\"epoch\", fontsize=16)\n",
    "plt.grid()\n",
    "plt.show()\n",
    "\n",
    "loader_auc = DataLoader(\n",
    "    dataset,\n",
    "    batch_size=batch,\n",
    "    sampler=SubsetRandomSampler(dataset.train_idx),\n",
    "    drop_last=False,\n",
    ")\n",
    "\n",
    "outs = []\n",
    "ys = []\n",
    "for tb in loader_auc:\n",
    "    tbc = tb.cuda()\n",
    "    outs.append(torch.exp(model(tb)).cpu().data.numpy())\n",
    "    ys.append(tb.y.cpu().numpy())\n",
    "\n",
    "outs = np.concatenate(outs)\n",
    "ys = np.concatenate(ys)\n",
    "\n",
    "fpr_train, tpr_train, _ = roc_curve(ys, outs[:, 1])\n",
    "train_auc = auc(fpr_train, tpr_train)\n",
    "\n",
    "loader_auc = DataLoader(\n",
    "    dataset,\n",
    "    batch_size=batch,\n",
    "    sampler=SubsetRandomSampler(dataset.valid_idx),\n",
    "    drop_last=False,\n",
    ")\n",
    "\n",
    "outs = []\n",
    "ys = []\n",
    "for tb in loader_auc:\n",
    "    tbc = tb.cuda()\n",
    "    outs.append(torch.exp(model(tb)).cpu().data.numpy())\n",
    "    ys.append(tb.y.cpu().numpy())\n",
    "\n",
    "outs = np.concatenate(outs)\n",
    "ys = np.concatenate(ys)\n",
    "\n",
    "fpr_valid, tpr_valid, _ = roc_curve(ys, outs[:, 1])\n",
    "valid_auc = auc(fpr_valid, tpr_valid)\n",
    "\n",
    "plt.plot(\n",
    "    fpr_train, tpr_train, lw=2, label=\"ROC curve (area = %0.3f)\" % train_auc,\n",
    ")\n",
    "plt.plot(\n",
    "    fpr_valid, tpr_valid, lw=2, label=\"ROC curve (area = %0.3f)\" % valid_auc,\n",
    ")\n",
    "plt.plot([0, 1], [0, 1], color=\"black\", lw=1, linestyle=\"--\")\n",
    "plt.xlim([0.0, 1.0])\n",
    "plt.ylim([0.0, 1.05])\n",
    "plt.xlabel(\"False Positive Rate\")\n",
    "plt.ylabel(\"True Positive Rate\")\n",
    "plt.title(\"Receiver operating characteristic\")\n",
    "plt.legend(loc=\"lower right\")\n",
    "plt.show()"
   ]
  },
  {
   "cell_type": "code",
   "execution_count": null,
   "metadata": {},
   "outputs": [],
   "source": [
    "model = GCN2Net(\n",
    "    hidden_channels=2048,\n",
    "    num_layers=4,\n",
    "    alpha=0.5,\n",
    "    theta=1.0,\n",
    "    shared_weights=False,\n",
    "    dropout=0.2,\n",
    ").to(device)\n",
    "optimizer = torch.optim.Adam(model.parameters(), lr=lr)\n",
    "criterion = F.nll_loss\n",
    "\n",
    "\n",
    "def train(epoch, report=True):\n",
    "    model.train()\n",
    "\n",
    "    if epoch == 30:\n",
    "        for param_group in optimizer.param_groups:\n",
    "            param_group[\"lr\"] = lr * 0.5\n",
    "\n",
    "    if epoch == 60:\n",
    "        for param_group in optimizer.param_groups:\n",
    "            param_group[\"lr\"] = lr * 0.1\n",
    "\n",
    "    total_loss = 0\n",
    "    correct = 0\n",
    "    num_samps = 0\n",
    "    for data in train_loader:\n",
    "        if not parall:\n",
    "            data = data.to(device)\n",
    "        optimizer.zero_grad()\n",
    "\n",
    "        output = model(data)\n",
    "        output = output.squeeze()\n",
    "\n",
    "        if parall:\n",
    "            y = torch.cat([d.y for d in data]).to(output.device)\n",
    "        else:\n",
    "            y = data.y\n",
    "\n",
    "        if len(output.shape) == 1:\n",
    "            output = output.unsqueeze(0)\n",
    "        loss = criterion(output, y)\n",
    "\n",
    "        pred = output.max(1)[1]\n",
    "        correct += pred.eq(y).sum().item()\n",
    "        total_loss += loss\n",
    "        loss.backward()\n",
    "        optimizer.step()\n",
    "        num_samps += len(y)\n",
    "    if report:\n",
    "        print(\n",
    "            \"Epoch: {:02d}, Loss: {:.3g}, Train Acc: {:.4f}\".format(\n",
    "                epoch, total_loss / num_samps, correct / num_samps\n",
    "            )\n",
    "        )\n",
    "\n",
    "    return total_loss / num_samps, correct / num_samps\n",
    "\n",
    "\n",
    "def valid():\n",
    "    model.eval()\n",
    "    correct = 0\n",
    "\n",
    "    total_loss = 0\n",
    "    num_samps = 0\n",
    "    for data in valid_loader:\n",
    "        if not parall:\n",
    "            data = data.to(device)\n",
    "        output = model(data)\n",
    "        output = output.squeeze()\n",
    "\n",
    "        pred = output.max(1)[1]\n",
    "        if parall:\n",
    "            y = torch.cat([d.y for d in data]).to(output.device)\n",
    "        else:\n",
    "            y = data.y\n",
    "        loss = criterion(output, y)\n",
    "        total_loss += loss.item()\n",
    "\n",
    "        correct += pred.eq(y).sum().item()\n",
    "        num_samps += len(y)\n",
    "    return total_loss / num_samps, correct / num_samps\n",
    "\n",
    "\n",
    "train_losses = []\n",
    "train_acces = []\n",
    "valid_acces = []\n",
    "valid_losses = []\n",
    "for epoch in range(1, 101):\n",
    "    report = (epoch) % 10 == 0\n",
    "    train_loss, train_acc = train(epoch, report=report)\n",
    "    valid_loss, valid_acc = valid()\n",
    "    train_losses.append(train_loss.cpu().detach().numpy())\n",
    "    valid_losses.append(valid_loss)\n",
    "    train_acces.append(train_acc)\n",
    "    valid_acces.append(valid_acc)\n",
    "    if report:\n",
    "        print(\"valid Loss: {:.3g}, Acc: {:.4f}\".format(valid_loss, valid_acc))\n",
    "\n",
    "plt.figure()\n",
    "plt.plot(train_acces, label=\"train acc\", linewidth=3)\n",
    "plt.plot(valid_acces, label=\"valid acc\", linewidth=3)\n",
    "plt.legend(prop={\"size\": 16})\n",
    "plt.xlabel(\"epoch\", fontsize=16)\n",
    "plt.grid()\n",
    "plt.show()\n",
    "plt.plot(train_losses, c=\"tab:blue\", label=\"train loss\", linewidth=3)\n",
    "plt.plot(valid_losses, c=\"tab:orange\", label=\"valid loss\", linewidth=3)\n",
    "plt.legend(prop={\"size\": 16})\n",
    "plt.xlabel(\"epoch\", fontsize=16)\n",
    "plt.grid()\n",
    "plt.show()\n",
    "\n",
    "loader_auc = DataLoader(\n",
    "    dataset,\n",
    "    batch_size=batch,\n",
    "    sampler=SubsetRandomSampler(dataset.train_idx),\n",
    "    drop_last=False,\n",
    ")\n",
    "\n",
    "outs = []\n",
    "ys = []\n",
    "for tb in loader_auc:\n",
    "    tbc = tb.cuda()\n",
    "    outs.append(torch.exp(model(tb)).cpu().data.numpy())\n",
    "    ys.append(tb.y.cpu().numpy())\n",
    "\n",
    "outs = np.concatenate(outs)\n",
    "ys = np.concatenate(ys)\n",
    "\n",
    "fpr_train, tpr_train, _ = roc_curve(ys, outs[:, 1])\n",
    "train_auc = auc(fpr_train, tpr_train)\n",
    "\n",
    "loader_auc = DataLoader(\n",
    "    dataset,\n",
    "    batch_size=batch,\n",
    "    sampler=SubsetRandomSampler(dataset.valid_idx),\n",
    "    drop_last=False,\n",
    ")\n",
    "\n",
    "outs = []\n",
    "ys = []\n",
    "for tb in loader_auc:\n",
    "    tbc = tb.cuda()\n",
    "    outs.append(torch.exp(model(tb)).cpu().data.numpy())\n",
    "    ys.append(tb.y.cpu().numpy())\n",
    "\n",
    "outs = np.concatenate(outs)\n",
    "ys = np.concatenate(ys)\n",
    "\n",
    "fpr_valid, tpr_valid, _ = roc_curve(ys, outs[:, 1])\n",
    "valid_auc = auc(fpr_valid, tpr_valid)\n",
    "\n",
    "plt.plot(\n",
    "    fpr_train, tpr_train, lw=2, label=\"ROC curve (area = %0.3f)\" % train_auc,\n",
    ")\n",
    "plt.plot(\n",
    "    fpr_valid, tpr_valid, lw=2, label=\"ROC curve (area = %0.3f)\" % valid_auc,\n",
    ")\n",
    "plt.plot([0, 1], [0, 1], color=\"black\", lw=1, linestyle=\"--\")\n",
    "plt.xlim([0.0, 1.0])\n",
    "plt.ylim([0.0, 1.05])\n",
    "plt.xlabel(\"False Positive Rate\")\n",
    "plt.ylabel(\"True Positive Rate\")\n",
    "plt.title(\"Receiver operating characteristic\")\n",
    "plt.legend(loc=\"lower right\")\n",
    "plt.show()"
   ]
  },
  {
   "cell_type": "code",
   "execution_count": null,
   "metadata": {},
   "outputs": [],
   "source": []
  },
  {
   "cell_type": "code",
   "execution_count": null,
   "metadata": {},
   "outputs": [],
   "source": []
  },
  {
   "cell_type": "code",
   "execution_count": null,
   "metadata": {},
   "outputs": [],
   "source": []
  },
  {
   "cell_type": "code",
   "execution_count": null,
   "metadata": {},
   "outputs": [],
   "source": []
  },
  {
   "cell_type": "code",
   "execution_count": null,
   "metadata": {},
   "outputs": [],
   "source": [
    "# Training on brain data using GCN architecture\n",
    "\n",
    "# Hyperparameters etc:\n",
    "\n",
    "arch = \"GCN\"\n",
    "batch = 10\n",
    "parall = False\n",
    "lr = 0.005\n",
    "\n",
    "\n",
    "import sys\n",
    "\n",
    "sys.path.insert(0, \"..\")\n",
    "import TCGAData\n",
    "import torch, torch_geometric.transforms as T, torch.nn.functional as F\n",
    "import matplotlib.pyplot as plt, numpy as np\n",
    "from sklearn.metrics import roc_auc_score, roc_curve, auc\n",
    "from torch_geometric.loader import DataLoader\n",
    "from torch.utils.data.sampler import SubsetRandomSampler\n",
    "from arch.net import *\n",
    "\n",
    "if torch.cuda.is_available():\n",
    "    device = torch.device(\"cuda\" if torch.cuda.is_available() else \"cpu\")\n",
    "else:\n",
    "    device = \"cpu\"\n",
    "\n",
    "root = \"/mnt/home/sgolkar/projects/cancer-net/data/brain\"\n",
    "files = \"/mnt/home/sgolkar/projects/cancer-net/data/brain/samples.txt\"\n",
    "label_mapping = [\"LGG\", \"GBM\"]\n",
    "dataset = TCGAData.TCGADataset(\n",
    "    root=root,\n",
    "    files=files,\n",
    "    label_mapping=label_mapping,\n",
    "    gene_graph=\"brain.geneSymbol.gz\",\n",
    ")\n",
    "\n",
    "train_loader = DataLoader(\n",
    "    dataset,\n",
    "    batch_size=batch,\n",
    "    sampler=SubsetRandomSampler(dataset.train_idx),\n",
    "    drop_last=True,\n",
    ")\n",
    "valid_loader = DataLoader(\n",
    "    dataset,\n",
    "    batch_size=batch,\n",
    "    sampler=SubsetRandomSampler(dataset.valid_idx),\n",
    "    drop_last=True,\n",
    ")\n",
    "\n",
    "\n",
    "model = GCNNet().to(device)\n",
    "optimizer = torch.optim.Adam(model.parameters(), lr=lr)\n",
    "criterion = F.nll_loss\n",
    "\n",
    "\n",
    "def train(epoch, report=True):\n",
    "    model.train()\n",
    "\n",
    "    if epoch == 30:\n",
    "        for param_group in optimizer.param_groups:\n",
    "            param_group[\"lr\"] = lr * 0.5\n",
    "\n",
    "    if epoch == 60:\n",
    "        for param_group in optimizer.param_groups:\n",
    "            param_group[\"lr\"] = lr * 0.1\n",
    "\n",
    "    total_loss = 0\n",
    "    correct = 0\n",
    "    num_samps = 0\n",
    "    for data in train_loader:\n",
    "        if not parall:\n",
    "            data = data.to(device)\n",
    "        optimizer.zero_grad()\n",
    "\n",
    "        output = model(data)\n",
    "        output = output.squeeze()\n",
    "\n",
    "        if parall:\n",
    "            y = torch.cat([d.y for d in data]).to(output.device)\n",
    "        else:\n",
    "            y = data.y\n",
    "\n",
    "        if len(output.shape) == 1:\n",
    "            output = output.unsqueeze(0)\n",
    "        loss = criterion(output, y)\n",
    "\n",
    "        pred = output.max(1)[1]\n",
    "        correct += pred.eq(y).sum().item()\n",
    "        total_loss += loss\n",
    "        loss.backward()\n",
    "        optimizer.step()\n",
    "        num_samps += len(y)\n",
    "    if report:\n",
    "        print(\n",
    "            \"Epoch: {:02d}, Loss: {:.3g}, Train Acc: {:.4f}\".format(\n",
    "                epoch, total_loss / num_samps, correct / num_samps\n",
    "            )\n",
    "        )\n",
    "\n",
    "    return total_loss / num_samps, correct / num_samps\n",
    "\n",
    "\n",
    "def valid():\n",
    "    model.eval()\n",
    "    correct = 0\n",
    "\n",
    "    total_loss = 0\n",
    "    num_samps = 0\n",
    "    for data in valid_loader:\n",
    "        if not parall:\n",
    "            data = data.to(device)\n",
    "        output = model(data)\n",
    "        output = output.squeeze()\n",
    "\n",
    "        pred = output.max(1)[1]\n",
    "        if parall:\n",
    "            y = torch.cat([d.y for d in data]).to(output.device)\n",
    "        else:\n",
    "            y = data.y\n",
    "        loss = criterion(output, y)\n",
    "        total_loss += loss.item()\n",
    "\n",
    "        correct += pred.eq(y).sum().item()\n",
    "        num_samps += len(y)\n",
    "    return total_loss / num_samps, correct / num_samps\n",
    "\n",
    "\n",
    "train_losses = []\n",
    "train_acces = []\n",
    "valid_acces = []\n",
    "valid_losses = []\n",
    "for epoch in range(1, 101):\n",
    "    report = (epoch) % 10 == 0\n",
    "    train_loss, train_acc = train(epoch, report=report)\n",
    "    valid_loss, valid_acc = valid()\n",
    "    train_losses.append(train_loss.cpu().detach().numpy())\n",
    "    valid_losses.append(valid_loss)\n",
    "    train_acces.append(train_acc)\n",
    "    valid_acces.append(valid_acc)\n",
    "    if report:\n",
    "        print(\"valid Loss: {:.3g}, Acc: {:.4f}\".format(valid_loss, valid_acc))\n",
    "\n",
    "plt.figure()\n",
    "plt.plot(train_acces, label=\"train acc\", linewidth=3)\n",
    "plt.plot(valid_acces, label=\"valid acc\", linewidth=3)\n",
    "plt.legend(prop={\"size\": 16})\n",
    "plt.xlabel(\"epoch\", fontsize=16)\n",
    "plt.grid()\n",
    "plt.show()\n",
    "plt.plot(train_losses, c=\"tab:blue\", label=\"train loss\", linewidth=3)\n",
    "plt.plot(valid_losses, c=\"tab:orange\", label=\"valid loss\", linewidth=3)\n",
    "plt.legend(prop={\"size\": 16})\n",
    "plt.xlabel(\"epoch\", fontsize=16)\n",
    "plt.grid()\n",
    "plt.show()\n",
    "\n",
    "loader_auc = DataLoader(\n",
    "    dataset,\n",
    "    batch_size=batch,\n",
    "    sampler=SubsetRandomSampler(dataset.train_idx),\n",
    "    drop_last=False,\n",
    ")\n",
    "\n",
    "outs = []\n",
    "ys = []\n",
    "for tb in loader_auc:\n",
    "    tbc = tb.cuda()\n",
    "    outs.append(torch.exp(model(tb)).cpu().data.numpy())\n",
    "    ys.append(tb.y.cpu().numpy())\n",
    "\n",
    "outs = np.concatenate(outs)\n",
    "ys = np.concatenate(ys)\n",
    "\n",
    "fpr_train, tpr_train, _ = roc_curve(ys, outs[:, 1])\n",
    "train_auc = auc(fpr_train, tpr_train)\n",
    "\n",
    "loader_auc = DataLoader(\n",
    "    dataset,\n",
    "    batch_size=batch,\n",
    "    sampler=SubsetRandomSampler(dataset.valid_idx),\n",
    "    drop_last=False,\n",
    ")\n",
    "\n",
    "outs = []\n",
    "ys = []\n",
    "for tb in loader_auc:\n",
    "    tbc = tb.cuda()\n",
    "    outs.append(torch.exp(model(tb)).cpu().data.numpy())\n",
    "    ys.append(tb.y.cpu().numpy())\n",
    "\n",
    "outs = np.concatenate(outs)\n",
    "ys = np.concatenate(ys)\n",
    "\n",
    "fpr_valid, tpr_valid, _ = roc_curve(ys, outs[:, 1])\n",
    "valid_auc = auc(fpr_valid, tpr_valid)\n",
    "\n",
    "plt.plot(\n",
    "    fpr_train, tpr_train, lw=2, label=\"ROC curve (area = %0.3f)\" % train_auc,\n",
    ")\n",
    "plt.plot(\n",
    "    fpr_valid, tpr_valid, lw=2, label=\"ROC curve (area = %0.3f)\" % valid_auc,\n",
    ")\n",
    "plt.plot([0, 1], [0, 1], color=\"black\", lw=1, linestyle=\"--\")\n",
    "plt.xlim([0.0, 1.0])\n",
    "plt.ylim([0.0, 1.05])\n",
    "plt.xlabel(\"False Positive Rate\")\n",
    "plt.ylabel(\"True Positive Rate\")\n",
    "plt.title(\"Receiver operating characteristic\")\n",
    "plt.legend(loc=\"lower right\")\n",
    "plt.show()"
   ]
  },
  {
   "cell_type": "code",
   "execution_count": null,
   "metadata": {},
   "outputs": [],
   "source": [
    "# Looking at the difference between the files under model and under data (Brain data)\n",
    "\n",
    "# First, looking at the old files files under model folder.\n",
    "\n",
    "from matplotlib import pyplot as plt\n",
    "import h5py\n",
    "import numpy as np\n",
    "import os\n",
    "from os.path import isfile, join\n",
    "\n",
    "dataroot_model = \"/mnt/home/sgolkar/projects/cancer/models/CancerGNN-06-01/data/raw\"\n",
    "files_model = [\n",
    "    join(dataroot_model, f)\n",
    "    for f in os.listdir(dataroot_model)\n",
    "    if isfile(join(dataroot_model, f))\n",
    "]\n",
    "\n",
    "cancer_types_model = []\n",
    "error_samples_model = []\n",
    "sample_IDs_model = []\n",
    "nodata_model = []\n",
    "for file in files_model:\n",
    "    with h5py.File(file, \"r\") as f:\n",
    "\n",
    "        try:\n",
    "            cancer_types_model.append(f[\"label\"][\"sample_meta\"][\"tumor\"][()])\n",
    "            sample_IDs_model.append(f[\"label\"][\"sample_id\"][()])\n",
    "            if \"data\" not in f.keys():\n",
    "                nodata_model.append(file)\n",
    "        except:\n",
    "            error_samples_model.append(file)\n",
    "        # num_mutations.append(f['meta']['mutated_gene_list'])\n",
    "\n",
    "# The reference gene file is the only one that errors out\n",
    "print(\"Error files:\", error_samples_model)\n",
    "\n",
    "GBM_num_model = np.sum([el == b\"GBM\" for el in cancer_types_model])\n",
    "LGG_num_model = np.sum([el == b\"LGG\" for el in cancer_types_model])\n",
    "other_num_model = np.sum([el != b\"LGG\" and el != b\"GBM\" for el in cancer_types_model])\n",
    "\n",
    "\n",
    "print(\"Num duplicates: {}\".format(len(set(sample_IDs_model)) - len(sample_IDs_model)))\n",
    "print(\"Num samples without data: {}\\n\".format(len(nodata_model)))\n",
    "\n",
    "# Now looking at files under the mutated genes\n",
    "\n",
    "types = [\"GBM\", \"LGG\"]\n",
    "\n",
    "dataroot = \"/mnt/home/sgolkar/projects/cancer-net/data/brain/raw/\"\n",
    "\n",
    "cancer_types = {type: [] for type in types}\n",
    "num_mutations = {type: [] for type in types}\n",
    "error_samples = {type: [] for type in types}\n",
    "sample_IDs = {type: [] for type in types}\n",
    "nodata = {type: [] for type in types}\n",
    "for type in types:\n",
    "    datapath = dataroot + type\n",
    "    files = [\n",
    "        join(datapath, f) for f in os.listdir(datapath) if isfile(join(datapath, f))\n",
    "    ]\n",
    "    for file in files:\n",
    "        with h5py.File(file, \"r\") as f:\n",
    "\n",
    "            try:\n",
    "                cancer_types[type].append(f[\"label\"][\"sample_meta\"][\"tumor\"][()])\n",
    "                num_mutations[type].append(len(f[\"meta\"][\"mutated_gene_list\"][()]))\n",
    "                sample_IDs[type].append(f[\"label\"][\"sample_id\"][()])\n",
    "                if \"data\" not in f.keys():\n",
    "                    nodata[type].append(file)\n",
    "            except:\n",
    "                error_samples[type].append(file)\n",
    "\n",
    "# The reference gene file is the only one that errors out\n",
    "print(\"Error files: \", error_samples)\n",
    "\n",
    "# Types of cancer per folder:\n",
    "print(\n",
    "    \"Cancer types per folder files numbers:\",\n",
    "    {key: len(set(value)) for key, value in cancer_types.items()},\n",
    ")\n",
    "\n",
    "print(\n",
    "    \"Duplicates per type:\",\n",
    "    {key: len(set(value)) - len(value) for key, value in sample_IDs.items()},\n",
    ")\n",
    "\n",
    "print(\"Samples without data: \", nodata)\n",
    "\n",
    "\n",
    "print(\n",
    "    \"Num samples in model not in data: {}\".format(\n",
    "        len(\n",
    "            set(sample_IDs_model).difference(\n",
    "                set([el for value in sample_IDs.values() for el in value])\n",
    "            )\n",
    "        )\n",
    "    )\n",
    ")\n",
    "print(\n",
    "    \"Num samples in data not in model: {}\".format(\n",
    "        len(\n",
    "            set([el for value in sample_IDs.values() for el in value]).difference(\n",
    "                set(sample_IDs_model)\n",
    "            )\n",
    "        )\n",
    "    )\n",
    ")\n",
    "\n",
    "\n",
    "[\n",
    "    plt.hist(value, bins=np.linspace(0, 6000, 150), label=key, alpha=0.6)\n",
    "    for key, value in num_mutations.items()\n",
    "]\n",
    "plt.title(\"Histogram of # mutations per patient\")\n",
    "plt.legend()\n",
    "plt.show()\n",
    "\n",
    "[\n",
    "    plt.hist(value, bins=np.linspace(0, 150, 50), label=key, alpha=0.6)\n",
    "    for key, value in num_mutations.items()\n",
    "]\n",
    "plt.title(\"Histogram of # mutations (zoomed)\")\n",
    "plt.legend()\n",
    "plt.show()\n",
    "\n",
    "\n",
    "plt.bar(\n",
    "    [\"GBM\", \"LGG\", \"other\"],\n",
    "    [GBM_num_model, LGG_num_model, other_num_model],\n",
    "    label=\"model folder\",\n",
    "    alpha=0.85,\n",
    ")\n",
    "plt.bar(\n",
    "    cancer_types.keys(),\n",
    "    [len(el) for el in cancer_types.values()],\n",
    "    label=\"data folder\",\n",
    "    alpha=0.85,\n",
    ")\n",
    "plt.title(\"# of patients per cancer type\")\n",
    "plt.legend()\n",
    "plt.show()"
   ]
  },
  {
   "cell_type": "code",
   "execution_count": null,
   "metadata": {},
   "outputs": [],
   "source": [
    "from matplotlib import pyplot as plt\n",
    "import h5py\n",
    "import numpy as np\n",
    "\n",
    "\n",
    "# Loading and demoing the structure of the files\n",
    "\n",
    "filename = \"/mnt/home/sgolkar/projects/cancer-net/data/brain/raw/LGG/TCGA-CS-4942-01A-01D-1468-08.h5\"\n",
    "\n",
    "with h5py.File(filename, \"r\") as f:\n",
    "\n",
    "    prom = f[\"data\"][\"promoter\"][()]\n",
    "    prot = f[\"data\"][\"protein\"][()]\n",
    "\n",
    "plt.imshow(prom)\n",
    "plt.title(\"promoter encoding (LGG)\")\n",
    "plt.show()\n",
    "\n",
    "plt.imshow(prot)\n",
    "plt.title(\"protein encoding(LGG)\")\n",
    "plt.show()\n",
    "\n",
    "# Why are some norms so small?\n",
    "# Perhaps we can drop the genese were the norm is small for both promoter and the protein?\n",
    "plt.semilogy(np.abs(prom).sum(1), marker=\"o\", label=\"promoter\")\n",
    "plt.semilogy(np.abs(prot).sum(1), marker=\"o\", label=\"protein\")\n",
    "plt.title(\"Encoding norm (LGG)\")\n",
    "plt.show()\n",
    "\n",
    "\n",
    "# Another example\n",
    "\n",
    "filename = \"/mnt/home/sgolkar/projects/cancer-net/data/brain/raw/GBM/TCGA-02-0033-01A-01D-1490-08.h5\"\n",
    "\n",
    "with h5py.File(filename, \"r\") as f:\n",
    "\n",
    "    prom = f[\"data\"][\"promoter\"][()]\n",
    "    prot = f[\"data\"][\"protein\"][()]\n",
    "\n",
    "plt.imshow(prom)\n",
    "plt.title(\"promoter encoding (GBM)\")\n",
    "plt.show()\n",
    "\n",
    "plt.imshow(prot)\n",
    "plt.title(\"protein encoding(GBM)\")\n",
    "plt.show()\n",
    "\n",
    "plt.semilogy(np.abs(prom).sum(1), marker=\"o\", label=\"promoter\")\n",
    "plt.semilogy(np.abs(prot).sum(1), marker=\"o\", label=\"protein\")\n",
    "plt.title(\"Encoding norm (GBM)\")\n",
    "plt.show()"
   ]
  },
  {
   "cell_type": "code",
   "execution_count": null,
   "metadata": {},
   "outputs": [],
   "source": []
  }
 ],
 "metadata": {
  "kernelspec": {
   "display_name": "cancerenv",
   "language": "python",
   "name": "cancerenv"
  },
  "language_info": {
   "codemirror_mode": {
    "name": "ipython",
    "version": 3
   },
   "file_extension": ".py",
   "mimetype": "text/x-python",
   "name": "python",
   "nbconvert_exporter": "python",
   "pygments_lexer": "ipython3",
   "version": "3.9.7"
  }
 },
 "nbformat": 4,
 "nbformat_minor": 4
}
