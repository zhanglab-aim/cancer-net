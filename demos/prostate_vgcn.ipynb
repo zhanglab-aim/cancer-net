{
 "cells": [
  {
   "cell_type": "code",
   "execution_count": 1,
   "id": "4a26552e",
   "metadata": {},
   "outputs": [],
   "source": [
    "import time\n",
    "import os\n",
    "from watermark import watermark\n",
    "\n",
    "import torch, torch_geometric.transforms as T, torch.nn.functional as F\n",
    "from torch.utils.data.sampler import SubsetRandomSampler\n",
    "from torch_geometric.nn import GCNConv, global_mean_pool\n",
    "\n",
    "from torch_geometric.loader import DataLoader\n",
    "from torch_geometric.nn import MetaLayer\n",
    "from torch.nn import Linear\n",
    "\n",
    "import pytorch_lightning as pl\n",
    "from pytorch_lightning.callbacks.early_stopping import EarlyStopping\n",
    "from pytorch_lightning.callbacks import ModelCheckpoint\n",
    "\n",
    "import matplotlib.pyplot as plt\n",
    "import numpy as np\n",
    "\n",
    "from sklearn.metrics import (\n",
    "    roc_auc_score,\n",
    "    roc_curve,\n",
    "    auc,\n",
    "    average_precision_score,\n",
    "    f1_score,\n",
    "    accuracy_score,\n",
    "    precision_score,\n",
    "    recall_score,\n",
    ")\n",
    "\n",
    "from cancernet.arch.vgn_net import VgnNet\n",
    "from cancernet.util import ProgressBar, InMemoryLogger, get_roc\n",
    "from cancernet import PnetDataSet, ReactomeNetwork\n",
    "from cancernet.dataset import get_layer_maps"
   ]
  },
  {
   "cell_type": "code",
   "execution_count": 2,
   "id": "b060b249-5a2e-4c8d-91f9-633a5a241794",
   "metadata": {},
   "outputs": [],
   "source": [
    "reactome_kws = dict(\n",
    "    reactome_base_dir=os.path.join(\"data\", \"reactome\"),\n",
    "    relations_file_name=\"ReactomePathwaysRelation.txt\",\n",
    "    pathway_names_file_name=\"ReactomePathways.txt\",\n",
    "    pathway_genes_file_name=\"ReactomePathways.gmt\",\n",
    ")\n",
    "reactome = ReactomeNetwork(reactome_kws)\n",
    "\n",
    "prostate_root = os.path.join(\"data\", \"prostate\")\n",
    "dataset = PnetDataSet(\n",
    "    root=prostate_root,\n",
    "    name=\"prostate_graph_humanbase\",\n",
    "    edge_tol=0.5,\n",
    "    pre_transform=T.Compose(\n",
    "        [T.GCNNorm(add_self_loops=False), T.ToSparseTensor(remove_edge_index=False)]\n",
    "    ),\n",
    ")\n",
    "\n",
    "# loads the train/valid/test split from pnet\n",
    "splits_root = os.path.join(prostate_root, \"splits\")\n",
    "dataset.split_index_by_file(\n",
    "    train_fp=os.path.join(splits_root, \"training_set_0.csv\"),\n",
    "    valid_fp=os.path.join(splits_root, \"validation_set.csv\"),\n",
    "    test_fp=os.path.join(splits_root, \"test_set.csv\"),\n",
    ")"
   ]
  },
  {
   "cell_type": "code",
   "execution_count": 3,
   "id": "335091cd",
   "metadata": {},
   "outputs": [
    {
     "name": "stdout",
     "output_type": "stream",
     "text": [
      "layer # 0\n",
      "pathways 146\n",
      "genes 10621\n",
      "filtered_map (9054, 0)\n",
      "filtered_map (9054, 0)\n",
      "filtered_map (9054, 0)\n",
      "layer # 1\n",
      "pathways 26\n",
      "genes 147\n",
      "filtered_map (146, 0)\n",
      "filtered_map (146, 0)\n",
      "filtered_map (146, 0)\n",
      "layer # 2\n",
      "pathways 1\n",
      "genes 26\n",
      "filtered_map (26, 0)\n",
      "filtered_map (26, 0)\n",
      "filtered_map (26, 0)\n"
     ]
    }
   ],
   "source": [
    "maps = get_layer_maps(\n",
    "    genes=[g for g in dataset.node_index],\n",
    "    reactome=reactome,\n",
    "    n_levels=2,\n",
    "    direction=\"root_to_leaf\",\n",
    "    add_unk_genes=False,\n",
    "    verbose=True,\n",
    ")"
   ]
  },
  {
   "cell_type": "code",
   "execution_count": 4,
   "id": "aaf75412",
   "metadata": {},
   "outputs": [
    {
     "data": {
      "text/plain": [
       "R-HSA-597592     797.0\n",
       "R-HSA-73857      731.0\n",
       "R-HSA-372790     524.0\n",
       "R-HSA-168249     516.0\n",
       "R-HSA-1280218    383.0\n",
       "R-HSA-199991     382.0\n",
       "R-HSA-556833     366.0\n",
       "R-HSA-1280215    339.0\n",
       "R-HSA-422475     285.0\n",
       "R-HSA-9006934    268.0\n",
       "R-HSA-5663202    245.0\n",
       "R-HSA-194315     218.0\n",
       "R-HSA-5663205    206.0\n",
       "R-HSA-2262752    186.0\n",
       "R-HSA-9006925    180.0\n",
       "R-HSA-5683057    168.0\n",
       "R-HSA-71291      165.0\n",
       "R-HSA-195721     165.0\n",
       "R-HSA-72203      163.0\n",
       "R-HSA-71387      161.0\n",
       "dtype: float64"
      ]
     },
     "execution_count": 4,
     "metadata": {},
     "output_type": "execute_result"
    }
   ],
   "source": [
    "maps[0].sum(axis=0).sort_values(ascending=False).head(20)"
   ]
  },
  {
   "cell_type": "code",
   "execution_count": 5,
   "id": "faeca184",
   "metadata": {},
   "outputs": [
    {
     "data": {
      "text/html": [
       "<div>\n",
       "<style scoped>\n",
       "    .dataframe tbody tr th:only-of-type {\n",
       "        vertical-align: middle;\n",
       "    }\n",
       "\n",
       "    .dataframe tbody tr th {\n",
       "        vertical-align: top;\n",
       "    }\n",
       "\n",
       "    .dataframe thead th {\n",
       "        text-align: right;\n",
       "    }\n",
       "</style>\n",
       "<table border=\"1\" class=\"dataframe\">\n",
       "  <thead>\n",
       "    <tr style=\"text-align: right;\">\n",
       "      <th></th>\n",
       "      <th>R-HSA-109581</th>\n",
       "      <th>R-HSA-112307</th>\n",
       "      <th>R-HSA-112315</th>\n",
       "      <th>R-HSA-1181150</th>\n",
       "      <th>R-HSA-1187000</th>\n",
       "      <th>R-HSA-1268020</th>\n",
       "      <th>R-HSA-1280215</th>\n",
       "      <th>R-HSA-1280218</th>\n",
       "      <th>R-HSA-1296071</th>\n",
       "      <th>R-HSA-1362409</th>\n",
       "      <th>...</th>\n",
       "      <th>R-HSA-9006927</th>\n",
       "      <th>R-HSA-9006931</th>\n",
       "      <th>R-HSA-9006934</th>\n",
       "      <th>R-HSA-9006936</th>\n",
       "      <th>R-HSA-9033241</th>\n",
       "      <th>R-HSA-917937</th>\n",
       "      <th>R-HSA-927802</th>\n",
       "      <th>R-HSA-977225</th>\n",
       "      <th>R-HSA-983231</th>\n",
       "      <th>R-HSA-983712</th>\n",
       "    </tr>\n",
       "  </thead>\n",
       "  <tbody>\n",
       "    <tr>\n",
       "      <th>A1CF</th>\n",
       "      <td>0.0</td>\n",
       "      <td>0.0</td>\n",
       "      <td>0.0</td>\n",
       "      <td>0.0</td>\n",
       "      <td>0.0</td>\n",
       "      <td>0.0</td>\n",
       "      <td>0.0</td>\n",
       "      <td>0.0</td>\n",
       "      <td>0.0</td>\n",
       "      <td>0.0</td>\n",
       "      <td>...</td>\n",
       "      <td>0.0</td>\n",
       "      <td>0.0</td>\n",
       "      <td>0.0</td>\n",
       "      <td>0.0</td>\n",
       "      <td>0.0</td>\n",
       "      <td>0.0</td>\n",
       "      <td>0.0</td>\n",
       "      <td>0.0</td>\n",
       "      <td>0.0</td>\n",
       "      <td>0.0</td>\n",
       "    </tr>\n",
       "    <tr>\n",
       "      <th>AAAS</th>\n",
       "      <td>0.0</td>\n",
       "      <td>0.0</td>\n",
       "      <td>0.0</td>\n",
       "      <td>0.0</td>\n",
       "      <td>0.0</td>\n",
       "      <td>0.0</td>\n",
       "      <td>1.0</td>\n",
       "      <td>0.0</td>\n",
       "      <td>0.0</td>\n",
       "      <td>0.0</td>\n",
       "      <td>...</td>\n",
       "      <td>0.0</td>\n",
       "      <td>0.0</td>\n",
       "      <td>0.0</td>\n",
       "      <td>0.0</td>\n",
       "      <td>0.0</td>\n",
       "      <td>0.0</td>\n",
       "      <td>0.0</td>\n",
       "      <td>0.0</td>\n",
       "      <td>0.0</td>\n",
       "      <td>0.0</td>\n",
       "    </tr>\n",
       "    <tr>\n",
       "      <th>AACS</th>\n",
       "      <td>0.0</td>\n",
       "      <td>0.0</td>\n",
       "      <td>0.0</td>\n",
       "      <td>0.0</td>\n",
       "      <td>0.0</td>\n",
       "      <td>0.0</td>\n",
       "      <td>0.0</td>\n",
       "      <td>0.0</td>\n",
       "      <td>0.0</td>\n",
       "      <td>0.0</td>\n",
       "      <td>...</td>\n",
       "      <td>0.0</td>\n",
       "      <td>0.0</td>\n",
       "      <td>0.0</td>\n",
       "      <td>0.0</td>\n",
       "      <td>0.0</td>\n",
       "      <td>0.0</td>\n",
       "      <td>0.0</td>\n",
       "      <td>0.0</td>\n",
       "      <td>0.0</td>\n",
       "      <td>0.0</td>\n",
       "    </tr>\n",
       "    <tr>\n",
       "      <th>AADAC</th>\n",
       "      <td>0.0</td>\n",
       "      <td>0.0</td>\n",
       "      <td>0.0</td>\n",
       "      <td>0.0</td>\n",
       "      <td>0.0</td>\n",
       "      <td>0.0</td>\n",
       "      <td>0.0</td>\n",
       "      <td>0.0</td>\n",
       "      <td>0.0</td>\n",
       "      <td>0.0</td>\n",
       "      <td>...</td>\n",
       "      <td>0.0</td>\n",
       "      <td>0.0</td>\n",
       "      <td>0.0</td>\n",
       "      <td>0.0</td>\n",
       "      <td>0.0</td>\n",
       "      <td>0.0</td>\n",
       "      <td>0.0</td>\n",
       "      <td>0.0</td>\n",
       "      <td>0.0</td>\n",
       "      <td>0.0</td>\n",
       "    </tr>\n",
       "    <tr>\n",
       "      <th>AADACL2</th>\n",
       "      <td>0.0</td>\n",
       "      <td>0.0</td>\n",
       "      <td>0.0</td>\n",
       "      <td>0.0</td>\n",
       "      <td>0.0</td>\n",
       "      <td>0.0</td>\n",
       "      <td>0.0</td>\n",
       "      <td>0.0</td>\n",
       "      <td>0.0</td>\n",
       "      <td>0.0</td>\n",
       "      <td>...</td>\n",
       "      <td>0.0</td>\n",
       "      <td>0.0</td>\n",
       "      <td>0.0</td>\n",
       "      <td>0.0</td>\n",
       "      <td>0.0</td>\n",
       "      <td>0.0</td>\n",
       "      <td>0.0</td>\n",
       "      <td>0.0</td>\n",
       "      <td>0.0</td>\n",
       "      <td>0.0</td>\n",
       "    </tr>\n",
       "  </tbody>\n",
       "</table>\n",
       "<p>5 rows × 146 columns</p>\n",
       "</div>"
      ],
      "text/plain": [
       "         R-HSA-109581  R-HSA-112307  R-HSA-112315  R-HSA-1181150  \\\n",
       "A1CF              0.0           0.0           0.0            0.0   \n",
       "AAAS              0.0           0.0           0.0            0.0   \n",
       "AACS              0.0           0.0           0.0            0.0   \n",
       "AADAC             0.0           0.0           0.0            0.0   \n",
       "AADACL2           0.0           0.0           0.0            0.0   \n",
       "\n",
       "         R-HSA-1187000  R-HSA-1268020  R-HSA-1280215  R-HSA-1280218  \\\n",
       "A1CF               0.0            0.0            0.0            0.0   \n",
       "AAAS               0.0            0.0            1.0            0.0   \n",
       "AACS               0.0            0.0            0.0            0.0   \n",
       "AADAC              0.0            0.0            0.0            0.0   \n",
       "AADACL2            0.0            0.0            0.0            0.0   \n",
       "\n",
       "         R-HSA-1296071  R-HSA-1362409  ...  R-HSA-9006927  R-HSA-9006931  \\\n",
       "A1CF               0.0            0.0  ...            0.0            0.0   \n",
       "AAAS               0.0            0.0  ...            0.0            0.0   \n",
       "AACS               0.0            0.0  ...            0.0            0.0   \n",
       "AADAC              0.0            0.0  ...            0.0            0.0   \n",
       "AADACL2            0.0            0.0  ...            0.0            0.0   \n",
       "\n",
       "         R-HSA-9006934  R-HSA-9006936  R-HSA-9033241  R-HSA-917937  \\\n",
       "A1CF               0.0            0.0            0.0           0.0   \n",
       "AAAS               0.0            0.0            0.0           0.0   \n",
       "AACS               0.0            0.0            0.0           0.0   \n",
       "AADAC              0.0            0.0            0.0           0.0   \n",
       "AADACL2            0.0            0.0            0.0           0.0   \n",
       "\n",
       "         R-HSA-927802  R-HSA-977225  R-HSA-983231  R-HSA-983712  \n",
       "A1CF              0.0           0.0           0.0           0.0  \n",
       "AAAS              0.0           0.0           0.0           0.0  \n",
       "AACS              0.0           0.0           0.0           0.0  \n",
       "AADAC             0.0           0.0           0.0           0.0  \n",
       "AADACL2           0.0           0.0           0.0           0.0  \n",
       "\n",
       "[5 rows x 146 columns]"
      ]
     },
     "execution_count": 5,
     "metadata": {},
     "output_type": "execute_result"
    }
   ],
   "source": [
    "# use only top subsys\n",
    "#n_top = 12\n",
    "#maps[0] = maps[0][maps[0].sum(axis=0).sort_values(ascending=False).head(n_top).index]\n",
    "maps[0].head()"
   ]
  },
  {
   "cell_type": "code",
   "execution_count": 6,
   "id": "443c5a22",
   "metadata": {},
   "outputs": [
    {
     "data": {
      "text/plain": [
       "(9054, 146)"
      ]
     },
     "execution_count": 6,
     "metadata": {},
     "output_type": "execute_result"
    }
   ],
   "source": [
    "maps[0].shape"
   ]
  },
  {
   "cell_type": "code",
   "execution_count": 7,
   "id": "a9058e32",
   "metadata": {},
   "outputs": [
    {
     "data": {
      "text/plain": [
       "R-HSA-597592     797.0\n",
       "R-HSA-73857      731.0\n",
       "R-HSA-372790     524.0\n",
       "R-HSA-168249     516.0\n",
       "R-HSA-1280218    383.0\n",
       "                 ...  \n",
       "R-HSA-75944        2.0\n",
       "R-HSA-5676934      2.0\n",
       "R-HSA-8981607      1.0\n",
       "R-HSA-1566977      1.0\n",
       "R-HSA-71737        1.0\n",
       "Length: 146, dtype: float64"
      ]
     },
     "execution_count": 7,
     "metadata": {},
     "output_type": "execute_result"
    }
   ],
   "source": [
    "maps[0].sum(axis=0).sort_values(ascending=False)"
   ]
  },
  {
   "cell_type": "code",
   "execution_count": 8,
   "id": "558ff4ff",
   "metadata": {},
   "outputs": [],
   "source": [
    "a = [dataset.node_index[x] for x in maps[0].index]\n",
    "b = np.arange(9054).tolist()\n",
    "assert a == b"
   ]
  },
  {
   "cell_type": "markdown",
   "id": "9ec4ac92",
   "metadata": {},
   "source": [
    "## Train"
   ]
  },
  {
   "cell_type": "markdown",
   "id": "fbf8a02c",
   "metadata": {},
   "source": [
    "Set up hyperparameters and random seed."
   ]
  },
  {
   "cell_type": "code",
   "execution_count": 9,
   "id": "fac5ff47",
   "metadata": {},
   "outputs": [
    {
     "name": "stderr",
     "output_type": "stream",
     "text": [
      "Global seed set to 42\n"
     ]
    }
   ],
   "source": [
    "# try to ensure reproducibility\n",
    "pl.seed_everything(42, workers=True)\n",
    "\n",
    "n_epochs = 200\n",
    "batch_size = 10\n",
    "lr = 0.01"
   ]
  },
  {
   "cell_type": "markdown",
   "id": "0b70a5d6",
   "metadata": {},
   "source": [
    "Prepare data."
   ]
  },
  {
   "cell_type": "code",
   "execution_count": 10,
   "id": "80713481",
   "metadata": {},
   "outputs": [],
   "source": [
    "train_loader = DataLoader(\n",
    "    dataset,\n",
    "    batch_size=batch_size,\n",
    "    sampler=SubsetRandomSampler(dataset.train_idx),\n",
    ")\n",
    "valid_loader = DataLoader(\n",
    "    dataset,\n",
    "    batch_size=batch_size,\n",
    "    sampler=SubsetRandomSampler(dataset.valid_idx),\n",
    ")"
   ]
  },
  {
   "cell_type": "code",
   "execution_count": 11,
   "id": "59fd614e",
   "metadata": {
    "scrolled": false
   },
   "outputs": [
    {
     "name": "stderr",
     "output_type": "stream",
     "text": [
      "GPU available: True, used: True\n",
      "TPU available: False, using: 0 TPU cores\n",
      "IPU available: False, using: 0 IPUs\n",
      "HPU available: False, using: 0 HPUs\n",
      "/mnt/home/ttesileanu/miniconda3/envs/cancerenv/lib/python3.9/site-packages/pytorch_lightning/callbacks/model_checkpoint.py:611: UserWarning: Checkpoint directory /mnt/home/ttesileanu/Documents/research/deep-cancer-conda/demos/model_ckpts exists and is not empty.\n",
      "  rank_zero_warn(f\"Checkpoint directory {dirpath} exists and is not empty.\")\n",
      "LOCAL_RANK: 0 - CUDA_VISIBLE_DEVICES: [0]\n",
      "\n",
      "  | Name        | Type       | Params\n",
      "-------------------------------------------\n",
      "0 | prop1       | GCNConv    | 256   \n",
      "1 | prop2       | GCNConv    | 16.6 K\n",
      "2 | pnet_layers | Sequential | 11.5 K\n",
      "-------------------------------------------\n",
      "28.4 K    Trainable params\n",
      "0         Non-trainable params\n",
      "28.4 K    Total params\n",
      "0.114     Total estimated model params size (MB)\n",
      "/mnt/home/ttesileanu/miniconda3/envs/cancerenv/lib/python3.9/site-packages/pytorch_lightning/trainer/connectors/data_connector.py:240: PossibleUserWarning: The dataloader, val_dataloader 0, does not have many workers which may be a bottleneck. Consider increasing the value of the `num_workers` argument` (try 16 which is the number of cpus on this machine) in the `DataLoader` init to improve performance.\n",
      "  rank_zero_warn(\n",
      "/mnt/home/ttesileanu/miniconda3/envs/cancerenv/lib/python3.9/site-packages/pytorch_lightning/trainer/connectors/data_connector.py:240: PossibleUserWarning: The dataloader, train_dataloader, does not have many workers which may be a bottleneck. Consider increasing the value of the `num_workers` argument` (try 16 which is the number of cpus on this machine) in the `DataLoader` init to improve performance.\n",
      "  rank_zero_warn(\n"
     ]
    },
    {
     "data": {
      "application/vnd.jupyter.widget-view+json": {
       "model_id": "e6c3b444983b4029abb5b7e6c9b5f8b6",
       "version_major": 2,
       "version_minor": 0
      },
      "text/plain": [
       "Training:   0%|          | 0/200 [00:00<?, ?it/s]"
      ]
     },
     "metadata": {},
     "output_type": "display_data"
    },
    {
     "name": "stdout",
     "output_type": "stream",
     "text": [
      "Training took 79.6 seconds.\n"
     ]
    }
   ],
   "source": [
    "t0 = time.time()\n",
    "\n",
    "model = VgnNet(dims=[3, 64, 256], lr=lr, layers=maps[:-1])\n",
    "logger = InMemoryLogger()\n",
    "early_stop_callback = EarlyStopping(\n",
    "    monitor=\"val_loss\", min_delta=0.00, patience=50, verbose=False, mode=\"min\"\n",
    ")\n",
    "model_name = 'vgnn'\n",
    "checkpoint_callback = ModelCheckpoint(\n",
    "    dirpath=\"model_ckpts\",\n",
    "    monitor=\"val_loss\",\n",
    "    save_top_k=1,\n",
    "    filename=f\"bestmodel_{model_name}\",\n",
    "    mode=\"min\",\n",
    ")\n",
    "bestmodel_file = os.path.join(\"model_ckpts\", f\"bestmodel_{model_name}.ckpt\")\n",
    "if os.path.isfile(bestmodel_file):\n",
    "    os.remove(bestmodel_file)\n",
    "\n",
    "# XXX this cannot be fully deterministic on GPU because\n",
    "# XXX scatter_add_cuda_kernel does not have a deterministic implementation!\n",
    "trainer = pl.Trainer(\n",
    "    accelerator=\"auto\",\n",
    "    max_epochs=n_epochs,\n",
    "    callbacks=[ProgressBar(), early_stop_callback, checkpoint_callback],\n",
    "    logger=logger,\n",
    "    # deterministic=True,\n",
    ")\n",
    "trainer.fit(model, train_loader, valid_loader)\n",
    "print(f\"Training took {time.time() - t0:.1f} seconds.\")"
   ]
  },
  {
   "cell_type": "code",
   "execution_count": 12,
   "id": "6e3c4be4",
   "metadata": {},
   "outputs": [
    {
     "data": {
      "image/png": "[encoded data removed]",
      "text/plain": [
       "<Figure size 432x576 with 2 Axes>"
      ]
     },
     "metadata": {
      "needs_background": "light"
     },
     "output_type": "display_data"
    }
   ],
   "source": [
    "fig, (ax1, ax2) = plt.subplots(2, 1, figsize=(6, 8), constrained_layout=True)\n",
    "logger.metrics_df.plot(\"epoch\", [\"train_accuracy\", \"val_accuracy\"], ax=ax1)\n",
    "ax1.grid()\n",
    "\n",
    "logger.metrics_df.plot(\"epoch\", [\"train_loss\", \"val_loss\"], ax=ax2)\n",
    "ax2.grid()"
   ]
  },
  {
   "cell_type": "code",
   "execution_count": 13,
   "id": "18ad9839",
   "metadata": {},
   "outputs": [
    {
     "data": {
      "text/plain": [
       "<matplotlib.legend.Legend at 0x7fb0f4e23f10>"
      ]
     },
     "execution_count": 13,
     "metadata": {},
     "output_type": "execute_result"
    },
    {
     "data": {
      "image/png": "[encoded data removed]",
      "text/plain": [
       "<Figure size 432x288 with 1 Axes>"
      ]
     },
     "metadata": {
      "needs_background": "light"
     },
     "output_type": "display_data"
    }
   ],
   "source": [
    "bestmodel_file = os.path.join(\"model_ckpts\", f\"bestmodel_{model_name}.ckpt\")\n",
    "model = VgnNet.load_from_checkpoint(bestmodel_file)\n",
    "\n",
    "fpr_train, tpr_train, train_auc, _, _ = get_roc(model, train_loader)\n",
    "fpr_valid, tpr_valid, valid_auc, _, _ = get_roc(model, valid_loader)\n",
    "\n",
    "fig, ax = plt.subplots()\n",
    "ax.plot(fpr_train, tpr_train, lw=2, label=\"train (area = %0.3f)\" % train_auc)\n",
    "ax.plot(fpr_valid, tpr_valid, lw=2, label=\"validation (area = %0.3f)\" % valid_auc)\n",
    "ax.plot([0, 1], [0, 1], color=\"black\", lw=1, linestyle=\"--\")\n",
    "ax.set_xlim(0.0, 1.0)\n",
    "ax.set_ylim(0.0, 1.05)\n",
    "ax.set_xlabel(\"False Positive Rate\")\n",
    "ax.set_ylabel(\"True Positive Rate\")\n",
    "ax.set_title(\"Receiver operating characteristic\")\n",
    "ax.legend(loc=\"lower right\", frameon=False)"
   ]
  },
  {
   "cell_type": "code",
   "execution_count": 14,
   "id": "ac0be0f3",
   "metadata": {},
   "outputs": [
    {
     "name": "stdout",
     "output_type": "stream",
     "text": [
      "accuracy 0.7843137254901961\n",
      "auc 0.8507785467128027\n",
      "aupr 0.7292668922120306\n",
      "f1 0.6071428571428571\n",
      "precision 0.7727272727272727\n",
      "recall 0.5\n"
     ]
    }
   ],
   "source": [
    "test_loader = DataLoader(\n",
    "    dataset,\n",
    "    batch_size=batch_size,\n",
    "    sampler=SubsetRandomSampler(dataset.test_idx),\n",
    "    drop_last=False,\n",
    ")\n",
    "fpr_test, tpr_test, test_auc, ys, outs = get_roc(model, test_loader)\n",
    "\n",
    "print(\"accuracy\", accuracy_score(ys, outs[:, 1] > 0.5))\n",
    "print(\"auc\", test_auc)\n",
    "print(\"aupr\", average_precision_score(ys, outs[:, 1]))\n",
    "print(\"f1\", f1_score(ys, outs[:, 1] > 0.5))\n",
    "print(\"precision\", precision_score(ys, outs[:, 1] > 0.5))\n",
    "print(\"recall\", recall_score(ys, outs[:, 1] > 0.5))"
   ]
  },
  {
   "cell_type": "code",
   "execution_count": 15,
   "id": "6fd3fa80",
   "metadata": {},
   "outputs": [
    {
     "name": "stdout",
     "output_type": "stream",
     "text": [
      "Last updated: Fri Oct 14 2022\n",
      "\n",
      "Python implementation: CPython\n",
      "Python version       : 3.9.13\n",
      "IPython version      : 8.4.0\n",
      "\n",
      "numpy            : 1.23.1\n",
      "torch            : 1.11.0\n",
      "pytorch_lightning: 1.6.5\n",
      "torch_geometric  : 2.0.4\n",
      "matplotlib       : 3.5.2\n",
      "sys              : 3.9.13 | packaged by conda-forge | (main, May 27 2022, 16:56:21) \n",
      "[GCC 10.3.0]\n",
      "\n"
     ]
    }
   ],
   "source": [
    "print(\n",
    "    watermark(\n",
    "        datename=True, updated=True, python=True, iversions=True, globals_=globals()\n",
    "    )\n",
    ")"
   ]
  },
  {
   "cell_type": "code",
   "execution_count": null,
   "id": "d0f66897",
   "metadata": {},
   "outputs": [],
   "source": []
  }
 ],
 "metadata": {
  "kernelspec": {
   "display_name": "Python 3 (ipykernel)",
   "language": "python",
   "name": "python3"
  },
  "language_info": {
   "codemirror_mode": {
    "name": "ipython",
    "version": 3
   },
   "file_extension": ".py",
   "mimetype": "text/x-python",
   "name": "python",
   "nbconvert_exporter": "python",
   "pygments_lexer": "ipython3",
   "version": "3.9.13"
  },
  "vscode": {
   "interpreter": {
    "hash": "8cf7caf096f5b9436d42d20d5edf527ae84d7f0f47f0de2642e1cfbb9c173595"
   }
  }
 },
 "nbformat": 4,
 "nbformat_minor": 5
}
