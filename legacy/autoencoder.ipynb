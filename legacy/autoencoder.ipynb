{
 "cells": [
  {
   "cell_type": "markdown",
   "id": "6d2ab9c6-e357-4f33-9997-75126b3d6cc4",
   "metadata": {},
   "source": [
    "## Compressing one-hot encodings - autoencoder\n",
    "\n",
    "Want to experiment with adding them to the GCN. First here we experiment with an autoencoder style setup. The loss converges quickly, but comparing the output to the truth, shows the model isn't reproducing the data at all. The input size is probably too large to do this for such a small training sample."
   ]
  },
  {
   "cell_type": "code",
   "execution_count": 1,
   "id": "7741c10d-ff54-4b75-8c9f-42bd936ef2cc",
   "metadata": {},
   "outputs": [],
   "source": [
    "import sys\n",
    "sys.path.insert(0, \"..\")\n",
    "import TCGAData, numpy as np, matplotlib.pyplot as plt, pandas as pd\n",
    "from sklearn.model_selection import train_test_split\n",
    "from sklearn.linear_model import LogisticRegression\n",
    "from sklearn.svm import SVC\n",
    "from sklearn.ensemble import RandomForestClassifier\n",
    "from sklearn.neural_network import MLPClassifier\n",
    "from sklearn.decomposition import PCA\n",
    "import seaborn as sns\n",
    "import tqdm\n",
    "import copy\n",
    "import torch\n",
    "from torch.utils.data import Dataset, DataLoader\n",
    "import matplotlib.pyplot as plt\n",
    "\n",
    "root = \"/mnt/home/sgolkar/projects/cancer-net/data/brain\"\n",
    "files = \"/mnt/home/sgolkar/projects/cancer-net/data/brain/samples.txt\"\n",
    "label_mapping = [\"LGG\", \"GBM\"]\n",
    "dataset = TCGAData.TCGADataset(\n",
    "    root=root,\n",
    "    files=files,\n",
    "    label_mapping=label_mapping,\n",
    "    gene_graph=\"brain.geneSymbol.gz\",test_ratio=0,\n",
    ")"
   ]
  },
  {
   "cell_type": "code",
   "execution_count": 2,
   "id": "1f04dbbd-18ce-4949-819e-ecb3b002338c",
   "metadata": {},
   "outputs": [],
   "source": [
    "gene_dict = {\n",
    "    el: i\n",
    "    for i, el in enumerate(\n",
    "        set([item for sublist in dataset.data.node_id for item in sublist])\n",
    "    )\n",
    "}\n",
    "num_genes = len(gene_dict)\n",
    "\n",
    "Xmutated = np.zeros((dataset.num_samples, num_genes))\n",
    "Xmutnorm = np.zeros((dataset.num_samples, num_genes))\n",
    "\n",
    "\n",
    "for sample_num in range(dataset.num_samples):\n",
    "    sample_data = dataset.get(sample_num)\n",
    "    for encoding, sample_gene in zip(sample_data.x, sample_data.node_id):\n",
    "        Xmutated[sample_num, gene_dict[sample_gene]] = 1\n",
    "        Xmutnorm[sample_num, gene_dict[sample_gene]] = np.linalg.norm(encoding)\n",
    "\n",
    "Xmutatedv2 = (Xmutnorm != 0).astype(float)"
   ]
  },
  {
   "cell_type": "code",
   "execution_count": 4,
   "id": "c9b4c38f-c2c1-4f80-a974-52b8e17a6a43",
   "metadata": {},
   "outputs": [],
   "source": [
    "class AE(torch.nn.Module):\n",
    "    def __init__(self):\n",
    "        super().__init__()\n",
    "          \n",
    "        # Building an linear encoder with Linear\n",
    "        # layer followed by Relu activation function\n",
    "        self.encoder = torch.nn.Sequential(\n",
    "            torch.nn.Linear(num_genes, 256),\n",
    "            torch.nn.ReLU(),\n",
    "            torch.nn.Linear(256, 64)\n",
    "        )\n",
    "          \n",
    "        # Building an linear decoder with Linear\n",
    "        # layer followed by Relu activation function\n",
    "        # The Sigmoid activation function\n",
    "        # outputs the value between 0 and 1\n",
    "        self.decoder = torch.nn.Sequential(\n",
    "            torch.nn.Linear(64, 256),\n",
    "            torch.nn.ReLU(),\n",
    "            torch.nn.Linear(256, num_genes),\n",
    "            torch.nn.Sigmoid()\n",
    "        )\n",
    "  \n",
    "    def forward(self, x):\n",
    "        encoded = self.encoder(x)\n",
    "        decoded = self.decoder(encoded)\n",
    "        return decoded"
   ]
  },
  {
   "cell_type": "code",
   "execution_count": 13,
   "id": "69efa5a5-12d0-4d24-8990-f59f6f817244",
   "metadata": {},
   "outputs": [],
   "source": [
    "# Model Initialization\n",
    "model = AE()\n",
    "model.float()\n",
    "  \n",
    "# Validation using MSE Loss function\n",
    "loss_function = torch.nn.MSELoss()\n",
    "  \n",
    "# Using an Adam Optimizer with lr = 0.1\n",
    "optimizer = torch.optim.Adam(model.parameters(),\n",
    "                             lr = 1e-4,\n",
    "                             weight_decay = 1e-8)"
   ]
  },
  {
   "cell_type": "code",
   "execution_count": 14,
   "id": "116d6b02-1500-4f4f-ba0e-44f19e063875",
   "metadata": {},
   "outputs": [],
   "source": [
    "## Set data\n",
    "valid_seed=0\n",
    "\n",
    "dataset.set_valid_seed(valid_seed)\n",
    "\n",
    "x_train = Xmutated[dataset.train_idx]\n",
    "x_valid = Xmutated[dataset.valid_idx]"
   ]
  },
  {
   "cell_type": "code",
   "execution_count": 15,
   "id": "49dfd06e-a804-4a4b-a66e-edc3cbcc5e26",
   "metadata": {},
   "outputs": [
    {
     "data": {
      "text/plain": [
       "15146"
      ]
     },
     "execution_count": 15,
     "metadata": {},
     "output_type": "execute_result"
    }
   ],
   "source": [
    "len(Xmutated[0])"
   ]
  },
  {
   "cell_type": "code",
   "execution_count": 16,
   "id": "12827a4e-ddb7-4f64-bf27-0af6b8d40e59",
   "metadata": {},
   "outputs": [],
   "source": [
    "class MutDataset(Dataset):\n",
    "    \"\"\"Face Landmarks dataset.\"\"\"\n",
    "\n",
    "    def __init__(self, Xmutated):\n",
    "        \"\"\"\n",
    "        Args:\n",
    "            csv_file (string): Path to the csv file with annotations.\n",
    "            root_dir (string): Directory with all the images.\n",
    "            transform (callable, optional): Optional transform to be applied\n",
    "                on a sample.\n",
    "        \"\"\"\n",
    "        self.Xmutated=torch.from_numpy(Xmutated).float()\n",
    "\n",
    "    def __len__(self):\n",
    "        return len(self.Xmutated)\n",
    "\n",
    "    def __getitem__(self, idx):\n",
    "        return self.Xmutated[idx]"
   ]
  },
  {
   "cell_type": "code",
   "execution_count": 17,
   "id": "8b3ff2d3-49dc-4c43-95d7-7317081eafb3",
   "metadata": {},
   "outputs": [],
   "source": [
    "train_loader=DataLoader(MutDataset(x_train),batch_size=10)\n",
    "valid_loader=DataLoader(MutDataset(x_valid),batch_size=10)"
   ]
  },
  {
   "cell_type": "code",
   "execution_count": 19,
   "id": "75c8dfc7-10e4-4062-a797-4cf5879ffdbc",
   "metadata": {},
   "outputs": [
    {
     "data": {
      "text/plain": [
       "torch.Size([8, 15146])"
      ]
     },
     "execution_count": 19,
     "metadata": {},
     "output_type": "execute_result"
    }
   ],
   "source": [
    "pred.shape"
   ]
  },
  {
   "cell_type": "code",
   "execution_count": 20,
   "id": "67e12c21-7622-46e9-9f07-17c1e13b7c21",
   "metadata": {},
   "outputs": [],
   "source": [
    "loss = loss_function(pred, x)"
   ]
  },
  {
   "cell_type": "code",
   "execution_count": 21,
   "id": "7dfa292e-1f67-4603-868e-ca356e851f38",
   "metadata": {},
   "outputs": [
    {
     "data": {
      "text/plain": [
       "0.24996806681156158"
      ]
     },
     "execution_count": 21,
     "metadata": {},
     "output_type": "execute_result"
    }
   ],
   "source": [
    "loss.item()"
   ]
  },
  {
   "cell_type": "code",
   "execution_count": 22,
   "id": "48373df3-2c82-42a8-948f-c701869b7fe0",
   "metadata": {},
   "outputs": [
    {
     "name": "stdout",
     "output_type": "stream",
     "text": [
      "epoch: 0\n",
      "Training loss: 0.23753741336986423\n",
      "epoch: 1\n",
      "Training loss: 0.10743094366625883\n",
      "epoch: 2\n",
      "Training loss: 0.011444258139817975\n",
      "epoch: 3\n",
      "Training loss: 0.007109444995876402\n",
      "epoch: 4\n",
      "Training loss: 0.006377478614012944\n",
      "epoch: 5\n",
      "Training loss: 0.0060622556738962885\n",
      "epoch: 6\n",
      "Training loss: 0.005888131730898749\n",
      "epoch: 7\n",
      "Training loss: 0.005778266764536966\n",
      "epoch: 8\n",
      "Training loss: 0.005702968752302695\n",
      "epoch: 9\n",
      "Training loss: 0.005648482976539526\n",
      "epoch: 10\n",
      "Training loss: 0.0056076303553709295\n",
      "epoch: 11\n",
      "Training loss: 0.005576200990617508\n",
      "epoch: 12\n",
      "Training loss: 0.005551567726797657\n",
      "epoch: 13\n",
      "Training loss: 0.005531989518203773\n",
      "epoch: 14\n",
      "Training loss: 0.005516245415492449\n",
      "epoch: 15\n",
      "Training loss: 0.005503456901351456\n",
      "epoch: 16\n",
      "Training loss: 0.005492963373399107\n",
      "epoch: 17\n",
      "Training loss: 0.005484283323312411\n",
      "epoch: 18\n",
      "Training loss: 0.005477052254718728\n",
      "epoch: 19\n",
      "Training loss: 0.005470983836858068\n",
      "epoch: 20\n",
      "Training loss: 0.005465856458613416\n",
      "epoch: 21\n",
      "Training loss: 0.005461499182274565\n",
      "epoch: 22\n",
      "Training loss: 0.005457775114336982\n",
      "epoch: 23\n",
      "Training loss: 0.0054545723760384135\n",
      "epoch: 24\n",
      "Training loss: 0.005451801494928077\n",
      "epoch: 25\n",
      "Training loss: 0.005449390602734638\n",
      "epoch: 26\n",
      "Training loss: 0.00544728120075888\n",
      "epoch: 27\n",
      "Training loss: 0.005445425838843221\n",
      "epoch: 28\n",
      "Training loss: 0.005443785725219641\n",
      "epoch: 29\n",
      "Training loss: 0.005442328645585803\n",
      "epoch: 30\n",
      "Training loss: 0.005441028537461534\n",
      "epoch: 31\n",
      "Training loss: 0.005439863412902923\n",
      "epoch: 32\n",
      "Training loss: 0.005438813943328569\n",
      "epoch: 33\n",
      "Training loss: 0.005437864838313544\n",
      "epoch: 34\n",
      "Training loss: 0.005437001902464544\n",
      "epoch: 35\n",
      "Training loss: 0.005436214323708555\n",
      "epoch: 36\n",
      "Training loss: 0.005435491693788208\n",
      "epoch: 37\n",
      "Training loss: 0.00543482615830726\n",
      "epoch: 38\n",
      "Training loss: 0.005434211219835561\n",
      "epoch: 39\n",
      "Training loss: 0.005433640573755838\n",
      "epoch: 40\n",
      "Training loss: 0.005433108744909987\n",
      "epoch: 41\n",
      "Training loss: 0.005432603211374953\n",
      "epoch: 42\n",
      "Training loss: 0.005432121841295157\n",
      "epoch: 43\n",
      "Training loss: 0.005431671277619898\n",
      "epoch: 44\n",
      "Training loss: 0.005431245412182761\n",
      "epoch: 45\n",
      "Training loss: 0.005430836226878455\n",
      "epoch: 46\n",
      "Training loss: 0.005430444234661991\n",
      "epoch: 47\n",
      "Training loss: 0.00543006632142351\n",
      "epoch: 48\n",
      "Training loss: 0.005429700480817701\n",
      "epoch: 49\n",
      "Training loss: 0.005429343431387679\n"
     ]
    }
   ],
   "source": [
    "epochs = 50\n",
    "outputs = []\n",
    "train_loss = []\n",
    "valid_loss = []\n",
    "for epoch in range(epochs):\n",
    "    print(\"epoch:\",epoch)\n",
    "    t_loss=[]\n",
    "    for x in train_loader:\n",
    "        # Output of Autoencoder\n",
    "        pred = model(x)\n",
    "        \n",
    "        # Calculating the loss function\n",
    "        loss = loss_function(pred, x)\n",
    "        \n",
    "        \n",
    "        # The gradients are set to zero,\n",
    "        # the the gradient is computed and stored.\n",
    "        # .step() performs parameter update\n",
    "        optimizer.zero_grad()\n",
    "        loss.backward()\n",
    "        optimizer.step()\n",
    "        \n",
    "        loss = loss.item()\n",
    "        \n",
    "        # Storing the losses in a list for plotting\n",
    "        t_loss.append(loss)\n",
    "    loss_epoch=np.mean(np.array(t_loss))\n",
    "    print(\"Training loss:\",loss_epoch)\n",
    "    train_loss.append(loss_epoch)\n",
    "    #outputs.append((epochs, image, reconstructed))"
   ]
  },
  {
   "cell_type": "code",
   "execution_count": 41,
   "id": "74b7de58-3f58-4208-9f1a-cb972a3c43d4",
   "metadata": {},
   "outputs": [
    {
     "data": {
      "image/png": "[encoded data removed]",
      "text/plain": [
       "<Figure size 432x288 with 1 Axes>"
      ]
     },
     "metadata": {
      "needs_background": "light"
     },
     "output_type": "display_data"
    }
   ],
   "source": [
    "plt.plot(range(epochs),train_loss)\n",
    "plt.ylabel(\"train loss\")\n",
    "plt.xlabel(\"epoch\")\n",
    "plt.yscale(\"log\")"
   ]
  },
  {
   "cell_type": "code",
   "execution_count": 25,
   "id": "3c5281f2-2dc8-4d07-864c-b816fd0923b3",
   "metadata": {},
   "outputs": [],
   "source": [
    "pred=model(x)"
   ]
  },
  {
   "cell_type": "code",
   "execution_count": 38,
   "id": "50abe65e-a7e8-4acc-89c2-799d44a28285",
   "metadata": {},
   "outputs": [
    {
     "data": {
      "text/plain": [
       "[<matplotlib.lines.Line2D at 0x15545b4d85b0>]"
      ]
     },
     "execution_count": 38,
     "metadata": {},
     "output_type": "execute_result"
    },
    {
     "data": {
      "image/png": "[encoded data removed]",
      "text/plain": [
       "<Figure size 432x288 with 1 Axes>"
      ]
     },
     "metadata": {
      "needs_background": "light"
     },
     "output_type": "display_data"
    }
   ],
   "source": [
    "plt.plot(pred[0].detach().numpy())"
   ]
  },
  {
   "cell_type": "code",
   "execution_count": 39,
   "id": "a124e262-261d-4795-8912-ce495ab13aea",
   "metadata": {},
   "outputs": [
    {
     "data": {
      "text/plain": [
       "[<matplotlib.lines.Line2D at 0x15545b4ada00>]"
      ]
     },
     "execution_count": 39,
     "metadata": {},
     "output_type": "execute_result"
    },
    {
     "data": {
      "image/png": "[encoded data removed]",
      "text/plain": [
       "<Figure size 432x288 with 1 Axes>"
      ]
     },
     "metadata": {
      "needs_background": "light"
     },
     "output_type": "display_data"
    }
   ],
   "source": [
    "plt.plot(x[0].detach().numpy())"
   ]
  },
  {
   "cell_type": "code",
   "execution_count": 42,
   "id": "62422453-d6ce-4af9-a39d-a844faf06887",
   "metadata": {},
   "outputs": [
    {
     "data": {
      "text/plain": [
       "[<matplotlib.lines.Line2D at 0x15545b2d6940>]"
      ]
     },
     "execution_count": 42,
     "metadata": {},
     "output_type": "execute_result"
    },
    {
     "data": {
      "image/png": "[encoded data removed]",
      "text/plain": [
       "<Figure size 432x288 with 1 Axes>"
      ]
     },
     "metadata": {
      "needs_background": "light"
     },
     "output_type": "display_data"
    }
   ],
   "source": [
    "plt.plot(x[0].detach().numpy()-pred[0].detach().numpy())"
   ]
  },
  {
   "cell_type": "code",
   "execution_count": 43,
   "id": "20ad73c5-dc0d-45d0-b075-1c7c645b57ae",
   "metadata": {},
   "outputs": [
    {
     "data": {
      "text/plain": [
       "[<matplotlib.lines.Line2D at 0x15545b27a370>]"
      ]
     },
     "execution_count": 43,
     "metadata": {},
     "output_type": "execute_result"
    },
    {
     "data": {
      "image/png": "[encoded data removed]",
      "text/plain": [
       "<Figure size 432x288 with 1 Axes>"
      ]
     },
     "metadata": {
      "needs_background": "light"
     },
     "output_type": "display_data"
    }
   ],
   "source": [
    "plt.plot(x[1].detach().numpy()-pred[1].detach().numpy())"
   ]
  },
  {
   "cell_type": "code",
   "execution_count": null,
   "id": "ca860601-88c7-4c93-b2de-4458540359e5",
   "metadata": {},
   "outputs": [],
   "source": [
    "    for data in valid_loader:\n",
    "        if not parall:\n",
    "            data = data.to(device)\n",
    "        output = model(data)\n",
    "        output = output.squeeze()\n",
    "\n",
    "        pred = output.max(1)[1]\n",
    "        if parall:\n",
    "            y = torch.cat([d.y for d in data]).to(output.device)\n",
    "        else:\n",
    "            y = data.y\n",
    "        loss = criterion(output, y)\n",
    "        total_loss += loss.item()\n",
    "\n",
    "        correct += pred.eq(y).sum().item()\n",
    "        num_samps += len(y)"
   ]
  },
  {
   "cell_type": "code",
   "execution_count": null,
   "id": "a9074a95-8ee9-4cb1-825c-4ef6e0c761f5",
   "metadata": {},
   "outputs": [],
   "source": [
    "total_loss=0"
   ]
  },
  {
   "cell_type": "code",
   "execution_count": null,
   "id": "0a021d98-b66c-4aea-9dfd-925ad519993c",
   "metadata": {},
   "outputs": [],
   "source": [
    "for (valid, _) in valid_loader:\n",
    "    pred = model(valid)\n",
    "    pred = pred.squeeze()\n",
    "    valid_loss = loss_function(pred, valid)\n",
    "    total_loss += valid_loss.item()\n",
    "    valid_loss = total_loss/len(pred)"
   ]
  },
  {
   "cell_type": "code",
   "execution_count": null,
   "id": "92ee3bad-6b58-4ff7-addc-aa7e30690803",
   "metadata": {},
   "outputs": [],
   "source": [
    "len(pred)"
   ]
  },
  {
   "cell_type": "code",
   "execution_count": null,
   "id": "13225e93-e2f8-4741-8102-d43893bc5f7a",
   "metadata": {},
   "outputs": [],
   "source": [
    "valid_loss.item()"
   ]
  },
  {
   "cell_type": "code",
   "execution_count": null,
   "id": "2c3238a2-0c41-438f-8316-09376b4d5cb2",
   "metadata": {},
   "outputs": [],
   "source": [
    "x_valid.shape"
   ]
  },
  {
   "cell_type": "code",
   "execution_count": null,
   "id": "b976fc72-dbe4-4f82-94cf-65d102a909d1",
   "metadata": {},
   "outputs": [],
   "source": [
    "x_train.shape"
   ]
  },
  {
   "cell_type": "code",
   "execution_count": null,
   "id": "6b7439aa-7ee8-45d2-9e45-079ee990fe4f",
   "metadata": {},
   "outputs": [],
   "source": [
    "638+112"
   ]
  },
  {
   "cell_type": "code",
   "execution_count": null,
   "id": "14126f36-8c58-4c70-bc40-fed8260b326a",
   "metadata": {},
   "outputs": [],
   "source": [
    "len(Xmutated)"
   ]
  },
  {
   "cell_type": "code",
   "execution_count": null,
   "id": "056cb283-1e0f-4cb9-8c98-24db1f90b275",
   "metadata": {},
   "outputs": [],
   "source": [
    "len(gene_dict)"
   ]
  },
  {
   "cell_type": "code",
   "execution_count": null,
   "id": "52bf66c8-554e-4b5c-a011-402168da7832",
   "metadata": {},
   "outputs": [],
   "source": [
    "Xmutnorm[0][47]"
   ]
  },
  {
   "cell_type": "code",
   "execution_count": null,
   "id": "c0fe5b61-7303-4230-8b9e-095b5ad17a3e",
   "metadata": {},
   "outputs": [],
   "source": []
  }
 ],
 "metadata": {
  "kernelspec": {
   "display_name": "cancerenv",
   "language": "python",
   "name": "cancerenv"
  },
  "language_info": {
   "codemirror_mode": {
    "name": "ipython",
    "version": 3
   },
   "file_extension": ".py",
   "mimetype": "text/x-python",
   "name": "python",
   "nbconvert_exporter": "python",
   "pygments_lexer": "ipython3",
   "version": "3.9.7"
  }
 },
 "nbformat": 4,
 "nbformat_minor": 5
}
